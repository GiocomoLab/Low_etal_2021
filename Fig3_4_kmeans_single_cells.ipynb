{
 "cells": [
  {
   "cell_type": "code",
   "execution_count": 1,
   "metadata": {},
   "outputs": [
    {
     "name": "stderr",
     "output_type": "stream",
     "text": [
      "C:\\Users\\ilow1\\Anaconda3\\lib\\site-packages\\h5py\\__init__.py:36: FutureWarning: Conversion of the second argument of issubdtype from `float` to `np.floating` is deprecated. In future, it will be treated as `np.float64 == np.dtype(float).type`.\n",
      "  from ._conv import register_converters as _register_converters\n"
     ]
    }
   ],
   "source": [
    "import numpy as np\n",
    "from analysis_pipeline import get_data\n",
    "from analysis_pipeline import process_spikes as spk\n",
    "from analysis_pipeline import make_plots\n",
    "\n",
    "import matplotlib.pyplot as plt\n",
    "from matplotlib import gridspec\n",
    "\n",
    "from scipy.interpolate import interp1d\n",
    "from scipy.ndimage import gaussian_filter1d\n",
    "from scipy import stats\n",
    "from tqdm import trange"
   ]
  },
  {
   "cell_type": "code",
   "execution_count": 2,
   "metadata": {},
   "outputs": [],
   "source": [
    "# file paths\n",
    "base = 'G:/My Drive/Giocomo Lab/RandomForage/'\n",
    "data_folder = base + 'aggregate_data/'\n",
    "\n",
    "# to save figure images, if desired\n",
    "# save_folder = base + '/figure_folder/'\n",
    "# supp_save_folder = base + '/figure_folder/'"
   ]
  },
  {
   "cell_type": "code",
   "execution_count": 3,
   "metadata": {},
   "outputs": [
    {
     "name": "stdout",
     "output_type": "stream",
     "text": [
      "N mice: 13\n",
      "N sessions: 28\n"
     ]
    }
   ],
   "source": [
    "''' run analysis on 2-map sessions '''\n",
    "mice = ['Pisa', 'Hanover', 'Calais', # cue poor\n",
    "        'Seattle',  'Portland', 'Quebec', 'Toronto', 'Vancouver', # cue rich\n",
    "        'Mumbai', 'Kerala', 'Goa', 'Punjab', 'Salvador'] # cue rich, NP9 = male\n",
    "mouse_IDs = ['1c', '2a', '3a', '6a', '6b', '7a', '7b', '7c', '9a', ' 9b', '9c', '9d', '10a']\n",
    "sessions = [['0430_1', '0501_1', '0502_1'], # Pisa\n",
    "            ['0615_2'], # Hanover\n",
    "            ['0713_2'], # Calais\n",
    "            ['1005_1', '1006_1', '1007_1'], # Seattle\n",
    "            ['1005_2'],  # Portland\n",
    "            ['1007_1'], # Quebec\n",
    "            ['1111_1', '1112_1', '1113_1', '1114_1', '1115_1', '1117_1'], # Toronto\n",
    "            ['1114_1', '1118_1'], # Vancouver\n",
    "            ['1130_1', '1201_1', '1129_1'], # Mumbai\n",
    "            ['1207_1'], # Kerala\n",
    "            ['1211_1', '1210_1', '1209_1'], # Goa\n",
    "            ['1217_1', '1214_1'], # Punjab\n",
    "            ['1202_1'] # Salvador\n",
    "           ]\n",
    "\n",
    "print('N mice: ' + str(len(mice)))\n",
    "N_sessions = 0\n",
    "for s in sessions:\n",
    "    N_sessions += len(s)\n",
    "print('N sessions: ' + str(N_sessions))"
   ]
  },
  {
   "cell_type": "code",
   "execution_count": 4,
   "metadata": {},
   "outputs": [],
   "source": [
    "# make a dict to hold data\n",
    "data = {}\n",
    "for session, m in zip(sessions, mice):\n",
    "    data[m] = {}\n",
    "    for s in session:\n",
    "        data[m][s] = {}"
   ]
  },
  {
   "cell_type": "code",
   "execution_count": 5,
   "metadata": {},
   "outputs": [
    {
     "name": "stdout",
     "output_type": "stream",
     "text": [
      "Calais_0713_2 corrected for mistargeting\n",
      "Toronto_1112_1 corrected for mistargeting\n",
      "Mumbai_1130_1 corrected for mistargeting\n"
     ]
    }
   ],
   "source": [
    "# load the data\n",
    "N_cells = 0\n",
    "for m, session in zip(mice, sessions):\n",
    "    for i, s in enumerate(session):\n",
    "        d = data[m][s]\n",
    "        Y, B, A, cells = get_data.open_files(data_folder + 'gap_corrected/', m, s)\n",
    "        d['Y'] = Y\n",
    "        d['B'] = B\n",
    "        d['A'] = A\n",
    "        d['cells'] = cells\n",
    "\n",
    "        # count the total number of cells\n",
    "        N_cells += d['cells'].shape[0]"
   ]
  },
  {
   "cell_type": "code",
   "execution_count": 6,
   "metadata": {},
   "outputs": [
    {
     "name": "stdout",
     "output_type": "stream",
     "text": [
      "N mice = 13\n",
      "N sessions = 28\n",
      "N cue rich = 23\n",
      "N cue poor = 5\n",
      "N cells = 4984\n"
     ]
    }
   ],
   "source": [
    "# count the number of sessions\n",
    "N_cue_poor = 0\n",
    "N_cue_rich = 0\n",
    "N_sessions = 0\n",
    "\n",
    "for m, session in zip(mice, sessions):\n",
    "    N_sessions += len(session)\n",
    "    if m in ['Milan', 'Pisa', 'Hanover', 'Boston', 'Camden', 'Calais']:\n",
    "        N_cue_poor += len(session)\n",
    "    else:\n",
    "        N_cue_rich += len(session)\n",
    "        \n",
    "print(f'N mice = {len(mice)}')\n",
    "print(f'N sessions = {N_sessions}')\n",
    "print(f'N cue rich = {N_cue_rich}')\n",
    "print(f'N cue poor = {N_cue_poor}')\n",
    "print(f'N cells = {N_cells}')"
   ]
  },
  {
   "cell_type": "code",
   "execution_count": 7,
   "metadata": {},
   "outputs": [],
   "source": [
    "# calculate trial-by-trial similarity\n",
    "for m, session in zip(mice, sessions):\n",
    "    for s in session:\n",
    "        d = data[m][s]\n",
    "        Y = d['Y'].copy()\n",
    "        d['similarity'] = spk.similarity(Y)"
   ]
  },
  {
   "cell_type": "code",
   "execution_count": 8,
   "metadata": {},
   "outputs": [],
   "source": [
    "''' fit k-means to get map labels for each trial '''\n",
    "N = 2\n",
    "for m, session in zip(mice, sessions):\n",
    "    for s in session:\n",
    "        d = data[m][s]\n",
    "        Y = d['Y'].copy()\n",
    "        d['kmeans'] = spk.fit_kmeans(Y, n_components=N, n_restarts=100)"
   ]
  },
  {
   "cell_type": "code",
   "execution_count": 9,
   "metadata": {},
   "outputs": [],
   "source": [
    "# get the index for each trial preceding a remap event\n",
    "for m, session in zip(mice, sessions):\n",
    "    for i, s in enumerate(session):\n",
    "        d = data[m][s]\n",
    "        W = d['kmeans']['W']\n",
    "        d['remap_idx'] = spk.get_remap_idx(W)"
   ]
  },
  {
   "cell_type": "code",
   "execution_count": 10,
   "metadata": {},
   "outputs": [
    {
     "name": "stdout",
     "output_type": "stream",
     "text": [
      "total N remaps = 145.0\n",
      "mean, sem: 5.18, 1.23\n",
      "range: 1.0 to 27.0\n"
     ]
    }
   ],
   "source": [
    "# remap stats\n",
    "n_remaps = np.zeros(N_sessions)\n",
    "i = -1\n",
    "for m, session in zip(mice, sessions):\n",
    "    for s in session:\n",
    "        i += 1\n",
    "        d = data[m][s]\n",
    "        remap_idx = d['remap_idx']\n",
    "        n_remaps[i] = remap_idx.shape[0]\n",
    "        \n",
    "print(f'total N remaps = {np.sum(n_remaps)}')\n",
    "print(f'mean, sem: {np.mean(n_remaps):.2f}, {stats.sem(n_remaps):.2f}')\n",
    "print(f'range: {np.min(n_remaps)} to {np.max(n_remaps)}')"
   ]
  },
  {
   "cell_type": "code",
   "execution_count": 11,
   "metadata": {},
   "outputs": [],
   "source": [
    "# get map indices by observation and define map 0 as the slower map\n",
    "for m, session in zip(mice, sessions):\n",
    "    for s in session:\n",
    "        d = data[m][s]\n",
    "        A = d['A']\n",
    "        W = d['kmeans']['W']\n",
    "        d['idx'], d['map0_idx'] = spk.map_idx_by_obs(A, W)"
   ]
  },
  {
   "cell_type": "code",
   "execution_count": 12,
   "metadata": {},
   "outputs": [],
   "source": [
    "''' compute within vs. across map similarity '''\n",
    "all_within = np.asarray([])\n",
    "all_across = np.asarray([])\n",
    "for m, session in zip(mice, sessions):\n",
    "    for s in session:\n",
    "        d = data[m][s]\n",
    "        sim = d['similarity']\n",
    "        W = d['kmeans']['W']\n",
    "        map_0 = W[:, d['map0_idx']].astype(bool)        \n",
    "        \n",
    "        # calculate and save for all sessions\n",
    "        avg_within, avg_across = spk.map_similarity(sim, map_0)\n",
    "        all_within = np.append(all_within, avg_within)\n",
    "        all_across = np.append(all_across, avg_across)"
   ]
  },
  {
   "cell_type": "code",
   "execution_count": 13,
   "metadata": {},
   "outputs": [
    {
     "name": "stdout",
     "output_type": "stream",
     "text": [
      "mean, sem within map similarity: 0.36, 0.01\n",
      "mean, sem across map similarity: 0.27, 0.01\n",
      "pct change in spatial similarity (mean, sem): -25.76%, 2.70%\n"
     ]
    }
   ],
   "source": [
    "# % change in spatial similarity\n",
    "d_sim = ((all_across - all_within) / all_within) * 100\n",
    "print(f'mean, sem within map similarity: {np.mean(all_within):.2f}, {stats.sem(all_within):.2f}')\n",
    "print(f'mean, sem across map similarity: {np.mean(all_across):.2f}, {stats.sem(all_across):.2f}')\n",
    "print(f'pct change in spatial similarity (mean, sem): {np.mean(d_sim):.2f}%, {stats.sem(d_sim):.2f}%')"
   ]
  },
  {
   "cell_type": "code",
   "execution_count": 14,
   "metadata": {},
   "outputs": [
    {
     "name": "stdout",
     "output_type": "stream",
     "text": [
      "within map vs across map similarity: p = 3.789619441580871e-06\n",
      "n = 28 model pairs\n"
     ]
    }
   ],
   "source": [
    "# significant?\n",
    "sameVSdiff_stat, sameVSdiff_p = stats.wilcoxon(all_within, all_across)\n",
    "print(f'within map vs across map similarity: p = {sameVSdiff_p}')\n",
    "print(f'n = {all_within.shape[0]} model pairs')"
   ]
  },
  {
   "cell_type": "code",
   "execution_count": 15,
   "metadata": {},
   "outputs": [
    {
     "data": {
      "image/png": "[encoded data removed]",
      "text/plain": [
       "<Figure size 86.4x100.8 with 1 Axes>"
      ]
     },
     "metadata": {},
     "output_type": "display_data"
    }
   ],
   "source": [
    "''' Figure 3E: within vs. across map similarity '''\n",
    "f, ax = make_plots.plot_fig3e(all_within, all_across, N_cue_poor, N_cue_rich)\n",
    "# f.savefig(save_folder + 'similarity_summary.png', dpi=400, bbox_inches='tight')\n",
    "plt.show()"
   ]
  },
  {
   "cell_type": "code",
   "execution_count": 16,
   "metadata": {},
   "outputs": [],
   "source": [
    "''' get distance to k-means cluster on each trial \n",
    "see STAR Methods for more details\n",
    "'''\n",
    "for m, session in zip(mice, sessions):\n",
    "    for s in session:\n",
    "        d = data[m][s]\n",
    "        Y = d['Y'].copy()\n",
    "        H = d['kmeans']['H']\n",
    "        W = d['kmeans']['W']\n",
    "        map0_idx = d['map0_idx']\n",
    "        \n",
    "        # calculate distance to cluster for full population\n",
    "        d['dist'] = spk.clu_distance_population(Y, H, map0_idx)\n",
    "        \n",
    "        # calculate distance to cluster and log likelihood for each cell\n",
    "        d['cells_dist'], d['ll_cells'] = spk.clu_distance_cells(Y, H, map0_idx, W)"
   ]
  },
  {
   "cell_type": "code",
   "execution_count": 17,
   "metadata": {},
   "outputs": [],
   "source": [
    "''' TODO FIX THIS get each good cell's coordinates in MEC '''\n",
    "hist = np.load(data_folder + '_histology.npy').item()\n",
    "\n",
    "for m, session in zip(mice, sessions):\n",
    "    for s in session:\n",
    "        sp = np.load(data_folder + m + '_' + s + '_spikeInfo.npy').item()\n",
    "        d = data[m][s]\n",
    "        d['sp'] = sp\n",
    "        cells_unfilt = sp['cids'][sp['cgs']==2] # unsorted\n",
    "        cells = d['cells'] # sorted by depth\n",
    "        MEC_idx = np.isin(cells_unfilt, cells) # unsorted\n",
    "\n",
    "        # get probe coordinates\n",
    "        coords = hist[m][s]['histology']\n",
    "        tip = coords[0][:-1]\n",
    "        entry = coords[1]\n",
    "\n",
    "        # get distance from tip\n",
    "        depth = sp['spike_depth'].copy() # unsorted\n",
    "        MEC_depth = np.sort(depth[MEC_idx]) # sort by depth\n",
    "\n",
    "        # convert to brain coordinates\n",
    "        cell_coords = spk.get_coordinates(tip, entry, MEC_depth)\n",
    "        d['cell_coords'] = cell_coords"
   ]
  },
  {
   "cell_type": "code",
   "execution_count": 18,
   "metadata": {},
   "outputs": [],
   "source": [
    "''' relate anatomical location to distance from cluster '''\n",
    "DV_coords = np.asarray([])\n",
    "ML_coords = np.asarray([])\n",
    "AP_coords = np.asarray([])\n",
    "avg_ll_cell_all = np.asarray([])\n",
    "for m, session in zip(mice, sessions):\n",
    "    for s in session:\n",
    "        d = data[m][s]\n",
    "        \n",
    "        # get remap score for each cell\n",
    "        avg_ll_cell = np.mean(d['ll_cells'], axis=1)\n",
    "        avg_ll_cell_all = np.append(avg_ll_cell_all, avg_ll_cell)\n",
    "\n",
    "        # relate to anatomical location\n",
    "        cell_coords = d['cell_coords']\n",
    "        DV_coords = np.append(DV_coords, cell_coords[:, -1])\n",
    "        ML_coords = np.append(ML_coords, cell_coords[:, 0])\n",
    "        AP_coords = np.append(AP_coords, cell_coords[:, 1]) "
   ]
  },
  {
   "cell_type": "code",
   "execution_count": 19,
   "metadata": {},
   "outputs": [
    {
     "name": "stdout",
     "output_type": "stream",
     "text": [
      "N cells total = 4984\n",
      "N cells strong remappers = 4108\n",
      "strong remappers overall = 82.42%\n"
     ]
    }
   ],
   "source": [
    "# compute the % of cells that are remappers in each anatomical bin\n",
    "DV_pcts, DV_loc = spk.remapper_locations(avg_ll_cell_all, \n",
    "                                         DV_coords, min_coord=50, max_coord=2050, \n",
    "                                         BIN=50, THRESH=1)\n",
    "ML_pcts, ML_loc = spk.remapper_locations(avg_ll_cell_all,\n",
    "                                         ML_coords, min_coord=-200, max_coord=350, \n",
    "                                         BIN=50, THRESH=1, print_results=False)\n",
    "AP_pcts, AP_loc = spk.remapper_locations(avg_ll_cell_all, \n",
    "                                         AP_coords, min_coord=50, max_coord=700, \n",
    "                                         BIN=50, THRESH=1, print_results=False)"
   ]
  },
  {
   "cell_type": "code",
   "execution_count": 20,
   "metadata": {},
   "outputs": [
    {
     "ename": "TypeError",
     "evalue": "plot_fig3f() got multiple values for argument 'THRESH'",
     "output_type": "error",
     "traceback": [
      "\u001b[1;31m------------------------------------------------------------------\u001b[0m",
      "\u001b[1;31mTypeError\u001b[0m                        Traceback (most recent call last)",
      "\u001b[1;32m<ipython-input-20-c9112e1c8d40>\u001b[0m in \u001b[0;36m<module>\u001b[1;34m()\u001b[0m\n\u001b[0;32m      2\u001b[0m f, gs = make_plots.plot_fig3f(avg_ll_cell_all, DV_pcts, ML_pcts, AP_pcts,\n\u001b[0;32m      3\u001b[0m                                \u001b[0mDV_loc\u001b[0m\u001b[1;33m,\u001b[0m \u001b[0mML_loc\u001b[0m\u001b[1;33m,\u001b[0m \u001b[0mAP_loc\u001b[0m\u001b[1;33m,\u001b[0m\u001b[1;33m\u001b[0m\u001b[0m\n\u001b[1;32m----> 4\u001b[1;33m                                THRESH=1)\n\u001b[0m\u001b[0;32m      5\u001b[0m \u001b[1;31m# f.savefig(save_folder + 'remappers_by_location.png', dpi=400, bbox_inches='tight')\u001b[0m\u001b[1;33m\u001b[0m\u001b[1;33m\u001b[0m\u001b[0m\n\u001b[0;32m      6\u001b[0m \u001b[0mplt\u001b[0m\u001b[1;33m.\u001b[0m\u001b[0mshow\u001b[0m\u001b[1;33m(\u001b[0m\u001b[1;33m)\u001b[0m\u001b[1;33m\u001b[0m\u001b[0m\n",
      "\u001b[1;31mTypeError\u001b[0m: plot_fig3f() got multiple values for argument 'THRESH'"
     ]
    }
   ],
   "source": [
    "''' Figure 3F: % of all cells that are consistent remappers for different anatomical locations '''\n",
    "f, gs = make_plots.plot_fig3f(avg_ll_cell_all, DV_pcts, ML_pcts, AP_pcts,\n",
    "                               DV_loc, ML_loc, AP_loc,\n",
    "                               THRESH=1)\n",
    "# f.savefig(save_folder + 'remappers_by_location.png', dpi=400, bbox_inches='tight')\n",
    "plt.show()"
   ]
  },
  {
   "cell_type": "code",
   "execution_count": null,
   "metadata": {
    "scrolled": false
   },
   "outputs": [],
   "source": [
    "''' Figure 3B: example network-wide similarity, k-means fit, and single cell distance to cluster '''\n",
    "f, gs = make_plots.plot_fig3b(data)\n",
    "# f.savefig(save_folder + '{}_{}_similarity.png'.format(m, s), dpi=400, bbox_inches='tight')\n",
    "plt.show()"
   ]
  },
  {
   "cell_type": "code",
   "execution_count": null,
   "metadata": {},
   "outputs": [],
   "source": [
    "''' Figure 4 - single cell effects '''\n",
    "pct_dFR = np.asarray([])\n",
    "all_angles = np.asarray([])\n",
    "dt = 0.02\n",
    "\n",
    "for m, session in zip(mice, sessions):\n",
    "    for s in session:\n",
    "        d = data[m][s]\n",
    "        A = d['A'].copy()\n",
    "        B = d['B'].copy()\n",
    "        map0_idx = d['idx']\n",
    "        map1_idx = ~map0_idx\n",
    "        \n",
    "        # get change in peak FR and spatial similarity across maps\n",
    "        FR_0, binned_pos, FR_0_sem = spk.tuning_curve(A[map0_idx, 0], B[map0_idx, :], dt, b=2, SEM=True)\n",
    "        FR_1, binned_pos, FR_1_sem = spk.tuning_curve(A[map1_idx, 0], B[map1_idx, :], dt, b=2, SEM=True)\n",
    "        pct_dFR = np.append(pct_dFR, spk.FR_diff(FR_0, FR_1))\n",
    "        all_angles = np.append(all_angles, spk.spatial_similarity(FR_0, FR_1))"
   ]
  },
  {
   "cell_type": "code",
   "execution_count": null,
   "metadata": {},
   "outputs": [],
   "source": [
    "# remove nans and convert to dissimilarity\n",
    "nan_idx = np.isnan(all_angles) | np.isnan(pct_dFR)\n",
    "all_angles = all_angles[~nan_idx]\n",
    "pct_dFR = pct_dFR[~nan_idx]\n",
    "dissim = 1-all_angles"
   ]
  },
  {
   "cell_type": "code",
   "execution_count": null,
   "metadata": {},
   "outputs": [],
   "source": [
    "''' Fig. 4B '''\n",
    "f, gs = make_plots.plot_fig4b(dissim, pct_dFR)\n",
    "# f.savefig(save_folder + 'changeFR_vs_dissimilarity.png', dpi=400, bbox_inches='tight')\n",
    "plt.show()"
   ]
  },
  {
   "cell_type": "code",
   "execution_count": null,
   "metadata": {},
   "outputs": [],
   "source": [
    "n_cells_total = pct_dFR.shape[0]\n",
    "print(f.'N cells = {n_cells_total}')\n",
    "print(f.'half of all cells show dissimilarity < {np.median(dissim):.3f}')\n",
    "print('half of all cells show firing rate change of > {np.median(pct_dFR):.3f}%')\n",
    "n_cells_FR_alone = np.sum((pct_dFR > np.median(pct_dFR)) & (dissim < np.median(dissim)))\n",
    "print(f'this results in {n_cells_FR_alone} cells that retain their spatial preference, but change their firing rate.')\n",
    "print(f'({((n_cells_FR_alone/n_cells_total)*100):.2f}% of all cells)')\n",
    "print(f'still, 5% of cells show large changes in spatial coding (dissimilarity > {np.percentile(dissim, 95):.3f})')"
   ]
  },
  {
   "cell_type": "code",
   "execution_count": null,
   "metadata": {},
   "outputs": [],
   "source": [
    "''' SINGLE SESSION '''\n",
    "m = 'Pisa'\n",
    "s = '0430_1'\n",
    "d = data[m][s]\n",
    "cells = d['cells']\n",
    "cell_IDs = [226, 430, 299, 362, 349, 317] # example cells for panels G, H, J, L\n",
    "print(f'n cells = {cells.shape[0]}')"
   ]
  },
  {
   "cell_type": "code",
   "execution_count": null,
   "metadata": {},
   "outputs": [],
   "source": [
    "# load data\n",
    "A = d['A']\n",
    "B = d['B']\n",
    "dt = 0.02\n",
    "\n",
    "# get map indices\n",
    "W = d['kmeans']['W']\n",
    "map0_idx = d['idx']\n",
    "map1_idx = ~map0_idx\n",
    "\n",
    "# get FR by position in each map for all cells   \n",
    "FR, binned_pos, FR_sem = spk.tuning_curve(A[:, 0], B, dt, b=2, SEM=True)\n",
    "FR_0, binned_pos, FR_0_sem = spk.tuning_curve(A[map0_idx, 0], B[map0_idx, :], dt, b=2, SEM=True)\n",
    "FR_1, binned_pos, FR_1_sem = spk.tuning_curve(A[map1_idx, 0], B[map1_idx, :], dt, b=2, SEM=True)"
   ]
  },
  {
   "cell_type": "code",
   "execution_count": null,
   "metadata": {},
   "outputs": [],
   "source": [
    "''' Fig. 4A: examples of remapping cells '''\n",
    "f, gs = make_plots.plot_fig4a(data, mouse=m, session=s, cell_IDs=cell_IDs,\n",
    "                               FR_naive=FR, FR_0=FR_0, FR_1=FR_1,\n",
    "                               FR_sem=FR_sem, FR_0_sem=FR_0_sem, FR_1_sem=FR_1_sem)\n",
    "# f.savefig(save_folder + m + '_' + s + '_example_rasters.png', dpi=400, bbox_inches='tight')\n",
    "plt.show()"
   ]
  },
  {
   "cell_type": "code",
   "execution_count": null,
   "metadata": {},
   "outputs": [],
   "source": [
    "# get absolute % difference in peak FR\n",
    "pct_dFR = spk.FR_diff(FR_0, FR_1)\n",
    "\n",
    "# get dissimilarity\n",
    "angle = spk.spatial_similarity(FR_0, FR_1)\n",
    "dissim = 1-angle"
   ]
  },
  {
   "cell_type": "code",
   "execution_count": null,
   "metadata": {},
   "outputs": [],
   "source": [
    "''' Fig. 4C: example session change in firing rate vs. dissimilarity '''\n",
    "f, ax = make_plots.plot_fig4C(dissim, pct_dFR, cells, cell_IDs)\n",
    "# f.savefig(save_folder + m + '_' + s + '_delFR_vs_delAngle.png', dpi=400, bbox_inches='tight')\n",
    "plt.show()"
   ]
  },
  {
   "cell_type": "code",
   "execution_count": null,
   "metadata": {},
   "outputs": [],
   "source": [
    "# get SI and shuffle for each map\n",
    "dt = 0.02\n",
    "for m, session in zip(mice, sessions):\n",
    "    for s in session:\n",
    "        d = data[m][s]\n",
    "        A = d['A'].copy()\n",
    "        B = d['B'].copy()\n",
    "        map0_idx = d['idx']\n",
    "        map1_idx = ~map0_idx\n",
    "\n",
    "        # get SI for each map\n",
    "        SI_map0 = spk.spatial_info(A[map0_idx, 0], B[map0_idx, :], 2, dt)\n",
    "        SI_map1 = spk.spatial_info(A[map1_idx, 0], B[map1_idx, :], 2, dt)\n",
    "        d['SI'] = np.row_stack((SI_map0, SI_map1))\n",
    "\n",
    "        # get shuffle\n",
    "        shuff_file = data_folder + 'gap_corrected/' + m + '_' + s + '_SI_shuff.npy'\n",
    "        if Path(shuff_file).exists():\n",
    "            d['shuff'] = np.load(shuff_file)\n",
    "        else:\n",
    "            SI_map0_shuff = spk.shuffle_SI(A[map0_idx, 0], B[map0_idx, :], 2, dt, n_repeats=1000, max_shift=500)\n",
    "            SI_map1_shuff = spk.shuffle_SI(A[map1_idx, 0], B[map1_idx, :], 2, dt, n_repeats=1000, max_shift=500)\n",
    "            d['shuff'] = [SI_map0_shuff, SI_map1_shuff]\n",
    "            np.save(shuff_file, [SI_map0_shuff, SI_map1_shuff]) "
   ]
  },
  {
   "cell_type": "code",
   "execution_count": null,
   "metadata": {},
   "outputs": [],
   "source": [
    "# change in spatial info across maps\n",
    "d_SI = np.asarray([])\n",
    "for m, session in zip(mice, sessions):\n",
    "    for s in session:\n",
    "        d = data[m][s]\n",
    "        SI_map0 = d['SI'][0, :]\n",
    "        SI_map1 = d['SI'][1, :]     \n",
    "        d_SI = np.append(d_SI, spk.change_SI(SI_map0, SI_map1))"
   ]
  },
  {
   "cell_type": "code",
   "execution_count": null,
   "metadata": {},
   "outputs": [],
   "source": [
    "print('mean absolute change in SI: ' + str(np.round(np.mean(d_SI), 4)))\n",
    "print('SEM: ' + str(np.round(stats.sem(d_SI), 4)))"
   ]
  },
  {
   "cell_type": "code",
   "execution_count": null,
   "metadata": {},
   "outputs": [],
   "source": [
    "N_cells_CP = 0\n",
    "N_cells_CR = 0\n",
    "\n",
    "# get number of cells in each session\n",
    "for m, session in zip(mice, sessions):\n",
    "    for s in session:\n",
    "        i+=1\n",
    "        d = data[m][s]\n",
    "        n_cells = d['cells'].shape[0]\n",
    "        SI_map0 = d['SI'][0, :]\n",
    "        n_cells = n_cells - np.sum(SI_map0==0)\n",
    "        print(m + '_' + s + ': total cells = ' + str(n_cells))\n",
    "\n",
    "        if m in ['Milan', 'Pisa', 'Hanover', 'Boston', 'Camden', 'Calais']:\n",
    "            N_cells_CP += n_cells\n",
    "        elif m in mice[3:]:\n",
    "            N_cells_CR += n_cells"
   ]
  },
  {
   "cell_type": "code",
   "execution_count": null,
   "metadata": {},
   "outputs": [],
   "source": [
    "print('N cue poor cells = ' + str(N_cells_CP))\n",
    "print('N cue rich cells = ' + str(N_cells_CR))"
   ]
  },
  {
   "cell_type": "code",
   "execution_count": null,
   "metadata": {
    "scrolled": true
   },
   "outputs": [],
   "source": [
    "total_cells = np.zeros(N_sessions)\n",
    "retain = np.zeros(N_sessions) # spatial in both maps\n",
    "gain = np.zeros(N_sessions) # spatial in one map\n",
    "neither = np.zeros(N_sessions) # not spatial\n",
    "N_spatial_cells = np.asarray([])\n",
    "\n",
    "i = -1\n",
    "for m, session in zip(mice, sessions):\n",
    "    for s in session:\n",
    "        i+=1\n",
    "        d = data[m][s]\n",
    "        retain[i], gain[i], neither[i], total_cells[i] = spk.percent_spatial(d)\n",
    "        \n",
    "pcts = np.asarray([np.sum(retain), np.sum(gain), np.sum(neither)]) / np.sum(total_cells) * 100"
   ]
  },
  {
   "cell_type": "code",
   "execution_count": null,
   "metadata": {},
   "outputs": [],
   "source": [
    "''' Fig. 4E: % of cells that are spatial '''\n",
    "f, ax = make_plots.plot_fig4e(pcts, label=False)\n",
    "# f.savefig(save_folder + 'pct_gain-retain_pie.png', dpi=400, bbox_inches='tight')\n",
    "plt.show()"
   ]
  },
  {
   "cell_type": "code",
   "execution_count": null,
   "metadata": {},
   "outputs": [],
   "source": [
    "''' with labels '''\n",
    "f, ax = make_plots.plot_fig4e(pcts, label=True)\n",
    "# f.savefig(save_folder + 'pct_gain-retain_labels.png', dpi=400, bbox_inches='tight')\n",
    "plt.show()"
   ]
  },
  {
   "cell_type": "code",
   "execution_count": null,
   "metadata": {},
   "outputs": [],
   "source": [
    "print(f'N cells = {N_cells}')"
   ]
  },
  {
   "cell_type": "code",
   "execution_count": null,
   "metadata": {},
   "outputs": [],
   "source": [
    "print('mean, sem')\n",
    "print(f'spatial in both: {(np.mean(retain/total_cells)*100):.2f}, {(stats.sem(retain/total_cells)*100):.2f}')\n",
    "print(f'spatial in one: {(np.mean(gain/total_cells)*100):.2f}, {(stats.sem(gain/total_cells)*100):.2f}')\n",
    "print(f'never spatial: {(np.mean(neither/total_cells)*100):.2f}, {(stats.sem(neither/total_cells)*100):.2f}')"
   ]
  },
  {
   "cell_type": "code",
   "execution_count": null,
   "metadata": {},
   "outputs": [],
   "source": [
    "''' Fig. 4F: remap score vs. spatial information\n",
    "dashed line indicates strong remapper cut-off\n",
    "'''\n",
    "f, ax = make_plots.plot_fig4f(data, mice, sessions)\n",
    "# f.savefig(save_folder + 'remap_score_vs_SI.png', dpi=400, bbox_inches='tight')\n",
    "plt.show()"
   ]
  },
  {
   "cell_type": "code",
   "execution_count": null,
   "metadata": {},
   "outputs": [],
   "source": [
    "''' SINGLE SESSION '''\n",
    "m = 'Pisa'\n",
    "s = '0430_1'\n",
    "d = data[m][s]\n",
    "cells = d['cells']\n",
    "cell_IDs = [226, 430, 299, 362, 349, 317] # example cells for panels G, H, J, L"
   ]
  },
  {
   "cell_type": "code",
   "execution_count": null,
   "metadata": {},
   "outputs": [],
   "source": [
    "SI_map0 = d['SI'][0, :].copy()\n",
    "SI_map1 = d['SI'][1, :].copy()\n",
    "SI_map0_shuff = d['shuff'][0].copy()\n",
    "SI_map1_shuff = d['shuff'][1].copy()"
   ]
  },
  {
   "cell_type": "code",
   "execution_count": null,
   "metadata": {},
   "outputs": [],
   "source": [
    "''' Fig. 4D: change in spatial information for an example session '''\n",
    "f, ax = make_plots.plot_fig4d()\n",
    "# f.savefig(save_folder + m + '_' + s + '_SI_compare.png', dpi=400, bbox_inches='tight')\n",
    "plt.show()"
   ]
  },
  {
   "cell_type": "code",
   "execution_count": null,
   "metadata": {},
   "outputs": [],
   "source": []
  }
 ],
 "metadata": {
  "kernelspec": {
   "display_name": "Python 3",
   "language": "python",
   "name": "python3"
  },
  "language_info": {
   "codemirror_mode": {
    "name": "ipython",
    "version": 3
   },
   "file_extension": ".py",
   "mimetype": "text/x-python",
   "name": "python",
   "nbconvert_exporter": "python",
   "pygments_lexer": "ipython3",
   "version": "3.6.5"
  }
 },
 "nbformat": 4,
 "nbformat_minor": 2
}
