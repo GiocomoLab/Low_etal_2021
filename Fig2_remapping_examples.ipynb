{
 "cells": [
  {
   "cell_type": "code",
   "execution_count": 1,
   "metadata": {},
   "outputs": [
    {
     "name": "stderr",
     "output_type": "stream",
     "text": [
      "C:\\Users\\ilow1\\Anaconda3\\lib\\site-packages\\h5py\\__init__.py:36: FutureWarning: Conversion of the second argument of issubdtype from `float` to `np.floating` is deprecated. In future, it will be treated as `np.float64 == np.dtype(float).type`.\n",
      "  from ._conv import register_converters as _register_converters\n"
     ]
    }
   ],
   "source": [
    "import numpy as np\n",
    "from analysis_pipeline import get_data\n",
    "from analysis_pipeline import process_spikes as spk\n",
    "from analysis_pipeline import make_plots\n",
    "\n",
    "import matplotlib.pyplot as plt\n",
    "from matplotlib import gridspec\n",
    "\n",
    "from scipy.interpolate import interp1d\n",
    "from scipy.ndimage import gaussian_filter1d\n",
    "from tqdm import trange"
   ]
  },
  {
   "cell_type": "code",
   "execution_count": 2,
   "metadata": {},
   "outputs": [],
   "source": [
    "# file paths - define these to match your local paths\n",
    "base = 'G:/My Drive/Giocomo Lab/RandomForage/'\n",
    "data_folder = base + 'aggregate_data/'\n",
    "\n",
    "# to save figure images, if desired\n",
    "# save_folder = base + '/figure_folder/'\n",
    "# supp_save_folder = base + '/figure_folder/'"
   ]
  },
  {
   "cell_type": "code",
   "execution_count": 3,
   "metadata": {},
   "outputs": [],
   "source": [
    "# define sessions\n",
    "''' run analysis on example sessions '''\n",
    "mice = ['Pisa', # cue poor\n",
    "        'Seattle', 'Toronto', # cue rich\n",
    "        'Degu'] # two tracks\n",
    "\n",
    "sessions = [['0430_1'], # Pisa\n",
    "            ['1010_1'], # Seattle\n",
    "            ['1113_1'], # Tortonto\n",
    "            ['0721']] # Degu"
   ]
  },
  {
   "cell_type": "code",
   "execution_count": 4,
   "metadata": {},
   "outputs": [],
   "source": [
    "# make a dict to hold data\n",
    "data = {}\n",
    "for session, m in zip(sessions, mice):\n",
    "    data[m] = {}\n",
    "    for s in session:\n",
    "        data[m][s] = {}"
   ]
  },
  {
   "cell_type": "code",
   "execution_count": 5,
   "metadata": {},
   "outputs": [],
   "source": [
    "'''\n",
    "Assign colors based on track type\n",
    "see: https://personal.sron.nl/~pault/#sec:qualitative Fig. 4\n",
    "cue poor : green\n",
    "cue rich : pink\n",
    "double track : green/pink\n",
    "'''\n",
    "cp_color = [17/255, 119/255, 51/255, 1]\n",
    "cr_color = [204/255, 102/255, 119/255, 1]\n",
    "\n",
    "colors = [cp_color, cr_color]"
   ]
  },
  {
   "cell_type": "code",
   "execution_count": 6,
   "metadata": {},
   "outputs": [],
   "source": [
    "# load the data\n",
    "from pathlib import Path\n",
    "\n",
    "for m, session in zip(mice, sessions):\n",
    "    for i, s in enumerate(session):\n",
    "        d = data[m][s]\n",
    "        d['Y'] = np.load(data_folder + 'gap_corrected/' + m + '_' + s + '_MEC_FRtensor.npy')\n",
    "        d['B'] = np.load(data_folder + 'gap_corrected/' + m + '_' + s + '_MEC_spikes.npy')\n",
    "        d['A'] = np.load(data_folder + 'gap_corrected/' + m + '_' + s + '_behavior.npy')  \n",
    "        \n",
    "        # filter sessions with deleted AP/ML cells\n",
    "        d['cells'] = np.load(data_folder + 'gap_corrected/{}_{}_MEC_cellIDs.npy'.format(m, s))\n",
    "        filt_file = data_folder + 'gap_corrected/{}_{}_MEC_idx.npy'.format(m, s)\n",
    "        if Path(filt_file).exists():\n",
    "            print(m + '_' + s + ' corrected for mistargeting')\n",
    "            cell_idx = np.load(filt_file)\n",
    "            d['cells'] = d['cells'][cell_idx]\n",
    "            d['Y'] = d['Y'][:, :, cell_idx]\n",
    "            d['B'] = d['B'][:, cell_idx]"
   ]
  },
  {
   "cell_type": "code",
   "execution_count": 7,
   "metadata": {},
   "outputs": [],
   "source": [
    "for m, session in zip(mice, sessions):\n",
    "    for s in session:\n",
    "        spike_file = data_folder + m + '_' + s + '_spikeInfo.npy'\n",
    "        if Path(spike_file).exists():\n",
    "            sp = np.load(data_folder + m + '_' + s + '_spikeInfo.npy').item()\n",
    "            d = data[m][s]\n",
    "            d['sp'] = sp\n",
    "        else:\n",
    "            print('{} {} no spike file!'.format(m, s))"
   ]
  },
  {
   "cell_type": "code",
   "execution_count": 8,
   "metadata": {},
   "outputs": [],
   "source": [
    "''' get coordinates for all recorded units and filter out non-MEC units '''\n",
    "hist = np.load(data_folder + '_histology.npy').item()\n",
    "# get coordinates for all cells\n",
    "for m, session in zip(mice, sessions):\n",
    "    for s in session:\n",
    "        d = data[m][s]\n",
    "        sp = d['sp']\n",
    "        cells_unfilt = sp['cids'][sp['cgs']==2] # unsorted\n",
    "        cells = d['cells'] # sorted by depth\n",
    "        MEC_idx = np.isin(cells_unfilt, cells) # unsorted\n",
    "\n",
    "        # get probe coordinates\n",
    "        coords = hist[m][s]['histology']\n",
    "        tip = coords[0][:-1]\n",
    "        entry = coords[1]\n",
    "\n",
    "        # get distance from tip\n",
    "        depth = sp['spike_depth'].copy() # unsorted\n",
    "        MEC_depth = np.sort(depth[MEC_idx]) # sort by depth\n",
    "\n",
    "        # convert to brain coordinates\n",
    "        cell_coords = spk.get_coordinates(tip, entry, MEC_depth)\n",
    "        d['cell_coords'] = cell_coords"
   ]
  },
  {
   "cell_type": "code",
   "execution_count": 9,
   "metadata": {},
   "outputs": [],
   "source": [
    "''' load cue rich/poor separately for double-track mice '''\n",
    "mice_2track = ['Degu']\n",
    "sessions_split = [['0721cr', '0721cp']]"
   ]
  },
  {
   "cell_type": "code",
   "execution_count": 10,
   "metadata": {},
   "outputs": [],
   "source": [
    "# add to data dict\n",
    "for m, session in zip(mice_2track, sessions_split):\n",
    "    for s in session:\n",
    "        data[m][s] = {}"
   ]
  },
  {
   "cell_type": "code",
   "execution_count": 11,
   "metadata": {},
   "outputs": [],
   "source": [
    "for m, session in zip(mice_2track, sessions_split):\n",
    "    for i, s in enumerate(session):\n",
    "        d = data[m][s]\n",
    "        d['Y'] = np.load(data_folder + 'gap_corrected/' + m + '_' + s + '_MEC_FRtensor.npy')\n",
    "        d['B'] = np.load(data_folder + 'gap_corrected/' + m + '_' + s + '_MEC_spikes.npy')\n",
    "        d['A'] = np.load(data_folder + 'gap_corrected/' + m + '_' + s + '_behavior.npy')  \n",
    "        \n",
    "        # cells is the same across cr/cp\n",
    "        s_trunc = s[:4]\n",
    "        d['cells'] = data[m][s_trunc]['cells']\n",
    "        d['cell_coords'] = data[m][s_trunc]['cell_coords']"
   ]
  },
  {
   "cell_type": "code",
   "execution_count": 12,
   "metadata": {},
   "outputs": [],
   "source": [
    "''' plot example cells and trial-by-trial similarity '''\n",
    "example_mice = ['Pisa', 'Toronto', 'Seattle', 'Degu', 'Degu']\n",
    "example_sessions = ['0430_1', '1113_1', '1010_1', '0721cr', '0721cp']\n",
    "example_cells = [[362, 317, 717], [220, 160, 75], [529, 301, 590, 68], [259, 275, 370], [259, 275, 370]]"
   ]
  },
  {
   "cell_type": "code",
   "execution_count": 13,
   "metadata": {},
   "outputs": [
    {
     "name": "stdout",
     "output_type": "stream",
     "text": [
      "Pisa, session 0430_1, n cells = 227\n",
      "Toronto, session 1113_1, n cells = 139\n",
      "Seattle, session 1010_1, n cells = 142\n",
      "Degu, session 0721cr, n cells = 55\n",
      "Degu, session 0721cp, n cells = 55\n"
     ]
    }
   ],
   "source": [
    "for m, s in zip(example_mice, example_sessions):\n",
    "    d = data[m][s]\n",
    "    print('{}, session {}, n cells = {}'.format(m, s, d['cells'].shape[0]))"
   ]
  },
  {
   "cell_type": "code",
   "execution_count": 14,
   "metadata": {},
   "outputs": [],
   "source": [
    "''' get the coordinates for each example cell \n",
    "(depth reported in this figure is DV location of each cell)\n",
    "'''\n",
    "example_coords = []\n",
    "for i, m in enumerate(example_mice):\n",
    "    # set params\n",
    "    s = example_sessions[i]\n",
    "    cell_IDs = example_cells[i]\n",
    "    if m == 'Degu':\n",
    "        coords = hist[m][s[:4]]['histology']\n",
    "    else:\n",
    "        coords = hist[m][s]['histology']        \n",
    "    \n",
    "    # get cell coordinates\n",
    "    d = data[m][s]\n",
    "    cells = d['cells']\n",
    "    cell_coords = d['cell_coords']\n",
    "    idx = []\n",
    "    for j, cell_ID in enumerate(cell_IDs):\n",
    "        idx.append((np.where(cells==cell_ID)[0][0]).astype(int))\n",
    "    idx = np.asarray(idx)\n",
    "    example_coords.append(cell_coords[idx, :])"
   ]
  },
  {
   "cell_type": "code",
   "execution_count": 15,
   "metadata": {},
   "outputs": [],
   "source": [
    "# calculate cosine similarity across trials\n",
    "from scipy.spatial.distance import pdist\n",
    "from scipy.spatial.distance import squareform\n",
    "\n",
    "for m, s in zip(example_mice, example_sessions):\n",
    "    d = data[m][s]\n",
    "    Y = d['Y'].copy()\n",
    "    d['similarity'] = spk.similarity(Y)"
   ]
  },
  {
   "cell_type": "code",
   "execution_count": 16,
   "metadata": {},
   "outputs": [
    {
     "ename": "SyntaxError",
     "evalue": "invalid syntax (<ipython-input-16-ea60643a2f88>, line 13)",
     "output_type": "error",
     "traceback": [
      "\u001b[1;36m  File \u001b[1;32m\"<ipython-input-16-ea60643a2f88>\"\u001b[1;36m, line \u001b[1;32m13\u001b[0m\n\u001b[1;33m    if m == 'Degu'\u001b[0m\n\u001b[1;37m                  ^\u001b[0m\n\u001b[1;31mSyntaxError\u001b[0m\u001b[1;31m:\u001b[0m invalid syntax\n"
     ]
    }
   ],
   "source": [
    "''' fig. 2b-f '''\n",
    "for j, m in enumerate(example_mice):\n",
    "    if m == 'Seattle':\n",
    "        gs  = gridspec.GridSpec(1, 12, wspace=0.7)\n",
    "        f = plt.figure(figsize=(5.7, 1.5))\n",
    "    else:\n",
    "        gs  = gridspec.GridSpec(1, 10, wspace=0.7)\n",
    "        f = plt.figure(figsize=(4.8, 1.5))    \n",
    "    s = example_sessions[j]\n",
    "    cell_IDs = example_cells[j]\n",
    "    \n",
    "    ''' make plots '''\n",
    "    if m == 'Degu'\n",
    "        f, gs = make_plots.plot_fig2b_f(data, m, s, cell_IDs,\n",
    "                                        f, gs, PT_SIZE=0.4)\n",
    "    else:\n",
    "        f, gs = make_plots.plot_fig2b_f(data, m, s, cell_IDs,\n",
    "                                        f, gs, PT_SIZE=0.2)\n",
    "\n",
    "    ''' post-processing '''\n",
    "    # rasters\n",
    "    ax_start = 0\n",
    "    for i, cell_ID in enumerate(cell_IDs):\n",
    "        # set axis\n",
    "        ax_end = ax_start+2\n",
    "        ax0 = plt.subplot(gs[ax_start:ax_end])\n",
    "\n",
    "        # add cell depths\n",
    "        if m == 'Degu':\n",
    "            trial_num = np.max(A[:, 2])\n",
    "            ax0.set_yticks([0, np.round(trial_num//2, 2), np.round(trial_num, 2)])\n",
    "            if i==0:\n",
    "                ax0.text(-300, -10, 'depth = {}$\\mu$m'.format(np.round(example_coords[j][i, -1])), fontsize=8)\n",
    "            else:\n",
    "                ax0.text(15, -10, '{}$\\mu$m'.format(np.round(example_coords[j][i, -1])), fontsize=8)\n",
    "        else:\n",
    "            ax0.set_yticks([0, 200, 400])\n",
    "            if i==0:\n",
    "                ax0.text(-300, -25, 'depth = {}$\\mu$m'.format(np.round(example_coords[j][i, -1])), fontsize=8)\n",
    "            else:\n",
    "                ax0.text(15, -25, '{}$\\mu$m'.format(np.round(example_coords[j][i, -1])), fontsize=8)\n",
    "\n",
    "        # set up for next subplot\n",
    "        ax_start = ax_end\n",
    "\n",
    "    # similarity   \n",
    "    ax1 = plt.subplot(gs[ax_end:])\n",
    "    if m == 'Degu':\n",
    "        trial_num = sim.shape[0]\n",
    "        ax1.set_xticks([0, np.round(trial_num//2, 2), np.round(trial_num, 2)])\n",
    "        ax1.set_yticks([0, np.round(trial_num//2, 2), np.round(trial_num, 2)])\n",
    "    else:\n",
    "        ax1.set_xticks([0, 200, 400])\n",
    "        ax1.set_yticks([0, 200, 400])  \n",
    "        \n",
    "    ''' to save '''\n",
    "    # f.savefig(save_folder + m + '_' + s + '_rasters_similarity.png', dpi=400, bbox_inches='tight')\n",
    "    \n",
    "    plt.show()"
   ]
  },
  {
   "cell_type": "code",
   "execution_count": null,
   "metadata": {},
   "outputs": [],
   "source": []
  }
 ],
 "metadata": {
  "kernelspec": {
   "display_name": "Python 3",
   "language": "python",
   "name": "python3"
  },
  "language_info": {
   "codemirror_mode": {
    "name": "ipython",
    "version": 3
   },
   "file_extension": ".py",
   "mimetype": "text/x-python",
   "name": "python",
   "nbconvert_exporter": "python",
   "pygments_lexer": "ipython3",
   "version": "3.6.5"
  }
 },
 "nbformat": 4,
 "nbformat_minor": 2
}
