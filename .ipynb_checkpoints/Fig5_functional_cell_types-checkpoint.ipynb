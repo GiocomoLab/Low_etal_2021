{
 "cells": [
  {
   "cell_type": "code",
   "execution_count": 1,
   "metadata": {},
   "outputs": [
    {
     "name": "stderr",
     "output_type": "stream",
     "text": [
      "C:\\Users\\ilow1\\Anaconda3\\lib\\site-packages\\h5py\\__init__.py:36: FutureWarning: Conversion of the second argument of issubdtype from `float` to `np.floating` is deprecated. In future, it will be treated as `np.float64 == np.dtype(float).type`.\n",
      "  from ._conv import register_converters as _register_converters\n"
     ]
    }
   ],
   "source": [
    "import numpy as np\n",
    "from analysis_pipeline import get_data\n",
    "from analysis_pipeline import process_spikes as spk\n",
    "from analysis_pipeline import make_plots\n",
    "\n",
    "import matplotlib.pyplot as plt\n",
    "from matplotlib import gridspec\n",
    "\n",
    "from scipy.interpolate import interp1d\n",
    "from scipy.ndimage import gaussian_filter1d\n",
    "from scipy import stats\n",
    "from tqdm import trange"
   ]
  },
  {
   "cell_type": "code",
   "execution_count": 2,
   "metadata": {},
   "outputs": [],
   "source": [
    "# file paths\n",
    "base = 'G:/My Drive/Giocomo Lab/RandomForage/'\n",
    "data_folder = base + 'aggregate_data/'\n",
    "\n",
    "# to save figure images, if desired\n",
    "# save_folder = base + '/figure_folder/'\n",
    "# supp_save_folder = base + '/figure_folder/'"
   ]
  },
  {
   "cell_type": "code",
   "execution_count": 3,
   "metadata": {},
   "outputs": [
    {
     "name": "stdout",
     "output_type": "stream",
     "text": [
      "N mice: 5\n",
      "N sessions: 9\n"
     ]
    }
   ],
   "source": [
    "''' all 2-map sessions with gain manipulation trials '''\n",
    "mice = ['Mumbai', 'Kerala', 'Goa', 'Punjab', 'Salvador'] # cue rich\n",
    "mouse_IDs = ['9a', ' 9b', '9c', '9d', '10a']\n",
    "sessions = [['1130_1', '1201_1'], # Mumbai\n",
    "            ['1207_1'], # Kerala\n",
    "            ['1211_1', '1210_1', '1209_1'], # Goa\n",
    "            ['1217_1', '1214_1'], # Punjab\n",
    "            ['1202_1'] # Salvador\n",
    "           ]\n",
    "\n",
    "print('N mice: ' + str(len(mice)))\n",
    "N_sessions = 0\n",
    "for s in sessions:\n",
    "    N_sessions += len(s)\n",
    "print('N sessions: ' + str(N_sessions))"
   ]
  },
  {
   "cell_type": "code",
   "execution_count": 4,
   "metadata": {},
   "outputs": [],
   "source": [
    "# make a dict to hold data\n",
    "data = {}\n",
    "for session, m in zip(sessions, mice):\n",
    "    data[m] = {}\n",
    "    for s in session:\n",
    "        data[m][s] = {}"
   ]
  },
  {
   "cell_type": "code",
   "execution_count": 5,
   "metadata": {},
   "outputs": [
    {
     "name": "stdout",
     "output_type": "stream",
     "text": [
      "Mumbai_1130_1 corrected for mistargeting\n",
      "Mumbai 1130_1: 98 shared cells\n",
      "Mumbai 1201_1: 252 shared cells\n",
      "Kerala 1207_1: 165 shared cells\n",
      "Goa 1211_1: 137 shared cells\n",
      "Goa 1210_1: 192 shared cells\n",
      "Goa 1209_1: 106 shared cells\n",
      "Punjab 1217_1: 140 shared cells\n",
      "Punjab 1214_1: 103 shared cells\n",
      "Salvador 1202_1: 186 shared cells\n"
     ]
    }
   ],
   "source": [
    "for m, session in zip(mice, sessions):\n",
    "    for i, s in enumerate(session):\n",
    "        d = data[m][s]\n",
    "        \n",
    "        # normal trials\n",
    "        Y, B, A, cells = get_data.open_files(data_folder + 'gap_corrected/', m, s)\n",
    "        d['Y'] = Y\n",
    "        d['B'] = B\n",
    "        d['A'] = A\n",
    "        \n",
    "        # \"gain manipulation\" files\n",
    "        # these are the last 10 normal trials and 5 gain manipulation trials\n",
    "        Y_gm, B_gm, A_gm, cells_gm = get_data.open_files(data_folder + 'gain_manip/', m, s)\n",
    "        d['Y_gm'] = Y_gm\n",
    "        d['B_gm'] = B_gm\n",
    "        d['A_gm'] = A_gm\n",
    "        \n",
    "        # index for cells present in both gain manipulation trials and full session\n",
    "        shared_cells = np.intersect1d(cells_gm, cells, assume_unique=True)\n",
    "        gain_idx = np.isin(cells_gm, shared_cells)\n",
    "        normal_idx = np.isin(cells, shared_cells)\n",
    "        d['cells'] = cells[normal_idx]\n",
    "        print(f'{m} {s}: {cells[normal_idx].shape[0]} shared cells')\n",
    "        \n",
    "        # filter spikes/FR for shared cells\n",
    "        d['Y'] = d['Y'][:, :, normal_idx]\n",
    "        d['B'] = d['B'][:, normal_idx]\n",
    "        d['Y_gm'] = d['Y_gm'][:, :, gain_idx]\n",
    "        d['B_gm'] = d['B_gm'][:, gain_idx]"
   ]
  },
  {
   "cell_type": "code",
   "execution_count": 6,
   "metadata": {},
   "outputs": [
    {
     "name": "stdout",
     "output_type": "stream",
     "text": [
      "Mumbai 1130_1: 19 putative interneurons deleted\n",
      "Mumbai 1201_1: 27 putative interneurons deleted\n",
      "Kerala 1207_1: 28 putative interneurons deleted\n",
      "Goa 1211_1: 14 putative interneurons deleted\n",
      "Goa 1210_1: 15 putative interneurons deleted\n",
      "Goa 1209_1: 23 putative interneurons deleted\n",
      "Punjab 1217_1: 14 putative interneurons deleted\n",
      "Punjab 1214_1: 21 putative interneurons deleted\n",
      "Salvador 1202_1: 33 putative interneurons deleted\n"
     ]
    }
   ],
   "source": [
    "# filter out interneurons\n",
    "for m, session in zip(mice, sessions):\n",
    "    for s in session:\n",
    "        d = data[m][s]\n",
    "        A = d['A']\n",
    "        B = d['B']\n",
    "        excite_idx = spk.find_interneurons(fr_thresh=15, x=A[:, 0], Y=B, dt=0.02, b=2, SEM=False)\n",
    "        \n",
    "        d['Y_gm'] = d['Y_gm'][:, :, excite_idx]\n",
    "        d['B_gm'] = d['B_gm'][:, excite_idx]       \n",
    "        d['Y'] = d['Y'][:, :, excite_idx]\n",
    "        d['B'] = d['B'][:, excite_idx]\n",
    "        d['cells_int'] = d['cells'].copy()\n",
    "        d['cells'] = d['cells'][excite_idx]        \n",
    "        \n",
    "        print(f'{m} {s}: {np.sum(~excite_idx)} putative interneurons deleted')"
   ]
  },
  {
   "cell_type": "code",
   "execution_count": 7,
   "metadata": {},
   "outputs": [
    {
     "name": "stderr",
     "output_type": "stream",
     "text": [
      "C:\\Users\\ilow1\\Documents\\Python Scripts\\Low_etal_2021\\analysis_pipeline\\process_spikes.py:683: RuntimeWarning: invalid value encountered in greater\n",
      "  stable_idx = avg_sim > stability_thresh\n"
     ]
    },
    {
     "name": "stdout",
     "output_type": "stream",
     "text": [
      "n = 500 stable cells (out of 1185 total, 42.194093%)\n"
     ]
    }
   ],
   "source": [
    "# identify spatially stable cells\n",
    "all_stable = np.asarray([])\n",
    "for m, session in zip(mice, sessions):\n",
    "    for s in session:\n",
    "        d = data[m][s]\n",
    "        Y = d['Y_gm']\n",
    "        \n",
    "        # find spatially stable cells in last 10 normal trials\n",
    "        Y_normal = Y[:10]\n",
    "        stable_normal = spk.find_spatially_stable(Y_normal)\n",
    "        \n",
    "        # find spatially stable cells in 5 gain manip trials\n",
    "        Y_gm = Y[10:]\n",
    "        stable_gm = spk.find_spatially_stable(Y_gm)\n",
    "        \n",
    "        # keep cells that are stable in both\n",
    "        stable_cells = stable_normal & stable_gm\n",
    "        d['stable_cells'] = stable_cells\n",
    "        all_stable = np.append(all_stable, stable_cells)\n",
    "        \n",
    "total_stable = np.sum(all_stable)\n",
    "total_cells = all_stable.shape[0]\n",
    "print(f'n = {total_stable:n} stable cells (out of {total_cells} total, {(total_stable/total_cells):%})')"
   ]
  },
  {
   "cell_type": "code",
   "execution_count": 8,
   "metadata": {},
   "outputs": [],
   "source": [
    "# get trial index for gain manipulation trials vs. last 5 normal trials\n",
    "for m, session in zip(mice, sessions):\n",
    "    for s in session:\n",
    "        d = data[m][s]\n",
    "        A = d['A_gm'].copy()\n",
    "\n",
    "        trials = A[:, 2]\n",
    "        n_trials = np.max(trials)\n",
    "        manip_idx = np.squeeze([trials > (n_trials-5)])\n",
    "        normal_idx = np.squeeze([(trials > (n_trials-10)) & (trials <= (n_trials-5))])\n",
    "        d['gain_idx'] = [manip_idx, normal_idx]"
   ]
  },
  {
   "cell_type": "code",
   "execution_count": 9,
   "metadata": {},
   "outputs": [],
   "source": [
    "# get firing rate in gain manip vs. last 5 trials of normal\n",
    "dt = 0.02\n",
    "for m, session in zip(mice, sessions):\n",
    "    for s in session:\n",
    "        d = data[m][s]\n",
    "        A = d['A_gm'].copy()\n",
    "        B = d['B_gm'].copy()\n",
    "        [manip_idx, normal_idx] = d['gain_idx']\n",
    "        \n",
    "        FR_manip, _ = spk.tuning_curve(A[manip_idx, 0], B[manip_idx, :], dt, b=2, SEM=False)\n",
    "        FR_normal, _ = spk.tuning_curve(A[normal_idx, 0], B[normal_idx, :], dt, b=2, SEM=False)\n",
    "        d['FR_gm'] = [FR_manip, FR_normal]"
   ]
  },
  {
   "cell_type": "code",
   "execution_count": 10,
   "metadata": {},
   "outputs": [],
   "source": [
    "# get indices for putative grid and border cells\n",
    "all_grid = np.asarray([])\n",
    "all_border = np.asarray([])\n",
    "for m, session in zip(mice, sessions):\n",
    "    for s in session:\n",
    "        d = data[m][s]\n",
    "        [FR_manip, FR_normal] = d['FR_gm']\n",
    "        stable_idx = d['stable_cells']\n",
    "        grid_idx, border_idx, d['corr_gain_manip'] = spk.find_grid_border(FR_manip, FR_normal, stable_idx)\n",
    "        d['fxn_idx'] = [grid_idx, border_idx]\n",
    "        \n",
    "        # save for all cells\n",
    "        all_grid = np.append(all_grid, grid_idx)\n",
    "        all_border = np.append(all_border, border_idx)"
   ]
  },
  {
   "cell_type": "code",
   "execution_count": 11,
   "metadata": {},
   "outputs": [],
   "source": [
    "total_n_cells = 0\n",
    "for m, session in zip(mice, sessions):\n",
    "    for s in session:\n",
    "        d = data[m][s]\n",
    "        total_n_cells += d['cells_int'].shape[0]"
   ]
  },
  {
   "cell_type": "code",
   "execution_count": 12,
   "metadata": {},
   "outputs": [
    {
     "name": "stdout",
     "output_type": "stream",
     "text": [
      "N cells total = 1379\n",
      "N excitatory cells total = 1185\n",
      "\n",
      "N putative grid cells = 224\n",
      "% putative grid cells = 16.2%\n",
      "\n",
      "N putative border cells = 152\n",
      "% putative border cells = 11.0%\n"
     ]
    }
   ],
   "source": [
    "# percent of all cells\n",
    "n_excite_cells = all_grid.shape[0]\n",
    "total_grid = np.sum(all_grid)\n",
    "total_border = np.sum(all_border)\n",
    "print(f'N cells total = {total_n_cells}')\n",
    "print(f'N excitatory cells total = {n_excite_cells}')\n",
    "print(f'\\nN putative grid cells = {total_grid:n}')\n",
    "print(f'% putative grid cells = {total_grid/total_n_cells:.1%}')\n",
    "print(f'\\nN putative border cells = {total_border:n}')\n",
    "print(f'% putative border cells = {total_border/total_n_cells:.1%}')"
   ]
  },
  {
   "cell_type": "code",
   "execution_count": 13,
   "metadata": {},
   "outputs": [],
   "source": [
    "''' plot example cells across gain manip '''\n",
    "m = 'Kerala'\n",
    "s = '1207_1'\n",
    "cell_IDs = [531, 488, 750, 631, 592]"
   ]
  },
  {
   "cell_type": "code",
   "execution_count": 14,
   "metadata": {},
   "outputs": [],
   "source": [
    "# load the data\n",
    "d = data[m][s]\n",
    "A = d['A_gm'].copy()\n",
    "B = d['B_gm'].copy()\n",
    "cells = d['cells']\n",
    "[gc_idx, bd_idx] = d['fxn_idx']\n",
    "[manip_idx, normal_idx] = d['gain_idx']"
   ]
  },
  {
   "cell_type": "code",
   "execution_count": 15,
   "metadata": {},
   "outputs": [
    {
     "name": "stdout",
     "output_type": "stream",
     "text": [
      "n total cells = 165\n",
      "n excitatory cells = 137\n",
      "n grid cells = 61\n",
      "n border cells = 9\n"
     ]
    }
   ],
   "source": [
    "print('n total cells = {}'.format(d['cells_int'].shape[0]))\n",
    "print('n excitatory cells = {}'.format(cells.shape[0]))\n",
    "print('n grid cells = {}'.format(np.sum(gc_idx)))\n",
    "print('n border cells = {}'.format(np.sum(bd_idx)))"
   ]
  },
  {
   "cell_type": "code",
   "execution_count": 16,
   "metadata": {},
   "outputs": [],
   "source": [
    "# get firing rates & SEM\n",
    "dt=0.02\n",
    "FR_0, binned_pos, FR_0_sem = spk.tuning_curve(A[normal_idx, 0], B[normal_idx, :], dt, b=2, SEM=True)\n",
    "FR_1, binned_pos, FR_1_sem = spk.tuning_curve(A[manip_idx, 0], B[manip_idx, :], dt, b=2, SEM=True)"
   ]
  },
  {
   "cell_type": "code",
   "execution_count": 17,
   "metadata": {},
   "outputs": [
    {
     "data": {
      "image/png": "[encoded data removed]",
      "text/plain": [
       "<Figure size 345.6x86.4 with 10 Axes>"
      ]
     },
     "metadata": {},
     "output_type": "display_data"
    }
   ],
   "source": [
    "''' Figure 5C & D: example grid vs. border cell responses to gain manip '''\n",
    "f, gs = make_plots.plot_fig5cd(data, m, s, cell_IDs, \\\n",
    "                                FR_0, FR_1, FR_0_sem, FR_1_sem, binned_pos)\n",
    "# f.savefig(save_folder + '{}_{}_cells_gain_manip.png'.format(m, s), dpi=400, bbox_inches='tight')\n",
    "plt.show()"
   ]
  },
  {
   "cell_type": "code",
   "execution_count": 18,
   "metadata": {},
   "outputs": [
    {
     "name": "stderr",
     "output_type": "stream",
     "text": [
      "c:\\users\\ilow1\\documents\\python scripts\\lvl\\lvl\\factor_models\\kmeans.py:282: RuntimeWarning: invalid value encountered in subtract\n",
      "  np.linalg.norm(centroids - last_centroids) /\n"
     ]
    }
   ],
   "source": [
    "''' fit k-means to get map labels for each trial '''\n",
    "N = 2\n",
    "for m, session in zip(mice, sessions):\n",
    "    for s in session:\n",
    "        d = data[m][s]\n",
    "        Y = d['Y'].copy()\n",
    "        d['kmeans'] = spk.fit_kmeans(Y, n_components=N, n_restarts=100)"
   ]
  },
  {
   "cell_type": "code",
   "execution_count": 19,
   "metadata": {},
   "outputs": [],
   "source": [
    "# get map indices by observation and define map 0 as the slower map\n",
    "for m, session in zip(mice, sessions):\n",
    "    for s in session:\n",
    "        d = data[m][s]\n",
    "        A = d['A']\n",
    "        W = d['kmeans']['W']\n",
    "        d['idx'], d['map0_idx'] = spk.map_idx_by_obs(A, W)"
   ]
  },
  {
   "cell_type": "code",
   "execution_count": 20,
   "metadata": {},
   "outputs": [
    {
     "name": "stderr",
     "output_type": "stream",
     "text": [
      "C:\\Users\\ilow1\\Documents\\Python Scripts\\Low_etal_2021\\analysis_pipeline\\process_spikes.py:683: RuntimeWarning: invalid value encountered in greater\n",
      "  stable_idx = avg_sim > stability_thresh\n"
     ]
    },
    {
     "name": "stdout",
     "output_type": "stream",
     "text": [
      "n = 577 stable cells (out of 1185 total)\n"
     ]
    }
   ],
   "source": [
    "''' identify spatially stable cells that are stable in each map '''\n",
    "stability_thresh = 0.25\n",
    "all_stable = np.asarray([])\n",
    "for m, session in zip(mice, sessions):\n",
    "    for s in session:\n",
    "        # load the data\n",
    "        d = data[m][s]\n",
    "        Y = d['Y'].copy()\n",
    "        cells = d['cells']\n",
    "        \n",
    "        # get map indices\n",
    "        W = d['kmeans']['W']\n",
    "        map0 = d['map0_idx']\n",
    "        map_idx = W[:, map0].astype(bool)\n",
    "        \n",
    "        # find cells that are stable in each map\n",
    "        stable_0 = spk.find_spatially_stable(Y[map_idx])\n",
    "        stable_1 = spk.find_spatially_stable(Y[~map_idx])\n",
    "        \n",
    "        # get index for cells that are stable in both maps                      \n",
    "        stable_cells = stable_0 & stable_1\n",
    "        d['stable_cells'] = stable_cells\n",
    "        all_stable = np.append(all_stable, stable_cells)\n",
    "\n",
    "all_stable = all_stable.astype(bool)        \n",
    "print('n = {} stable cells (out of {} total)'.format(np.sum(all_stable), all_stable.shape[0]))"
   ]
  },
  {
   "cell_type": "code",
   "execution_count": 21,
   "metadata": {},
   "outputs": [
    {
     "name": "stdout",
     "output_type": "stream",
     "text": [
      "Mumbai_1130_1: 13.92% grids, 6.33% borders, 27.85% other spatial\n",
      "Mumbai_1201_1: 17.33% grids, 5.33% borders, 31.11% other spatial\n",
      "Kerala_1207_1: 44.53% grids, 6.57% borders, 15.33% other spatial\n",
      "Goa_1211_1: 10.57% grids, 10.57% borders, 23.58% other spatial\n",
      "Goa_1210_1: 15.82% grids, 19.21% borders, 35.59% other spatial\n",
      "Goa_1209_1: 13.25% grids, 19.28% borders, 16.87% other spatial\n",
      "Punjab_1217_1: 28.57% grids, 21.43% borders, 38.10% other spatial\n",
      "Punjab_1214_1: 8.54% grids, 14.63% borders, 10.98% other spatial\n",
      "Salvador_1202_1: 11.76% grids, 15.69% borders, 20.92% other spatial\n"
     ]
    }
   ],
   "source": [
    "# percentages across individual sessions \n",
    "total_n_cells = 0\n",
    "all_pcts = np.zeros((N_sessions, 3))\n",
    "i = 0\n",
    "for m, session in zip(mice, sessions):\n",
    "    for s in session:\n",
    "        d = data[m][s]\n",
    "        n_cells = d['cells'].shape[0]\n",
    "        stable_idx = d['stable_cells']\n",
    "        [gc_idx, bd_idx] = d['fxn_idx']\n",
    "        \n",
    "        # get counts\n",
    "        nongc_nonbd_stable = stable_idx & ~gc_idx & ~bd_idx\n",
    "        n_gc = np.sum(gc_idx)\n",
    "        n_bd = np.sum(bd_idx)\n",
    "        n_sp = np.sum(nongc_nonbd_stable)\n",
    "        \n",
    "        # save pcts\n",
    "        all_pcts[i, 0] = (n_gc/n_cells)*100\n",
    "        all_pcts[i, 1] = (n_bd/n_cells)*100\n",
    "        all_pcts[i, 2] = (n_sp/n_cells)*100\n",
    "        \n",
    "        # display results\n",
    "        print(f'{m}_{s}: {n_gc/n_cells:.2%} grids, {n_bd/n_cells:.2%} borders, {n_sp/n_cells:.2%} other spatial')        \n",
    "        total_n_cells += n_cells\n",
    "        i += 1"
   ]
  },
  {
   "cell_type": "code",
   "execution_count": 22,
   "metadata": {},
   "outputs": [
    {
     "name": "stdout",
     "output_type": "stream",
     "text": [
      "grid cell mean, sem: 18.26, 3.81\n",
      "border cell mean, sem: 13.23, 2.07\n",
      "other spatial mean, sem: 24.48, 3.12\n"
     ]
    }
   ],
   "source": [
    "print(f'grid cell mean, sem: {np.mean(all_pcts[:, 0]):.4}, {stats.sem(all_pcts[:, 0]):.3}')\n",
    "print(f'border cell mean, sem: {np.mean(all_pcts[:, 1]):.4}, {stats.sem(all_pcts[:, 1]):.3}')\n",
    "print(f'other spatial mean, sem: {np.mean(all_pcts[:, 2]):.4}, {stats.sem(all_pcts[:, 2]):.3}')"
   ]
  },
  {
   "cell_type": "code",
   "execution_count": 23,
   "metadata": {},
   "outputs": [],
   "source": [
    "# get indices and counts\n",
    "all_grid = all_grid.astype(bool)\n",
    "all_border = all_border.astype(bool)\n",
    "nongc_nonbd_stable = all_stable & ~all_grid & ~all_border\n",
    "n_gc = np.sum(all_grid)\n",
    "n_bd = np.sum(all_border)\n",
    "n_sp = np.sum(nongc_nonbd_stable)"
   ]
  },
  {
   "cell_type": "code",
   "execution_count": 24,
   "metadata": {},
   "outputs": [
    {
     "name": "stdout",
     "output_type": "stream",
     "text": [
      "n = 1185 excitatory cells from 9 sessions in 5 mice\n",
      "n = 224 grid cells, 152 border cells, 308 other spatial cells\n"
     ]
    }
   ],
   "source": [
    "print(f'n = {total_n_cells} excitatory cells from {N_sessions} sessions in {len(mice)} mice')\n",
    "print(f'n = {n_gc} grid cells, {n_bd} border cells, {n_sp} other spatial cells')"
   ]
  },
  {
   "cell_type": "code",
   "execution_count": 25,
   "metadata": {},
   "outputs": [
    {
     "data": {
      "image/png": "[encoded data removed]",
      "text/plain": [
       "<Figure size 64.8x72 with 1 Axes>"
      ]
     },
     "metadata": {},
     "output_type": "display_data"
    }
   ],
   "source": [
    "''' Figure 5B: percent grid, border, other spatial for all gain manip sessions '''\n",
    "f, ax = make_plots.plot_fig5b(n_gc, n_bd, n_sp, total_n_cells)\n",
    "\n",
    "# f.savefig(save_folder + 'pct_cell_types.png', dpi=400, bbox_inches='tight')\n",
    "plt.show()"
   ]
  },
  {
   "cell_type": "code",
   "execution_count": 28,
   "metadata": {},
   "outputs": [
    {
     "data": {
      "image/png": "[encoded data removed]",
      "text/plain": [
       "<Figure size 64.8x72 with 1 Axes>"
      ]
     },
     "metadata": {},
     "output_type": "display_data"
    }
   ],
   "source": [
    "''' save a copy with percents labeled for reference '''\n",
    "f, ax = make_plots.plot_fig5b(n_gc, n_bd, n_sp, total_n_cells, label_plot=True)\n",
    "\n",
    "# f.savefig(save_folder + 'pct_cell_types_labels.png', dpi=400, bbox_inches='tight')\n",
    "plt.show()"
   ]
  },
  {
   "cell_type": "code",
   "execution_count": 29,
   "metadata": {},
   "outputs": [],
   "source": [
    "# how do cells remap?\n",
    "pct_dFR = np.asarray([])\n",
    "avg_dFR = np.asarray([])\n",
    "all_angles = np.asarray([])\n",
    "dt = 0.02\n",
    "\n",
    "for m, session in zip(mice, sessions):\n",
    "    for s in session:\n",
    "        d = data[m][s]\n",
    "        A = d['A'].copy()\n",
    "        B = d['B'].copy()\n",
    "        map0_idx = d['idx']\n",
    "        map1_idx = ~map0_idx\n",
    "        \n",
    "        # get FR by map\n",
    "        FR_0, binned_pos, FR_0_sem = spk.tuning_curve(A[map0_idx, 0], B[map0_idx, :], dt, b=2, SEM=True)\n",
    "        FR_1, binned_pos, FR_1_sem = spk.tuning_curve(A[map1_idx, 0], B[map1_idx, :], dt, b=2, SEM=True)\n",
    "        \n",
    "        # get abs % diff in peak FR\n",
    "        peak_FR_1 = np.max(FR_1, axis=0)\n",
    "        peak_FR_0 = np.max(FR_0, axis=0)\n",
    "        dFR = (np.abs(peak_FR_1 - peak_FR_0) / ((peak_FR_1 + peak_FR_0)/2))*100\n",
    "        pct_dFR = np.append(pct_dFR, dFR)\n",
    "        \n",
    "        # get angle between maps (spatial similarity score)\n",
    "        norms_0 = np.linalg.norm(FR_0, axis=0)\n",
    "        norms_1 = np.linalg.norm(FR_1, axis=0)\n",
    "        angle = np.zeros(FR_0.shape[1])\n",
    "        for i, n0 in enumerate(norms_0):\n",
    "            n1 = norms_1[i]\n",
    "            normalized_FR_0 = FR_0[:, i]/n0\n",
    "            normalized_FR_1 = FR_1[:, i]/n1   \n",
    "            angle[i] = normalized_FR_0 @ normalized_FR_1\n",
    "        all_angles = np.append(all_angles, angle)"
   ]
  },
  {
   "cell_type": "code",
   "execution_count": 30,
   "metadata": {},
   "outputs": [],
   "source": [
    "''' change in firing rate/spatial coding with remaps: border vs. grid vs. other spatial '''\n",
    "# get indices\n",
    "nongc_nonbd_stable = all_stable & ~all_grid & ~all_border\n",
    "\n",
    "# get counts\n",
    "n_gc = np.sum(all_grid)\n",
    "n_bd = np.sum(all_border)\n",
    "n_sp = np.sum(nongc_nonbd_stable)"
   ]
  },
  {
   "cell_type": "code",
   "execution_count": 32,
   "metadata": {},
   "outputs": [
    {
     "ename": "NameError",
     "evalue": "name 'all_grid' is not defined",
     "output_type": "error",
     "traceback": [
      "\u001b[1;31m------------------------------------------------------------------\u001b[0m",
      "\u001b[1;31mNameError\u001b[0m                        Traceback (most recent call last)",
      "\u001b[1;32m<ipython-input-32-1d699c66a921>\u001b[0m in \u001b[0;36m<module>\u001b[1;34m()\u001b[0m\n\u001b[0;32m      1\u001b[0m \u001b[1;34m''' Figure 5E: change in firing rate and spatial dissimilarity across maps by cell type '''\u001b[0m\u001b[1;33m\u001b[0m\u001b[0m\n\u001b[1;32m----> 2\u001b[1;33m \u001b[0mf\u001b[0m\u001b[1;33m,\u001b[0m \u001b[0mgs\u001b[0m \u001b[1;33m=\u001b[0m \u001b[0mmake_plots\u001b[0m\u001b[1;33m.\u001b[0m\u001b[0mplot_fig5e\u001b[0m\u001b[1;33m(\u001b[0m\u001b[0mpct_dFR\u001b[0m\u001b[1;33m,\u001b[0m \u001b[0mall_angles\u001b[0m\u001b[1;33m)\u001b[0m\u001b[1;33m\u001b[0m\u001b[0m\n\u001b[0m\u001b[0;32m      3\u001b[0m \u001b[1;33m\u001b[0m\u001b[0m\n\u001b[0;32m      4\u001b[0m \u001b[1;31m# f.savefig(save_folder + 'delFR_vs_delAngle_split.png', dpi=400, bbox_inches='tight')\u001b[0m\u001b[1;33m\u001b[0m\u001b[1;33m\u001b[0m\u001b[0m\n\u001b[0;32m      5\u001b[0m \u001b[0mplt\u001b[0m\u001b[1;33m.\u001b[0m\u001b[0mshow\u001b[0m\u001b[1;33m(\u001b[0m\u001b[1;33m)\u001b[0m\u001b[1;33m\u001b[0m\u001b[0m\n",
      "\u001b[1;32mC:\\Users\\ilow1\\Documents\\Python Scripts\\Low_etal_2021\\analysis_pipeline\\make_plots.py\u001b[0m in \u001b[0;36mplot_fig5e\u001b[1;34m(pct_dFR, all_angles)\u001b[0m\n\u001b[0;32m    832\u001b[0m     '''\n\u001b[0;32m    833\u001b[0m     \u001b[1;31m# get the data for each cell type\u001b[0m\u001b[1;33m\u001b[0m\u001b[1;33m\u001b[0m\u001b[0m\n\u001b[1;32m--> 834\u001b[1;33m     \u001b[0mdFR_gc\u001b[0m \u001b[1;33m=\u001b[0m \u001b[0mpct_dFR\u001b[0m\u001b[1;33m[\u001b[0m\u001b[0mall_grid\u001b[0m\u001b[1;33m]\u001b[0m\u001b[1;33m\u001b[0m\u001b[0m\n\u001b[0m\u001b[0;32m    835\u001b[0m     \u001b[0mdFR_bd\u001b[0m \u001b[1;33m=\u001b[0m \u001b[0mpct_dFR\u001b[0m\u001b[1;33m[\u001b[0m\u001b[0mall_border\u001b[0m\u001b[1;33m]\u001b[0m\u001b[1;33m\u001b[0m\u001b[0m\n\u001b[0;32m    836\u001b[0m     \u001b[0mdFR_sp\u001b[0m \u001b[1;33m=\u001b[0m \u001b[0mpct_dFR\u001b[0m\u001b[1;33m[\u001b[0m\u001b[0mnongc_nonbd_stable\u001b[0m\u001b[1;33m]\u001b[0m\u001b[1;33m\u001b[0m\u001b[0m\n",
      "\u001b[1;31mNameError\u001b[0m: name 'all_grid' is not defined"
     ]
    }
   ],
   "source": [
    "''' Figure 5E: change in firing rate and spatial dissimilarity across maps by cell type '''\n",
    "f, gs = make_plots.plot_fig5e(pct_dFR, all_angles, all_grid, all_border, nongc_nonbd_stable)\n",
    "\n",
    "# f.savefig(save_folder + 'delFR_vs_delAngle_split.png', dpi=400, bbox_inches='tight')\n",
    "plt.show()"
   ]
  },
  {
   "cell_type": "code",
   "execution_count": null,
   "metadata": {},
   "outputs": [],
   "source": [
    "# significant differences?\n",
    "# firing rate\n",
    "print('CHANGE IN FIRING RATE:')\n",
    "FR_stat, FR_p = stats.kruskal(dFR_gc, dFR_bd, dFR_sp)\n",
    "print(f'grid vs. border vs. other spatial (Kruskal): p = {FR_p:.4}')\n",
    "GCvsBD_stat, GCvsBD_p = stats.ranksums(dFR_gc, dFR_bd)\n",
    "print(f'grid vs. border (rank sums): p = {GCvsBD_p:.4}')\n",
    "GCvsSP_stat, GCvsSP_p = stats.ranksums(dFR_gc, dFR_sp)\n",
    "print(f'grid vs. spatial (rank sums): p = {GCvsSP_p:.4}')\n",
    "SPvsBD_stat, SPvsBD_p = stats.ranksums(dFR_sp, dFR_bd)\n",
    "print(f'spatial vs. border (rank sums): p = {SPvsBD_p:.4}')\n",
    "\n",
    "# spatial coding\n",
    "print('\\nCHANGE IN SPATIAL CODING')\n",
    "angle_stat, angle_p = stats.kruskal(angle_gc, angle_bd, angle_sp)\n",
    "print(f'grid vs. border vs. other spatial (Kruskal): p = {angle_p:.4}')\n",
    "GCvsBD_stat, GCvsBD_p = stats.ranksums(angle_gc, angle_bd)\n",
    "print(f'grid vs. border (rank sums): p = {GCvsBD_p:.4}')\n",
    "GCvsSP_stat, GCvsSP_p = stats.ranksums(angle_gc, angle_sp)\n",
    "print(f'grid vs. spatial (rank sums): p = {GCvsSP_p:.4}')\n",
    "SPvsBD_stat, SPvsBD_p = stats.ranksums(angle_sp, angle_bd)\n",
    "print(f'spatial vs. border (rank sums): p = {SPvsBD_p:.4}')"
   ]
  },
  {
   "cell_type": "code",
   "execution_count": null,
   "metadata": {},
   "outputs": [],
   "source": [
    "# info for each cell type\n",
    "print(f'n grid cells total = {n_gc}')\n",
    "print(f'median change in firing rate = {np.median(dFR_gc):.5}')\n",
    "print(f'95th percentile change in firing rate = {np.percentile(dFR_gc, 95):.5}')\n",
    "print(f'median change in spatial tuning = {np.median(angle_gc):.5}')\n",
    "print(f'95th percentile change in spatial tuning = {np.percentile(angle_gc, 95):.5}')\n",
    "\n",
    "print(f'\\nn border cells total = {n_bd}')\n",
    "print(f'median change in firing rate = {np.median(dFR_bd):.5}')\n",
    "print(f'95th percentile change in firing rate = {np.percentile(dFR_bd, 95):.5}')\n",
    "print(f'median change in spatial tuning = {np.median(angle_bd):.5}')\n",
    "print(f'95th percentile change in spatial tuning = {np.percentile(angle_bd, 95):.5}')\n",
    "\n",
    "print(f'\\nn spatial cells total = {n_sp}')\n",
    "print(f'median change in firing rate = {np.median(dFR_sp):.5}')\n",
    "print(f'95th percentile change in firing rate = {np.percentile(dFR_sp, 95):.5}')\n",
    "print(f'median change in spatial tuning = {np.median(angle_sp):.5}')\n",
    "print(f'95th percentile change in spatial tuning = {np.percentile(angle_sp, 95):.5}')"
   ]
  },
  {
   "cell_type": "code",
   "execution_count": null,
   "metadata": {},
   "outputs": [],
   "source": [
    "''' plot example grids/borders '''\n",
    "m = 'Kerala'\n",
    "s = '1207_1'\n",
    "cell_IDs = [531, 488, 750, 631, 592]\n",
    "\n",
    "d = data[m][s]\n",
    "A = d['A']\n",
    "B = d['B'].copy()\n",
    "Y = d['Y'].copy()\n",
    "cells = d['cells'].copy()\n",
    "[grid_idx, border_idx] = d['fxn_idx']"
   ]
  },
  {
   "cell_type": "code",
   "execution_count": null,
   "metadata": {},
   "outputs": [],
   "source": [
    "# percent/n grid and border cells\n",
    "total_n_cells = d['cells_int'].shape[0]\n",
    "n_excite_cells = cells.shape[0]\n",
    "n_gc = np.sum(grid_idx)\n",
    "n_bd = np.sum(border_idx)\n",
    "\n",
    "print(f'N cells total = {total_n_cells}')\n",
    "print(f'N excitatory cells total = {n_excite_cells}')\n",
    "print(f'\\nN putative grid cells = {n_gc}')\n",
    "print(f'% putative grid cells = {n_gc/total_n_cells:.1%}')\n",
    "print(f'\\nN putative border cells = {n_bd}')\n",
    "print(f'% putative border cells = {n_bd/total_n_cells:.1%}')"
   ]
  },
  {
   "cell_type": "code",
   "execution_count": null,
   "metadata": {},
   "outputs": [],
   "source": [
    "# get FR by position in each map for all cells\n",
    "W = d['kmeans']['W']\n",
    "map0_idx = d['idx']\n",
    "map1_idx = ~map0_idx\n",
    "\n",
    "FR, binned_pos, FR_sem = spk.tuning_curve(A[:, 0], B, dt, b=2, SEM=True)\n",
    "FR_0, binned_pos, FR_0_sem = spk.tuning_curve(A[map0_idx, 0], B[map0_idx, :], dt, b=2, SEM=True)\n",
    "FR_1, binned_pos, FR_1_sem = spk.tuning_curve(A[map1_idx, 0], B[map1_idx, :], dt, b=2, SEM=True)"
   ]
  },
  {
   "cell_type": "code",
   "execution_count": null,
   "metadata": {},
   "outputs": [],
   "source": [
    "''' Figure 5F & G: example grid and border cell rasters and tuning curves, split by map '''\n",
    "f, gs = make_plots.plot_fig5fg(data, mouse='Kerala', session='1207_1', cell_IDs=cell_IDs, \n",
    "                               binned_pos=binned_pos, FR_naive=FR, FR_0=FR_0, FR_1=FR_1,\n",
    "                               FR_sem=FR_sem, FR_0_sem=FR_0_sem, FR_1_sem=FR_1_sem)       \n",
    "    \n",
    "# f.savefig(save_folder + m + '_' + s + '_example_rasters.png', dpi=400, bbox_inches='tight')\n",
    "plt.show()"
   ]
  },
  {
   "cell_type": "code",
   "execution_count": null,
   "metadata": {},
   "outputs": [],
   "source": []
  }
 ],
 "metadata": {
  "kernelspec": {
   "display_name": "Python 3",
   "language": "python",
   "name": "python3"
  },
  "language_info": {
   "codemirror_mode": {
    "name": "ipython",
    "version": 3
   },
   "file_extension": ".py",
   "mimetype": "text/x-python",
   "name": "python",
   "nbconvert_exporter": "python",
   "pygments_lexer": "ipython3",
   "version": "3.6.5"
  }
 },
 "nbformat": 4,
 "nbformat_minor": 2
}
