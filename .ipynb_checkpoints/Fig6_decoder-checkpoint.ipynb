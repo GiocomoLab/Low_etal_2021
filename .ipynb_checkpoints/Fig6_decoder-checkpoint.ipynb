{
 "cells": [
  {
   "cell_type": "code",
   "execution_count": 1,
   "metadata": {},
   "outputs": [
    {
     "name": "stderr",
     "output_type": "stream",
     "text": [
      "C:\\Users\\ilow1\\Anaconda3\\lib\\site-packages\\h5py\\__init__.py:36: FutureWarning: Conversion of the second argument of issubdtype from `float` to `np.floating` is deprecated. In future, it will be treated as `np.float64 == np.dtype(float).type`.\n",
      "  from ._conv import register_converters as _register_converters\n"
     ]
    }
   ],
   "source": [
    "import numpy as np\n",
    "from analysis_pipeline import get_data\n",
    "from analysis_pipeline import process_spikes as spk\n",
    "\n",
    "import matplotlib.pyplot as plt\n",
    "from matplotlib import gridspec\n",
    "\n",
    "from scipy.interpolate import interp1d\n",
    "from scipy.ndimage import gaussian_filter1d\n",
    "from scipy import stats\n",
    "from tqdm import trange"
   ]
  },
  {
   "cell_type": "code",
   "execution_count": 2,
   "metadata": {},
   "outputs": [],
   "source": [
    "# file paths\n",
    "base = 'G:/My Drive/Giocomo Lab/RandomForage/'\n",
    "data_folder = base + 'aggregate_data/'\n",
    "save_folder = base + 'Dynamic MEC Coding Project/fig2_images_final/'\n",
    "supp_save_folder = base + 'Dynamic MEC Coding Project/fig2_images_supp/'"
   ]
  },
  {
   "cell_type": "code",
   "execution_count": 3,
   "metadata": {},
   "outputs": [
    {
     "name": "stdout",
     "output_type": "stream",
     "text": [
      "N mice: 13\n",
      "N sessions: 28\n"
     ]
    }
   ],
   "source": [
    "# define sessions\n",
    "''' NEW LIST - updated 1/8/21 w/ NP9 and NP10 cohorts'''\n",
    "save_folder = base + 'Dynamic MEC Coding Project/fig2_images_final/'\n",
    "''' run analysis on reasonable sessions N maps = 2 '''\n",
    "mice = ['Pisa', 'Hanover', 'Calais', # cue poor\n",
    "        'Seattle',  'Portland', 'Quebec', 'Toronto', 'Vancouver', # cue rich (old)\n",
    "        'Mumbai', 'Kerala', 'Goa', 'Punjab', 'Salvador'] # cue rich (new, NP9 = male)\n",
    "mouse_IDs = ['1c', '2a', '3a', '6a', '6b', '7a', '7b', '7c', '9a', ' 9b', '9c', '9d', '10a']\n",
    "sessions = [['0430_1', '0501_1', '0502_1'], # Pisa\n",
    "            ['0615_2'], # Hanover\n",
    "            ['0713_2'], # Calais\n",
    "            ['1005_1', '1006_1', '1007_1'], # Seattle\n",
    "            ['1005_2'],  # Portland\n",
    "            ['1007_1'], # Quebec\n",
    "            ['1111_1', '1112_1', '1113_1', '1114_1', '1115_1', '1117_1'], # Toronto\n",
    "            ['1114_1', '1118_1'], # Vancouver\n",
    "            ['1130_1', '1201_1', '1129_1'], # Mumbai\n",
    "            ['1207_1'], # Kerala\n",
    "            ['1211_1', '1210_1', '1209_1'], # Goa\n",
    "            ['1217_1', '1214_1'], # Punjab\n",
    "            ['1202_1'] # Salvador\n",
    "           ]\n",
    "\n",
    "print('N mice: ' + str(len(mice)))\n",
    "N_sessions = 0\n",
    "for s in sessions:\n",
    "    N_sessions += len(s)\n",
    "print('N sessions: ' + str(N_sessions))"
   ]
  },
  {
   "cell_type": "code",
   "execution_count": 4,
   "metadata": {},
   "outputs": [],
   "source": [
    "'''\n",
    "Assign colors based on track type\n",
    "see: https://personal.sron.nl/~pault/#sec:qualitative Fig. 4\n",
    "cue poor : green\n",
    "cue rich : pink\n",
    "'''\n",
    "cp_color = [17/255, 119/255, 51/255, 1]\n",
    "cr_color = [204/255, 102/255, 119/255, 1]\n",
    "\n",
    "session_colors = []\n",
    "for m, session in zip(mice, sessions):\n",
    "    for s in session:\n",
    "        if m in ['Pisa', 'Hanover', 'Calais']:\n",
    "            session_colors.append(cp_color)\n",
    "        else:\n",
    "            session_colors.append(cr_color)"
   ]
  },
  {
   "cell_type": "code",
   "execution_count": 5,
   "metadata": {},
   "outputs": [],
   "source": [
    "# make a dict to hold data\n",
    "data = {}\n",
    "for session, m in zip(sessions, mice):\n",
    "    data[m] = {}\n",
    "    for s in session:\n",
    "        data[m][s] = {}"
   ]
  },
  {
   "cell_type": "code",
   "execution_count": 6,
   "metadata": {},
   "outputs": [
    {
     "name": "stdout",
     "output_type": "stream",
     "text": [
      "Calais_0713_2 corrected for mistargeting\n",
      "Toronto_1112_1 corrected for mistargeting\n",
      "Mumbai_1130_1 corrected for mistargeting\n"
     ]
    }
   ],
   "source": [
    "# load the data\n",
    "from pathlib import Path\n",
    "\n",
    "N_cells = 0\n",
    "for m, session in zip(mice, sessions):\n",
    "    for i, s in enumerate(session):\n",
    "        d = data[m][s]\n",
    "        d['Y'] = np.load(data_folder + 'gap_corrected/' + m + '_' + s + '_MEC_FRtensor.npy')\n",
    "        B = np.load(data_folder + 'gap_corrected/' + m + '_' + s + '_MEC_spikes.npy')\n",
    "        d['B'] = B\n",
    "        d['A'] = np.load(data_folder + 'gap_corrected/' + m + '_' + s + '_behavior.npy')  \n",
    "        \n",
    "        # filter sessions with deleted AP/ML cells\n",
    "        if m in ['Seoul', 'Degu', 'Busan', 'Inchon', 'Ulsan']:\n",
    "            s_trunc = s[:4]\n",
    "            cells = np.load(data_folder + 'gap_corrected/{}_{}_MEC_cellIDs.npy'.format(m, s_trunc))\n",
    "            filt_file = data_folder + 'gap_corrected/{}_{}_MEC_idx.npy'.format(m, s_trunc)\n",
    "            if Path(filt_file).exists():\n",
    "                print(m + '_' + s + ' corrected for mistargeting')\n",
    "                cell_idx = np.load(filt_file)\n",
    "                cells = cells[cell_idx]\n",
    "            d['cells'] = cells\n",
    "            if 'cr' in s:\n",
    "                N_cells += d['cells'].shape[0]\n",
    "        else:\n",
    "            d['cells'] = np.load(data_folder + 'gap_corrected/{}_{}_MEC_cellIDs.npy'.format(m, s))\n",
    "            filt_file = data_folder + 'gap_corrected/{}_{}_MEC_idx.npy'.format(m, s)\n",
    "            if Path(filt_file).exists():\n",
    "                print(m + '_' + s + ' corrected for mistargeting')\n",
    "                cell_idx = np.load(filt_file)\n",
    "                d['cells'] = d['cells'][cell_idx]\n",
    "                d['Y'] = d['Y'][:, :, cell_idx]\n",
    "                d['B'] = d['B'][:, cell_idx]\n",
    "        \n",
    "            N_cells += d['cells'].shape[0]"
   ]
  },
  {
   "cell_type": "code",
   "execution_count": 7,
   "metadata": {},
   "outputs": [],
   "source": [
    "# calculate similarity score across trials\n",
    "from scipy.spatial.distance import pdist\n",
    "from scipy.spatial.distance import squareform\n",
    "from dynamic_coding_analysis.analysis_pipeline import process_spikes as spk\n",
    "\n",
    "for m, session in zip(mice, sessions):\n",
    "    for s in session:\n",
    "        d = data[m][s]\n",
    "        Y = d['Y'].copy()\n",
    "        Y_unwrapped = np.reshape(Y, (Y.shape[0], -1))\n",
    "        sim_vec = np.abs(pdist(Y_unwrapped, 'correlation')-1)\n",
    "        sim = squareform(sim_vec)\n",
    "        d['similarity'] = sim"
   ]
  },
  {
   "cell_type": "code",
   "execution_count": 8,
   "metadata": {},
   "outputs": [],
   "source": [
    "''' K-MEANS '''\n",
    "from lvl.factor_models import KMeans as lvl_kmeans\n",
    "from lvl.factor_models import NMF as lvl_soft_kmeans\n",
    "from scipy.spatial.distance import cdist \n",
    "from scipy.special import logsumexp\n",
    "def softmax(M):\n",
    "    return np.exp(M - logsumexp(M, axis=-1, keepdims=True))"
   ]
  },
  {
   "cell_type": "code",
   "execution_count": 9,
   "metadata": {},
   "outputs": [],
   "source": [
    "''' fit kmeans to get remaps '''\n",
    "N = 2\n",
    "model_kmeans = lvl_kmeans(n_components=N, n_restarts=100)\n",
    "for m, session in zip(mice, sessions):\n",
    "    for s in session:\n",
    "        d = data[m][s]\n",
    "        Y = d['Y'].copy()\n",
    "        Y = Y.transpose(0, 2, 1)\n",
    "        Y_unwrapped = np.reshape(Y, (Y.shape[0], -1))\n",
    "        \n",
    "        # fit model and get params\n",
    "        model_kmeans.fit(Y_unwrapped)\n",
    "        W, H = model_kmeans.factors\n",
    "        Y_hat = model_kmeans.predict()\n",
    "        d['kmeans'] = {}\n",
    "        d['kmeans']['W'] = W\n",
    "        d['kmeans']['H'] = H\n",
    "        d['kmeans']['Y_hat'] = Y_hat  "
   ]
  },
  {
   "cell_type": "code",
   "execution_count": 10,
   "metadata": {},
   "outputs": [],
   "source": [
    "# reassign map 0 to be the slower map\n",
    "for m, session in zip(mice, sessions):\n",
    "    for s in session:\n",
    "        d = data[m][s]\n",
    "        A = d['A']\n",
    "        W = d['kmeans']['W']\n",
    "        H = d['kmeans']['H']\n",
    "        \n",
    "        # get map indices\n",
    "        map_idx = W[:, 0].astype(bool)\n",
    "        trials = A[:, 2]\n",
    "        map0_idx = np.zeros_like(trials)\n",
    "        map1_idx = np.zeros_like(trials)\n",
    "        for i, t in enumerate(np.unique(trials)):\n",
    "            if map_idx[i]:\n",
    "                map0_idx[trials == t] = 1\n",
    "            else:\n",
    "                map1_idx[trials == t] = 1\n",
    "        map0_idx = map0_idx.astype(bool)\n",
    "        map1_idx = map1_idx.astype(bool)\n",
    "\n",
    "        # get running speed in each map and assign map 0 to slower map\n",
    "        speed = A[:, 1]\n",
    "        speed_0 = np.nanmean(speed[map0_idx])\n",
    "        speed_1 = np.nanmean(speed[map1_idx])\n",
    "\n",
    "        if speed_1 < speed_0: # swap labels\n",
    "            d['map0_idx'] = 1\n",
    "        else:\n",
    "            d['map0_idx'] = 0"
   ]
  },
  {
   "cell_type": "code",
   "execution_count": 11,
   "metadata": {},
   "outputs": [],
   "source": [
    "# get map indices for each observation\n",
    "for m, session in zip(mice, sessions):\n",
    "    for s in session:\n",
    "        d = data[m][s]\n",
    "        A = d['A'].copy()\n",
    "        W = d['kmeans']['W']\n",
    "        map0 = d['map0_idx']\n",
    "        map_idx = W[:, map0].astype(bool)\n",
    "        trials = A[:, 2]\n",
    "        \n",
    "        map0_idx = np.zeros_like(trials)\n",
    "        map1_idx = np.zeros_like(trials)\n",
    "        for i, t in enumerate(np.unique(trials)):\n",
    "            if map_idx[i]:\n",
    "                map0_idx[trials == t] = 1\n",
    "            else:\n",
    "                map1_idx[trials == t] = 1\n",
    "\n",
    "        map0_idx = map0_idx.astype(bool)\n",
    "        map1_idx = map1_idx.astype(bool)\n",
    "        d['idx'] = np.row_stack((map0_idx, map1_idx))"
   ]
  },
  {
   "cell_type": "code",
   "execution_count": 12,
   "metadata": {},
   "outputs": [],
   "source": [
    "''' DECODER ANALYSIS '''\n",
    "import scipy.stats \n",
    "from scipy.ndimage import gaussian_filter1d\n",
    "normcdf = scipy.stats.norm.cdf\n",
    "normpdf = scipy.stats.norm.pdf"
   ]
  },
  {
   "cell_type": "code",
   "execution_count": 13,
   "metadata": {},
   "outputs": [],
   "source": [
    "SMOOTHNESS = 10.0\n",
    "REGULARIZATION = 1e-4"
   ]
  },
  {
   "cell_type": "code",
   "execution_count": 14,
   "metadata": {},
   "outputs": [],
   "source": [
    "## REGRESSION MODEL ##\n",
    "\n",
    "from scipy.linalg import cho_factor, cho_solve\n",
    "from sklearn.base import BaseEstimator\n",
    "\n",
    "class CircularRegression(BaseEstimator):\n",
    "    \n",
    "    def __init__(self, alpha=0.0, tol=1e-5, max_iter=100):\n",
    "        self.alpha = alpha\n",
    "        self.tol = tol\n",
    "        self.max_iter = max_iter\n",
    "    \n",
    "    def fit(self, X, y):\n",
    "        \"\"\"\n",
    "        Parameters\n",
    "        ----------\n",
    "        X : array\n",
    "            Independent variables, has shape (n_timepoints x n_neurons)\n",
    "        y : array\n",
    "            Circular dependent variable, has shape (n_timepoints x 1),\n",
    "            all data should lie on the interval [-pi, +pi].\n",
    "        \"\"\"\n",
    "        \n",
    "        # Convert 1d circular variable to 2d representation\n",
    "        u = np.column_stack([np.sin(y), np.cos(y)])\n",
    "\n",
    "        # Randomly initialize weights. Ensure scaling does\n",
    "        W = np.random.randn(X.shape[1], 2)\n",
    "        W /= np.max(np.sum(np.abs(X @ W), axis=1))\n",
    "        \n",
    "        # Cache neuron x neuron gram matrix. This is used below\n",
    "        # in the M-step to solve a linear least squares problem\n",
    "        # in the form inv(XtX) @ XtY. Add regularization term to\n",
    "        # the diagonal.\n",
    "        XtX = X.T @ X\n",
    "        XtX[np.diag_indices_from(XtX)] += self.alpha\n",
    "        XtX = cho_factor(XtX)\n",
    "\n",
    "        # Compute model prediction in 2d space, and projection onto\n",
    "        # each observed u.\n",
    "        XW = (X @ W)\n",
    "        t = np.sum(u * XW, axis=1)\n",
    "        tcdf = normcdf(t)\n",
    "        tpdf = normpdf(t)\n",
    "\n",
    "        self.log_like_hist_ = [\n",
    "            np.log(2 * np.pi) - \n",
    "            0.5 * np.mean(np.sum(XW * XW, axis=1), axis=0) +\n",
    "            np.mean(np.log(1 + t * tcdf / tpdf))\n",
    "        ]\n",
    "\n",
    "        for itr in range(self.max_iter):\n",
    "\n",
    "            # E-step.\n",
    "            m = t + (tcdf / ((tpdf + t * tcdf)))\n",
    "            XtY = X.T @ (m[:, None] * u)\n",
    "\n",
    "            # M-step.\n",
    "            W = cho_solve(XtX, XtY)\n",
    "            \n",
    "            # Recompute model prediction.\n",
    "            XW = X @ W\n",
    "            t = np.sum(u * XW, axis=1)\n",
    "            tcdf = normcdf(t)\n",
    "            tpdf = normpdf(t)\n",
    "\n",
    "            # Store log-likelihood.\n",
    "            self.log_like_hist_.append(\n",
    "                np.log(2 * np.pi) - \n",
    "                0.5 * np.mean(np.sum(XW * XW, axis=1), axis=0) +\n",
    "                np.mean(np.log(1 + t * tcdf / tpdf))\n",
    "            )\n",
    "            \n",
    "            # Check convergence.\n",
    "            if (self.log_like_hist_[-1] - self.log_like_hist_[-2]) < self.tol:\n",
    "                break\n",
    "    \n",
    "        self.weights_ = W\n",
    "    \n",
    "    def predict(self, X):\n",
    "        u_pred = X @ self.weights_\n",
    "        return np.arctan2(u_pred[:, 0], u_pred[:, 1])\n",
    "\n",
    "    def score(self, X, y):\n",
    "        \"\"\"\n",
    "        Returns 1 minus mean angular similarity between y and model prediction.\n",
    "        \n",
    "        score == 1 for perfect prediction\n",
    "        score == 0 in expectation for random prediction\n",
    "        score == -1 if prediction is off by 180 degrees.\n",
    "        \"\"\"\n",
    "        y_pred = self.predict(X)\n",
    "        return np.mean(np.cos(y - y_pred))"
   ]
  },
  {
   "cell_type": "code",
   "execution_count": 15,
   "metadata": {},
   "outputs": [],
   "source": [
    "''' get X and y '''\n",
    "dt = 0.02\n",
    "for m, session in zip(mice, sessions):\n",
    "    for s in session:\n",
    "        d = data[m][s]\n",
    "        A = d['A']\n",
    "        B = d['B']\n",
    "        \n",
    "        # only calculate for >=100 spike cells\n",
    "        keep_idx = np.where(np.sum(B, axis=0) >= 400)[0]\n",
    "        B = B[:, keep_idx]\n",
    "        \n",
    "        # convert spikes to FR and smooth\n",
    "        t_bin = dt\n",
    "        X = B / t_bin # convert spike count to FR\n",
    "        X = gaussian_filter1d(X, SMOOTHNESS, axis=0)\n",
    "        \n",
    "        # format position s.t. 0 = -pi = +pi = 400\n",
    "        y_raw = A[:, 0]\n",
    "        track_len = 400\n",
    "        y = (y_raw / np.max(y_raw)) * 2 * np.pi - np.pi\n",
    "        \n",
    "        d['X'] = X\n",
    "        d['y'] = y"
   ]
  },
  {
   "cell_type": "code",
   "execution_count": 16,
   "metadata": {},
   "outputs": [],
   "source": [
    "''' downsample to match speed and num observations '''\n",
    "for m, session in zip(mice, sessions):\n",
    "    for s in session:\n",
    "        d = data[m][s]\n",
    "        speed = d['A'][:, 1]\n",
    "        y = d['y']\n",
    "        map0_idx = d['idx'][0, :]\n",
    "        map1_idx = d['idx'][1, :]\n",
    "        \n",
    "        # bin speed into 10cm/s bins\n",
    "        edges = np.arange(10, np.max(speed), 10)\n",
    "        speed_idx = np.digitize(speed, edges)\n",
    "\n",
    "        # get indices for each map's observations\n",
    "        all_obs = np.arange(y.shape[0])\n",
    "        obs_0 = np.arange(y.shape[0])[map0_idx]\n",
    "        obs_1 = np.arange(y.shape[0])[map1_idx]\n",
    "\n",
    "        # array to hold indices for downsampling\n",
    "        ds_all = np.asarray([]) # array to hold indices for downsampling all trials\n",
    "        ds_0 = np.asarray([]) # array to hold indices for downsampling map 0\n",
    "        ds_1 = np.asarray([]) # array to hold indices for downsampling map 1\n",
    "\n",
    "        # match occupancy of each bin for each map\n",
    "        bins, ct = np.unique(speed_idx, return_counts=True)\n",
    "        for b in bins:\n",
    "            occupancy_0 = np.sum(map0_idx[speed_idx == b])\n",
    "            occupancy_1 = np.sum(map1_idx[speed_idx == b])\n",
    "            occupancy_all = np.sum(ct[b])    \n",
    "            idx_0 = np.where(map0_idx & (speed_idx == b))[0]\n",
    "            idx_1 = np.where(map1_idx & (speed_idx == b))[0]\n",
    "\n",
    "            if occupancy_0 == occupancy_1:\n",
    "                ds_all = np.append(ds_all, np.random.choice(all_obs[speed_idx == b], occupancy_0, replace=False))\n",
    "            elif occupancy_0 > occupancy_1:\n",
    "                # need to downsample map 0 for this speed bin\n",
    "                n_timepts = occupancy_1        \n",
    "                ds_all = np.append(ds_all, np.random.choice(all_obs[speed_idx == b], n_timepts, replace=False))\n",
    "                ds_0 = np.append(ds_0, np.random.choice(idx_0, n_timepts, replace=False))\n",
    "                ds_1 = np.append(ds_1, idx_1)\n",
    "            else:\n",
    "                # need to downsample map 1 for this speed bin\n",
    "                n_timepts = occupancy_0\n",
    "                ds_all = np.append(ds_all, np.random.choice(all_obs[speed_idx == b], n_timepts, replace=False))\n",
    "                ds_0 = np.append(ds_0, idx_0)\n",
    "                ds_1 = np.append(ds_1, np.random.choice(idx_1, n_timepts, replace=False)) \n",
    "        ds_all = ds_all.astype(int)\n",
    "        ds_0 = ds_0.astype(int)\n",
    "        ds_1 = ds_1.astype(int)\n",
    "        \n",
    "        d['ds_idx'] = np.row_stack((ds_0, ds_1, ds_all))"
   ]
  },
  {
   "cell_type": "code",
   "execution_count": 17,
   "metadata": {},
   "outputs": [],
   "source": [
    "# train and test on opposite maps: choose blocks of indices\n",
    "# found bug 3/12/21 - was only training on 10% of the data\n",
    "def train_vs_test_blocks(X, y, train_data_idx, test_data_idx, n_repeats=10, train_pct=0.9):\n",
    "    test_scores = []    \n",
    "    test_folds = np.array_split(test_data_idx, n_repeats)\n",
    "\n",
    "    for i in range(n_repeats):        \n",
    "        # Get train and test indices\n",
    "        test_idx = test_folds[i]\n",
    "        train_idx = np.random.choice(np.setdiff1d(train_data_idx, test_idx),\n",
    "                                     replace=False, size=int(train_data_idx.size * train_pct))\n",
    "#         assert(np.round(train_idx.size / (train_pct*n_repeats), -1) == np.round(test_idx.size, -1))\n",
    "\n",
    "        # Train model\n",
    "        model.fit(X[train_idx], y[train_idx])\n",
    "\n",
    "        # Compute test error\n",
    "        test_scores.append(model.score(X[test_idx], y[test_idx]))\n",
    "        \n",
    "    return np.asarray(test_scores)"
   ]
  },
  {
   "cell_type": "code",
   "execution_count": 18,
   "metadata": {},
   "outputs": [
    {
     "name": "stderr",
     "output_type": "stream",
     "text": [
      "100%|███████████████████| 13/13 [36:09<00:00, 150.97s/it]\n"
     ]
    }
   ],
   "source": [
    "''' fit model on each map '''\n",
    "model = CircularRegression(alpha=REGULARIZATION)\n",
    "\n",
    "# cross-validate the model\n",
    "for i in trange(len(mice)):\n",
    "    m = mice[i]\n",
    "    session = sessions[i]\n",
    "    for s in session:\n",
    "        d = data[m][s]\n",
    "        X = d['X']\n",
    "        y = d['y']\n",
    "        ds_0 = d['ds_idx'][0, :]\n",
    "        ds_1 = d['ds_idx'][1, :]\n",
    "        ds_all = d['ds_idx'][-1, :]\n",
    "        \n",
    "        # get CV scores for each train and test combo - save these!\n",
    "        train0_test0_scores = train_vs_test_blocks(X, y, ds_0, ds_0)\n",
    "        train0_test1_scores = train_vs_test_blocks(X, y, ds_0, ds_1)\n",
    "        train1_test1_scores = train_vs_test_blocks(X, y, ds_1, ds_1)\n",
    "        train1_test0_scores = train_vs_test_blocks(X, y, ds_1, ds_0)\n",
    "        random_scores = train_vs_test_blocks(X, y, ds_all, ds_all)\n",
    "        d['scores'] = np.row_stack((train0_test0_scores, train0_test1_scores, \n",
    "                                    train1_test1_scores, train1_test0_scores, \n",
    "                                    random_scores))"
   ]
  },
  {
   "cell_type": "code",
   "execution_count": 19,
   "metadata": {
    "scrolled": true
   },
   "outputs": [
    {
     "name": "stderr",
     "output_type": "stream",
     "text": [
      "100%|████████████████████| 13/13 [00:00<00:00, 68.04it/s]\n"
     ]
    }
   ],
   "source": [
    "# across maps: shuffle by permuting the neuron labels and shifting the positions\n",
    "N_REPEATS = 100\n",
    "MAX_CELL_SHIFT = 10\n",
    "MAX_POS_SHIFT = np.pi/2\n",
    "for i in trange(len(mice)):\n",
    "    m = mice[i]\n",
    "    session = sessions[i]\n",
    "    for s in session:\n",
    "        d = data[m][s]\n",
    "        shuff_file = data_folder + 'gap_corrected/' + m + '_' + s + '_across_map_decoder_shuff.npy'\n",
    "        if Path(shuff_file).exists():\n",
    "            d['scores_across_shuffle'] = np.load(shuff_file)\n",
    "            continue\n",
    "        X = d['X']\n",
    "        y = d['y']\n",
    "        \n",
    "        # get indices for each map + downsampled indices\n",
    "        map0_idx = d['idx'][0, :]\n",
    "        map1_idx = d['idx'][1, :]\n",
    "        ds_0 = d['ds_idx'][0, :]\n",
    "        ds_1 = d['ds_idx'][1, :]        \n",
    "        \n",
    "        # to shuffle the neuron labels\n",
    "        X0 = X[map0_idx, :].copy()\n",
    "        X1 = X[map1_idx, :].copy()\n",
    "        cell_shifts = (np.random.randn(N_REPEATS, 1)*MAX_CELL_SHIFT).astype(int)\n",
    "\n",
    "        # to shuffle the position labels\n",
    "        y0 = y[map0_idx].copy()\n",
    "        y1 = y[map1_idx].copy()\n",
    "        pos_shifts = (np.random.randn(N_REPEATS, 1)*MAX_POS_SHIFT).astype(int)\n",
    "        \n",
    "        # compute the shuffled scores\n",
    "        train1_test0_scores = np.zeros((N_REPEATS, 10))\n",
    "        train0_test1_scores = np.zeros((N_REPEATS, 10))\n",
    "        for j in trange(N_REPEATS):\n",
    "            shuff_X0 = X.copy()\n",
    "            shuff_X1 = X.copy()\n",
    "            shuff_y0 = y.copy()\n",
    "            shuff_y1 = y.copy()\n",
    "            \n",
    "            # compute the scores for shuffled map 0\n",
    "            shuff_X0[map0_idx, :] = np.roll(X0, cell_shifts[j], axis=1) # permute neuron identities\n",
    "            shuff_y0[map0_idx] = y0 + pos_shifts[j] # shift position labels\n",
    "            train1_test0_scores[j, :] = train_vs_test_blocks(shuff_X0, shuff_y0, ds_1, ds_0)\n",
    "            \n",
    "            # compute the scores for shuffled map 1\n",
    "            shuff_X1[map1_idx, :] = np.roll(X1, cell_shifts[j], axis=1) # permute neuron identities\n",
    "            shuff_y1[map1_idx] = y1 + pos_shifts[j] # shift position labels\n",
    "            train0_test1_scores[j, :] = train_vs_test_blocks(shuff_X1, shuff_y1, ds_0, ds_1)\n",
    "            \n",
    "        d['scores_across_shuffle'] = np.stack((train1_test0_scores, train0_test1_scores), axis=-1)\n",
    "        np.save(shuff_file, d['scores_across_shuffle'])"
   ]
  },
  {
   "cell_type": "code",
   "execution_count": 20,
   "metadata": {},
   "outputs": [],
   "source": [
    "# get mean and 25/75th percentile for each session:\n",
    "N_sessions = 0\n",
    "for s in sessions:\n",
    "    N_sessions += len(s)\n",
    "\n",
    "avg_scores = np.zeros((N_sessions, 5))\n",
    "pct_25 = np.zeros((N_sessions, 5))\n",
    "pct_75 = np.zeros((N_sessions, 5))\n",
    "\n",
    "i=-1\n",
    "for m, session in zip(mice, sessions):\n",
    "    for s in session:\n",
    "        i+=1\n",
    "        d = data[m][s]\n",
    "        scores = d['scores']\n",
    "        avg_scores[i, :] = np.mean(scores, axis=1)\n",
    "        pct_25[i, :] = np.percentile(scores, 25, axis=1)\n",
    "        pct_75[i, :] = np.percentile(scores, 75, axis=1)"
   ]
  },
  {
   "cell_type": "code",
   "execution_count": 21,
   "metadata": {
    "scrolled": true
   },
   "outputs": [
    {
     "name": "stdout",
     "output_type": "stream",
     "text": [
      "Pisa_0430_1\n"
     ]
    },
    {
     "data": {
      "image/png": "[encoded data removed]",
      "text/plain": [
       "<Figure size 432x288 with 1 Axes>"
      ]
     },
     "metadata": {},
     "output_type": "display_data"
    },
    {
     "name": "stdout",
     "output_type": "stream",
     "text": [
      "Pisa_0501_1\n"
     ]
    },
    {
     "data": {
      "image/png": "[encoded data removed]",
      "text/plain": [
       "<Figure size 432x288 with 1 Axes>"
      ]
     },
     "metadata": {},
     "output_type": "display_data"
    },
    {
     "name": "stdout",
     "output_type": "stream",
     "text": [
      "Pisa_0502_1\n"
     ]
    },
    {
     "data": {
      "image/png": "[encoded data removed]",
      "text/plain": [
       "<Figure size 432x288 with 1 Axes>"
      ]
     },
     "metadata": {},
     "output_type": "display_data"
    },
    {
     "name": "stdout",
     "output_type": "stream",
     "text": [
      "Hanover_0615_2\n"
     ]
    },
    {
     "data": {
      "image/png": "[encoded data removed]",
      "text/plain": [
       "<Figure size 432x288 with 1 Axes>"
      ]
     },
     "metadata": {},
     "output_type": "display_data"
    },
    {
     "name": "stdout",
     "output_type": "stream",
     "text": [
      "Calais_0713_2\n"
     ]
    },
    {
     "data": {
      "image/png": "[encoded data removed]",
      "text/plain": [
       "<Figure size 432x288 with 1 Axes>"
      ]
     },
     "metadata": {},
     "output_type": "display_data"
    },
    {
     "name": "stdout",
     "output_type": "stream",
     "text": [
      "Seattle_1005_1\n"
     ]
    },
    {
     "data": {
      "image/png": "[encoded data removed]",
      "text/plain": [
       "<Figure size 432x288 with 1 Axes>"
      ]
     },
     "metadata": {},
     "output_type": "display_data"
    },
    {
     "name": "stdout",
     "output_type": "stream",
     "text": [
      "Seattle_1006_1\n"
     ]
    },
    {
     "data": {
      "image/png": "[encoded data removed]",
      "text/plain": [
       "<Figure size 432x288 with 1 Axes>"
      ]
     },
     "metadata": {},
     "output_type": "display_data"
    },
    {
     "name": "stdout",
     "output_type": "stream",
     "text": [
      "Seattle_1007_1\n"
     ]
    },
    {
     "data": {
      "image/png": "[encoded data removed]",
      "text/plain": [
       "<Figure size 432x288 with 1 Axes>"
      ]
     },
     "metadata": {},
     "output_type": "display_data"
    },
    {
     "name": "stdout",
     "output_type": "stream",
     "text": [
      "Portland_1005_2\n"
     ]
    },
    {
     "data": {
      "image/png": "[encoded data removed]",
      "text/plain": [
       "<Figure size 432x288 with 1 Axes>"
      ]
     },
     "metadata": {},
     "output_type": "display_data"
    },
    {
     "name": "stdout",
     "output_type": "stream",
     "text": [
      "Quebec_1007_1\n"
     ]
    },
    {
     "data": {
      "image/png": "[encoded data removed]",
      "text/plain": [
       "<Figure size 432x288 with 1 Axes>"
      ]
     },
     "metadata": {},
     "output_type": "display_data"
    },
    {
     "name": "stdout",
     "output_type": "stream",
     "text": [
      "Toronto_1111_1\n"
     ]
    },
    {
     "data": {
      "image/png": "[encoded data removed]",
      "text/plain": [
       "<Figure size 432x288 with 1 Axes>"
      ]
     },
     "metadata": {},
     "output_type": "display_data"
    },
    {
     "name": "stdout",
     "output_type": "stream",
     "text": [
      "Toronto_1112_1\n"
     ]
    },
    {
     "data": {
      "image/png": "[encoded data removed]",
      "text/plain": [
       "<Figure size 432x288 with 1 Axes>"
      ]
     },
     "metadata": {},
     "output_type": "display_data"
    },
    {
     "name": "stdout",
     "output_type": "stream",
     "text": [
      "Toronto_1113_1\n"
     ]
    },
    {
     "data": {
      "image/png": "[encoded data removed]",
      "text/plain": [
       "<Figure size 432x288 with 1 Axes>"
      ]
     },
     "metadata": {},
     "output_type": "display_data"
    },
    {
     "name": "stdout",
     "output_type": "stream",
     "text": [
      "Toronto_1114_1\n"
     ]
    },
    {
     "data": {
      "image/png": "[encoded data removed]",
      "text/plain": [
       "<Figure size 432x288 with 1 Axes>"
      ]
     },
     "metadata": {},
     "output_type": "display_data"
    },
    {
     "name": "stdout",
     "output_type": "stream",
     "text": [
      "Toronto_1115_1\n"
     ]
    },
    {
     "data": {
      "image/png": "[encoded data removed]",
      "text/plain": [
       "<Figure size 432x288 with 1 Axes>"
      ]
     },
     "metadata": {},
     "output_type": "display_data"
    },
    {
     "name": "stdout",
     "output_type": "stream",
     "text": [
      "Toronto_1117_1\n"
     ]
    },
    {
     "data": {
      "image/png": "[encoded data removed]",
      "text/plain": [
       "<Figure size 432x288 with 1 Axes>"
      ]
     },
     "metadata": {},
     "output_type": "display_data"
    },
    {
     "name": "stdout",
     "output_type": "stream",
     "text": [
      "Vancouver_1114_1\n"
     ]
    },
    {
     "data": {
      "image/png": "[encoded data removed]",
      "text/plain": [
       "<Figure size 432x288 with 1 Axes>"
      ]
     },
     "metadata": {},
     "output_type": "display_data"
    },
    {
     "name": "stdout",
     "output_type": "stream",
     "text": [
      "Vancouver_1118_1\n"
     ]
    },
    {
     "data": {
      "image/png": "[encoded data removed]",
      "text/plain": [
       "<Figure size 432x288 with 1 Axes>"
      ]
     },
     "metadata": {},
     "output_type": "display_data"
    },
    {
     "name": "stdout",
     "output_type": "stream",
     "text": [
      "Mumbai_1130_1\n"
     ]
    },
    {
     "data": {
      "image/png": "[encoded data removed]",
      "text/plain": [
       "<Figure size 432x288 with 1 Axes>"
      ]
     },
     "metadata": {},
     "output_type": "display_data"
    },
    {
     "name": "stdout",
     "output_type": "stream",
     "text": [
      "Mumbai_1201_1\n"
     ]
    },
    {
     "data": {
      "image/png": "[encoded data removed]",
      "text/plain": [
       "<Figure size 432x288 with 1 Axes>"
      ]
     },
     "metadata": {},
     "output_type": "display_data"
    },
    {
     "name": "stdout",
     "output_type": "stream",
     "text": [
      "Mumbai_1129_1\n"
     ]
    },
    {
     "data": {
      "image/png": "[encoded data removed]",
      "text/plain": [
       "<Figure size 432x288 with 1 Axes>"
      ]
     },
     "metadata": {},
     "output_type": "display_data"
    },
    {
     "name": "stdout",
     "output_type": "stream",
     "text": [
      "Kerala_1207_1\n"
     ]
    },
    {
     "data": {
      "image/png": "[encoded data removed]",
      "text/plain": [
       "<Figure size 432x288 with 1 Axes>"
      ]
     },
     "metadata": {},
     "output_type": "display_data"
    },
    {
     "name": "stdout",
     "output_type": "stream",
     "text": [
      "Goa_1211_1\n"
     ]
    },
    {
     "data": {
      "image/png": "[encoded data removed]",
      "text/plain": [
       "<Figure size 432x288 with 1 Axes>"
      ]
     },
     "metadata": {},
     "output_type": "display_data"
    },
    {
     "name": "stdout",
     "output_type": "stream",
     "text": [
      "Goa_1210_1\n"
     ]
    },
    {
     "data": {
      "image/png": "[encoded data removed]",
      "text/plain": [
       "<Figure size 432x288 with 1 Axes>"
      ]
     },
     "metadata": {},
     "output_type": "display_data"
    },
    {
     "name": "stdout",
     "output_type": "stream",
     "text": [
      "Goa_1209_1\n"
     ]
    },
    {
     "data": {
      "image/png": "[encoded data removed]",
      "text/plain": [
       "<Figure size 432x288 with 1 Axes>"
      ]
     },
     "metadata": {},
     "output_type": "display_data"
    },
    {
     "name": "stdout",
     "output_type": "stream",
     "text": [
      "Punjab_1217_1\n"
     ]
    },
    {
     "data": {
      "image/png": "[encoded data removed]",
      "text/plain": [
       "<Figure size 432x288 with 1 Axes>"
      ]
     },
     "metadata": {},
     "output_type": "display_data"
    },
    {
     "name": "stdout",
     "output_type": "stream",
     "text": [
      "Punjab_1214_1\n"
     ]
    },
    {
     "data": {
      "image/png": "[encoded data removed]",
      "text/plain": [
       "<Figure size 432x288 with 1 Axes>"
      ]
     },
     "metadata": {},
     "output_type": "display_data"
    },
    {
     "name": "stdout",
     "output_type": "stream",
     "text": [
      "Salvador_1202_1\n"
     ]
    },
    {
     "data": {
      "image/png": "[encoded data removed]",
      "text/plain": [
       "<Figure size 432x288 with 1 Axes>"
      ]
     },
     "metadata": {},
     "output_type": "display_data"
    }
   ],
   "source": [
    "# compare the scores for each session to its corresponding shuffle\n",
    "pct_best = np.zeros((N_sessions, 2))\n",
    "ns_01 = 0\n",
    "ns_10 = 0\n",
    "i = 0\n",
    "for m, session in zip(mice, sessions):\n",
    "    for s in session:\n",
    "        print('{}_{}'.format(m, s))\n",
    "        d = data[m][s]\n",
    "        avg_0to0 = avg_scores[i, 0]\n",
    "        avg_0to1 = avg_scores[i, 1]\n",
    "        avg_1to1 = avg_scores[i, 2]\n",
    "        avg_1to0 = avg_scores[i, 3]\n",
    "        shuff_scores = d['scores_across_shuffle']\n",
    "        plt.hist(np.ravel(shuff_scores[:, :, -1]))\n",
    "        plt.hist(np.ravel(shuff_scores[:, :, 0]))\n",
    "        plt.show()\n",
    "        \n",
    "        # train map 0, test map 1\n",
    "        train0_test1_scores = shuff_scores[:, :, -1]\n",
    "        shuff_thresh = np.percentile(train0_test1_scores, 95)\n",
    "        mean_shuff = np.mean(train0_test1_scores)\n",
    "        if avg_0to1 <= shuff_thresh:\n",
    "            ns_01 += 1\n",
    "        pct_best_01 = (avg_0to1 - mean_shuff) / (avg_0to0 - mean_shuff)\n",
    "        pct_best[i, 0] = pct_best_01\n",
    "        \n",
    "        # train map 1, test map 0\n",
    "        train1_test0_scores = shuff_scores[:, :, 0]\n",
    "        shuff_thresh = np.percentile(train1_test0_scores, 95)\n",
    "        mean_shuff = np.mean(train1_test0_scores)\n",
    "        if avg_1to0 <= shuff_thresh:\n",
    "            ns_10 += 1\n",
    "        pct_best_10 = (avg_1to0 - mean_shuff) / (avg_1to1 - mean_shuff)\n",
    "        pct_best[i, 1] = pct_best_10\n",
    "\n",
    "        i += 1"
   ]
  },
  {
   "cell_type": "code",
   "execution_count": 22,
   "metadata": {},
   "outputs": [
    {
     "name": "stdout",
     "output_type": "stream",
     "text": [
      "train on map 0, test on map 1: 1/28 sessions were not significantly better than chance\n",
      "train on map 1, test on map 0: 2/28 sessions were not significantly better than chance\n",
      "performance on average 61.81 +/- 4.01% of best, relative to shuffle\n"
     ]
    }
   ],
   "source": [
    "print('train on map 0, test on map 1: {}/{} sessions were not significantly better than chance'.format(ns_01, N_sessions))\n",
    "print('train on map 1, test on map 0: {}/{} sessions were not significantly better than chance'.format(ns_10, N_sessions))\n",
    "print('performance on average {} +/- {}% of best, relative to shuffle'.format(np.round(np.mean(pct_best*100), 2), \n",
    "                                                                             np.round(stats.sem(pct_best*100, axis=None), 2)))"
   ]
  },
  {
   "cell_type": "code",
   "execution_count": 31,
   "metadata": {},
   "outputs": [
    {
     "data": {
      "image/png": "[encoded data removed]",
      "text/plain": [
       "<Figure size 295.2x86.4 with 3 Axes>"
      ]
     },
     "metadata": {},
     "output_type": "display_data"
    }
   ],
   "source": [
    "from matplotlib import gridspec\n",
    "\n",
    "# plot performance same train/test vs. different train/test\n",
    "gs = gridspec.GridSpec(1, 15, wspace=10000)\n",
    "f = plt.figure(figsize=(4.1, 1.2)) \n",
    "\n",
    "DOT_SIZE = 10\n",
    "DOT_LW = 0.5\n",
    "UNITY_WIDTH = 1.25\n",
    "SEM_WIDTH = 0.8\n",
    "j = np.random.randn(pct_best.shape[0]) * .08\n",
    "\n",
    "ax0 = plt.subplot(gs[:5])\n",
    "ax1 = plt.subplot(gs[6:-4])\n",
    "ax2 = plt.subplot(gs[-2:])\n",
    "\n",
    "avg_0to0 = avg_scores[:, 0]\n",
    "avg_0to1 = avg_scores[:, 1]\n",
    "avg_1to1 = avg_scores[:, 2]\n",
    "avg_1to0 = avg_scores[:, 3]\n",
    "\n",
    "# plot 25th and 75th percentiles\n",
    "ax0.plot([avg_0to1, avg_0to1], [pct_75[:, 0], pct_25[:, 0]], '-k', lw=SEM_WIDTH, alpha=0.2, zorder=1)\n",
    "ax0.plot([pct_75[:, 1], pct_25[:, 1]], [avg_0to0, avg_0to0], '-k', lw=SEM_WIDTH, alpha=0.2, zorder=2)\n",
    "ax1.plot([pct_75[:, 2], pct_25[:, 2]], [avg_1to0, avg_1to0], '-k', lw=SEM_WIDTH, alpha=0.2, zorder=1)\n",
    "ax1.plot( [avg_1to1, avg_1to1], [pct_75[:, 3], pct_25[:, 3]], '-k', lw=SEM_WIDTH, alpha=0.2, zorder=2)\n",
    "\n",
    "# train on map 0, test on map 0 vs. test on map 1\n",
    "ax0.scatter(avg_0to1, avg_0to0,\n",
    "            facecolors=session_colors, edgecolors='k', \n",
    "            s=DOT_SIZE, lw=DOT_LW, zorder=3, alpha=0.7)   \n",
    "# train on map 1, test on map 1 vs. test on map 0\n",
    "ax1.scatter(avg_1to1, avg_1to0,\n",
    "            facecolors=session_colors, edgecolors='k', \n",
    "            s=DOT_SIZE, lw=DOT_LW, zorder=3, alpha=0.7)\n",
    "# relative performance vs. shuffle\n",
    "ax2.scatter(np.full(N_sessions, 1)+j, pct_best[:, 0]*100, \n",
    "            facecolors=session_colors, edgecolors='k', \n",
    "            s=DOT_SIZE, lw=DOT_LW, zorder=3, alpha=0.7)\n",
    "ax2.scatter(np.full(N_sessions, 1)-j, pct_best[:, 1]*100, \n",
    "            facecolors=session_colors, edgecolors='k', \n",
    "            s=DOT_SIZE, lw=DOT_LW, zorder=3, alpha=0.7)\n",
    "\n",
    "# plot unity lines + shuffle/best lines\n",
    "ax0.plot([0, 1], [0, 1], '--k', lw=UNITY_WIDTH, alpha=1)\n",
    "ax1.plot([0, 1], [0, 1], '--k', lw=UNITY_WIDTH, alpha=1)\n",
    "xlims = ax2.get_xlim()\n",
    "ax2.hlines([0, 100], xlims[0], xlims[1], linestyles='dotted', colors='k', lw=UNITY_WIDTH)\n",
    "\n",
    "\n",
    "# label everything\n",
    "ax0.set_title('train map 1', fontsize=10, pad=4)\n",
    "ax0.set_ylabel('test map 1', fontsize=9, labelpad=1)\n",
    "ax0.set_xlabel('test map 2', fontsize=9, labelpad=1)\n",
    "ax0.set_ylim([-0.05, 1.05])\n",
    "ax0.set_xlim([-0.05, 1.05])\n",
    "ax0.set_xticks([0, 0.5, 1])\n",
    "ax0.set_xticklabels([0, 0.5, 1])\n",
    "ax0.set_yticks([0, 0.5, 1])\n",
    "ax0.set_yticklabels([0, 0.5, 1])\n",
    "\n",
    "ax1.set_title('train map 2', fontsize=10, pad=4)\n",
    "ax1.set_ylabel('test map 1', fontsize=9, labelpad=1)\n",
    "ax1.set_xlabel('test map 2', fontsize=9, labelpad=1)\n",
    "ax1.set_ylim([-0.05, 1.05])\n",
    "ax1.set_xlim([-0.05, 1.05])\n",
    "ax1.set_xticks([0, 0.5, 1])\n",
    "ax1.set_xticklabels([0, 0.5, 1])\n",
    "ax1.set_yticks([0, 0.5, 1])\n",
    "ax1.set_yticklabels([0, 0.5, 1])\n",
    "\n",
    "ax2.set_xticks([1])\n",
    "ax2.set_title('train/test\\ndifferent', fontsize=10, pad=4)\n",
    "ax2.set_ylabel('relative\\nscore (%)', fontsize=9, labelpad=1)\n",
    "\n",
    "ax0.tick_params(which='major', labelsize=7.5, pad=0.5)\n",
    "ax1.tick_params(which='major', labelsize=7.5, pad=0.5)\n",
    "ax2.tick_params(labelbottom=False, bottom=False, which='major', labelsize=7.5, pad=0.5)\n",
    "\n",
    "f.savefig(save_folder + 'compare_decoder_scores.png', dpi=400, bbox_inches='tight')\n",
    "plt.show()"
   ]
  },
  {
   "cell_type": "code",
   "execution_count": 24,
   "metadata": {},
   "outputs": [],
   "source": [
    "# train on a given map and then test on a shuffled version of that map\n",
    "def train_vs_test_shuff(X, y, n_repeats=10, train_pct=0.9, test_pct=0.1):\n",
    "    test_scores = []   \n",
    "    train_data_idx = np.arange(X.shape[0])\n",
    "    test_data_idx = np.arange(X.shape[0])\n",
    "    test_folds = np.array_split(test_data_idx, n_repeats)\n",
    "\n",
    "    for i in range(n_repeats):        \n",
    "        # Get train and test indices\n",
    "        test_idx = test_folds[i]\n",
    "        train_idx = np.random.choice(np.setdiff1d(train_data_idx, test_idx),\n",
    "                                     replace=False, size=int(train_data_idx.size * train_pct))\n",
    "#         assert((train_idx.size / (train_pct*n_repeats)) == test_idx.size)\n",
    "\n",
    "        # Train model\n",
    "        model.fit(X[train_idx], y[train_idx])\n",
    "\n",
    "        # Compute test error\n",
    "        test_scores.append(model.score(X[test_idx], y[test_idx]))\n",
    "        \n",
    "    return np.asarray(test_scores)"
   ]
  },
  {
   "cell_type": "code",
   "execution_count": 25,
   "metadata": {
    "scrolled": true
   },
   "outputs": [
    {
     "name": "stderr",
     "output_type": "stream",
     "text": [
      "100%|████████████████████| 13/13 [00:00<00:00, 94.89it/s]\n"
     ]
    }
   ],
   "source": [
    "# shuffle by permuting the neuron labels and shifting the positions\n",
    "N_REPEATS = 100\n",
    "MAX_CELL_SHIFT = 20\n",
    "MAX_POS_SHIFT = np.pi\n",
    "for i in trange(len(mice)):\n",
    "    m = mice[i]\n",
    "    session = sessions[i]\n",
    "    for s in session:\n",
    "        d = data[m][s]\n",
    "        shuff_file = data_folder + 'gap_corrected/' + m + '_' + s + '_both_map_decoder_shuff.npy'\n",
    "        if Path(shuff_file).exists():\n",
    "            d['scores_shuffle_both'] = np.load(shuff_file)\n",
    "            continue\n",
    "        X = d['X'].copy()\n",
    "        y = d['y'].copy()\n",
    "        \n",
    "        # get indices for each map\n",
    "        map0_idx = d['idx'][0, :]\n",
    "        map1_idx = d['idx'][1, :] \n",
    "        \n",
    "        # to shuffle the neuron labels\n",
    "        X0 = X[map0_idx, :].copy()\n",
    "        X1 = X[map1_idx, :].copy()\n",
    "        cell_shifts = (np.random.randn(N_REPEATS, 1)*MAX_CELL_SHIFT).astype(int)\n",
    "\n",
    "        # to shuffle the position labels\n",
    "        y0 = y[map0_idx].copy()\n",
    "        y1 = y[map1_idx].copy()\n",
    "        pos_shifts = (np.random.randn(N_REPEATS, 1)*MAX_POS_SHIFT).astype(int)\n",
    "        \n",
    "        # compute the shuffled scores\n",
    "        both_scores_permute0 = np.zeros((N_REPEATS, 10))\n",
    "        both_scores_permute1 = np.zeros((N_REPEATS, 10))\n",
    "        for j in trange(N_REPEATS):\n",
    "            shuff_X0 = X.copy()\n",
    "            shuff_X1 = X.copy()\n",
    "            shuff_y0 = y.copy()\n",
    "            shuff_y1 = y.copy()\n",
    "            \n",
    "            # compute the scores for shuffled map 0\n",
    "            shuff_X0[map0_idx, :] = np.roll(X0, cell_shifts[j], axis=1) # permute neuron identities\n",
    "            shuff_y0[map0_idx] = y0 + pos_shifts[j] # shift position labels\n",
    "            both_scores_permute0[j, :] = train_vs_test_shuff(np.row_stack((X0, shuff_X0)), np.append(y0, shuff_y0))\n",
    "            \n",
    "            # compute the scores for shuffled map 1\n",
    "            shuff_X1[map1_idx, :] = np.roll(X1, cell_shifts[j], axis=1) # permute neuron identities\n",
    "            shuff_y1[map1_idx] = y1 + pos_shifts[j] # shift position labels\n",
    "            both_scores_permute1[j, :] = train_vs_test_shuff(np.row_stack((X1, shuff_X1)), np.append(y1, shuff_y1))\n",
    "            \n",
    "        d['scores_shuffle_both'] = np.stack((both_scores_permute0, both_scores_permute1), axis=-1)\n",
    "        np.save(shuff_file, d['scores_shuffle_both'])"
   ]
  },
  {
   "cell_type": "code",
   "execution_count": 26,
   "metadata": {},
   "outputs": [],
   "source": [
    "# get mean for each session + shuffle mean:\n",
    "N_sessions = 0\n",
    "for s in sessions:\n",
    "    N_sessions += len(s)\n",
    "\n",
    "avg_scores = np.zeros((N_sessions, 5))\n",
    "avg_shuffle = np.zeros(N_sessions)\n",
    "\n",
    "i=-1\n",
    "for m, session in zip(mice, sessions):\n",
    "    for s in session:\n",
    "        i+=1\n",
    "        d = data[m][s]\n",
    "        scores = d['scores']\n",
    "        avg_scores[i, :] = np.mean(scores, axis=1)\n",
    "        \n",
    "        shuff_scores = d['scores_shuffle_both']\n",
    "        avg_shuffle[i] = np.mean(shuff_scores)"
   ]
  },
  {
   "cell_type": "code",
   "execution_count": 27,
   "metadata": {
    "scrolled": true
   },
   "outputs": [],
   "source": [
    "# compare the scores for each session to its corresponding shuffle\n",
    "pct_decrease = np.zeros(N_sessions*2)\n",
    "ns_1 = 0\n",
    "ns_0 = 0\n",
    "i = 0\n",
    "for m, session in zip(mice, sessions):\n",
    "    for s in session:\n",
    "        d = data[m][s]\n",
    "        shuff_scores = d['scores_shuffle_both']\n",
    "        avg_rand = avg_scores[i, -1]\n",
    "        \n",
    "        # permute 1\n",
    "        permute1_scores = shuff_scores[:, :, -1]\n",
    "        shuff_thresh = np.percentile(permute1_scores, 95)\n",
    "        if avg_rand <= shuff_thresh:\n",
    "            ns_1 += 1\n",
    "            print('{}_{}: permute 1 not significant'.format(m, s))\n",
    "        pct_decrease[i] = ((np.mean(permute1_scores) - avg_rand) / avg_rand)*100\n",
    "        \n",
    "        # permute 0\n",
    "        permute0_scores = shuff_scores[:, :, 0]\n",
    "        shuff_thresh = np.percentile(permute0_scores, 95)\n",
    "        if avg_rand <= shuff_thresh:\n",
    "            ns_0 += 1\n",
    "            print('{}_{}: permute 0 not significant'.format(m, s))\n",
    "        pct_decrease[i+N_sessions] = ((np.mean(permute0_scores) - avg_rand) / avg_rand)*100\n",
    "\n",
    "        i += 1"
   ]
  },
  {
   "cell_type": "code",
   "execution_count": 28,
   "metadata": {},
   "outputs": [
    {
     "name": "stdout",
     "output_type": "stream",
     "text": [
      "train/test on both vs. map 0 + permuted 0: 0/28 sessions were not significantly better than chance\n",
      "train/test on both vs. map 1 + permuted 1: 0/28 sessions were not significantly better than chance\n",
      "avg percent decrease = -60.84%, SEM = 1.5%\n"
     ]
    }
   ],
   "source": [
    "print('train/test on both vs. map 0 + permuted 0: {}/{} sessions were not significantly better than chance'.format(ns_0, \n",
    "                                                                                                                   N_sessions))\n",
    "print('train/test on both vs. map 1 + permuted 1: {}/{} sessions were not significantly better than chance'.format(ns_1, \n",
    "                                                                                                                   N_sessions))\n",
    "print('avg percent decrease = {}%, SEM = {}%'.format(np.round(np.mean(pct_decrease), 2), \n",
    "                                                     np.round(stats.sem(pct_decrease), 2)))"
   ]
  },
  {
   "cell_type": "code",
   "execution_count": 30,
   "metadata": {},
   "outputs": [
    {
     "data": {
      "image/png": "[encoded data removed]",
      "text/plain": [
       "<Figure size 86.4x86.4 with 1 Axes>"
      ]
     },
     "metadata": {},
     "output_type": "display_data"
    }
   ],
   "source": [
    "# plot cross-validated scores same train/test - all mice\n",
    "f, ax = plt.subplots(1, 1, figsize=(1.2, 1.2))\n",
    "\n",
    "DOT_SIZE = 10\n",
    "DOT_LW = 0.5\n",
    "BAR_SIZE = 7\n",
    "BAR_WIDTH = 2\n",
    "\n",
    "avg_0to0 = avg_scores[:, 0]\n",
    "avg_1to1 = avg_scores[:, 2]\n",
    "avg_rand = avg_scores[:, -1]\n",
    "j = np.random.randn(avg_0to0.shape[0]) * .08\n",
    "\n",
    "# plot connector lines\n",
    "for k, a0 in enumerate(avg_0to0): # plot connector lines\n",
    "    a1 = avg_1to1[k]\n",
    "    r = avg_rand[k]\n",
    "    sh = avg_shuffle[k]\n",
    "    x_vals = [1+j[k], 2+j[k], 3+j[k], 4+j[k]]\n",
    "    y_vals = [a0, a1, r, sh]\n",
    "    ax.plot(x_vals, y_vals, '-', color='xkcd:gray', lw=DOT_LW, zorder=1,  alpha=1)\n",
    "\n",
    "# train on map 0, test on map 0\n",
    "ax.scatter(np.full(N_sessions, 1)+j, avg_0to0,\n",
    "           facecolors=session_colors, edgecolors='k', \n",
    "           s=DOT_SIZE, lw=DOT_LW, zorder=2, alpha=0.7)   \n",
    "# train on map 1, test on map 1\n",
    "ax.scatter(np.full(N_sessions, 2)+j, avg_1to1,\n",
    "           facecolors=session_colors, edgecolors='k', \n",
    "           s=DOT_SIZE, lw=DOT_LW, zorder=2, alpha=0.7)\n",
    "# train on all, test on all\n",
    "ax.scatter(np.full(N_sessions, 3)+j, avg_rand,\n",
    "           facecolors=session_colors, edgecolors='k', \n",
    "           s=DOT_SIZE, lw=DOT_LW, zorder=2, alpha=0.7)\n",
    "# shuffled \"remap\"\n",
    "ax.scatter(np.full(N_sessions, 4)+j, avg_shuffle,\n",
    "           facecolors=session_colors, edgecolors='k', \n",
    "           s=DOT_SIZE, lw=DOT_LW, zorder=2, alpha=0.7)\n",
    "\n",
    "# plot means\n",
    "ax.plot(1, np.mean(avg_0to0), '_', c='k', markersize=BAR_SIZE, markeredgewidth=BAR_WIDTH, zorder=3)\n",
    "ax.plot(2, np.mean(avg_1to1), '_', c='k', markersize=BAR_SIZE, markeredgewidth=BAR_WIDTH, zorder=3)\n",
    "ax.plot(3, np.mean(avg_rand), '_', c='k', markersize=BAR_SIZE, markeredgewidth=BAR_WIDTH, zorder=3)\n",
    "ax.plot(4, np.mean(avg_shuffle), '_', c='k', markersize=BAR_SIZE, markeredgewidth=BAR_WIDTH, zorder=3)\n",
    "\n",
    "labels = ['map 1', 'map 2', 'both', 'shuffle']\n",
    "ax.set_xlim([0.5, 4.5])\n",
    "ax.set_ylim([-0.1, 1.1])\n",
    "ax.set_xticks([1, 2, 3, 4])\n",
    "ax.set_yticks([0, 0.5, 1])\n",
    "ax.set_yticklabels([0, 0.5, 1])\n",
    "ax.set_xticklabels(labels, rotation=90)\n",
    "ax.set_ylabel('avg model score', fontsize=9, labelpad=1)\n",
    "ax.tick_params(which='major', labelsize=7.5, pad=0.5)\n",
    "ax.set_title('train/test same', fontsize=10, pad=4)\n",
    "\n",
    "f.savefig(save_folder + 'decoder_scores_sametosame_shuff.png', dpi=400, bbox_inches='tight')\n",
    "plt.show()"
   ]
  },
  {
   "cell_type": "code",
   "execution_count": 30,
   "metadata": {},
   "outputs": [],
   "source": [
    "N_cue_poor_sessions = 0\n",
    "for m, session in zip(mice, sessions):\n",
    "    if m in ['Pisa', 'Hanover', 'Calais']:\n",
    "        N_cue_poor_sessions += len(session)\n",
    "\n",
    "\n",
    "cue_poor_Rs = np.append(np.append(avg_0to0[:N_cue_poor_sessions], \n",
    "                                  avg_1to1[:N_cue_poor_sessions]), avg_rand[:N_cue_poor_sessions])\n",
    "cue_rich_Rs = np.append(np.append(avg_0to0[N_cue_poor_sessions:], \n",
    "                                  avg_1to1[N_cue_poor_sessions:]), avg_rand[N_cue_poor_sessions:])"
   ]
  },
  {
   "cell_type": "code",
   "execution_count": 31,
   "metadata": {},
   "outputs": [
    {
     "name": "stdout",
     "output_type": "stream",
     "text": [
      "mean, sem\n",
      "train 0, test 0: 0.753, 0.042\n",
      "train 1, test 1: 0.783, 0.036\n",
      "train both, test both: 0.74, 0.04\n",
      "\n",
      "train 0, test 1: 0.529, 0.057\n",
      "train 1, test 0: 0.494, 0.054\n",
      "\n",
      "cue poor fit: 0.416, 0.035\n",
      "cue rich fit: 0.833, 0.015\n"
     ]
    }
   ],
   "source": [
    "# get mean and SEM for cue rich vs. poor sessions\n",
    "print('mean, sem')\n",
    "print('train 0, test 0: ' + str(np.round(np.mean(avg_0to0), 3)) + ', ' + str(np.round(stats.sem(avg_0to0), 3)))\n",
    "print('train 1, test 1: ' + str(np.round(np.mean(avg_1to1), 3)) + ', ' + str(np.round(stats.sem(avg_1to1), 3)))\n",
    "print('train both, test both: ' + str(np.round(np.mean(avg_rand), 3)) + ', ' + str(np.round(stats.sem(avg_rand), 3)))\n",
    "\n",
    "print('\\ntrain 0, test 1: ' + str(np.round(np.mean(avg_0to1), 3)) + ', ' + str(np.round(stats.sem(avg_0to1), 3)))\n",
    "print('train 1, test 0: ' + str(np.round(np.mean(avg_1to0), 3)) + ', ' + str(np.round(stats.sem(avg_1to0), 3)))\n",
    "\n",
    "print('\\ncue poor fit: ' + str(np.round(np.mean(cue_poor_Rs), 3)) + ', ' + str(np.round(stats.sem(cue_poor_Rs), 3)))\n",
    "print('cue rich fit: ' + str(np.round(np.mean(cue_rich_Rs), 3)) + ', ' + str(np.round(stats.sem(cue_rich_Rs), 3)))"
   ]
  },
  {
   "cell_type": "code",
   "execution_count": 32,
   "metadata": {},
   "outputs": [
    {
     "name": "stdout",
     "output_type": "stream",
     "text": [
      "train/test map 0 vs. map 1 vs. both (Kruskal): p = 0.6452126864490977\n",
      "\n",
      "train/test same vs. train/test different: p = 7.547498213151496e-11\n",
      "n = 56 model pairs\n",
      "\n",
      "cue rich vs. poor: p = 9.450958687605838e-09\n"
     ]
    }
   ],
   "source": [
    "# test for significance\n",
    "# train/test map 0 vs. map 1 vs. both\n",
    "m0vsm1_stat, m0vsm1_p = stats.kruskal(avg_0to0, avg_1to1, avg_rand)\n",
    "print('train/test map 0 vs. map 1 vs. both (Kruskal): p = ' + str(m0vsm1_p))\n",
    "\n",
    "# train/test same map vs. other map\n",
    "same_to_same = np.append(avg_0to0, avg_1to1)\n",
    "diff_to_diff = np.append(avg_0to1, avg_1to0)\n",
    "sameVSdiff_stat, sameVSdiff_p= stats.wilcoxon(same_to_same, diff_to_diff)\n",
    "print('\\ntrain/test same vs. train/test different: p = ' + str(sameVSdiff_p))\n",
    "print('n = ' + str(same_to_same.shape[0]) + ' model pairs')\n",
    "\n",
    "# cue rich vs. poor\n",
    "CRvsCP_stat, CRvsCP_p = stats.ranksums(cue_rich_Rs, cue_poor_Rs)\n",
    "print('\\ncue rich vs. poor: p = ' + str(CRvsCP_p))"
   ]
  },
  {
   "cell_type": "code",
   "execution_count": null,
   "metadata": {},
   "outputs": [],
   "source": []
  }
 ],
 "metadata": {
  "kernelspec": {
   "display_name": "Python 3",
   "language": "python",
   "name": "python3"
  },
  "language_info": {
   "codemirror_mode": {
    "name": "ipython",
    "version": 3
   },
   "file_extension": ".py",
   "mimetype": "text/x-python",
   "name": "python",
   "nbconvert_exporter": "python",
   "pygments_lexer": "ipython3",
   "version": "3.6.5"
  }
 },
 "nbformat": 4,
 "nbformat_minor": 2
}
