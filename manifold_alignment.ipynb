{
 "cells": [
  {
   "cell_type": "code",
   "execution_count": 1,
   "metadata": {},
   "outputs": [
    {
     "name": "stderr",
     "output_type": "stream",
     "text": [
      "C:\\Users\\ilow1\\Anaconda3\\lib\\site-packages\\h5py\\__init__.py:36: FutureWarning: Conversion of the second argument of issubdtype from `float` to `np.floating` is deprecated. In future, it will be treated as `np.float64 == np.dtype(float).type`.\n",
      "  from ._conv import register_converters as _register_converters\n"
     ]
    }
   ],
   "source": [
    "import numpy as np\n",
    "from analysis_pipeline import get_data\n",
    "from analysis_pipeline import process_spikes as spk\n",
    "from analysis_pipeline import make_plots\n",
    "\n",
    "import matplotlib.pyplot as plt\n",
    "from matplotlib import gridspec\n",
    "\n",
    "from scipy.interpolate import interp1d\n",
    "from scipy.ndimage import gaussian_filter1d\n",
    "from scipy import stats\n",
    "from tqdm import trange"
   ]
  },
  {
   "cell_type": "code",
   "execution_count": 2,
   "metadata": {},
   "outputs": [],
   "source": [
    "# file paths\n",
    "base = 'G:/My Drive/Giocomo Lab/RandomForage/'\n",
    "data_folder = base + 'aggregate_data/'\n",
    "\n",
    "# to save figure images, if desired\n",
    "save_folder = 'G:/My Drive/Giocomo Lab/Presentations/Thesis/Figs/'"
   ]
  },
  {
   "cell_type": "code",
   "execution_count": 3,
   "metadata": {},
   "outputs": [
    {
     "name": "stdout",
     "output_type": "stream",
     "text": [
      "N mice: 13\n",
      "N sessions: 28\n"
     ]
    }
   ],
   "source": [
    "''' run analysis on 2-map sessions '''\n",
    "mice = ['Pisa', 'Hanover', 'Calais', # cue poor\n",
    "        'Seattle',  'Portland', 'Quebec', 'Toronto', 'Vancouver', # cue rich\n",
    "        'Mumbai', 'Kerala', 'Goa', 'Punjab', 'Salvador'] # cue rich, NP9 = male\n",
    "mouse_IDs = ['1c', '2a', '3a', '6a', '6b', '7a', '7b', '7c', '9a', ' 9b', '9c', '9d', '10a']\n",
    "sessions = [['0430_1', '0501_1', '0502_1'], # Pisa\n",
    "            ['0615_2'], # Hanover\n",
    "            ['0713_2'], # Calais\n",
    "            ['1005_1', '1006_1', '1007_1'], # Seattle\n",
    "            ['1005_2'],  # Portland\n",
    "            ['1007_1'], # Quebec\n",
    "            ['1111_1', '1112_1', '1113_1', '1114_1', '1115_1', '1117_1'], # Toronto\n",
    "            ['1114_1', '1118_1'], # Vancouver\n",
    "            ['1130_1', '1201_1', '1129_1'], # Mumbai\n",
    "            ['1207_1'], # Kerala\n",
    "            ['1211_1', '1210_1', '1209_1'], # Goa\n",
    "            ['1217_1', '1214_1'], # Punjab\n",
    "            ['1202_1'] # Salvador\n",
    "           ]\n",
    "\n",
    "print('N mice: ' + str(len(mice)))\n",
    "N_sessions = 0\n",
    "for s in sessions:\n",
    "    N_sessions += len(s)\n",
    "print('N sessions: ' + str(N_sessions))"
   ]
  },
  {
   "cell_type": "code",
   "execution_count": 4,
   "metadata": {},
   "outputs": [],
   "source": [
    "# make a dict to hold data\n",
    "data = {}\n",
    "for session, m in zip(sessions, mice):\n",
    "    data[m] = {}\n",
    "    for s in session:\n",
    "        data[m][s] = {}"
   ]
  },
  {
   "cell_type": "code",
   "execution_count": 5,
   "metadata": {},
   "outputs": [
    {
     "name": "stdout",
     "output_type": "stream",
     "text": [
      "Calais_0713_2 corrected for mistargeting\n",
      "Toronto_1112_1 corrected for mistargeting\n",
      "Mumbai_1130_1 corrected for mistargeting\n"
     ]
    }
   ],
   "source": [
    "# load the data\n",
    "N_cells = 0\n",
    "for m, session in zip(mice, sessions):\n",
    "    for i, s in enumerate(session):\n",
    "        d = data[m][s]\n",
    "        Y, B, A, cells = get_data.open_files(data_folder + 'gap_corrected/', m, s)\n",
    "        d['Y'] = Y\n",
    "        d['B'] = B\n",
    "        d['A'] = A\n",
    "        d['cells'] = cells\n",
    "\n",
    "        # count the total number of cells\n",
    "        N_cells += d['cells'].shape[0]"
   ]
  },
  {
   "cell_type": "code",
   "execution_count": 6,
   "metadata": {},
   "outputs": [],
   "source": [
    "# fit lvl k-means to get neuron and trial factors\n",
    "N = 2\n",
    "for m, session in zip(mice, sessions):\n",
    "    for s in session:\n",
    "        d = data[m][s]\n",
    "        Y = d['Y'].copy()\n",
    "        d['kmeans'] = spk.fit_kmeans(Y, n_components=N, n_restarts=100)"
   ]
  },
  {
   "cell_type": "code",
   "execution_count": 21,
   "metadata": {},
   "outputs": [
    {
     "ename": "KeyboardInterrupt",
     "evalue": "",
     "output_type": "error",
     "traceback": [
      "\u001b[1;31m------------------------------------------------------------------\u001b[0m",
      "\u001b[1;31mKeyboardInterrupt\u001b[0m                Traceback (most recent call last)",
      "\u001b[1;32m<ipython-input-21-e99b45585b87>\u001b[0m in \u001b[0;36m<module>\u001b[1;34m()\u001b[0m\n\u001b[0;32m     13\u001b[0m         \u001b[1;31m# fit model\u001b[0m\u001b[1;33m\u001b[0m\u001b[1;33m\u001b[0m\u001b[0m\n\u001b[0;32m     14\u001b[0m         \u001b[0mmodel_sk\u001b[0m \u001b[1;33m=\u001b[0m \u001b[0msk_kmeans\u001b[0m\u001b[1;33m(\u001b[0m\u001b[0mn_clusters\u001b[0m\u001b[1;33m=\u001b[0m\u001b[0mN\u001b[0m\u001b[1;33m,\u001b[0m \u001b[0mn_init\u001b[0m\u001b[1;33m=\u001b[0m\u001b[1;36m100\u001b[0m\u001b[1;33m)\u001b[0m\u001b[1;33m\u001b[0m\u001b[0m\n\u001b[1;32m---> 15\u001b[1;33m         \u001b[0mmodel_sk\u001b[0m\u001b[1;33m.\u001b[0m\u001b[0mfit\u001b[0m\u001b[1;33m(\u001b[0m\u001b[0mY_unwrapped\u001b[0m\u001b[1;33m)\u001b[0m\u001b[1;33m\u001b[0m\u001b[0m\n\u001b[0m\u001b[0;32m     16\u001b[0m \u001b[1;33m\u001b[0m\u001b[0m\n\u001b[0;32m     17\u001b[0m         \u001b[1;31m# store params\u001b[0m\u001b[1;33m\u001b[0m\u001b[1;33m\u001b[0m\u001b[0m\n",
      "\u001b[1;32mC:\\Users\\ilow1\\AppData\\Roaming\\Python\\Python36\\site-packages\\sklearn\\cluster\\k_means_.py\u001b[0m in \u001b[0;36mfit\u001b[1;34m(self, X, y)\u001b[0m\n\u001b[0;32m    894\u001b[0m                 \u001b[0mtol\u001b[0m\u001b[1;33m=\u001b[0m\u001b[0mself\u001b[0m\u001b[1;33m.\u001b[0m\u001b[0mtol\u001b[0m\u001b[1;33m,\u001b[0m \u001b[0mrandom_state\u001b[0m\u001b[1;33m=\u001b[0m\u001b[0mrandom_state\u001b[0m\u001b[1;33m,\u001b[0m \u001b[0mcopy_x\u001b[0m\u001b[1;33m=\u001b[0m\u001b[0mself\u001b[0m\u001b[1;33m.\u001b[0m\u001b[0mcopy_x\u001b[0m\u001b[1;33m,\u001b[0m\u001b[1;33m\u001b[0m\u001b[0m\n\u001b[0;32m    895\u001b[0m                 \u001b[0mn_jobs\u001b[0m\u001b[1;33m=\u001b[0m\u001b[0mself\u001b[0m\u001b[1;33m.\u001b[0m\u001b[0mn_jobs\u001b[0m\u001b[1;33m,\u001b[0m \u001b[0malgorithm\u001b[0m\u001b[1;33m=\u001b[0m\u001b[0mself\u001b[0m\u001b[1;33m.\u001b[0m\u001b[0malgorithm\u001b[0m\u001b[1;33m,\u001b[0m\u001b[1;33m\u001b[0m\u001b[0m\n\u001b[1;32m--> 896\u001b[1;33m                 return_n_iter=True)\n\u001b[0m\u001b[0;32m    897\u001b[0m         \u001b[1;32mreturn\u001b[0m \u001b[0mself\u001b[0m\u001b[1;33m\u001b[0m\u001b[0m\n\u001b[0;32m    898\u001b[0m \u001b[1;33m\u001b[0m\u001b[0m\n",
      "\u001b[1;32mC:\\Users\\ilow1\\AppData\\Roaming\\Python\\Python36\\site-packages\\sklearn\\cluster\\k_means_.py\u001b[0m in \u001b[0;36mk_means\u001b[1;34m(X, n_clusters, init, precompute_distances, n_init, max_iter, verbose, tol, random_state, copy_x, n_jobs, algorithm, return_n_iter)\u001b[0m\n\u001b[0;32m    344\u001b[0m                 \u001b[0mX\u001b[0m\u001b[1;33m,\u001b[0m \u001b[0mn_clusters\u001b[0m\u001b[1;33m,\u001b[0m \u001b[0mmax_iter\u001b[0m\u001b[1;33m=\u001b[0m\u001b[0mmax_iter\u001b[0m\u001b[1;33m,\u001b[0m \u001b[0minit\u001b[0m\u001b[1;33m=\u001b[0m\u001b[0minit\u001b[0m\u001b[1;33m,\u001b[0m \u001b[0mverbose\u001b[0m\u001b[1;33m=\u001b[0m\u001b[0mverbose\u001b[0m\u001b[1;33m,\u001b[0m\u001b[1;33m\u001b[0m\u001b[0m\n\u001b[0;32m    345\u001b[0m                 \u001b[0mprecompute_distances\u001b[0m\u001b[1;33m=\u001b[0m\u001b[0mprecompute_distances\u001b[0m\u001b[1;33m,\u001b[0m \u001b[0mtol\u001b[0m\u001b[1;33m=\u001b[0m\u001b[0mtol\u001b[0m\u001b[1;33m,\u001b[0m\u001b[1;33m\u001b[0m\u001b[0m\n\u001b[1;32m--> 346\u001b[1;33m                 x_squared_norms=x_squared_norms, random_state=random_state)\n\u001b[0m\u001b[0;32m    347\u001b[0m             \u001b[1;31m# determine if these results are the best so far\u001b[0m\u001b[1;33m\u001b[0m\u001b[1;33m\u001b[0m\u001b[0m\n\u001b[0;32m    348\u001b[0m             \u001b[1;32mif\u001b[0m \u001b[0mbest_inertia\u001b[0m \u001b[1;32mis\u001b[0m \u001b[1;32mNone\u001b[0m \u001b[1;32mor\u001b[0m \u001b[0minertia\u001b[0m \u001b[1;33m<\u001b[0m \u001b[0mbest_inertia\u001b[0m\u001b[1;33m:\u001b[0m\u001b[1;33m\u001b[0m\u001b[0m\n",
      "\u001b[1;32mC:\\Users\\ilow1\\AppData\\Roaming\\Python\\Python36\\site-packages\\sklearn\\cluster\\k_means_.py\u001b[0m in \u001b[0;36m_kmeans_single_elkan\u001b[1;34m(X, n_clusters, max_iter, init, verbose, x_squared_norms, random_state, tol, precompute_distances)\u001b[0m\n\u001b[0;32m    399\u001b[0m     centers, labels, n_iter = k_means_elkan(X, n_clusters, centers, tol=tol,\n\u001b[0;32m    400\u001b[0m                                             max_iter=max_iter, verbose=verbose)\n\u001b[1;32m--> 401\u001b[1;33m     \u001b[0minertia\u001b[0m \u001b[1;33m=\u001b[0m \u001b[0mnp\u001b[0m\u001b[1;33m.\u001b[0m\u001b[0msum\u001b[0m\u001b[1;33m(\u001b[0m\u001b[1;33m(\u001b[0m\u001b[0mX\u001b[0m \u001b[1;33m-\u001b[0m \u001b[0mcenters\u001b[0m\u001b[1;33m[\u001b[0m\u001b[0mlabels\u001b[0m\u001b[1;33m]\u001b[0m\u001b[1;33m)\u001b[0m \u001b[1;33m**\u001b[0m \u001b[1;36m2\u001b[0m\u001b[1;33m,\u001b[0m \u001b[0mdtype\u001b[0m\u001b[1;33m=\u001b[0m\u001b[0mnp\u001b[0m\u001b[1;33m.\u001b[0m\u001b[0mfloat64\u001b[0m\u001b[1;33m)\u001b[0m\u001b[1;33m\u001b[0m\u001b[0m\n\u001b[0m\u001b[0;32m    402\u001b[0m     \u001b[1;32mreturn\u001b[0m \u001b[0mlabels\u001b[0m\u001b[1;33m,\u001b[0m \u001b[0minertia\u001b[0m\u001b[1;33m,\u001b[0m \u001b[0mcenters\u001b[0m\u001b[1;33m,\u001b[0m \u001b[0mn_iter\u001b[0m\u001b[1;33m\u001b[0m\u001b[0m\n\u001b[0;32m    403\u001b[0m \u001b[1;33m\u001b[0m\u001b[0m\n",
      "\u001b[1;31mKeyboardInterrupt\u001b[0m: "
     ]
    }
   ],
   "source": [
    "# fit sklearn k-means to get neuron and trial factors\n",
    "from sklearn.cluster import KMeans as sk_kmeans\n",
    "\n",
    "for m, session in zip(mice, sessions):\n",
    "    for s in session:\n",
    "        d = data[m][s]\n",
    "        \n",
    "        # reshape Y into (n_trials, n_cells*n_pos_bins)\n",
    "        Y = d['Y'].copy()\n",
    "        Y = Y.transpose(0, 2, 1)\n",
    "        Y_unwrapped = np.reshape(Y, (Y.shape[0], -1))\n",
    "\n",
    "        # fit model\n",
    "        model_sk = sk_kmeans(n_clusters=N, n_init=100)\n",
    "        model_sk.fit(Y_unwrapped)\n",
    "\n",
    "        # store params\n",
    "        d['sk_kmeans'] = {}\n",
    "        W = model_sk.labels_\n",
    "        H = model_sk.cluster_centers_\n",
    "        d['sk_kmeans']['W'] = W\n",
    "        d['sk_kmeans']['H'] = H"
   ]
  },
  {
   "cell_type": "code",
   "execution_count": 7,
   "metadata": {},
   "outputs": [],
   "source": [
    "# get map indices by observation and define map 0 as the slower map\n",
    "for m, session in zip(mice, sessions):\n",
    "    for s in session:\n",
    "        d = data[m][s]\n",
    "        A = d['A']\n",
    "        W = d['kmeans']['W']\n",
    "        d['idx'], d['map0_idx'] = spk.map_idx_by_obs(A, W)"
   ]
  },
  {
   "cell_type": "code",
   "execution_count": 8,
   "metadata": {},
   "outputs": [],
   "source": [
    "dt = 0.02\n",
    "for m, session in zip(mice, sessions):\n",
    "    for s in session:\n",
    "        d = data[m][s]\n",
    "        A = d['A'].copy()\n",
    "        B = d['B'].copy()\n",
    "        map0_idx = d['idx']\n",
    "        map1_idx = ~map0_idx\n",
    "        \n",
    "        # get tuning curves for each map\n",
    "        FR_0, binned_pos = spk.tuning_curve(A[map0_idx, 0], B[map0_idx, :], dt, b=5, SEM=False)\n",
    "        FR_1, binned_pos = spk.tuning_curve(A[map1_idx, 0], B[map1_idx, :], dt, b=5, SEM=False)\n",
    "        d['FR'] = [FR_0, FR_1]"
   ]
  },
  {
   "cell_type": "code",
   "execution_count": 9,
   "metadata": {},
   "outputs": [],
   "source": [
    "''' manifold alignment '''\n",
    "from netrep.utils import rand_orth\n",
    "from netrep.metrics import LinearMetric"
   ]
  },
  {
   "cell_type": "code",
   "execution_count": 16,
   "metadata": {},
   "outputs": [],
   "source": [
    "def avg_shuffle_score(X, Y, n_shuff=10):\n",
    "    shuffle_scores = np.zeros(n_shuff)\n",
    "    for i in range(n_shuff):\n",
    "        X_shuff = X @ rand_orth(X.shape[1])\n",
    "        Y_shuff = Y @ rand_orth(Y.shape[1])\n",
    "        shuffle_scores[i] = rmse(X_shuff, Y_shuff)\n",
    "    return np.mean(shuffle_scores)"
   ]
  },
  {
   "cell_type": "code",
   "execution_count": 12,
   "metadata": {},
   "outputs": [],
   "source": [
    "def rmse(X, Y):\n",
    "    return np.sqrt(np.mean((X - Y) ** 2))"
   ]
  },
  {
   "cell_type": "code",
   "execution_count": 13,
   "metadata": {},
   "outputs": [],
   "source": [
    "def compute_misalignment(X, Y):\n",
    "    # rotate the data to get the optimal alignment\n",
    "    metric = LinearMetric(alpha=1.0)\n",
    "    metric.fit(X, Y)\n",
    "    X_aligned, Y_aligned = metric.transform(X, Y)\n",
    "    \n",
    "    # compute score\n",
    "    obs_score = rmse(X, Y)\n",
    "    best_score = rmse(X_aligned, Y_aligned)\n",
    "    shuffle_score = avg_shuffle_score(X, Y)\n",
    "\n",
    "    misalignment_score = (obs_score - best_score) / (shuffle_score - best_score)\n",
    "    \n",
    "    return misalignment_score, obs_score, best_score, shuffle_score"
   ]
  },
  {
   "cell_type": "code",
   "execution_count": 53,
   "metadata": {},
   "outputs": [],
   "source": [
    "def format_data(H, n_cells, n_pos=80):\n",
    "    V1 = H[0, :]\n",
    "    V2 = H[1, :]\n",
    "\n",
    "    # reshape to position bins x neurons\n",
    "    V1 = V1.reshape((n_cells, n_pos))\n",
    "    V1 = V1.T\n",
    "    V2 = V2.reshape((n_cells, n_pos))\n",
    "    V2 = V2.T\n",
    "    \n",
    "    # mean center\n",
    "    V1 -= np.mean(V1, axis=0, keepdims=True)\n",
    "    V2 -= np.mean(V2, axis=0, keepdims=True)\n",
    "\n",
    "    # normalize\n",
    "    V1 /= np.linalg.norm(V1)\n",
    "    V2 /= np.linalg.norm(V2)\n",
    "    \n",
    "    return V1, V2"
   ]
  },
  {
   "cell_type": "code",
   "execution_count": 54,
   "metadata": {},
   "outputs": [],
   "source": [
    "def format_data_FR(FR_0, FR_1):\n",
    "    # reshape to position bins x neurons\n",
    "    V1 = FR_0.copy()\n",
    "    V2 = FR_1.copy()\n",
    "    \n",
    "    # mean center\n",
    "    V1 -= np.mean(V1, axis=0, keepdims=True)\n",
    "    V2 -= np.mean(V2, axis=0, keepdims=True)\n",
    "\n",
    "    # normalize\n",
    "    V1 /= np.linalg.norm(V1)\n",
    "    V2 /= np.linalg.norm(V2)\n",
    "    \n",
    "    return V1, V2"
   ]
  },
  {
   "cell_type": "code",
   "execution_count": 55,
   "metadata": {},
   "outputs": [],
   "source": [
    "# using the lvl k-means neuron factors\n",
    "all_scores_lvl = np.asarray([])\n",
    "for m, session in zip(mice, sessions):\n",
    "    for s in session:\n",
    "        d = data[m][s]\n",
    "        H = d['kmeans']['H'].copy()\n",
    "        n_cells = d['cells'].shape[0]\n",
    "        V1, V2 = format_data(H, n_cells=n_cells)\n",
    "        misalignment_score, obs_score, best_score, shuffle_score = compute_misalignment(V1, V2)\n",
    "        \n",
    "        d['misalignment_score_lvl'] = misalignment_score\n",
    "        all_scores_lvl = np.append(all_scores_lvl, misalignment_score)"
   ]
  },
  {
   "cell_type": "code",
   "execution_count": 59,
   "metadata": {},
   "outputs": [
    {
     "data": {
      "image/png": "[encoded data removed]",
      "text/plain": [
       "<Figure size 216x144 with 1 Axes>"
      ]
     },
     "metadata": {},
     "output_type": "display_data"
    }
   ],
   "source": [
    "# plot misalignment scores across all sessions\n",
    "f, ax = plt.subplots(1, 1, figsize=(3, 2))\n",
    "\n",
    "ax.hist(all_scores, edgecolor='k', facecolor='gray', lw=0.5, bins=25)\n",
    "ax.set_xlim(0, 1)\n",
    "ax.set_xlabel('manifold misalignment')\n",
    "ax.spines['right'].set_visible(False)\n",
    "ax.spines['top'].set_visible(False)\n",
    "\n",
    "f.savefig(save_folder + '/misalignment_scores_lvl.png', dpi=400, bbox_inches='tight')\n",
    "plt.show()"
   ]
  },
  {
   "cell_type": "code",
   "execution_count": null,
   "metadata": {},
   "outputs": [],
   "source": [
    "# using the sklearn k-means neuron factors\n",
    "all_scores_sk = np.asarray([])\n",
    "for m, session in zip(mice, sessions):\n",
    "    for s in session:\n",
    "        d = data[m][s]\n",
    "        H = d['sk_kmeans']['H'].copy()\n",
    "        n_cells = d['cells'].shape[0]\n",
    "        V1, V2 = format_data(H, n_cells=n_cells)\n",
    "        misalignment_score, obs_score, best_score, shuffle_score = compute_misalignment(V1, V2)\n",
    "        \n",
    "        d['misalignment_score_sk'] = misalignment_score\n",
    "        all_scores_sk = np.append(all_scores_sk, misalignment_score)"
   ]
  },
  {
   "cell_type": "code",
   "execution_count": null,
   "metadata": {},
   "outputs": [],
   "source": [
    "# plot misalignment scores across all sessions\n",
    "f, ax = plt.subplots(1, 1, figsize=(3, 2))\n",
    "\n",
    "ax.hist(all_scores_sk, edgecolor='k', facecolor='gray', lw=0.3, bins=8)\n",
    "ax.set_xlim(0, 1)\n",
    "ax.set_xlabel('manifold misalignment')\n",
    "ax.spines['right'].set_visible(False)\n",
    "ax.spines['top'].set_visible(False)\n",
    "\n",
    "f.savefig(save_folder + '/misalignment_scores_sk.png', dpi=400, bbox_inches='tight')\n",
    "plt.show()"
   ]
  },
  {
   "cell_type": "code",
   "execution_count": 57,
   "metadata": {},
   "outputs": [],
   "source": [
    "# using the true tuning curves\n",
    "all_scores_tc = np.asarray([])\n",
    "for m, session in zip(mice, sessions):\n",
    "    for s in session:\n",
    "        d = data[m][s]\n",
    "        [FR_0, FR_1] = d['FR'].copy()\n",
    "        V1, V2 = format_data_FR(FR_0, FR_1)\n",
    "        misalignment_score, obs_score, best_score, shuffle_score = compute_misalignment(V1, V2)\n",
    "        \n",
    "        d['misalignment_score_tc'] = misalignment_score\n",
    "        all_scores_tc = np.append(all_scores_tc, misalignment_score)"
   ]
  },
  {
   "cell_type": "code",
   "execution_count": 60,
   "metadata": {},
   "outputs": [
    {
     "data": {
      "image/png": "[encoded data removed]",
      "text/plain": [
       "<Figure size 216x144 with 1 Axes>"
      ]
     },
     "metadata": {},
     "output_type": "display_data"
    }
   ],
   "source": [
    "# plot misalignment scores across all sessions\n",
    "f, ax = plt.subplots(1, 1, figsize=(3, 2))\n",
    "\n",
    "ax.hist(all_scores_tc, edgecolor='k', facecolor='gray', lw=0.5, bins=25)\n",
    "ax.set_xlim(0, 1)\n",
    "ax.set_xlabel('manifold misalignment')\n",
    "ax.spines['right'].set_visible(False)\n",
    "ax.spines['top'].set_visible(False)\n",
    "\n",
    "f.savefig(save_folder + '/misalignment_scores_tc.png', dpi=400, bbox_inches='tight')\n",
    "plt.show()"
   ]
  },
  {
   "cell_type": "code",
   "execution_count": 30,
   "metadata": {},
   "outputs": [],
   "source": [
    "''' calculate the manifold alignment for an example session '''\n",
    "m = 'Pisa'\n",
    "s = '0430_1'\n",
    "d = data[m][s]\n",
    "Y = d['Y'].copy()\n",
    "\n",
    "# d['kmeans'] = spk.fit_kmeans(Y, n_components=N, n_restarts=100)\n",
    "# d['similarity'] = spk.similarity(Y)\n",
    "\n",
    "n_cells = d['cells'].shape[0]\n",
    "n_pos = 80"
   ]
  },
  {
   "cell_type": "code",
   "execution_count": 31,
   "metadata": {},
   "outputs": [],
   "source": [
    "# reshape the kmeans clusters into a position x neuron matrix of estimated tuning curves\n",
    "H = d['kmeans']['H'].copy()\n",
    "V1 = H[0, :]\n",
    "V2 = H[1, :]\n",
    "\n",
    "V1 = V1.reshape((n_cells, n_pos))\n",
    "V1 = V1.T\n",
    "V2 = V2.reshape((n_cells, n_pos))\n",
    "V2 = V2.T"
   ]
  },
  {
   "cell_type": "code",
   "execution_count": 68,
   "metadata": {},
   "outputs": [],
   "source": [
    "np.save(save_folderfolderfolder + 'X.npy', V1)\n",
    "np.save(save_folder + 'Y.npy', V2)"
   ]
  },
  {
   "cell_type": "code",
   "execution_count": 32,
   "metadata": {},
   "outputs": [
    {
     "ename": "KeyError",
     "evalue": "'similarity'",
     "output_type": "error",
     "traceback": [
      "\u001b[1;31m------------------------------------------------------------------\u001b[0m",
      "\u001b[1;31mKeyError\u001b[0m                         Traceback (most recent call last)",
      "\u001b[1;32m<ipython-input-32-d2fd881aa784>\u001b[0m in \u001b[0;36m<module>\u001b[1;34m()\u001b[0m\n\u001b[0;32m      5\u001b[0m \u001b[0mA\u001b[0m \u001b[1;33m=\u001b[0m \u001b[0md\u001b[0m\u001b[1;33m[\u001b[0m\u001b[1;34m'A'\u001b[0m\u001b[1;33m]\u001b[0m\u001b[1;33m\u001b[0m\u001b[0m\n\u001b[0;32m      6\u001b[0m \u001b[0mW\u001b[0m \u001b[1;33m=\u001b[0m \u001b[0md\u001b[0m\u001b[1;33m[\u001b[0m\u001b[1;34m'kmeans'\u001b[0m\u001b[1;33m]\u001b[0m\u001b[1;33m[\u001b[0m\u001b[1;34m'W'\u001b[0m\u001b[1;33m]\u001b[0m\u001b[1;33m\u001b[0m\u001b[0m\n\u001b[1;32m----> 7\u001b[1;33m \u001b[0msim\u001b[0m \u001b[1;33m=\u001b[0m \u001b[0md\u001b[0m\u001b[1;33m[\u001b[0m\u001b[1;34m'similarity'\u001b[0m\u001b[1;33m]\u001b[0m\u001b[1;33m\u001b[0m\u001b[0m\n\u001b[0m\u001b[0;32m      8\u001b[0m \u001b[1;33m\u001b[0m\u001b[0m\n\u001b[0;32m      9\u001b[0m \u001b[1;31m# figure params\u001b[0m\u001b[1;33m\u001b[0m\u001b[1;33m\u001b[0m\u001b[0m\n",
      "\u001b[1;31mKeyError\u001b[0m: 'similarity'"
     ]
    }
   ],
   "source": [
    "''' sanity check - plot everything '''\n",
    "''' get distance to k-means cluster on each trial \n",
    "see STAR Methods for more details\n",
    "'''\n",
    "A = d['A']\n",
    "W = d['kmeans']['W']\n",
    "sim = d['similarity']\n",
    "\n",
    "# figure params\n",
    "gs = gridspec.GridSpec(20, 1, hspace=1.5)\n",
    "f = plt.figure(figsize=(2.3, 4))\n",
    "c2 = 'k'\n",
    "\n",
    "# plot distance to cluster\n",
    "ax0 = plt.subplot(gs[11:15])\n",
    "ax0.plot(W, lw=1.5, alpha=1)\n",
    "ax0.set_xlim([0, W.shape[0]])\n",
    "ax0.set_yticks([-1, 1])\n",
    "ax0.set_ylabel('distance\\nscore', fontsize=9, labelpad=1)\n",
    "ax0.tick_params(labelbottom=False, which='major', labelsize=7.5, pad=0.5)\n",
    "\n",
    "# plot Euclidean similarity score\n",
    "ax1 = plt.subplot(gs[:11])\n",
    "im = ax1.imshow(sim, clim=[0.1, 0.7], aspect='auto', \n",
    "                cmap='Greys', interpolation='none')\n",
    "ax1.tick_params(labelbottom=False, which='major', labelsize=7.5, pad=0.5)\n",
    "ax1.set_ylabel('trial number', fontsize=9, labelpad=1)\n",
    "ax1.set_title('network similarity', fontsize=10, pad=3)\n",
    "\n",
    "# set axes\n",
    "ax0.set_xticks([0, 200, 400])\n",
    "ax1.set_yticks([0, 200, 400])\n",
    "ax1.set_xticks([0, 200, 400])\n",
    "\n",
    "plt.show()"
   ]
  },
  {
   "cell_type": "code",
   "execution_count": 33,
   "metadata": {},
   "outputs": [
    {
     "data": {
      "image/png": "[encoded data removed]",
      "text/plain": [
       "<Figure size 432x165.6 with 12 Axes>"
      ]
     },
     "metadata": {},
     "output_type": "display_data"
    }
   ],
   "source": [
    "A = d['A']\n",
    "B = d['B']  \n",
    "cells = d['cells']\n",
    "cell_IDs = [226, 430, 299, 362, 349, 317]\n",
    "\n",
    "# figure params:\n",
    "gs = gridspec.GridSpec(19, len(cell_IDs), hspace=1.5, wspace=0.8)\n",
    "f = plt.figure(figsize=(6, 2.3)) \n",
    "PT_SIZE = 1\n",
    "LW_MEAN = 1\n",
    "LW_SEM = 0.3\n",
    "\n",
    "for i, cell_ID in enumerate(cell_IDs):\n",
    "    # draw raster plot\n",
    "    ax0 = plt.subplot(gs[:11, i])\n",
    "    sdx_0 = B[:, np.where(cells==cell_ID)[0][0]].astype(bool)\n",
    "    ax0.scatter(A[:, 0][sdx_0], A[:, 2][sdx_0], color='k', lw=0, s=PT_SIZE, alpha=.1)\n",
    "    ax0.set_xlim((0, 400))\n",
    "    ylim_ax = [0, np.max(A[:, 2])]\n",
    "    ax0.set_ylim(ylim_ax[::-1])\n",
    "    ax0.set_title('cell ' + str(cell_ID), fontsize=10, pad=3)\n",
    "\n",
    "    # plot estimated tuning curves\n",
    "    sdx = (np.where(cells==cell_ID)[0][0]).astype(int)\n",
    "    ax1 = plt.subplot(gs[11:15, i])\n",
    "    ax1.plot(V1[:, sdx], 'k', lw=LW_MEAN, alpha=0.9)\n",
    "    ax1.plot(V2[:, sdx], color='r', lw=LW_MEAN, alpha=1)\n",
    "\n",
    "    if i == 0:\n",
    "        ax0.set_ylabel('trial number', fontsize=10, labelpad=2)\n",
    "        ax1.set_ylabel('FR (Hz)', fontsize=10, labelpad=7, horizontalalignment='right', y=0.8)\n",
    "    if i == len(cell_IDs)//2:\n",
    "        ax1.set_xlabel('track position (cm)', fontsize=10, labelpad=2, horizontalalignment='right', x=0.8)\n",
    "    ax0.set_xticks(np.arange(0, 425, 200))\n",
    "    ax0.tick_params(labelbottom=False, which='major', labelsize=8, pad=0.5)\n",
    "    ax1.set_xlim([0, 80])\n",
    "#     ax1.set_yticks([0, 20])\n",
    "#     ax1.set_ylim([0, 27])\n",
    "    ax1.set_xticks(np.arange(0, 100, 40))\n",
    "    ax1.tick_params(which='major', labelsize=8, pad=0.5)\n",
    "    \n",
    "f.savefig(save_folder + m + '_' + s +'_H_example.png', dpi=400, bbox_inches='tight')\n",
    "plt.show()"
   ]
  },
  {
   "cell_type": "code",
   "execution_count": 36,
   "metadata": {},
   "outputs": [],
   "source": [
    "[FR_0, FR_1] = d['FR'].copy()\n",
    "V1_fr, V2_fr = format_data_FR(FR_0, FR_1)\n",
    "\n",
    "H = d['kmeans']['H']\n",
    "n_cells = d['cells'].shape[0]\n",
    "V1_lvl, V2_lvl = format_data(H, n_cells=n_cells)"
   ]
  },
  {
   "cell_type": "code",
   "execution_count": 41,
   "metadata": {},
   "outputs": [
    {
     "data": {
      "text/plain": [
       "(227, 80)"
      ]
     },
     "execution_count": 41,
     "metadata": {},
     "output_type": "execute_result"
    }
   ],
   "source": [
    "V1_fr.shape"
   ]
  },
  {
   "cell_type": "code",
   "execution_count": 42,
   "metadata": {},
   "outputs": [
    {
     "ename": "IndexError",
     "evalue": "index 115 is out of bounds for axis 1 with size 80",
     "output_type": "error",
     "traceback": [
      "\u001b[1;31m------------------------------------------------------------------\u001b[0m",
      "\u001b[1;31mIndexError\u001b[0m                       Traceback (most recent call last)",
      "\u001b[1;32m<ipython-input-42-bf6bec3ef0f7>\u001b[0m in \u001b[0;36m<module>\u001b[1;34m()\u001b[0m\n\u001b[0;32m      6\u001b[0m     \u001b[0max0\u001b[0m\u001b[1;33m.\u001b[0m\u001b[0mplot\u001b[0m\u001b[1;33m(\u001b[0m\u001b[0mV1_lvl\u001b[0m\u001b[1;33m[\u001b[0m\u001b[1;33m:\u001b[0m\u001b[1;33m,\u001b[0m \u001b[0mi\u001b[0m\u001b[1;33m]\u001b[0m\u001b[1;33m)\u001b[0m\u001b[1;33m\u001b[0m\u001b[0m\n\u001b[0;32m      7\u001b[0m \u001b[1;33m\u001b[0m\u001b[0m\n\u001b[1;32m----> 8\u001b[1;33m     \u001b[0max\u001b[0m\u001b[1;33m[\u001b[0m\u001b[1;36m1\u001b[0m\u001b[1;33m]\u001b[0m\u001b[1;33m.\u001b[0m\u001b[0mplot\u001b[0m\u001b[1;33m(\u001b[0m\u001b[0mV2_fr\u001b[0m\u001b[1;33m[\u001b[0m\u001b[1;33m:\u001b[0m\u001b[1;33m,\u001b[0m \u001b[0mi\u001b[0m\u001b[1;33m]\u001b[0m\u001b[1;33m)\u001b[0m\u001b[1;33m\u001b[0m\u001b[0m\n\u001b[0m\u001b[0;32m      9\u001b[0m     \u001b[0max1\u001b[0m \u001b[1;33m=\u001b[0m \u001b[0max\u001b[0m\u001b[1;33m[\u001b[0m\u001b[1;36m1\u001b[0m\u001b[1;33m]\u001b[0m\u001b[1;33m.\u001b[0m\u001b[0mtwinx\u001b[0m\u001b[1;33m(\u001b[0m\u001b[1;33m)\u001b[0m\u001b[1;33m\u001b[0m\u001b[0m\n\u001b[0;32m     10\u001b[0m     \u001b[0max1\u001b[0m\u001b[1;33m.\u001b[0m\u001b[0mplot\u001b[0m\u001b[1;33m(\u001b[0m\u001b[0mV2_lvl\u001b[0m\u001b[1;33m[\u001b[0m\u001b[1;33m:\u001b[0m\u001b[1;33m,\u001b[0m \u001b[0mi\u001b[0m\u001b[1;33m]\u001b[0m\u001b[1;33m)\u001b[0m\u001b[1;33m\u001b[0m\u001b[0m\n",
      "\u001b[1;31mIndexError\u001b[0m: index 115 is out of bounds for axis 1 with size 80"
     ]
    },
    {
     "data": {
      "image/png": "[encoded data removed]",
      "text/plain": [
       "<Figure size 288x144 with 3 Axes>"
      ]
     },
     "metadata": {},
     "output_type": "display_data"
    }
   ],
   "source": [
    "for cell_ID in cell_IDs:\n",
    "    i = np.where(cells==cell_ID)[0][0]\n",
    "    f, ax = plt.subplots(1, 2, figsize=(4, 2))\n",
    "    ax[0].plot(V1_fr[i, :])\n",
    "    ax0 = ax[0].twinx()\n",
    "    ax0.plot(V1_lvl[:, i])\n",
    "    \n",
    "    ax[1].plot(V2_fr[:, i])\n",
    "    ax1 = ax[1].twinx()\n",
    "    ax1.plot(V2_lvl[:, i])\n",
    "    \n",
    "    plt.show()"
   ]
  },
  {
   "cell_type": "code",
   "execution_count": 34,
   "metadata": {},
   "outputs": [],
   "source": [
    "# load data\n",
    "A = d['A']\n",
    "B = d['B']\n",
    "dt = 0.02\n",
    "\n",
    "# get map indices\n",
    "W = d['kmeans']['W']\n",
    "map0_idx = d['idx']\n",
    "map1_idx = ~map0_idx\n",
    "\n",
    "# get FR by position in each map for all cells   \n",
    "FR, binned_pos, FR_sem = spk.tuning_curve(A[:, 0], B, dt, b=2, SEM=True)"
   ]
  },
  {
   "cell_type": "code",
   "execution_count": null,
   "metadata": {},
   "outputs": [],
   "source": []
  },
  {
   "cell_type": "code",
   "execution_count": 57,
   "metadata": {},
   "outputs": [],
   "source": [
    "# mean center\n",
    "V1 -= np.mean(V1, axis=0, keepdims=True)\n",
    "V2 -= np.mean(V2, axis=0, keepdims=True)\n",
    "\n",
    "# normalize\n",
    "V1 /= np.linalg.norm(V1)\n",
    "V2 /= np.linalg.norm(V2)"
   ]
  },
  {
   "cell_type": "code",
   "execution_count": 58,
   "metadata": {},
   "outputs": [],
   "source": [
    "# rotate the data to get the optimal alignment\n",
    "metric = LinearMetric(alpha=1.0)\n",
    "metric.fit(V1, V2)\n",
    "V1_aligned, V2_aligned = metric.transform(V1, V2)"
   ]
  },
  {
   "cell_type": "code",
   "execution_count": 59,
   "metadata": {},
   "outputs": [],
   "source": [
    "# shuffle by multiplying by a random KxK rotation matrix\n",
    "\n",
    "shuff_1 = rand_orth(n_cells)\n",
    "shuff_2 = rand_orth(n_cells)\n",
    "\n",
    "# randomly rotate\n",
    "shuff_V1 = V1 @ shuff_1\n",
    "shuff_V2 = V2 @ shuff_2"
   ]
  },
  {
   "cell_type": "code",
   "execution_count": 60,
   "metadata": {},
   "outputs": [],
   "source": [
    "def rmse(X, Y):\n",
    "    return np.sqrt(np.mean((X - Y) ** 2))"
   ]
  },
  {
   "cell_type": "code",
   "execution_count": 25,
   "metadata": {},
   "outputs": [
    {
     "ename": "NameError",
     "evalue": "name 'V1_aligned' is not defined",
     "output_type": "error",
     "traceback": [
      "\u001b[1;31m------------------------------------------------------------------\u001b[0m",
      "\u001b[1;31mNameError\u001b[0m                        Traceback (most recent call last)",
      "\u001b[1;32m<ipython-input-25-bbffeed4b27e>\u001b[0m in \u001b[0;36m<module>\u001b[1;34m()\u001b[0m\n\u001b[0;32m      1\u001b[0m \u001b[1;31m# compute the manifold misalignment score (RMSE relative to the optimal alignment and shuffle)\u001b[0m\u001b[1;33m\u001b[0m\u001b[1;33m\u001b[0m\u001b[0m\n\u001b[0;32m      2\u001b[0m \u001b[0mobs_score\u001b[0m \u001b[1;33m=\u001b[0m \u001b[0mrmse\u001b[0m\u001b[1;33m(\u001b[0m\u001b[0mV1\u001b[0m\u001b[1;33m,\u001b[0m \u001b[0mV2\u001b[0m\u001b[1;33m)\u001b[0m\u001b[1;33m\u001b[0m\u001b[0m\n\u001b[1;32m----> 3\u001b[1;33m \u001b[0mbest_score\u001b[0m \u001b[1;33m=\u001b[0m \u001b[0mrmse\u001b[0m\u001b[1;33m(\u001b[0m\u001b[0mV1_aligned\u001b[0m\u001b[1;33m,\u001b[0m \u001b[0mV2_aligned\u001b[0m\u001b[1;33m)\u001b[0m\u001b[1;33m\u001b[0m\u001b[0m\n\u001b[0m\u001b[0;32m      4\u001b[0m \u001b[0mshuffle_score\u001b[0m \u001b[1;33m=\u001b[0m \u001b[0mrmse\u001b[0m\u001b[1;33m(\u001b[0m\u001b[0mshuff_V1\u001b[0m\u001b[1;33m,\u001b[0m \u001b[0mshuff_V2\u001b[0m\u001b[1;33m)\u001b[0m\u001b[1;33m\u001b[0m\u001b[0m\n\u001b[0;32m      5\u001b[0m \u001b[1;33m\u001b[0m\u001b[0m\n",
      "\u001b[1;31mNameError\u001b[0m: name 'V1_aligned' is not defined"
     ]
    }
   ],
   "source": [
    "# compute the manifold misalignment score (RMSE relative to the optimal alignment and shuffle)\n",
    "obs_score = rmse(V1, V2)\n",
    "best_score = rmse(V1_aligned, V2_aligned)\n",
    "shuffle_score = rmse(shuff_V1, shuff_V2)\n",
    "\n",
    "misalignment_score = (obs_score - best_score) / (shuffle_score - best_score)\n",
    "print(f'misalignment score = {misalignment_score:.4}')\n",
    "print(f'observed score = {obs_score:.4}')\n",
    "print(f'score after alignment = {best_score:.4}')\n",
    "print(f'shuffle score = {shuffle_score:.4}')"
   ]
  },
  {
   "cell_type": "code",
   "execution_count": 62,
   "metadata": {},
   "outputs": [
    {
     "data": {
      "text/plain": [
       "0.651203900077848"
      ]
     },
     "execution_count": 62,
     "metadata": {},
     "output_type": "execute_result"
    }
   ],
   "source": [
    "misalignment_score"
   ]
  },
  {
   "cell_type": "code",
   "execution_count": 63,
   "metadata": {},
   "outputs": [
    {
     "data": {
      "text/plain": [
       "0.010526402028351749"
      ]
     },
     "execution_count": 63,
     "metadata": {},
     "output_type": "execute_result"
    }
   ],
   "source": [
    "shuffle_score"
   ]
  },
  {
   "cell_type": "code",
   "execution_count": 64,
   "metadata": {},
   "outputs": [
    {
     "data": {
      "text/plain": [
       "0.0009780921359350094"
      ]
     },
     "execution_count": 64,
     "metadata": {},
     "output_type": "execute_result"
    }
   ],
   "source": [
    "best_score"
   ]
  },
  {
   "cell_type": "code",
   "execution_count": 65,
   "metadata": {},
   "outputs": [
    {
     "data": {
      "text/plain": [
       "0.0071959887770286874"
      ]
     },
     "execution_count": 65,
     "metadata": {},
     "output_type": "execute_result"
    }
   ],
   "source": [
    "obs_score"
   ]
  },
  {
   "cell_type": "code",
   "execution_count": null,
   "metadata": {},
   "outputs": [],
   "source": []
  }
 ],
 "metadata": {
  "kernelspec": {
   "display_name": "Python 3",
   "language": "python",
   "name": "python3"
  },
  "language_info": {
   "codemirror_mode": {
    "name": "ipython",
    "version": 3
   },
   "file_extension": ".py",
   "mimetype": "text/x-python",
   "name": "python",
   "nbconvert_exporter": "python",
   "pygments_lexer": "ipython3",
   "version": "3.6.5"
  }
 },
 "nbformat": 4,
 "nbformat_minor": 2
}
