{
 "cells": [
  {
   "cell_type": "code",
   "execution_count": 1,
   "metadata": {},
   "outputs": [
    {
     "name": "stderr",
     "output_type": "stream",
     "text": [
      "C:\\Users\\ilow1\\Anaconda3\\lib\\site-packages\\h5py\\__init__.py:36: FutureWarning: Conversion of the second argument of issubdtype from `float` to `np.floating` is deprecated. In future, it will be treated as `np.float64 == np.dtype(float).type`.\n",
      "  from ._conv import register_converters as _register_converters\n"
     ]
    }
   ],
   "source": [
    "import numpy as np\n",
    "\n",
    "from dynamic_coding_analysis.analysis_pipeline import get_data\n",
    "from dynamic_coding_analysis.analysis_pipeline import process_spikes as spk\n",
    "\n",
    "import matplotlib.pyplot as plt\n",
    "from matplotlib import gridspec\n",
    "\n",
    "from tqdm import trange\n",
    "from scipy import stats"
   ]
  },
  {
   "cell_type": "code",
   "execution_count": 2,
   "metadata": {},
   "outputs": [],
   "source": [
    "# file paths\n",
    "base = 'G:/My Drive/Giocomo Lab/RandomForage/'\n",
    "data_folder = base + 'aggregate_data/'\n",
    "save_folder = base + 'Dynamic MEC Coding Project/fig4_supp/'"
   ]
  },
  {
   "cell_type": "code",
   "execution_count": 3,
   "metadata": {},
   "outputs": [
    {
     "name": "stdout",
     "output_type": "stream",
     "text": [
      "N mice: 13\n",
      "N sessions: 28\n"
     ]
    }
   ],
   "source": [
    "# define sessions\n",
    "''' NEW LIST - updated 1/12/21 w/ NP9 and NP10 cohorts'''\n",
    "''' run analysis on reasonable sessions N maps = 2 '''\n",
    "mice = ['Pisa', 'Hanover', 'Calais', # cue poor\n",
    "        'Seattle',  'Portland', 'Quebec', 'Toronto', 'Vancouver', # cue rich (old)\n",
    "        'Mumbai', 'Kerala', 'Goa', 'Punjab', 'Salvador'] # cue rich (new, NP9 = male)\n",
    "mouse_IDs = ['1c', '2a', '3a', '6a', '6b', '7a', '7b', '7c', '9a', ' 9b', '9c', '9d', '10a']\n",
    "sessions = [['0430_1', '0501_1', '0502_1'], # Pisa\n",
    "            ['0615_2'], # Hanover\n",
    "            ['0713_2'], # Calais\n",
    "            ['1005_1', '1006_1', '1007_1'], # Seattle\n",
    "            ['1005_2'],  # Portland\n",
    "            ['1007_1'], # Quebec\n",
    "            ['1111_1', '1112_1', '1113_1', '1114_1', '1115_1', '1117_1'], # Toronto\n",
    "            ['1114_1', '1118_1'], # Vancouver\n",
    "            ['1130_1', '1201_1', '1129_1'], # Mumbai\n",
    "            ['1207_1'], # Kerala\n",
    "            ['1211_1', '1210_1', '1209_1'], # Goa\n",
    "            ['1217_1', '1214_1'], # Punjab\n",
    "            ['1202_1'] # Salvador\n",
    "           ]\n",
    "\n",
    "print('N mice: ' + str(len(mice)))\n",
    "N_sessions = 0\n",
    "for s in sessions:\n",
    "    N_sessions += len(s)\n",
    "print('N sessions: ' + str(N_sessions))"
   ]
  },
  {
   "cell_type": "code",
   "execution_count": 4,
   "metadata": {},
   "outputs": [],
   "source": [
    "'''\n",
    "Assign colors based on track type\n",
    "see: https://personal.sron.nl/~pault/#sec:qualitative Fig. 4\n",
    "cue poor : green\n",
    "cue rich : pink\n",
    "'''\n",
    "cp_color = [17/255, 119/255, 51/255, 1]\n",
    "cr_color = [204/255, 102/255, 119/255, 1]\n",
    "\n",
    "session_colors = []\n",
    "for m, session in zip(mice, sessions):\n",
    "    for s in session:\n",
    "        if m in ['Pisa', 'Hanover', 'Calais']:\n",
    "            session_colors.append(cp_color)\n",
    "        else:\n",
    "            session_colors.append(cr_color)"
   ]
  },
  {
   "cell_type": "code",
   "execution_count": 5,
   "metadata": {},
   "outputs": [],
   "source": [
    "# make a dict to hold data\n",
    "data = {}\n",
    "for session, m in zip(sessions, mice):\n",
    "    data[m] = {}\n",
    "    for s in session:\n",
    "        data[m][s] = {}"
   ]
  },
  {
   "cell_type": "code",
   "execution_count": 6,
   "metadata": {},
   "outputs": [
    {
     "name": "stdout",
     "output_type": "stream",
     "text": [
      "Calais_0713_2 corrected for probe mistargeting\n",
      "Toronto_1112_1 corrected for probe mistargeting\n",
      "Mumbai_1130_1 corrected for probe mistargeting\n"
     ]
    }
   ],
   "source": [
    "# load the data\n",
    "from pathlib import Path\n",
    "\n",
    "N_cells = 0\n",
    "for m, session in zip(mice, sessions):\n",
    "    for i, s in enumerate(session):\n",
    "        d = data[m][s]\n",
    "        d['Y'] = np.load(data_folder + 'gap_corrected/' + m + '_' + s + '_MEC_FRtensor.npy')\n",
    "        d['B'] = np.load(data_folder + 'gap_corrected/' + m + '_' + s + '_MEC_spikes.npy')\n",
    "        d['A'] = np.load(data_folder + 'gap_corrected/' + m + '_' + s + '_behavior.npy')  \n",
    "        d['cells'] = np.load(data_folder + 'gap_corrected/' + m + '_' + s + '_MEC_cellIDs.npy')\n",
    "        \n",
    "        # filter sessions with deleted AP/ML cells\n",
    "        filt_file = data_folder + 'gap_corrected/' + m + '_' + s + '_MEC_idx.npy'\n",
    "        if Path(filt_file).exists():\n",
    "            print(m + '_' + s + ' corrected for probe mistargeting')\n",
    "            cell_idx = np.load(filt_file)\n",
    "            d['cells'] = d['cells'][cell_idx]\n",
    "            d['Y'] = d['Y'][:, :, cell_idx]\n",
    "            d['B'] = d['B'][:, cell_idx]\n",
    "        \n",
    "        N_cells += d['cells'].shape[0]"
   ]
  },
  {
   "cell_type": "code",
   "execution_count": 7,
   "metadata": {},
   "outputs": [
    {
     "name": "stdout",
     "output_type": "stream",
     "text": [
      "N cells = 4984\n"
     ]
    }
   ],
   "source": [
    "print('N cells = {}'.format(N_cells))"
   ]
  },
  {
   "cell_type": "code",
   "execution_count": 8,
   "metadata": {
    "scrolled": true
   },
   "outputs": [
    {
     "name": "stdout",
     "output_type": "stream",
     "text": [
      "G:/My Drive/Giocomo Lab/RandomForage/Pisa/Pisa_0430_1_data.mat\n",
      "dict_keys(['sp', 'post', 'posx', 'lickt', 'trial', 'reward'])\n",
      "G:/My Drive/Giocomo Lab/RandomForage/Pisa/Pisa_0501_1_data.mat\n",
      "dict_keys(['sp', 'post', 'posx', 'lickt', 'trial', 'reward'])\n",
      "G:/My Drive/Giocomo Lab/RandomForage/Pisa/Pisa_0502_1_data.mat\n",
      "dict_keys(['sp', 'post', 'posx', 'lickt', 'trial', 'reward'])\n",
      "G:/My Drive/Giocomo Lab/RandomForage/Hanover/Hanover_0615_2_data.mat\n",
      "dict_keys(['sp', 'post', 'posx', 'lickt', 'trial', 'reward'])\n",
      "G:/My Drive/Giocomo Lab/RandomForage/Calais/Calais_0713_2_data.mat\n",
      "dict_keys(['sp', 'post', 'posx', 'lickt', 'trial', 'reward', 'framet', 'pupil', 'whisk', 'pupil_upsampled', 'whisk_upsampled', 'testvid_start'])\n",
      "G:/My Drive/Giocomo Lab/RandomForage/Seattle/Seattle_1005_1_data.mat\n",
      "dict_keys(['sp', 'post', 'posx', 'lickt', 'trial', 'reward', 'framet', 'pupil', 'whisk', 'pupil_upsampled', 'whisk_upsampled', 'testvid_start'])\n",
      "G:/My Drive/Giocomo Lab/RandomForage/Seattle/Seattle_1006_1_data.mat\n",
      "dict_keys(['sp', 'post', 'posx', 'lickt', 'trial', 'reward', 'framet', 'pupil', 'whisk', 'pupil_upsampled', 'whisk_upsampled', 'testvid_start'])\n",
      "G:/My Drive/Giocomo Lab/RandomForage/Seattle/Seattle_1007_1_data.mat\n",
      "dict_keys(['sp', 'post', 'posx', 'lickt', 'trial', 'reward', 'framet', 'pupil', 'whisk', 'pupil_upsampled', 'whisk_upsampled', 'testvid_start'])\n",
      "G:/My Drive/Giocomo Lab/RandomForage/Portland/Portland_1005_2_data.mat\n",
      "dict_keys(['sp', 'post', 'posx', 'lickt', 'trial', 'reward', 'framet', 'pupil', 'whisk', 'pupil_upsampled', 'whisk_upsampled', 'testvid_start'])\n",
      "G:/My Drive/Giocomo Lab/RandomForage/Quebec/Quebec_1007_1_data.mat\n",
      "dict_keys(['sp', 'post', 'posx', 'lickt', 'trial', 'reward', 'framet', 'pupil', 'whisk', 'pupil_upsampled', 'whisk_upsampled', 'testvid_start'])\n",
      "G:/My Drive/Giocomo Lab/RandomForage/Toronto/Toronto_1111_1_data.mat\n",
      "dict_keys(['sp', 'post', 'posx', 'lickt', 'trial', 'reward', 'framet', 'pupil', 'whisk', 'pupil_upsampled', 'whisk_upsampled', 'testvid_start'])\n",
      "G:/My Drive/Giocomo Lab/RandomForage/Toronto/Toronto_1112_1_data.mat\n",
      "dict_keys(['sp', 'post', 'posx', 'lickt', 'trial', 'reward', 'framet', 'pupil', 'whisk', 'pupil_upsampled', 'whisk_upsampled', 'testvid_start'])\n",
      "G:/My Drive/Giocomo Lab/RandomForage/Toronto/Toronto_1113_1_data.mat\n",
      "dict_keys(['sp', 'post', 'posx', 'lickt', 'trial', 'reward', 'framet', 'pupil', 'whisk', 'pupil_upsampled', 'whisk_upsampled', 'testvid_start'])\n",
      "G:/My Drive/Giocomo Lab/RandomForage/Toronto/Toronto_1114_1_data.mat\n",
      "dict_keys(['sp', 'post', 'posx', 'lickt', 'trial', 'reward', 'framet', 'pupil', 'whisk', 'pupil_upsampled', 'whisk_upsampled', 'testvid_start'])\n",
      "G:/My Drive/Giocomo Lab/RandomForage/Toronto/Toronto_1115_1_data.mat\n",
      "dict_keys(['sp', 'post', 'posx', 'lickt', 'trial', 'reward', 'framet', 'pupil', 'whisk', 'pupil_upsampled', 'whisk_upsampled', 'testvid_start'])\n",
      "G:/My Drive/Giocomo Lab/RandomForage/Toronto/Toronto_1117_1_data.mat\n",
      "dict_keys(['sp', 'post', 'posx', 'lickt', 'trial', 'reward', 'framet', 'pupil', 'whisk', 'pupil_upsampled', 'whisk_upsampled', 'testvid_start'])\n",
      "G:/My Drive/Giocomo Lab/RandomForage/Vancouver/Vancouver_1114_1_data.mat\n",
      "dict_keys(['sp', 'post', 'posx', 'lickt', 'trial', 'reward', 'framet', 'pupil', 'whisk', 'pupil_upsampled', 'whisk_upsampled', 'testvid_start'])\n",
      "G:/My Drive/Giocomo Lab/RandomForage/Vancouver/Vancouver_1118_1_data.mat\n",
      "dict_keys(['sp', 'post', 'posx', 'lickt', 'trial', 'reward', 'framet', 'pupil', 'whisk', 'pupil_upsampled', 'whisk_upsampled', 'testvid_start'])\n",
      "G:/My Drive/Giocomo Lab/RandomForage/Mumbai/Mumbai_1130_1_data.mat\n",
      "dict_keys(['sp', 'post', 'posx', 'lickt', 'trial', 'reward'])\n",
      "G:/My Drive/Giocomo Lab/RandomForage/Mumbai/Mumbai_1201_1_data.mat\n",
      "dict_keys(['sp', 'post', 'posx', 'lickt', 'trial', 'reward'])\n",
      "G:/My Drive/Giocomo Lab/RandomForage/Mumbai/Mumbai_1129_1_data.mat\n",
      "dict_keys(['sp', 'post', 'posx', 'lickt', 'trial', 'reward'])\n",
      "G:/My Drive/Giocomo Lab/RandomForage/Kerala/Kerala_1207_1_data.mat\n",
      "dict_keys(['sp', 'post', 'posx', 'lickt', 'trial', 'reward'])\n",
      "G:/My Drive/Giocomo Lab/RandomForage/Goa/Goa_1211_1_data.mat\n",
      "dict_keys(['sp', 'post', 'posx', 'lickt', 'trial', 'reward'])\n",
      "G:/My Drive/Giocomo Lab/RandomForage/Goa/Goa_1210_1_data.mat\n",
      "dict_keys(['sp', 'post', 'posx', 'lickt', 'trial', 'reward'])\n",
      "G:/My Drive/Giocomo Lab/RandomForage/Goa/Goa_1209_1_data.mat\n",
      "dict_keys(['sp', 'post', 'posx', 'lickt', 'trial', 'reward'])\n",
      "G:/My Drive/Giocomo Lab/RandomForage/Punjab/Punjab_1217_1_data.mat\n",
      "dict_keys(['sp', 'post', 'posx', 'lickt', 'trial', 'reward'])\n",
      "G:/My Drive/Giocomo Lab/RandomForage/Punjab/Punjab_1214_1_data.mat\n",
      "dict_keys(['sp', 'post', 'posx', 'lickt', 'trial', 'reward'])\n",
      "G:/My Drive/Giocomo Lab/RandomForage/Salvador/Salvador_1202_1_data.mat\n",
      "dict_keys(['sp', 'post', 'posx', 'lickt', 'trial', 'reward'])\n"
     ]
    }
   ],
   "source": [
    "# load the behavioral data\n",
    "for m, session in zip(mice, sessions):\n",
    "    for s in session:\n",
    "        d = data[m][s]\n",
    "        folder = base + m + '/'\n",
    "        data_file = m + '_' + s + '_data.mat'\n",
    "        behavior = get_data.loadData(folder + data_file)\n",
    "        d['behavior'] = behavior"
   ]
  },
  {
   "cell_type": "code",
   "execution_count": 9,
   "metadata": {},
   "outputs": [],
   "source": [
    "''' K-MEANS '''\n",
    "from lvl.factor_models import KMeans as lvl_kmeans\n",
    "from lvl.factor_models import NMF as lvl_soft_kmeans\n",
    "from scipy.spatial.distance import cdist \n",
    "from scipy.special import logsumexp\n",
    "def softmax(M):\n",
    "    return np.exp(M - logsumexp(M, axis=-1, keepdims=True))"
   ]
  },
  {
   "cell_type": "code",
   "execution_count": 10,
   "metadata": {},
   "outputs": [],
   "source": [
    "''' fit kmeans to get remaps '''\n",
    "N = 2\n",
    "model_kmeans = lvl_kmeans(n_components=N, n_restarts=100)\n",
    "for m, session in zip(mice, sessions):\n",
    "    for s in session:\n",
    "        d = data[m][s]\n",
    "        Y = d['Y'].copy()\n",
    "        Y = Y.transpose(0, 2, 1)\n",
    "        Y_unwrapped = np.reshape(Y, (Y.shape[0], -1))\n",
    "        \n",
    "        # fit model and get params\n",
    "        model_kmeans.fit(Y_unwrapped)\n",
    "        W, H = model_kmeans.factors\n",
    "        Y_hat = model_kmeans.predict()\n",
    "        d['kmeans'] = {}\n",
    "        d['kmeans']['W'] = W\n",
    "        d['kmeans']['H'] = H\n",
    "        d['kmeans']['Y_hat'] = Y_hat  "
   ]
  },
  {
   "cell_type": "code",
   "execution_count": 11,
   "metadata": {},
   "outputs": [],
   "source": [
    "# reassign map 0 to be the slower map\n",
    "for m, session in zip(mice, sessions):\n",
    "    for s in session:\n",
    "        d = data[m][s]\n",
    "        A = d['A']\n",
    "        W = d['kmeans']['W']\n",
    "        H = d['kmeans']['H']\n",
    "        \n",
    "        # get map indices\n",
    "        map_idx = W[:, 0].astype(bool)\n",
    "        trials = A[:, 2]\n",
    "        map0_idx = np.zeros_like(trials)\n",
    "        map1_idx = np.zeros_like(trials)\n",
    "        for i, t in enumerate(np.unique(trials)):\n",
    "            if map_idx[i]:\n",
    "                map0_idx[trials == t] = 1\n",
    "            else:\n",
    "                map1_idx[trials == t] = 1\n",
    "        map0_idx = map0_idx.astype(bool)\n",
    "        map1_idx = map1_idx.astype(bool)\n",
    "\n",
    "        # get running speed in each map and assign map 0 to slower map\n",
    "        speed = A[:, 1]\n",
    "        speed_0 = np.nanmean(speed[map0_idx])\n",
    "        speed_1 = np.nanmean(speed[map1_idx])\n",
    "\n",
    "        if speed_1 < speed_0: # swap labels\n",
    "            d['map0_idx'] = 1\n",
    "        else:\n",
    "            d['map0_idx'] = 0"
   ]
  },
  {
   "cell_type": "code",
   "execution_count": 12,
   "metadata": {},
   "outputs": [],
   "source": [
    "''' get distance to cluster on each trial '''\n",
    "for m, session in zip(mice, sessions):\n",
    "    for s in session:\n",
    "        d = data[m][s]\n",
    "        Y = d['Y'].copy()\n",
    "        Y = Y.transpose(0, 2, 1)\n",
    "        Y_unwrapped = np.reshape(Y, (Y.shape[0], -1))\n",
    "        n_trials, n_cells, n_pos = Y.shape\n",
    "\n",
    "        # get kmeans fit\n",
    "        H = d['kmeans']['H']\n",
    "        N = H.shape[0]\n",
    "        map0_idx = d['map0_idx']\n",
    "\n",
    "        # get centroids\n",
    "        c1 = H[map0_idx]\n",
    "        c2 = H[map0_idx-1]\n",
    "        \n",
    "        # project down to connecting line\n",
    "        proj = (c1 - c2) / np.linalg.norm(c1 - c2)\n",
    "        projc1 = c1 @ proj\n",
    "        projc2 = c2 @ proj\n",
    "        projY = Y_unwrapped @ proj\n",
    "        \n",
    "        # get distance\n",
    "        dd = (projY - projc2) / (projc1 - projc2)\n",
    "        d['dist'] = 2 * (dd - .5) # classify -1 or 1"
   ]
  },
  {
   "cell_type": "code",
   "execution_count": 13,
   "metadata": {},
   "outputs": [],
   "source": [
    "# calculate each position's distance to cluster on each trial\n",
    "for m, session in zip(mice, sessions):\n",
    "    for s in session:\n",
    "        d = data[m][s]\n",
    "        \n",
    "        Y = d['Y'].copy()\n",
    "        Y = Y.transpose(0, 2, 1)\n",
    "        n_trials, n_cells, n_pos = Y.shape\n",
    "        \n",
    "        map0_idx = d['map0_idx']\n",
    "        H = d['kmeans']['H']\n",
    "        N = H.shape[0]\n",
    "        H_tens = H.reshape((N, n_cells, n_pos))\n",
    "\n",
    "        # get each cluster\n",
    "        c1 = H_tens[map0_idx, :, :]\n",
    "        c2 = H_tens[map0_idx-1, :, :]\n",
    "        proj = (c1 - c2) / np.linalg.norm(c1 - c2, axis=0, keepdims=True)\n",
    "\n",
    "        projc1 = np.sum(c1 * proj, axis=0)[None, :]\n",
    "        projc2 = np.sum(c2 * proj, axis=0)[None, :]\n",
    "        projY = np.sum(Y * proj[None, :, :], axis=1)\n",
    "\n",
    "        dd_by_pos = (projY - projc2) / (projc1 - projc2)\n",
    "        dd_by_pos = 2 * (dd_by_pos - .5)\n",
    "        d['pos_dist'] = dd_by_pos\n",
    "        \n",
    "        # calculate log likelihood\n",
    "        W = d['kmeans']['W']\n",
    "        n_pos = dd_by_pos.shape[1]\n",
    "        K = np.tile(W[:, d['map0_idx']-1], (n_pos, 1))\n",
    "        ll_pos = -K * np.log(1 + np.exp(dd_by_pos.T)) - (1 - K) * np.log(1 + np.exp(-dd_by_pos.T))\n",
    "        d['ll_pos'] = ll_pos"
   ]
  },
  {
   "cell_type": "code",
   "execution_count": 14,
   "metadata": {},
   "outputs": [],
   "source": [
    "''' save remap vs. stable index:\n",
    "- limit \"stable periods\" to n_trials > 5\n",
    "- stable trials = all trials except 4 trials surrounding remap point\n",
    "- remap trials = two trials on each side of remap point\n",
    "'''\n",
    "near_N = 2\n",
    "trial_min = 2*near_N + 1\n",
    "for m, session in zip(mice, sessions):\n",
    "    for i, s in enumerate(session):\n",
    "        d = data[m][s]\n",
    "        W = d['kmeans']['W']\n",
    "        trials = np.arange(0, W.shape[0]-1)\n",
    "\n",
    "        # define remaps\n",
    "        remap_idx = np.where(np.abs(np.diff(W[:, 0])))[0]\n",
    "        \n",
    "        # define stable\n",
    "        for i in range(near_N):\n",
    "            if i == 0:\n",
    "                near_remaps = np.append(remap_idx, remap_idx+(i+1))\n",
    "            elif i < near_N:\n",
    "                near_remaps = np.append(np.append(near_remaps, remap_idx-i), remap_idx+(i+1))\n",
    "        near_remaps = np.sort(near_remaps)\n",
    "        stable_idx = np.setdiff1d(trials, near_remaps)\n",
    "        \n",
    "        # keep only remaps at least 5 trials from last remap (stable trials should by definition fit this bill)\n",
    "        boundary_trials = np.insert(remap_idx, 0, 0)\n",
    "        remap_idx = np.setdiff1d(remap_idx, remap_idx[np.diff(boundary_trials) < trial_min])\n",
    "        remap_idx = np.sort(np.append(remap_idx, remap_idx+1))\n",
    "        \n",
    "        # save the data\n",
    "        d['idx'] = [stable_idx, remap_idx]"
   ]
  },
  {
   "cell_type": "code",
   "execution_count": 15,
   "metadata": {},
   "outputs": [],
   "source": [
    "''' get avg running speed on each trial '''\n",
    "for m, session in zip(mice, sessions):\n",
    "    for i, s in enumerate(session):\n",
    "        d = data[m][s]\n",
    "\n",
    "        # speed\n",
    "        A = d['A']\n",
    "        speed = A[:, 1]\n",
    "        obs_trials = A[:, 2]\n",
    "        avg_speed = np.zeros_like(np.unique(obs_trials))\n",
    "        for t in np.unique(obs_trials).astype(int):\n",
    "            avg_speed[t] = np.mean(speed[obs_trials==t])\n",
    "        d['avg_speeds'] = avg_speed"
   ]
  },
  {
   "cell_type": "code",
   "execution_count": 16,
   "metadata": {},
   "outputs": [],
   "source": [
    "''' single session examples '''\n",
    "# m = 'Pisa'\n",
    "# s = '0430_1'\n",
    "m = 'Toronto'\n",
    "s = '1112_1'\n",
    "d = data[m][s]"
   ]
  },
  {
   "cell_type": "code",
   "execution_count": 17,
   "metadata": {},
   "outputs": [
    {
     "name": "stdout",
     "output_type": "stream",
     "text": [
      "Toronto_1112_1, n cells = 74, n remaps = 27\n"
     ]
    }
   ],
   "source": [
    "print('{}_{}, n cells = {}, n remaps = {}'.format(m, s, d['cells'].shape[0], d['idx'][1][::2].shape[0]))"
   ]
  },
  {
   "cell_type": "code",
   "execution_count": 18,
   "metadata": {},
   "outputs": [],
   "source": [
    "# get data\n",
    "normalized_dd_all = d['dist']\n",
    "A = d['A']\n",
    "speed = A[:, 1]\n",
    "obs_trials = A[:, 2]\n",
    "avg_speed = d['avg_speeds']"
   ]
  },
  {
   "cell_type": "code",
   "execution_count": 19,
   "metadata": {},
   "outputs": [],
   "source": [
    "# get avg speed for each stable block\n",
    "stable_idx = d['idx'][0]\n",
    "remap_idx = d['idx'][1]\n",
    "remap_speeds_both = avg_speed[remap_idx]\n",
    "remap_speeds = (remap_speeds_both[::2] + remap_speeds_both[1::2])/2\n",
    "\n",
    "# get avg stable speed by block\n",
    "bdx = np.digitize(stable_idx, remap_idx[::2])\n",
    "stable_blocks = np.zeros(remap_idx[::2].shape[0])\n",
    "for b in np.unique(bdx):\n",
    "    if b < stable_blocks.shape[0]:\n",
    "        stable_blocks[b] = np.mean(avg_speed[stable_idx[bdx==b]])"
   ]
  },
  {
   "cell_type": "code",
   "execution_count": 20,
   "metadata": {},
   "outputs": [
    {
     "data": {
      "image/png": "[encoded data removed]",
      "text/plain": [
       "<Figure size 252x115.2 with 2 Axes>"
      ]
     },
     "metadata": {},
     "output_type": "display_data"
    }
   ],
   "source": [
    "''' Fig. 4B - E -- examples running speed in remaps vs. stable '''\n",
    "gs  = gridspec.GridSpec(4, 1, hspace=0, wspace=1.7)\n",
    "f = plt.figure(figsize=(3.5, 1.6))\n",
    "if m in ['Pisa', 'Hanover', 'Calais']:\n",
    "    color = cp_color\n",
    "else:\n",
    "    color = cr_color\n",
    "DIST_W = 1.5\n",
    "SPEED_W = 1.5\n",
    "REMAP_W = 1.5\n",
    "\n",
    "# distance to cluster\n",
    "ax0 = plt.subplot(gs[0])\n",
    "ax0.plot(normalized_dd_all, color='k', lw=DIST_W, alpha=0.8)\n",
    "ax0.set_xlim([0, normalized_dd_all.shape[0]])\n",
    "xlim_ax0 = ax0.get_xlim()\n",
    "ax0.set_yticks([-1, 1])\n",
    "ax0.tick_params(labelbottom=False, which='major', labelsize=7.5, pad=0.5)\n",
    "ax0.set_ylabel('dist.\\nscore', fontsize=9, labelpad=1)\n",
    "\n",
    "# speed by trial\n",
    "ax1 = plt.subplot(gs[1:])\n",
    "ax1.hexbin(obs_trials, speed, gridsize=40, cmap='Greys')\n",
    "ax1.plot(avg_speed, '-k', linewidth=SPEED_W, alpha=1)\n",
    "ax1.set_ylabel('speed (cm/s)', fontsize=9, labelpad=7)\n",
    "ax1.set_xlim(xlim_ax0)\n",
    "ax1.set_xlabel('trial number', fontsize=9, labelpad=1)\n",
    "ax1.tick_params(which='major', labelsize=7.5, pad=0.5)\n",
    "\n",
    "# remaps\n",
    "ylim_ax1 = ax1.get_ylim()\n",
    "for r in remap_idx:\n",
    "    ax1.plot([r, r], ylim_ax1, ':', c=color, lw=REMAP_W, alpha=1)\n",
    "\n",
    "f.savefig(save_folder + m + '_' + s + '_speed.png', dpi=400, bbox_inches='tight')\n",
    "plt.show()"
   ]
  },
  {
   "cell_type": "code",
   "execution_count": 21,
   "metadata": {},
   "outputs": [
    {
     "data": {
      "image/png": "[encoded data removed]",
      "text/plain": [
       "<Figure size 86.4x86.4 with 1 Axes>"
      ]
     },
     "metadata": {},
     "output_type": "display_data"
    }
   ],
   "source": [
    "gs  = gridspec.GridSpec(1, 1, hspace=0, wspace=1.7)\n",
    "f = plt.figure(figsize=(1.2, 1.2))\n",
    "if m in ['Pisa', 'Hanover', 'Calais']:\n",
    "    color = cp_color\n",
    "else:\n",
    "    color = cr_color\n",
    "UNITY_W = 1\n",
    "PT_SIZE = 20\n",
    "PT_LW = 0.5\n",
    "\n",
    "# stable vs. remaps\n",
    "ax2 = plt.subplot(gs[0])\n",
    "ax2.scatter(stable_blocks, remap_speeds, s=PT_SIZE, \n",
    "            facecolors=color, edgecolors='k', lw=PT_LW, alpha=0.7)\n",
    "xlims = ax2.get_xlim()\n",
    "ylims = ax2.get_ylim()\n",
    "min_speed = np.min([xlims[0], ylims[0]])\n",
    "max_speed = np.max([xlims[1], ylims[1]])\n",
    "ax2.plot([min_speed, max_speed], [min_speed, max_speed], '--k', lw=UNITY_W, alpha=0.7)\n",
    "\n",
    "# labels\n",
    "ax2.set_xticks([25, 50])\n",
    "ax2.set_yticks([25, 50])\n",
    "ax2.tick_params(which='major', labelsize=7.5, pad=0.5)\n",
    "ax2.set_xlabel('stable block\\nspeed (cm/s)', fontsize=9, labelpad=1)\n",
    "ax2.set_ylabel('remap trials\\nspeed (cm/s)', fontsize=9, labelpad=1)\n",
    "\n",
    "f.savefig(save_folder + m + '_' + s + '_speed_pairs.png', dpi=400, bbox_inches='tight')\n",
    "plt.show()"
   ]
  },
  {
   "cell_type": "code",
   "execution_count": 16,
   "metadata": {},
   "outputs": [],
   "source": [
    "''' distance to boundary within each position bin on remap vs. stable trials--all mice '''\n",
    "all_remap_dist = np.asarray([])\n",
    "all_stable_dist = np.asarray([])\n",
    "for m, session in zip(mice, sessions):\n",
    "    for i, s in enumerate(session):\n",
    "        d = data[m][s]\n",
    "        p_dist = d['pos_dist'] # trials x pos bins\n",
    "        \n",
    "        # get remap distances\n",
    "        remap_idx = d['idx'][1]\n",
    "        remap_dist = np.abs(p_dist[remap_idx, :])\n",
    "        all_remap_dist = np.append(all_remap_dist, remap_dist.ravel())\n",
    "        \n",
    "        # get stable distances\n",
    "        stable_idx = d['idx'][0]\n",
    "        stable_dist = np.abs(p_dist[stable_idx, :])\n",
    "        all_stable_dist = np.append(all_stable_dist, stable_dist.ravel())"
   ]
  },
  {
   "cell_type": "code",
   "execution_count": 23,
   "metadata": {},
   "outputs": [
    {
     "name": "stdout",
     "output_type": "stream",
     "text": [
      "mean, sem\n",
      "remap distance to bound: 0.59, 0.003\n",
      "stable distance to bound: 1.044, 0.001\n",
      "N remap trials = 290.0\n",
      "N stable trials = 8064.0\n",
      "IQR stable blocks: 0.762 to 1.338\n",
      "\n",
      "Wilcoxon rank-sums, two-sided: p = 0.0\n"
     ]
    }
   ],
   "source": [
    "print('mean, sem')\n",
    "print('remap distance to bound: ' + str(np.round(np.mean(all_remap_dist), 3)) + \n",
    "      ', ' + str(np.round(stats.sem(all_remap_dist), 3)))\n",
    "print('stable distance to bound: ' + str(np.round(np.mean(all_stable_dist), 3)) + \n",
    "      ', ' + str(np.round(stats.sem(all_stable_dist), 3)))\n",
    "print('N remap trials = ' + str(all_remap_dist.shape[0]/80))\n",
    "print('N stable trials = ' + str(all_stable_dist.shape[0]/80))\n",
    "\n",
    "print('IQR stable blocks: ' + str(np.round(np.percentile(all_stable_dist, 25), 3)) + \n",
    "      ' to ' + str(np.round(np.percentile(all_stable_dist, 75), 3)))\n",
    "\n",
    "stat, p_diff = stats.ranksums(all_stable_dist, all_remap_dist)\n",
    "print('\\nWilcoxon rank-sums, two-sided: p = ' + str(p_diff))"
   ]
  },
  {
   "cell_type": "code",
   "execution_count": 16,
   "metadata": {},
   "outputs": [],
   "source": [
    "''' relationship between speed and distance to boundary -- all mice '''\n",
    "# bin speed by position and trial\n",
    "bin_size = 5 # cm\n",
    "for m, session in zip(mice, sessions):\n",
    "    for s in session:\n",
    "        d = data[m][s]\n",
    "        speed_file = base + 'aggregate_data/gap_corrected/' + m + '_' + s + '_speed.npy'\n",
    "        if Path(speed_file).exists():\n",
    "            d['binned_speed'] = np.load(speed_file)\n",
    "        else:\n",
    "            A = d['A']\n",
    "            speed = A[:, 1]\n",
    "            pos = A[:, 0]\n",
    "            trials = A[:, 2]\n",
    "            n_trials = np.max(trials+1).astype(int)\n",
    "            edges = np.arange(0, 400+bin_size, bin_size)\n",
    "            bdx = np.digitize(pos, edges)\n",
    "\n",
    "            binned_speed = np.zeros((n_trials, n_pos))\n",
    "            for t in np.unique(trials).astype(int):\n",
    "                for i, b in enumerate(np.unique(bdx)):\n",
    "                    idx = (trials==t) & (bdx==b)\n",
    "                    binned_speed[t, i] = np.mean(speed[idx])\n",
    "\n",
    "            np.save(speed_file, binned_speed)\n",
    "            d['binned_speed'] = binned_speed"
   ]
  },
  {
   "cell_type": "code",
   "execution_count": 25,
   "metadata": {},
   "outputs": [],
   "source": [
    "''' single session examples '''\n",
    "# m = 'Toronto'\n",
    "# s = '1112_1'\n",
    "m = 'Pisa'\n",
    "s = '0430_1'\n",
    "d = data[m][s]\n",
    "A = d['A']"
   ]
  },
  {
   "cell_type": "code",
   "execution_count": 17,
   "metadata": {},
   "outputs": [],
   "source": [
    "def moving_avg(a, n=3) :\n",
    "    ret = np.cumsum(a, dtype=float)\n",
    "    ret[n:] = ret[n:] - ret[:-n]\n",
    "    return ret[n - 1:] / n"
   ]
  },
  {
   "cell_type": "code",
   "execution_count": 27,
   "metadata": {},
   "outputs": [],
   "source": [
    "# get remap trial vs. middle of stable block indices\n",
    "remaps = d['idx'][1][::2]\n",
    "boundaries = np.insert(remaps, 0, 0)\n",
    "stable_idx = moving_avg(boundaries, 2).astype(int)"
   ]
  },
  {
   "cell_type": "code",
   "execution_count": 28,
   "metadata": {},
   "outputs": [],
   "source": [
    "# get speed near remaps vs. middle of stable blocks\n",
    "binned_speed = d['binned_speed']\n",
    "speed_remap = np.column_stack((binned_speed[remaps-1, :], binned_speed[remaps, :],\n",
    "                                   binned_speed[remaps+1, :], binned_speed[remaps+2, :]))\n",
    "speed_stable = np.column_stack((binned_speed[stable_idx-1, :], binned_speed[stable_idx, :],\n",
    "                                   binned_speed[stable_idx+1, :], binned_speed[stable_idx+2, :]))\n",
    "\n",
    "# get distance by position bin near remaps vs. middle of stable blocks\n",
    "dd_by_pos = d['pos_dist']\n",
    "pos_remaps = np.column_stack((dd_by_pos[remaps-1], dd_by_pos[remaps], \n",
    "                              dd_by_pos[remaps+1], dd_by_pos[remaps+2]))\n",
    "pos_stable = np.column_stack((dd_by_pos[stable_idx-1], dd_by_pos[stable_idx], \n",
    "                              dd_by_pos[stable_idx+1], dd_by_pos[stable_idx+2]))"
   ]
  },
  {
   "cell_type": "code",
   "execution_count": 29,
   "metadata": {},
   "outputs": [],
   "source": [
    "# example trials to plot\n",
    "to_plot = np.asarray([6, 7, 10]) # Pisa\n",
    "# to_plot = np.asarray([0, 5, 14]) # Vancouver\n",
    "# to_plot = np.asarray([0, 23, -1]) # Toronto"
   ]
  },
  {
   "cell_type": "code",
   "execution_count": 31,
   "metadata": {},
   "outputs": [
    {
     "data": {
      "image/png": "[encoded data removed]",
      "text/plain": [
       "<Figure size 360x180 with 6 Axes>"
      ]
     },
     "metadata": {},
     "output_type": "display_data"
    }
   ],
   "source": [
    "''' Fig. 4f, g -- examples of distance to boundary and running speed near remap points vs. mid-stable blocks '''\n",
    "n_trials = pos_remaps.shape[0]\n",
    "gs  = gridspec.GridSpec(12, 2, hspace=0, wspace=0.1)\n",
    "f = plt.figure(figsize=(5, 2.5))\n",
    "LW_SPEED = 1.5\n",
    "MAX_SPEED = 90\n",
    "\n",
    "rows = np.arange(0, 12-2, 4)\n",
    "xvals = np.arange(0, 4*400, 5)                       \n",
    "for i, r in zip(to_plot, rows):\n",
    "    if m == 'Toronto':\n",
    "        # STABLE\n",
    "        ax01 = plt.subplot(gs[r:r+2, 0])\n",
    "        ax11 = plt.subplot(gs[r+2, 0])\n",
    "\n",
    "        # plot running speed\n",
    "        ax01.plot(xvals, speed_stable[i], '-k', lw=LW_SPEED)\n",
    "        ax01.set_ylim([0, MAX_SPEED])\n",
    "        ax01.set_xticks(np.arange(0, 4*400+5, 200))\n",
    "        ax01.set_xlim([0, 4*400])\n",
    "        ax01.tick_params(labelbottom=False, which='major', labelsize=7.5, pad=0.5)\n",
    "\n",
    "        # plot dd_pos\n",
    "        ax11.imshow(pos_stable[None, i, :], clim=[-1, 1], aspect='auto', cmap='binary')\n",
    "        ax11.set_xticks(np.arange(0, 4*80+5, 40))\n",
    "        ax11.tick_params(labelleft=False, which='major', labelsize=7.5, pad=0.5)\n",
    "        ax11.tick_params(axis=\"y\", which =\"both\", left=False)\n",
    "    \n",
    "    # REMAP\n",
    "    ax00 = plt.subplot(gs[r:r+2, 1])\n",
    "    ax10 = plt.subplot(gs[r+2, 1])\n",
    "    \n",
    "    # plot running speed\n",
    "    ax00.plot(xvals, speed_remap[i], '-k', lw=LW_SPEED)\n",
    "    ax00.set_ylim([0, MAX_SPEED])\n",
    "    ax00.set_xlim([0, 4*400])\n",
    "    ax00.set_xticks(np.arange(0, 4*400+5, 200))\n",
    "\n",
    "    # plot dd_pos\n",
    "    ax10.imshow(pos_remaps[None, i, :], clim=[-1, 1], aspect='auto', cmap='binary')\n",
    "    ax10.set_xticks(np.arange(0, 4*80+5, 40))\n",
    "    ax10.tick_params(labelleft=False, which='major', labelsize=7.5, pad=0.5)\n",
    "    ax10.tick_params(axis=\"y\", which =\"both\", left=False)\n",
    "\n",
    "    # get trial numbers\n",
    "    X_LABELS_REMAP = []\n",
    "    X_LABELS_STABLE = []\n",
    "    j = -1\n",
    "    for t in range(12):\n",
    "        if np.isin(t, np.asarray([1, 3, 5, 7])):\n",
    "            X_LABELS_REMAP.append('{}'.format(remaps[i] + j))\n",
    "            X_LABELS_STABLE.append('{}'.format(stable_idx[i] + j))\n",
    "            j += 1\n",
    "        else:\n",
    "            X_LABELS_REMAP.append('')\n",
    "            X_LABELS_STABLE.append('')\n",
    "    \n",
    "    # set axis labels\n",
    "    if m == 'Toronto':\n",
    "        ax00.tick_params(labelleft=False, labelbottom=False, \n",
    "                         which='major', labelsize=7.5, pad=0.5)\n",
    "        ax11.set_xticklabels(X_LABELS_STABLE)\n",
    "        if r == rows[1]:\n",
    "            ax01.set_ylabel('running speed (cm/s)', fontsize=9, labelpad=3)\n",
    "        elif r == 0:\n",
    "            ax00.set_title('remap', fontsize=10, pad=5)\n",
    "            ax01.set_title('stable', fontsize=10, pad=5)\n",
    "    else:\n",
    "        ax00.tick_params(labelbottom=False, which='major', \n",
    "                         labelsize=7.5, pad=0.5)\n",
    "        if r == rows[1]:\n",
    "            ax00.set_ylabel('running speed (cm/s)', fontsize=9, labelpad=3)\n",
    "        elif r == 0:\n",
    "            ax00.set_title('remap', fontsize=10, pad=5)\n",
    "    \n",
    "    \n",
    "    \n",
    "    ax10.set_xticklabels(X_LABELS_REMAP)\n",
    "\n",
    "f.savefig(save_folder + m + '_' + s + '_transitions_speed_rewards.png', dpi=400, bbox_inches='tight')\n",
    "plt.show()"
   ]
  },
  {
   "cell_type": "code",
   "execution_count": 32,
   "metadata": {},
   "outputs": [],
   "source": [
    "scores_by_speed = np.zeros((N_sessions, 9))\n",
    "i = 0\n",
    "for m, session in zip(mice, sessions):\n",
    "    for s in session:\n",
    "        d = data[m][s]\n",
    "        speed = d['A'][:, 1]\n",
    "        binned_speed = d['binned_speed']\n",
    "        flat_speed = binned_speed.ravel()\n",
    "        dd_by_pos = d['pos_dist']\n",
    "        flat_pos = dd_by_pos.ravel()\n",
    "        \n",
    "        # define bins\n",
    "        speed_bins = np.linspace(2, np.max(speed)-20, num=9)\n",
    "        speed_idx = np.digitize(flat_speed, speed_bins)\n",
    "        \n",
    "        # get score for each speed bin\n",
    "        for j, b in enumerate(np.unique(speed_idx)):\n",
    "            scores_by_speed[i, j] = np.mean(np.abs(flat_pos[speed_idx==b]))\n",
    "        i += 1"
   ]
  },
  {
   "cell_type": "code",
   "execution_count": 18,
   "metadata": {},
   "outputs": [],
   "source": [
    "def nan_interp(y):\n",
    "    def find(x):\n",
    "        return x.nonzero()[0]\n",
    "    nans = np.isnan(y)\n",
    "    y[nans] = np.interp(find(nans),find(~nans),y[~nans])\n",
    "    return y\n",
    "\n",
    "def zscore(a):\n",
    "    z = a - np.mean(a)\n",
    "    z /= z.std()\n",
    "    idx = np.abs(z) > 2\n",
    "\n",
    "    new_a = a.copy()\n",
    "    new_a[idx] = np.nan\n",
    "    new_a = nan_interp(new_a)\n",
    "\n",
    "    return new_a"
   ]
  },
  {
   "cell_type": "code",
   "execution_count": 34,
   "metadata": {},
   "outputs": [
    {
     "name": "stderr",
     "output_type": "stream",
     "text": [
      "C:\\Users\\ilow1\\AppData\\Roaming\\Python\\Python36\\site-packages\\numpy\\lib\\function_base.py:4291: RuntimeWarning: Invalid value encountered in percentile\n",
      "  interpolation=interpolation)\n",
      "C:\\Users\\ilow1\\Anaconda3\\lib\\site-packages\\ipykernel_launcher.py:22: RuntimeWarning: invalid value encountered in less_equal\n",
      "C:\\Users\\ilow1\\Anaconda3\\lib\\site-packages\\ipykernel_launcher.py:23: RuntimeWarning: invalid value encountered in greater_equal\n"
     ]
    }
   ],
   "source": [
    "# get parameters\n",
    "slow_all = np.asarray([])\n",
    "fast_all = np.asarray([])\n",
    "for m, session in zip(mice, sessions):\n",
    "    for s in session:\n",
    "        d = data[m][s]\n",
    "        binned_speed = d['binned_speed'].copy()\n",
    "        dd_by_pos = d['pos_dist'].copy()\n",
    "        \n",
    "        # normalize dd_by_pos and flip sign for random 50% to correct for arbitrary map\n",
    "        flat_pos = dd_by_pos.ravel()\n",
    "        norm_pos = zscore(flat_pos)\n",
    "        flip_idx = (np.random.rand(flat_pos.shape[0]//2)*flat_pos.shape[0]).astype(int)\n",
    "        norm_pos[flip_idx] = -1*norm_pos[flip_idx]\n",
    "        \n",
    "        # get speed cut-offs\n",
    "        flat_speed = binned_speed.ravel()\n",
    "        slow_speed = np.percentile(flat_speed, 20)\n",
    "        fast_speed = np.percentile(flat_speed, 80)\n",
    "        \n",
    "        # collect z-scored distances\n",
    "        slow_all = np.append(slow_all, norm_pos[flat_speed <= slow_speed])\n",
    "        fast_all = np.append(fast_all, norm_pos[flat_speed >= fast_speed])"
   ]
  },
  {
   "cell_type": "code",
   "execution_count": 35,
   "metadata": {},
   "outputs": [],
   "source": [
    "from sklearn.mixture import GaussianMixture\n",
    "\n",
    "# fit a Gaussian mixture model to fast and slow\n",
    "model_slow = GaussianMixture(n_components=2)\n",
    "model_slow.fit(slow_all[:, None])\n",
    "f1_slow = stats.norm(model_slow.means_[0], np.sqrt(model_slow.covariances_[0]))\n",
    "f2_slow = stats.norm(model_slow.means_[1], np.sqrt(model_slow.covariances_[1]))\n",
    "\n",
    "model_fast = GaussianMixture(n_components=2)\n",
    "model_fast.fit(fast_all[:, None])\n",
    "f1_fast = stats.norm(model_fast.means_[0], np.sqrt(model_fast.covariances_[0]))\n",
    "f2_fast = stats.norm(model_fast.means_[1], np.sqrt(model_fast.covariances_[1]))"
   ]
  },
  {
   "cell_type": "code",
   "execution_count": 36,
   "metadata": {},
   "outputs": [
    {
     "data": {
      "image/png": "[encoded data removed]",
      "text/plain": [
       "<Figure size 86.4x86.4 with 4 Axes>"
      ]
     },
     "metadata": {},
     "output_type": "display_data"
    }
   ],
   "source": [
    "''' Fig. 4m -- distance to bound, slow vs. fast speeds'''\n",
    "f, ax = plt.subplots(2, 1, figsize=(1.2, 1.2))\n",
    "plt.subplots_adjust(hspace=0.2)\n",
    "color = 'k'\n",
    "MODEL_WIDTH = 1.5\n",
    "MEAN_WIDTH = 1\n",
    "\n",
    "# plot dist to cluster vs. model fit SLOW\n",
    "ax[0].hist(slow_all, bins=50, color='k', alpha=0.3);\n",
    "xvals = np.linspace(ax[0].get_xlim()[0], ax[0].get_xlim()[1], 200)\n",
    "ax2 = ax[0].twinx()\n",
    "ax2.plot(xvals, model_slow.weights_[0] * f1_slow.pdf(xvals).ravel(), color=color, lw=MODEL_WIDTH)\n",
    "ax2.plot(xvals, model_slow.weights_[1] * f2_slow.pdf(xvals).ravel(), color=color, lw=MODEL_WIDTH)\n",
    "ax2.set_ylim([0, ax2.get_ylim()[1]])\n",
    "ax2.vlines(model_slow.means_, 0, ax2.get_ylim()[1], linestyles='dashed', colors='k', lw=MEAN_WIDTH)\n",
    "x_min = ax[0].get_xlim()[0]\n",
    "x_max = ax[0].get_xlim()[1]\n",
    "ax2.set_yticks([0, 0.5])\n",
    "ax[0].tick_params(labelbottom=False, labelleft=False)\n",
    "ax2.tick_params(labelright=False, axis=\"y\", which =\"both\", right=False)\n",
    "\n",
    "# plot dist to cluster vs. model fit FAST\n",
    "ax[1].hist(fast_all, bins=50, color='k', alpha=0.3);\n",
    "xvals = np.linspace(ax[1].get_xlim()[0], ax[1].get_xlim()[1], 200)\n",
    "ax2 = ax[1].twinx()\n",
    "ax2.plot(xvals, model_fast.weights_[0] * f1_fast.pdf(xvals).ravel(), color=color, lw=MODEL_WIDTH)\n",
    "ax2.plot(xvals, model_fast.weights_[1] * f2_fast.pdf(xvals).ravel(), color=color, lw=MODEL_WIDTH)\n",
    "ax2.set_ylim([0, ax2.get_ylim()[1]])\n",
    "ax2.vlines(model_fast.means_, 0, ax2.get_ylim()[1], linestyles='dashed', colors='k', lw=MEAN_WIDTH)\n",
    "x_min = np.min((ax[1].get_xlim()[0], x_min))\n",
    "x_max = np.max((ax[1].get_xlim()[1], x_max))\n",
    "ax2.set_yticks([0, 0.5])\n",
    "\n",
    "ax[1].tick_params(labelleft=False, which='major', labelsize=7.5, pad=0.5)\n",
    "ax2.tick_params(labelright=False, axis=\"y\", which =\"both\", right=False)\n",
    "ax[0].tick_params(axis=\"y\", which =\"both\", left=False)\n",
    "ax[1].tick_params(labelleft=False, which='major', labelsize=7.5, pad=0.5)\n",
    "ax[1].tick_params(axis=\"y\", which =\"both\", left=False)\n",
    "\n",
    "ax[0].set_xlim(x_min+1, x_max-1)\n",
    "ax[1].set_xlim(x_min+1, x_max-1)\n",
    "ax[1].set_xticks([-2, -1, 0, 1, 2])\n",
    "ax[0].set_xticks([-2, -1, 0, 1, 2])\n",
    "ax[1].set_xticklabels([2, 1, 0, 1, 2])\n",
    "ax[0].set_ylabel('slow', fontsize=9, labelpad=1)\n",
    "ax[1].set_ylabel('fast', fontsize=9, labelpad=1)\n",
    "ax[1].set_xlabel('norm. distance\\nto midpoint', fontsize=9, labelpad=1)\n",
    "\n",
    "f.savefig(save_folder + 'speed_hist_all.png', dpi=400, bbox_inches='tight')\n",
    "plt.show()"
   ]
  },
  {
   "cell_type": "code",
   "execution_count": 37,
   "metadata": {},
   "outputs": [],
   "source": [
    "''' single session examples '''\n",
    "# m = 'Pisa'\n",
    "# s = '0430_1'\n",
    "m = 'Toronto'\n",
    "s = '1112_1'\n",
    "d = data[m][s]"
   ]
  },
  {
   "cell_type": "code",
   "execution_count": 38,
   "metadata": {},
   "outputs": [],
   "source": [
    "dd_by_pos = d['pos_dist']\n",
    "binned_speed = d['binned_speed']\n",
    "speed = d['A'][:, 1]\n",
    "speed_bins = np.linspace(2, np.max(speed)-20, num=9)\n",
    "speed_idx = np.digitize(binned_speed.ravel(), speed_bins)\n",
    "flat_pos = dd_by_pos.ravel()\n",
    "\n",
    "scores_by_speed_mean = np.zeros(9)\n",
    "scores_by_speed_sem = np.zeros(9)\n",
    "scores_by_speed_std = np.zeros(9)\n",
    "for i, b in enumerate(np.unique(speed_idx)):\n",
    "    scores_by_speed_mean[i] = np.mean(np.abs(flat_pos[speed_idx==b]))\n",
    "    scores_by_speed_sem[i] = stats.sem(np.abs(flat_pos[speed_idx==b]))\n",
    "    scores_by_speed_std[i] = np.std(np.abs(flat_pos[speed_idx==b]))"
   ]
  },
  {
   "cell_type": "code",
   "execution_count": 39,
   "metadata": {},
   "outputs": [
    {
     "data": {
      "image/png": "[encoded data removed]",
      "text/plain": [
       "<Figure size 86.4x86.4 with 1 Axes>"
      ]
     },
     "metadata": {},
     "output_type": "display_data"
    }
   ],
   "source": [
    "f, ax = plt.subplots(1, 1, figsize=(1.2, 1.2))\n",
    "\n",
    "xvals = moving_avg(np.append(speed_bins, np.max(binned_speed)), 2)\n",
    "ax.plot(xvals, scores_by_speed_mean, 'k', linewidth=1)\n",
    "ax.fill_between(xvals, scores_by_speed_mean + scores_by_speed_sem,\n",
    "                scores_by_speed_mean - scores_by_speed_sem, color='k', linewidth=0.3, alpha=0.1)\n",
    "\n",
    "if m == 'Toronto':\n",
    "    ax.set_yticks([0.6, 0.8, 1.0, 1.2])\n",
    "else:\n",
    "    ax.set_yticks([0.8, 1.0, 1.2])\n",
    "\n",
    "if m == 'Pisa':\n",
    "    ax.set_xticks([0, 20, 40, 60, 80])\n",
    "else:\n",
    "    ax.set_xticks([0, 20, 40, 60])\n",
    "ax.tick_params(which='major', labelsize=7.5, pad=0.5)\n",
    "ax.set_xlabel('speed (cm/s)', fontsize=9, labelpad=1)\n",
    "ax.set_ylabel('distance\\nto midpoint', fontsize=9, labelpad=1)\n",
    "\n",
    "f.savefig(save_folder + m + '_' + s + '_dd_by_speed.png', dpi=400, bbox_inches='tight')\n",
    "plt.show()"
   ]
  },
  {
   "cell_type": "code",
   "execution_count": 40,
   "metadata": {},
   "outputs": [],
   "source": [
    "flat_pos = dd_by_pos.ravel()\n",
    "flat_speed = binned_speed.ravel()\n",
    "slow_speed = np.percentile(flat_speed, 20)\n",
    "fast_speed = np.percentile(flat_speed, 80)\n",
    "\n",
    "# fit a Gaussian mixture model to fast and slow\n",
    "model_slow = GaussianMixture(n_components=2)\n",
    "model_slow.fit(flat_pos[flat_speed<=slow_speed, None])\n",
    "f1_slow = stats.norm(model_slow.means_[0], np.sqrt(model_slow.covariances_[0]))\n",
    "f2_slow = stats.norm(model_slow.means_[1], np.sqrt(model_slow.covariances_[1]))\n",
    "\n",
    "model_fast = GaussianMixture(n_components=2)\n",
    "model_fast.fit(flat_pos[flat_speed>=fast_speed, None])\n",
    "f1_fast = stats.norm(model_fast.means_[0], np.sqrt(model_fast.covariances_[0]))\n",
    "f2_fast = stats.norm(model_fast.means_[1], np.sqrt(model_fast.covariances_[1]))"
   ]
  },
  {
   "cell_type": "code",
   "execution_count": 41,
   "metadata": {},
   "outputs": [
    {
     "data": {
      "image/png": "[encoded data removed]",
      "text/plain": [
       "<Figure size 86.4x86.4 with 4 Axes>"
      ]
     },
     "metadata": {},
     "output_type": "display_data"
    }
   ],
   "source": [
    "f, ax = plt.subplots(2, 1, figsize=(1.2, 1.2))\n",
    "plt.subplots_adjust(hspace=0.2)\n",
    "if m in ['Pisa', 'Hanover', 'Calais']:\n",
    "    color = cp_color\n",
    "else:\n",
    "    color = cr_color\n",
    "MODEL_WIDTH = 1.5\n",
    "MEAN_WIDTH = 1\n",
    "\n",
    "# SLOW\n",
    "# histogram of distance to cluster (slowest 20%)\n",
    "ax[0].hist(flat_pos[flat_speed<=slow_speed], \n",
    "           bins=50, color='k', alpha=0.3);\n",
    "xvals = np.linspace(ax[0].get_xlim()[0], ax[0].get_xlim()[1], 200)\n",
    "\n",
    "# model fit\n",
    "ax2 = ax[0].twinx()\n",
    "ax2.plot(xvals, model_slow.weights_[0] * f1_slow.pdf(xvals).ravel(), \n",
    "         color=color, lw=MODEL_WIDTH)\n",
    "ax2.plot(xvals, model_slow.weights_[1] * f2_slow.pdf(xvals).ravel(), \n",
    "         color=color, lw=MODEL_WIDTH)\n",
    "ax2.set_ylim([0, ax2.get_ylim()[1]])\n",
    "ax2.vlines(model_slow.means_, 0, ax2.get_ylim()[1], \n",
    "           linestyles='dashed', colors='k', lw=MEAN_WIDTH)\n",
    "\n",
    "# FAST\n",
    "# histogram of distance to cluster (fastest 20%)\n",
    "ax[1].hist(flat_pos[flat_speed>=fast_speed],\n",
    "           bins=50, color='k', alpha=0.3);\n",
    "xvals = np.linspace(ax[1].get_xlim()[0], ax[1].get_xlim()[1], 200)\n",
    "\n",
    "# model fit\n",
    "ax3 = ax[1].twinx()\n",
    "ax3.plot(xvals, model_fast.weights_[0] * f1_fast.pdf(xvals).ravel(), \n",
    "         color=color, lw=MODEL_WIDTH)\n",
    "ax3.plot(xvals, model_fast.weights_[1] * f2_fast.pdf(xvals).ravel(), \n",
    "         color=color, lw=MODEL_WIDTH)\n",
    "ax3.set_ylim([0, ax3.get_ylim()[1]])\n",
    "ax3.vlines(model_fast.means_, 0, ax3.get_ylim()[1], \n",
    "           linestyles='dashed', colors='k', lw=MEAN_WIDTH)\n",
    "\n",
    "# SET AXIS PARAMS\n",
    "ax[1].set_xticks([-2, -1, 0, 1, 2])\n",
    "ax[0].set_xticks([-2, -1, 0, 1, 2])\n",
    "ax[1].set_xticklabels([2, 1, 0, 1, 2])\n",
    "\n",
    "ax[0].tick_params(labelbottom=False, labelleft=False)\n",
    "ax[0].tick_params(axis=\"y\", which =\"both\", left=False)\n",
    "ax[1].tick_params(labelleft=False, which='major', labelsize=7.5, pad=0.5)\n",
    "ax[1].tick_params(axis=\"y\", which =\"both\", left=False)\n",
    "ax2.tick_params(labelbottom=False, labelright=False, \n",
    "                axis=\"y\", which =\"both\", right=False)\n",
    "ax3.tick_params(labelright=False, axis=\"y\", which =\"both\", right=False)\n",
    "\n",
    "ax[0].set_xlim(-2, 2)\n",
    "ax[1].set_xlim(-2, 2)\n",
    "ax[0].set_ylabel('slow', fontsize=9, labelpad=1)\n",
    "ax[1].set_ylabel('fast', fontsize=9, labelpad=1)\n",
    "ax[1].set_xlabel('distance\\nto midpoint', fontsize=9, labelpad=1)\n",
    "\n",
    "f.savefig(save_folder + m + '_' + s + '_speed_hist.png', dpi=400, bbox_inches='tight')\n",
    "plt.show()"
   ]
  },
  {
   "cell_type": "code",
   "execution_count": 16,
   "metadata": {},
   "outputs": [],
   "source": [
    "''' normalized running speed vs. track location - all mice (originally part of Fig. 1)'''\n",
    "avg_speeds = np.zeros((N_sessions, 200))\n",
    "sem_speeds = []\n",
    "all_positions = np.asarray([])\n",
    "all_speeds = np.asarray([])\n",
    "i = -1\n",
    "for m, session in zip(mice, sessions):\n",
    "    for s in session:\n",
    "        i += 1\n",
    "        d = data[m][s]\n",
    "        A = d['A']\n",
    "        \n",
    "        # running speed by position\n",
    "        speed = A[:, 1].copy()\n",
    "        posx = A[:, 0]\n",
    "        pos_bin = 2 # cm\n",
    "        \n",
    "        # normalize running speed\n",
    "        norm_speed = (speed - np.min(speed)) / (np.max(speed) - np.min(speed))\n",
    "\n",
    "        # bin speed into position bins\n",
    "        x_max = np.round(np.max(posx),-2)\n",
    "        edges = np.arange(0, x_max + 2*pos_bin, pos_bin)\n",
    "        b_idx = np.digitize(posx, edges)\n",
    "\n",
    "        binned_speed = np.zeros(np.unique(b_idx).shape[0])\n",
    "        sem_speed = np.zeros(np.unique(b_idx).shape[0])\n",
    "        for j, b in enumerate(np.unique(b_idx)):\n",
    "            binned_speed[j] = np.mean(norm_speed[b_idx == b])\n",
    "            sem_speed[j] = stats.sem(norm_speed[b_idx == b])\n",
    "        \n",
    "        # save everything\n",
    "        avg_speeds[i, :] = binned_speed\n",
    "        sem_speeds.append(sem_speed)\n",
    "        all_positions = np.append(all_positions, posx)\n",
    "        all_speeds = np.append(all_speeds, norm_speed)"
   ]
  },
  {
   "cell_type": "code",
   "execution_count": 17,
   "metadata": {},
   "outputs": [],
   "source": [
    "for i, avg in enumerate(avg_speeds):\n",
    "    if i == 0:\n",
    "        avg_array = avg\n",
    "    else:\n",
    "        avg_array = np.row_stack((avg_array, avg))\n",
    "        \n",
    "speed_25 = np.percentile(avg_array, 25, axis=0)\n",
    "speed_75 = np.percentile(avg_array, 75, axis=0)"
   ]
  },
  {
   "cell_type": "code",
   "execution_count": 18,
   "metadata": {},
   "outputs": [
    {
     "data": {
      "image/png": "[encoded data removed]",
      "text/plain": [
       "<Figure size 86.4x43.2 with 1 Axes>"
      ]
     },
     "metadata": {},
     "output_type": "display_data"
    }
   ],
   "source": [
    "# plot mean over a hist showing the distribution, like in S7F, G\n",
    "f, ax = plt.subplots(1, 1, figsize=(1.2, 0.6))\n",
    "positions = np.arange(0, 400, pos_bin)\n",
    "\n",
    "ax.plot(positions, np.mean(avg_array, axis=0), color='k', lw=0.75)\n",
    "ax.fill_between(positions, np.mean(avg_array, axis=0) + stats.sem(avg_array, axis=0), \n",
    "                np.mean(avg_array, axis=0) - stats.sem(avg_array, axis=0), \n",
    "                color='k', lw=0.5, alpha=0.1)\n",
    "# ax.fill_between(positions, speed_25, speed_75, \n",
    "#                 color='k', lw=0.5, alpha=0.1)\n",
    "ax.set_ylim([0.3, 0.55])\n",
    "ax.set_xlim([0, 400])\n",
    "ax.tick_params(which='major', labelsize=7.5, pad=0.5)\n",
    "ax.set_title('2-map sessions', fontsize=10, pad=3)\n",
    "ax.set_xlabel('position (cm)', fontsize=9, labelpad=1)\n",
    "ax.set_ylabel('norm speed', fontsize=9, labelpad=1)\n",
    "\n",
    "f.savefig(save_folder + 'speed_by_pos_all.png', dpi=400, bbox_inches='tight')\n",
    "plt.show()"
   ]
  },
  {
   "cell_type": "code",
   "execution_count": 184,
   "metadata": {},
   "outputs": [
    {
     "data": {
      "image/png": "[encoded data removed]",
      "text/plain": [
       "<Figure size 108x43.2 with 2 Axes>"
      ]
     },
     "metadata": {},
     "output_type": "display_data"
    }
   ],
   "source": [
    "# plot mean over a hist showing the distribution, like in S7F, G\n",
    "f, ax = plt.subplots(1, 1, figsize=(1.5, 0.6))\n",
    "positions = np.arange(0, 400, pos_bin)\n",
    "\n",
    "im = ax.hexbin(all_positions, all_speeds, \n",
    "               gridsize=50, clim=[1000, 3500], cmap='Greys')\n",
    "ax.plot(positions, np.mean(avg_array, axis=0), color='k', lw=1.5)\n",
    "\n",
    "ax.set_ylim([0, 1])\n",
    "ax.set_xlim([0, 400])\n",
    "ax.tick_params(which='major', labelsize=7.5, pad=0.5)\n",
    "ax.set_title('2-map sessions', fontsize=10, pad=3)\n",
    "ax.set_xlabel('position (cm)', fontsize=9, labelpad=1)\n",
    "ax.set_ylabel('norm speed', fontsize=9, labelpad=1)\n",
    "\n",
    "cbar = f.colorbar(im, ticks=np.arange(1e3, 4e3, 1e3))\n",
    "cbar.ax.tick_params(labelsize=7.5)\n",
    "\n",
    "f.savefig(save_folder + 'speed_by_pos_all_hist.png', dpi=400, bbox_inches='tight')\n",
    "plt.show()"
   ]
  },
  {
   "cell_type": "code",
   "execution_count": 19,
   "metadata": {},
   "outputs": [],
   "source": [
    "''' REWARDS AND LANDMARKS '''\n",
    "''' get and format reward info '''\n",
    "dt = 0.02\n",
    "for m, session in zip(mice, sessions):\n",
    "    for s in session:\n",
    "        d = data[m][s]\n",
    "        d['reward_data'] = {}\n",
    "        \n",
    "        # get behavioral params\n",
    "        behave_data = d['behavior']\n",
    "        post = behave_data['post']\n",
    "        posx = behave_data['posx']\n",
    "        trial = get_data.trial_idx(posx)\n",
    "        lickt = behave_data['lickt']\n",
    "        \n",
    "        # get reward info\n",
    "        reward = behave_data['reward']\n",
    "        reward_centers = np.array(reward['centers'])\n",
    "        rewardt = reward['times']\n",
    "        auto_reward = reward['auto']\n",
    "        misses = reward['miss'].astype(bool)\n",
    "        reward_trials = reward['trials']\n",
    "\n",
    "        # find estimated reward times for misses\n",
    "        missed_centers = reward_centers[misses]\n",
    "        missed_trials = reward_trials[misses]\n",
    "        missed_trials = missed_trials[missed_trials%100 > 0]\n",
    "\n",
    "        for t in np.unique(missed_trials):\n",
    "            trial_pos = posx[trial == t]\n",
    "            trial_t = post[trial == t]\n",
    "            trial_centers = missed_centers[missed_trials == t]\n",
    "\n",
    "            for c in trial_centers:\n",
    "                idx = np.argmin(np.abs(trial_pos - c))\n",
    "                rewardt[(reward_trials == t) & (reward_centers == c)] = trial_t[idx]\n",
    "\n",
    "        # get lick and reward indices\n",
    "        lick_ct = get_data.spiketrain(post, dt, lickt, index=False)\n",
    "        reward_idx = get_data.spiketrain(post, dt, rewardt, index=True)\n",
    "        d['reward_data']['lick_ct'] = lick_ct\n",
    "        d['reward_data']['reward_idx'] = reward_idx\n",
    "        d['reward_data']['centers'] = reward_centers\n",
    "        d['reward_data']['trials'] = reward_trials"
   ]
  },
  {
   "cell_type": "code",
   "execution_count": 20,
   "metadata": {},
   "outputs": [],
   "source": [
    "# calculate similarity score across trials\n",
    "from scipy.spatial.distance import pdist\n",
    "from scipy.spatial.distance import squareform\n",
    "from dynamic_coding_analysis.analysis_pipeline import process_spikes as spk\n",
    "\n",
    "for m, session in zip(mice, sessions):\n",
    "    for s in session:\n",
    "        d = data[m][s]\n",
    "        Y = d['Y'].copy()\n",
    "        Y_unwrapped = np.reshape(Y, (Y.shape[0], -1))\n",
    "        sim_vec = np.abs(pdist(Y_unwrapped, 'correlation')-1)\n",
    "        sim = squareform(sim_vec)\n",
    "        d['similarity'] = sim"
   ]
  },
  {
   "cell_type": "code",
   "execution_count": 21,
   "metadata": {},
   "outputs": [],
   "source": [
    "''' systematic differences in running speed across maps? \n",
    "compare running speed in adjacent blocks of trials from the two maps (to account for changes in running speed over time)\n",
    "'''\n",
    "# get fractional change in speed between maps\n",
    "d_speed = np.asarray([])\n",
    "for m, session in zip(mice, sessions):\n",
    "    for s in session:\n",
    "        d = data[m][s]\n",
    "        A = d['A']\n",
    "        avg_speed = d['avg_speeds']\n",
    "        \n",
    "        # get remap indices\n",
    "        W = d['kmeans']['W']\n",
    "        map0 = d['map0_idx']\n",
    "        remaps = np.where(np.abs(np.diff(W[:, map0])))[0]\n",
    "        if remaps.shape[0]%2==0:\n",
    "            remaps = remaps[:-1]\n",
    "            \n",
    "        # get average running speed for each block of trials\n",
    "        speed_0 = np.zeros(remaps.shape[0]//2)\n",
    "        speed_1 = np.zeros(remaps.shape[0]//2)\n",
    "        t0 = 0\n",
    "        i = -1\n",
    "        if W[0, map0]:\n",
    "            for t1, t2 in zip(remaps[0::2], remaps[1::2]):\n",
    "                i += 1               \n",
    "                speed_0[i] = np.mean(avg_speed[t0:t1])\n",
    "                speed_1[i] = np.mean(avg_speed[t1:t2])\n",
    "                t0 = t2\n",
    "        else:\n",
    "            for t1, t2 in zip(remaps[0::2], remaps[1::2]):\n",
    "                i += 1               \n",
    "                speed_0[i] = np.mean(avg_speed[t1:t2])\n",
    "                speed_1[i] = np.mean(avg_speed[t0:t1])\n",
    "                t0 = t2\n",
    "        \n",
    "        # get fractional change in speed across neighboring blocks and store results\n",
    "        d_speed = np.append(d_speed, (speed_1 - speed_0)/speed_0)"
   ]
  },
  {
   "cell_type": "code",
   "execution_count": 139,
   "metadata": {},
   "outputs": [
    {
     "name": "stderr",
     "output_type": "stream",
     "text": [
      "C:\\Users\\ilow1\\AppData\\Roaming\\Python\\Python36\\site-packages\\numpy\\core\\fromnumeric.py:2957: RuntimeWarning: Mean of empty slice.\n",
      "  out=out, **kwargs)\n",
      "C:\\Users\\ilow1\\AppData\\Roaming\\Python\\Python36\\site-packages\\numpy\\core\\_methods.py:80: RuntimeWarning: invalid value encountered in double_scalars\n",
      "  ret = ret.dtype.type(ret / rcount)\n"
     ]
    }
   ],
   "source": [
    "# shuffled fractional change in speed\n",
    "num_shuffs = 1000\n",
    "d_speed_shuff = []\n",
    "for m, session in zip(mice, sessions):\n",
    "    for s in session:\n",
    "        d = data[m][s]\n",
    "        A = d['A']\n",
    "        avg_speed = d['avg_speeds']\n",
    "            \n",
    "        # get remap indices\n",
    "        W = d['kmeans']['W']\n",
    "        map0 = d['map0_idx']\n",
    "        remaps = np.where(np.abs(np.diff(W[:, map0])))[0]\n",
    "        if remaps.shape[0]%2==0:\n",
    "            remaps = remaps[:-1]    \n",
    "        \n",
    "        for shuffle in range(num_shuffs):\n",
    "            # get shuffled speed per block\n",
    "            shuff_speed = avg_speed.copy()\n",
    "            np.random.shuffle(shuff_speed)\n",
    "            speed_0 = np.zeros(remaps.shape[0]//2)\n",
    "            speed_1 = np.zeros(remaps.shape[0]//2)\n",
    "            t0 = 0\n",
    "            i = -1\n",
    "            if W[0, map0]:\n",
    "                for t1, t2 in zip(remaps[0::2], remaps[1::2]):\n",
    "                    i += 1               \n",
    "                    speed_0[i] = np.mean(shuff_speed[t0:t1])\n",
    "                    speed_1[i] = np.mean(shuff_speed[t1:t2])\n",
    "                    t0 = t2\n",
    "            else:\n",
    "                for t1, t2 in zip(remaps[0::2], remaps[1::2]):\n",
    "                    i += 1               \n",
    "                    speed_0[i] = np.mean(shuff_speed[t1:t2])\n",
    "                    speed_1[i] = np.mean(shuff_speed[t0:t1])\n",
    "                    t0 = t2\n",
    "\n",
    "            # get fractional change in speed across neighboring blocks and store results\n",
    "            if np.mean(speed_0) < np.mean(speed_1):\n",
    "                d_speed_shuff = np.append(d_speed_shuff, (speed_1 - speed_0)/speed_0)\n",
    "            else:\n",
    "                d_speed_shuff = np.append(d_speed_shuff, (speed_0 - speed_1)/speed_1)  "
   ]
  },
  {
   "cell_type": "code",
   "execution_count": 146,
   "metadata": {},
   "outputs": [
    {
     "data": {
      "image/png": "[encoded data removed]",
      "text/plain": [
       "<Figure size 86.4x57.6 with 1 Axes>"
      ]
     },
     "metadata": {},
     "output_type": "display_data"
    }
   ],
   "source": [
    "# compare true mean and shuffled mean\n",
    "f, ax = plt.subplots(1, 1, figsize=(1.2, 0.8))\n",
    "\n",
    "# plot changes in speed for all remap sessions\n",
    "ax.hist(d_speed, color='k', bins=20, alpha=0.3)\n",
    "# ax.hist(d_speed_shuff, color='r', bins=20000, alpha=0.3)\n",
    "\n",
    "# plot mean vs. shuffle mean\n",
    "ax_ylim = ax.get_ylim()\n",
    "ax.vlines(np.nanmedian(d_speed_shuff), ax_ylim[0], ax_ylim[1], color='r', \n",
    "          linestyles='dashed', lw=1, alpha=1, label='shuff')\n",
    "ax.vlines(np.nanmedian(d_speed), ax_ylim[0], ax_ylim[1], color='k', \n",
    "          linestyles='dashed', lw=1, alpha=1, label='true')\n",
    "ax.set_xticks(np.arange(-0.5, 1.75, 0.5))\n",
    "ax.set_xticklabels([-0.5, 0, 0.5, 1, 1.5])\n",
    "# ax.set_xlim([-0.25, 1.75])\n",
    "ax.tick_params(which='major', labelsize=7.5, pad=0.5)\n",
    "ax.set_xlabel('frac. change\\nin speed', fontsize=9, labelpad=1)\n",
    "ax.set_ylabel('N blocks', fontsize=9, labelpad=2)\n",
    "# ax.legend(bbox_to_anchor=(1,1,0,0))\n",
    "\n",
    "f.savefig(save_folder + '/speed_vs_maps.png', dpi=400, bbox_inches='tight')\n",
    "plt.show()"
   ]
  },
  {
   "cell_type": "code",
   "execution_count": 180,
   "metadata": {},
   "outputs": [
    {
     "data": {
      "image/png": "[encoded data removed]",
      "text/plain": [
       "<Figure size 72x86.4 with 1 Axes>"
      ]
     },
     "metadata": {},
     "output_type": "display_data"
    }
   ],
   "source": [
    "# compare true vs. shuffle - box and whisker\n",
    "f, ax = plt.subplots(1, 1, figsize=(1, 1.2))\n",
    "\n",
    "bplot = ax.boxplot((d_speed, d_speed_shuff), \n",
    "                   labels=['true', 'shuffle'], \n",
    "                   whis=[2.5, 97.5],\n",
    "                   showfliers=False\n",
    "                  )\n",
    "\n",
    "ax.tick_params(which='major', labelsize=7.5, pad=0.5)\n",
    "# ax.set_ylim((-0.75, 1.75))\n",
    "ax.set_ylabel('frac. change\\nin speed', fontsize=9, labelpad=1)\n",
    "\n",
    "f.savefig(save_folder + '/speed_vs_maps_box.png', dpi=400, bbox_inches='tight')\n",
    "plt.show()"
   ]
  },
  {
   "cell_type": "code",
   "execution_count": 153,
   "metadata": {},
   "outputs": [
    {
     "name": "stdout",
     "output_type": "stream",
     "text": [
      "mean percent change in running speed, sem = 12.28, 2.68\n",
      "fractional change in speed across maps vs. shuffled (rank sums): p = 0.02593934283773642\n",
      "5.94% of block pairs had a greater change in speed than 95% of shuffle\n"
     ]
    }
   ],
   "source": [
    "# significantly different than shuffle?\n",
    "print('mean percent change in running speed, sem = {}, {}'.format(np.round(np.mean(d_speed*100), 2), \n",
    "                                                                  np.round(stats.sem(d_speed*100), 2)))\n",
    "speed_stat, speed_p = stats.ranksums(d_speed, d_speed_shuff)\n",
    "print('fractional change in speed across maps vs. shuffled (rank sums): p = {}'.format(speed_p))\n",
    "\n",
    "# vs. 95% of shuff\n",
    "pct_95 = np.percentile(d_speed_shuff, 95)\n",
    "p05 = (np.sum(d_speed > pct_95) / d_speed.shape[0])*100\n",
    "\n",
    "print('{:.2f}% of block pairs had a greater change in speed than 95% of shuffle'.format(p05))"
   ]
  },
  {
   "cell_type": "code",
   "execution_count": 41,
   "metadata": {},
   "outputs": [
    {
     "data": {
      "text/plain": [
       "(80,)"
      ]
     },
     "execution_count": 41,
     "metadata": {},
     "output_type": "execute_result"
    }
   ],
   "source": [
    "np.mean(ll_pos, axis=1).shape"
   ]
  },
  {
   "cell_type": "code",
   "execution_count": 22,
   "metadata": {},
   "outputs": [],
   "source": [
    "''' distance to cluster by track position '''\n",
    "# get all distances across sessions\n",
    "all_ll_pos = np.asarray([])\n",
    "avg_ll_pos = np.asarray([])\n",
    "all_ll_pos_cp = np.asarray([])\n",
    "avg_ll_pos_cp = np.asarray([])\n",
    "all_ll_pos_cr = np.asarray([])\n",
    "avg_ll_pos_cr = np.asarray([])\n",
    "for m, session in zip(mice, sessions):\n",
    "    for s in session:\n",
    "        d = data[m][s]\n",
    "        ll_pos = d['pos_dist'].copy()\n",
    "        ll_pos = ll_pos.T\n",
    "        ll_pos = np.abs(ll_pos)\n",
    "        ll_pos = zscore(ll_pos)\n",
    "        \n",
    "        if all_ll_pos.shape[0] == 0:\n",
    "            all_ll_pos = ll_pos # save all trials for all sessions\n",
    "            avg_ll_pos = np.mean(ll_pos, axis=1) # avg w/in session\n",
    "        else:\n",
    "            all_ll_pos = np.column_stack([all_ll_pos, ll_pos])\n",
    "            avg_ll_pos = np.column_stack([avg_ll_pos, np.mean(ll_pos, axis=1)])   \n",
    "            \n",
    "        # split by cue rich/poor\n",
    "        if m in mice[:3]: # cue poor\n",
    "            if all_ll_pos_cp.shape[0] == 0:\n",
    "                all_ll_pos_cp = ll_pos # save all trials for all sessions\n",
    "                avg_ll_pos_cp = np.mean(ll_pos, axis=1) # avg w/in session\n",
    "            else:\n",
    "                all_ll_pos_cp = np.column_stack([all_ll_pos_cp, ll_pos])\n",
    "                avg_ll_pos_cp = np.column_stack([avg_ll_pos_cp, np.mean(ll_pos, axis=1)])\n",
    "        else:\n",
    "            if all_ll_pos_cr.shape[0] == 0:\n",
    "                all_ll_pos_cr = ll_pos # save all trials for all sessions\n",
    "                avg_ll_pos_cr = np.mean(ll_pos, axis=1) # avg w/in session\n",
    "            else:\n",
    "                all_ll_pos_cr = np.column_stack([all_ll_pos_cr, ll_pos])\n",
    "                avg_ll_pos_cr = np.column_stack([avg_ll_pos_cr, np.mean(ll_pos, axis=1)])"
   ]
  },
  {
   "cell_type": "code",
   "execution_count": 23,
   "metadata": {},
   "outputs": [],
   "source": [
    "# compute shuffled ll_pos\n",
    "n_shuffs = 1000\n",
    "max_shift = 400/5\n",
    "all_shuffs_cp = np.asarray([])\n",
    "all_shuffs_cr = np.asarray([])\n",
    "for m, session in zip(mice, sessions):\n",
    "    for s in session:\n",
    "        d = data[m][s]\n",
    "        ll_pos = d['pos_dist'].copy()\n",
    "        ll_pos = ll_pos.T\n",
    "        ll_pos = np.abs(ll_pos)\n",
    "        ll_pos = zscore(ll_pos)\n",
    "        \n",
    "        # shuffle distances\n",
    "        mat_shape = ll_pos.shape\n",
    "        flat_pos = np.ravel(ll_pos, order='F')\n",
    "        shifts = (np.random.rand(n_shuffs, 1)*max_shift).astype(int)\n",
    "            \n",
    "        # split by cue rich/poor\n",
    "        if m in mice[:3]: # cue poor\n",
    "            for i, k in enumerate(shifts):\n",
    "                shuff_pos = np.roll(flat_pos, k, axis=0)\n",
    "                shuff_mat = np.reshape(shuff_pos, mat_shape, order='F')\n",
    "                if all_shuffs_cp.shape[0] == 0:\n",
    "                    all_shuffs_cp = np.mean(shuff_mat, axis=1)\n",
    "                else:\n",
    "                    all_shuffs_cp = np.column_stack([all_shuffs_cp, np.mean(shuff_mat, axis=1)])\n",
    "        else:\n",
    "            for i, k in enumerate(shifts):\n",
    "                shuff_pos = np.roll(flat_pos, k, axis=0)\n",
    "                shuff_mat = np.reshape(shuff_pos, mat_shape, order='F')\n",
    "                if all_shuffs_cr.shape[0] == 0:\n",
    "                    all_shuffs_cr = np.mean(shuff_mat, axis=1)\n",
    "                else:\n",
    "                    all_shuffs_cr = np.column_stack([all_shuffs_cr, np.mean(shuff_mat, axis=1)])"
   ]
  },
  {
   "cell_type": "code",
   "execution_count": 24,
   "metadata": {},
   "outputs": [
    {
     "data": {
      "image/png": "[encoded data removed]",
      "text/plain": [
       "<Figure size 216x86.4 with 2 Axes>"
      ]
     },
     "metadata": {},
     "output_type": "display_data"
    }
   ],
   "source": [
    "# distance to cluster by position - CUE RICH VS. POOR, EQUAL WEIGHTED SESSIONS\n",
    "gs  = gridspec.GridSpec(1, 2, hspace=0, wspace=0.2)\n",
    "f = plt.figure(figsize=(3, 1.2))\n",
    "xvals = np.arange(0, 400, 5)\n",
    "\n",
    "# cue rich sessions\n",
    "ax0 = plt.subplot(gs[0])\n",
    "MEAN = np.mean(all_ll_pos_cr, axis=1)\n",
    "SHUFF_MEAN = np.mean(all_shuffs_cr, axis=1)\n",
    "SHUFF_LOW = np.percentile(all_shuffs_cr, 2.5, axis=1)\n",
    "SHUFF_HIGH = np.percentile(all_shuffs_cr, 97.5, axis=1)\n",
    "\n",
    "ax0.fill_between(xvals, SHUFF_LOW, SHUFF_HIGH, color='r', linewidth=0.2, alpha=0.1, zorder=2)\n",
    "ax0.plot(xvals, SHUFF_MEAN, 'r', linewidth=1, alpha=1, zorder=1)\n",
    "ax0.plot(xvals, MEAN, 'k', linewidth=1, zorder=3, label='true')\n",
    "\n",
    "# cue poor sessions\n",
    "ax1 = plt.subplot(gs[1])\n",
    "MEAN = np.mean(all_ll_pos_cp, axis=1)\n",
    "SHUFF_MEAN = np.mean(all_shuffs_cp, axis=1)\n",
    "SHUFF_LOW = np.percentile(all_shuffs_cp, 5, axis=1)\n",
    "SHUFF_HIGH = np.percentile(all_shuffs_cp, 95, axis=1)\n",
    "\n",
    "ax1.fill_between(xvals, SHUFF_LOW, SHUFF_HIGH, color='r', linewidth=0.2, alpha=0.1, zorder=2)\n",
    "ax1.plot(xvals, SHUFF_MEAN, 'r', linewidth=1, alpha=1, zorder=1, label='shuff')\n",
    "ax1.plot(xvals, MEAN, 'k', linewidth=1, zorder=3, label='true')\n",
    "\n",
    "# set y-axes\n",
    "[ax0_min, ax0_max] = ax0.get_ylim()\n",
    "[ax1_min, ax1_max] = ax1.get_ylim()\n",
    "y_min = np.min([ax0_min, ax1_min])\n",
    "y_max = np.max([ax0_max, ax1_max])\n",
    "ax0.set_ylim([0.9, 1.1])\n",
    "ax1.set_ylim([0.9, 1.1])\n",
    "# ax0.set_ylim([y_min, y_max])\n",
    "# ax1.set_ylim([y_min, y_max])\n",
    "\n",
    "# label axes etc\n",
    "ax0.set_xticks(np.arange(0, 450, 100))\n",
    "ax1.set_xticks(np.arange(0, 450, 100))\n",
    "ax0.set_xlim([0, 400])\n",
    "ax1.set_xlim([0, 400])\n",
    "ax0.tick_params(which='major', labelsize=7.5, pad=0.5)\n",
    "ax1.tick_params(labelleft=False, which='major', labelsize=7.5, pad=0.5)\n",
    "\n",
    "ax1.set_xlabel('position (cm)', fontsize=9, labelpad=3, horizontalalignment='right', x=0.3)\n",
    "ax0.set_ylabel('distance\\nto midpoint', fontsize=9, labelpad=1)\n",
    "ax0.set_title('cue rich', fontsize=10, pad=3)\n",
    "ax1.set_title('cue poor', fontsize=10, pad=3)\n",
    "ax1.legend(bbox_to_anchor=(1,1,0,0), fontsize=7.5)\n",
    "\n",
    "f.savefig(save_folder + 'dd_by_pos_env.png', dpi=400, bbox_inches='tight')\n",
    "plt.show()"
   ]
  },
  {
   "cell_type": "code",
   "execution_count": 25,
   "metadata": {},
   "outputs": [],
   "source": [
    "''' distance to cluster by distance to/from reward '''\n",
    "for m, session in zip(mice, sessions):\n",
    "    for s in session:\n",
    "        d = data[m][s]\n",
    "        A = d['A'].copy()\n",
    "        trials = A[:, 2].astype(int)\n",
    "        centers = d['reward_data']['centers']\n",
    "        reward_trials = d['reward_data']['trials']\n",
    "        trial_pos = np.arange(2.5, 402.5, 5)\n",
    "        n_trials = (np.max(trials)+1).astype(int)\n",
    "        \n",
    "        # get reward centers\n",
    "        reward_idx = np.zeros((n_trials, n_pos))\n",
    "        for t in np.unique(trials):\n",
    "            if t in reward_trials:\n",
    "                for c in centers[reward_trials==t]:\n",
    "                    idx = np.argmin(np.abs(trial_pos - c))\n",
    "                    reward_idx[t, idx] = 1\n",
    "        reward_idx = reward_idx.astype(bool)\n",
    "                    \n",
    "        # get distances\n",
    "        distance_template = np.arange(-50, 55, 5)\n",
    "        flat_idx = np.ravel(reward_idx)\n",
    "        flat_dist = np.full(flat_idx.shape[0], np.nan)\n",
    "        for i in np.where(flat_idx)[0]:\n",
    "            flat_dist[i-10:i+11] = distance_template\n",
    "        reward_dist = np.reshape(flat_dist, reward_idx.shape)\n",
    "                    \n",
    "        d['reward_dist'] = reward_dist"
   ]
  },
  {
   "cell_type": "code",
   "execution_count": 26,
   "metadata": {},
   "outputs": [],
   "source": [
    "# get distance to boundary by distance to/from reward\n",
    "scores_by_rew = np.zeros((N_sessions, 21))\n",
    "prox_bins = distance_template + 2.5\n",
    "i = 0\n",
    "for m, session in zip(mice, sessions):\n",
    "    for s in session:\n",
    "        d = data[m][s]\n",
    "        binned_reward = d['reward_dist'].copy()\n",
    "        flat_reward = binned_reward.ravel()\n",
    "        dd_by_pos = d['pos_dist'].copy()\n",
    "        flat_pos = dd_by_pos.ravel()\n",
    "        \n",
    "        # define bins\n",
    "        prox_idx = np.digitize(flat_reward, prox_bins)\n",
    "        \n",
    "        # get score for each speed bin\n",
    "        for j, b in enumerate(np.unique(prox_idx)[:-1]):\n",
    "            scores_by_rew[i, j] = np.mean(np.abs(flat_pos[prox_idx==b]))\n",
    "        i += 1"
   ]
  },
  {
   "cell_type": "code",
   "execution_count": 27,
   "metadata": {},
   "outputs": [],
   "source": [
    "norm_scores_by_rew = np.zeros_like(scores_by_rew)\n",
    "\n",
    "for i in range(scores_by_rew.shape[0]):\n",
    "    norm_scores_by_rew[i, :] = zscore(scores_by_rew[i, :])"
   ]
  },
  {
   "cell_type": "code",
   "execution_count": 28,
   "metadata": {},
   "outputs": [],
   "source": [
    "# compute shuffle for reward\n",
    "prox_bins = distance_template + 2.5\n",
    "n_shuffs = 1000\n",
    "max_shift = 400/5\n",
    "shuff_scores = np.asarray([])\n",
    "for m, session in zip(mice, sessions):\n",
    "    for s in session:\n",
    "        d = data[m][s]\n",
    "        binned_reward = d['reward_dist'].copy()\n",
    "        flat_reward = binned_reward.ravel(order='F')\n",
    "        dd_by_pos = d['pos_dist'].copy()\n",
    "        flat_pos = dd_by_pos.ravel(order='F')\n",
    "        \n",
    "        # define bins\n",
    "        prox_idx = np.digitize(flat_reward, prox_bins)\n",
    "        \n",
    "        # shuffle distances\n",
    "        shifts = (np.random.rand(n_shuffs, 1)*max_shift).astype(int)\n",
    "        for i, k in enumerate(shifts):\n",
    "            shuff_pos = np.roll(flat_pos, k, axis=0)\n",
    "            # get score for each reward bin\n",
    "            scores_by_rew = np.zeros(21)\n",
    "            for j, b in enumerate(np.unique(prox_idx)[:-1]):\n",
    "                scores_by_rew[j] = np.mean(np.abs(shuff_pos[prox_idx==b]))\n",
    "            if shuff_scores.shape[0] == 0:\n",
    "                shuff_scores = scores_by_rew\n",
    "            else:\n",
    "                shuff_scores = np.column_stack([shuff_scores, scores_by_rew])"
   ]
  },
  {
   "cell_type": "code",
   "execution_count": 29,
   "metadata": {},
   "outputs": [
    {
     "data": {
      "image/png": "[encoded data removed]",
      "text/plain": [
       "<Figure size 86.4x86.4 with 1 Axes>"
      ]
     },
     "metadata": {},
     "output_type": "display_data"
    }
   ],
   "source": [
    "f, ax = plt.subplots(1, 1, figsize=(1.2, 1.2))\n",
    "xvals = distance_template\n",
    "MEAN = np.mean(norm_scores_by_rew, axis=0)\n",
    "SHUFF_MEAN = np.mean(shuff_scores, axis=1)\n",
    "SHUFF_LOW = np.percentile(shuff_scores, 2.5, axis=1)\n",
    "SHUFF_HIGH = np.percentile(shuff_scores, 97.5, axis=1)\n",
    "\n",
    "# plot data and shuffle\n",
    "ax.fill_between(xvals, SHUFF_LOW, SHUFF_HIGH, color='r', linewidth=0.2, alpha=0.1, zorder=1)\n",
    "ax.plot(xvals, SHUFF_MEAN, 'r', linewidth=1, alpha=1, zorder=2)\n",
    "ax.plot(xvals, MEAN, 'k', linewidth=1, zorder=3)\n",
    "\n",
    "# plot reward zone\n",
    "ax.vlines([-25, 25], [0.9, 0.9], [1.1, 1.1], linestyles='dashed', color='k', linewidth=1, alpha=0.5)\n",
    "\n",
    "# labels, axes\n",
    "ax.set_ylim([0.9, 1.1])\n",
    "ax.set_xlim([-50, 50])\n",
    "ax.set_xticks(np.arange(-50, 55, 25))\n",
    "ax.tick_params(which='major', labelsize=7.5, pad=0.5)\n",
    "ax.set_xlabel('dist. to\\nreward (cm)', fontsize=9, labelpad=1)\n",
    "ax.set_ylabel('distance\\nto midpoint', fontsize=9, labelpad=1)\n",
    "\n",
    "f.savefig(save_folder + 'dd_by_reward_zone.png', dpi=400, bbox_inches='tight')\n",
    "plt.show()"
   ]
  },
  {
   "cell_type": "code",
   "execution_count": 123,
   "metadata": {},
   "outputs": [
    {
     "name": "stderr",
     "output_type": "stream",
     "text": [
      "C:\\Users\\ilow1\\Anaconda3\\lib\\site-packages\\ipykernel_launcher.py:45: RuntimeWarning: invalid value encountered in less\n"
     ]
    }
   ],
   "source": [
    "''' get distance to boundary by distance to/from reward (negative = approaching, positive = leaving)\n",
    "see if sign flips systematically (i.e. remaps occur) in reward zone\n",
    "'''\n",
    "scores_by_rew = np.zeros((N_sessions, 21))\n",
    "flips = np.zeros(N_sessions)\n",
    "prox_bins = distance_template + 2.5\n",
    "i = 0\n",
    "for m, session in zip(mice, sessions):\n",
    "    for s in session:\n",
    "        d = data[m][s]\n",
    "        binned_reward = d['reward_dist'].copy()\n",
    "        flat_reward = binned_reward.ravel(order='C')\n",
    "        dd_by_pos = d['pos_dist'].copy()\n",
    "        flat_pos = dd_by_pos.ravel(order='C')\n",
    "        \n",
    "        # define bins\n",
    "        prox_idx = np.digitize(flat_reward, prox_bins)\n",
    "        bins, cts = np.unique(prox_idx, return_counts=True)\n",
    "        bins = bins[:-1]\n",
    "        cts = cts[:-1]\n",
    "        N_bins = bins.shape[0]\n",
    "        N_rewards = np.max(cts)\n",
    "        \n",
    "        # get the scores for each reward/bin\n",
    "        scores_matrix = np.zeros((N_rewards, N_bins))\n",
    "        all_starts = np.where(prox_idx==np.argmax(cts))[0] - np.argmax(cts)\n",
    "        for j, b in enumerate(bins):\n",
    "            bin_scores = flat_pos[prox_idx==b]\n",
    "            if bin_scores.shape[0] == N_rewards:\n",
    "                scores_matrix[:, j] = flat_pos[prox_idx==b]\n",
    "            else:\n",
    "                starts = np.where(prox_idx==b)[0] - b\n",
    "                skip_idx = np.in1d(all_starts, starts)\n",
    "                scores_matrix[skip_idx, j] = bin_scores\n",
    "                scores_matrix[~skip_idx, j] = np.nan\n",
    "                \n",
    "        # get the avg sign entering and apply to exiting\n",
    "        avg_enter = np.mean(scores_matrix[:, :N_bins//2], axis=1)\n",
    "        signs = (avg_enter >= 0).astype(int)\n",
    "        signs[signs==0] = -1\n",
    "        signed_scores = scores_matrix * np.tile(signs, (21, 1)).T\n",
    "        scores_by_rew[i, :] = np.nanmean(signed_scores, axis=0)\n",
    "        \n",
    "        # save the % of bins where sign flips occurred\n",
    "        flips[i] = (np.sum(signed_scores < 0) / (N_rewards*N_bins))*100\n",
    "\n",
    "        i += 1"
   ]
  },
  {
   "cell_type": "code",
   "execution_count": 131,
   "metadata": {},
   "outputs": [],
   "source": [
    "# compute the % flips for each session's shuffle\n",
    "prox_bins = distance_template + 2.5\n",
    "n_shuffs = 1000\n",
    "max_shift = 200/5\n",
    "shuff_flips = np.zeros((N_sessions, n_shuffs))\n",
    "l = 0\n",
    "for m, session in zip(mice, sessions):\n",
    "    for s in session:\n",
    "        d = data[m][s]\n",
    "        binned_reward = d['reward_dist'].copy()\n",
    "        flat_reward = binned_reward.ravel(order='C')\n",
    "        dd_by_pos = d['pos_dist'].copy()\n",
    "        mat_shape = dd_by_pos.shape\n",
    "        flat_pos = dd_by_pos.ravel(order='F')\n",
    "        \n",
    "        # define bins\n",
    "        prox_idx = np.digitize(flat_reward, prox_bins)\n",
    "        bins, cts = np.unique(prox_idx, return_counts=True)\n",
    "        bins = bins[:-1]\n",
    "        cts = cts[:-1]\n",
    "        N_bins = bins.shape[0]\n",
    "        N_rewards = np.max(cts)\n",
    "        \n",
    "        # shuffle distances\n",
    "        shifts = (np.random.rand(n_shuffs, 1)*max_shift).astype(int)\n",
    "        for i, k in enumerate(shifts):\n",
    "            shuff_pos = np.roll(flat_pos, k, axis=0)\n",
    "            shuff_mat = np.reshape(shuff_pos, mat_shape, order='F')\n",
    "            shuff_pos = np.ravel(shuff_mat, order='C')\n",
    "            \n",
    "            # get the scores for each reward/bin\n",
    "            scores_matrix = np.zeros((N_rewards, N_bins))\n",
    "            all_starts = np.where(prox_idx==np.argmax(cts))[0] - np.argmax(cts)\n",
    "            for j, b in enumerate(bins):\n",
    "                bin_scores = flat_pos[prox_idx==b]\n",
    "                if bin_scores.shape[0] == N_rewards:\n",
    "                    scores_matrix[:, j] = flat_pos[prox_idx==b]\n",
    "                else:\n",
    "                    starts = np.where(prox_idx==b)[0] - b\n",
    "                    skip_idx = np.in1d(all_starts, starts)\n",
    "                    scores_matrix[skip_idx, j] = bin_scores\n",
    "                    scores_matrix[~skip_idx, j] = np.nan\n",
    "\n",
    "            # get the avg sign entering and apply to exiting\n",
    "            avg_enter = np.mean(scores_matrix[:, :N_bins//2], axis=1)\n",
    "            signs = (avg_enter >= 0).astype(int)\n",
    "            signs[signs==0] = -1\n",
    "            signed_scores = scores_matrix * np.tile(signs, (21, 1)).T\n",
    "            shuff_scores = np.nanmean(signed_scores, axis=0)\n",
    "\n",
    "            # save the % of bins where sign flips occurred\n",
    "            shuff_flips[l, k] = (np.sum(shuff_scores < 0) / (N_rewards*N_bins))*100\n",
    "        l += 1"
   ]
  },
  {
   "cell_type": "code",
   "execution_count": 115,
   "metadata": {},
   "outputs": [],
   "source": [
    "norm_scores_by_rew = np.zeros_like(scores_by_rew)\n",
    "for i in range(scores_by_rew.shape[0]):\n",
    "    norm_scores_by_rew[i, :] = zscore(scores_by_rew[i, :])"
   ]
  },
  {
   "cell_type": "code",
   "execution_count": 117,
   "metadata": {},
   "outputs": [
    {
     "data": {
      "image/png": "[encoded data removed]",
      "text/plain": [
       "<Figure size 86.4x86.4 with 1 Axes>"
      ]
     },
     "metadata": {},
     "output_type": "display_data"
    }
   ],
   "source": [
    "f, ax = plt.subplots(1, 1, figsize=(1.2, 1.2))\n",
    "xvals = distance_template\n",
    "MEAN = np.mean(norm_scores_by_rew, axis=0)\n",
    "SHUFF_MEAN = np.mean(shuff_scores, axis=1)\n",
    "SHUFF_LOW = np.percentile(shuff_scores, 2.5, axis=1)\n",
    "SHUFF_HIGH = np.percentile(shuff_scores, 97.5, axis=1)\n",
    "\n",
    "# plot data and shuffle\n",
    "# ax.fill_between(xvals, SHUFF_LOW, SHUFF_HIGH, color='r', linewidth=0.2, alpha=0.1, zorder=1)\n",
    "# ax.plot(xvals, SHUFF_MEAN, 'r', linewidth=1, alpha=1, zorder=2)\n",
    "ax.plot(xvals, MEAN, 'k', linewidth=1, zorder=3)\n",
    "\n",
    "# plot reward zone\n",
    "ax.vlines([-25, 25], [0.9, 0.9], [1.1, 1.1], linestyles='dashed', color='k', linewidth=1, alpha=0.5)\n",
    "\n",
    "# labels, axes\n",
    "# ax.set_ylim([0.9, 1.1])\n",
    "ax.set_xlim([-50, 50])\n",
    "ax.set_xticks(np.arange(-50, 55, 25))\n",
    "ax.tick_params(which='major', labelsize=7.5, pad=0.5)\n",
    "ax.set_xlabel('dist. to\\nreward (cm)', fontsize=9, labelpad=1)\n",
    "ax.set_ylabel('distance\\nto midpoint', fontsize=9, labelpad=1)\n",
    "\n",
    "f.savefig(save_folder + 'dd_by_reward_zone.png', dpi=400, bbox_inches='tight')\n",
    "plt.show()"
   ]
  },
  {
   "cell_type": "code",
   "execution_count": 132,
   "metadata": {},
   "outputs": [
    {
     "data": {
      "image/png": "[encoded data removed]",
      "text/plain": [
       "<Figure size 432x288 with 1 Axes>"
      ]
     },
     "metadata": {},
     "output_type": "display_data"
    }
   ],
   "source": [
    "plt.hist(flips, color='k')\n",
    "plt.hist(np.ravel(shuff_flips), bins=1000, color='r')\n",
    "plt.show()"
   ]
  },
  {
   "cell_type": "code",
   "execution_count": 133,
   "metadata": {},
   "outputs": [
    {
     "data": {
      "text/plain": [
       "array([[0., 0., 0., ..., 0., 0., 0.],\n",
       "       [0., 0., 0., ..., 0., 0., 0.],\n",
       "       [0., 0., 0., ..., 0., 0., 0.],\n",
       "       ...,\n",
       "       [0., 0., 0., ..., 0., 0., 0.],\n",
       "       [0., 0., 0., ..., 0., 0., 0.],\n",
       "       [0., 0., 0., ..., 0., 0., 0.]])"
      ]
     },
     "execution_count": 133,
     "metadata": {},
     "output_type": "execute_result"
    }
   ],
   "source": [
    "shuff_flips"
   ]
  },
  {
   "cell_type": "code",
   "execution_count": null,
   "metadata": {},
   "outputs": [],
   "source": []
  }
 ],
 "metadata": {
  "kernelspec": {
   "display_name": "Python 3",
   "language": "python",
   "name": "python3"
  },
  "language_info": {
   "codemirror_mode": {
    "name": "ipython",
    "version": 3
   },
   "file_extension": ".py",
   "mimetype": "text/x-python",
   "name": "python",
   "nbconvert_exporter": "python",
   "pygments_lexer": "ipython3",
   "version": "3.6.5"
  }
 },
 "nbformat": 4,
 "nbformat_minor": 2
}
