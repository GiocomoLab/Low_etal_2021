{
 "cells": [
  {
   "cell_type": "code",
   "execution_count": 1,
   "metadata": {},
   "outputs": [
    {
     "name": "stderr",
     "output_type": "stream",
     "text": [
      "C:\\Users\\ilow1\\Anaconda3\\lib\\site-packages\\h5py\\__init__.py:36: FutureWarning: Conversion of the second argument of issubdtype from `float` to `np.floating` is deprecated. In future, it will be treated as `np.float64 == np.dtype(float).type`.\n",
      "  from ._conv import register_converters as _register_converters\n"
     ]
    }
   ],
   "source": [
    "import numpy as np\n",
    "\n",
    "from analysis_pipeline import get_data\n",
    "from analysis_pipeline import process_spikes as spk\n",
    "from analysis_pipeline import process_behavior as beh\n",
    "from analysis_pipeline import make_plots\n",
    "from analysis_pipeline import helpers\n",
    "\n",
    "import matplotlib.pyplot as plt\n",
    "from matplotlib import gridspec\n",
    "\n",
    "from tqdm import trange\n",
    "from scipy import stats"
   ]
  },
  {
   "cell_type": "code",
   "execution_count": 2,
   "metadata": {},
   "outputs": [],
   "source": [
    "# file paths - define these to match your local paths\n",
    "base = 'G:/My Drive/Giocomo Lab/RandomForage/'\n",
    "data_folder = base + 'aggregate_data/'\n",
    "\n",
    "# to save figure images, if desired\n",
    "# save_folder = base + '/figure_folder/'\n",
    "# supp_save_folder = base + '/figure_folder/'"
   ]
  },
  {
   "cell_type": "code",
   "execution_count": 3,
   "metadata": {},
   "outputs": [
    {
     "name": "stdout",
     "output_type": "stream",
     "text": [
      "N mice: 13\n",
      "N sessions: 28\n"
     ]
    }
   ],
   "source": [
    "# define sessions\n",
    "mice = ['Pisa', 'Hanover', 'Calais', # cue poor\n",
    "        'Seattle',  'Portland', 'Quebec', 'Toronto', 'Vancouver', # cue rich\n",
    "        'Mumbai', 'Kerala', 'Goa', 'Punjab', 'Salvador'] # cue rich (NP9 = male)\n",
    "mouse_IDs = ['1c', '2a', '3a', '6a', '6b', '7a', '7b', '7c', '9a', ' 9b', '9c', '9d', '10a']\n",
    "sessions = [['0430_1', '0501_1', '0502_1'], # Pisa\n",
    "            ['0615_2'], # Hanover\n",
    "            ['0713_2'], # Calais\n",
    "            ['1005_1', '1006_1', '1007_1'], # Seattle\n",
    "            ['1005_2'],  # Portland\n",
    "            ['1007_1'], # Quebec\n",
    "            ['1111_1', '1112_1', '1113_1', '1114_1', '1115_1', '1117_1'], # Toronto\n",
    "            ['1114_1', '1118_1'], # Vancouver\n",
    "            ['1130_1', '1201_1', '1129_1'], # Mumbai\n",
    "            ['1207_1'], # Kerala\n",
    "            ['1211_1', '1210_1', '1209_1'], # Goa\n",
    "            ['1217_1', '1214_1'], # Punjab\n",
    "            ['1202_1'] # Salvador\n",
    "           ]\n",
    "\n",
    "print('N mice: ' + str(len(mice)))\n",
    "N_sessions = 0\n",
    "for s in sessions:\n",
    "    N_sessions += len(s)\n",
    "print('N sessions: ' + str(N_sessions))"
   ]
  },
  {
   "cell_type": "code",
   "execution_count": 4,
   "metadata": {},
   "outputs": [],
   "source": [
    "# make a dict to hold data\n",
    "data = {}\n",
    "for session, m in zip(sessions, mice):\n",
    "    data[m] = {}\n",
    "    for s in session:\n",
    "        data[m][s] = {}"
   ]
  },
  {
   "cell_type": "code",
   "execution_count": 5,
   "metadata": {},
   "outputs": [
    {
     "name": "stdout",
     "output_type": "stream",
     "text": [
      "Calais_0713_2 corrected for mistargeting\n",
      "Toronto_1112_1 corrected for mistargeting\n",
      "Mumbai_1130_1 corrected for mistargeting\n"
     ]
    }
   ],
   "source": [
    "# load the data\n",
    "N_cells = 0\n",
    "for m, session in zip(mice, sessions):\n",
    "    for i, s in enumerate(session):\n",
    "        d = data[m][s]\n",
    "        Y, B, A, cells = get_data.open_files(f'{data_folder}gap_corrected/', \n",
    "                                             m, s)\n",
    "        d['Y'] = Y\n",
    "        d['B'] = B\n",
    "        d['A'] = A\n",
    "        d['cells'] = cells\n",
    "\n",
    "        # count the total number of cells\n",
    "        N_cells += d['cells'].shape[0]"
   ]
  },
  {
   "cell_type": "code",
   "execution_count": 6,
   "metadata": {},
   "outputs": [
    {
     "name": "stdout",
     "output_type": "stream",
     "text": [
      "N cells = 4984\n"
     ]
    }
   ],
   "source": [
    "print('N cells = {}'.format(N_cells))"
   ]
  },
  {
   "cell_type": "code",
   "execution_count": 7,
   "metadata": {
    "scrolled": true
   },
   "outputs": [
    {
     "name": "stdout",
     "output_type": "stream",
     "text": [
      "G:/My Drive/Giocomo Lab/RandomForage/Pisa/Pisa_0430_1_data.mat\n",
      "dict_keys(['sp', 'post', 'posx', 'lickt', 'trial', 'reward'])\n",
      "G:/My Drive/Giocomo Lab/RandomForage/Pisa/Pisa_0501_1_data.mat\n",
      "dict_keys(['sp', 'post', 'posx', 'lickt', 'trial', 'reward'])\n",
      "G:/My Drive/Giocomo Lab/RandomForage/Pisa/Pisa_0502_1_data.mat\n",
      "dict_keys(['sp', 'post', 'posx', 'lickt', 'trial', 'reward'])\n",
      "G:/My Drive/Giocomo Lab/RandomForage/Hanover/Hanover_0615_2_data.mat\n",
      "dict_keys(['sp', 'post', 'posx', 'lickt', 'trial', 'reward'])\n",
      "G:/My Drive/Giocomo Lab/RandomForage/Calais/Calais_0713_2_data.mat\n",
      "dict_keys(['sp', 'post', 'posx', 'lickt', 'trial', 'reward', 'framet', 'pupil', 'whisk', 'pupil_upsampled', 'whisk_upsampled', 'testvid_start'])\n",
      "G:/My Drive/Giocomo Lab/RandomForage/Seattle/Seattle_1005_1_data.mat\n",
      "dict_keys(['sp', 'post', 'posx', 'lickt', 'trial', 'reward', 'framet', 'pupil', 'whisk', 'pupil_upsampled', 'whisk_upsampled', 'testvid_start'])\n",
      "G:/My Drive/Giocomo Lab/RandomForage/Seattle/Seattle_1006_1_data.mat\n",
      "dict_keys(['sp', 'post', 'posx', 'lickt', 'trial', 'reward', 'framet', 'pupil', 'whisk', 'pupil_upsampled', 'whisk_upsampled', 'testvid_start'])\n",
      "G:/My Drive/Giocomo Lab/RandomForage/Seattle/Seattle_1007_1_data.mat\n",
      "dict_keys(['sp', 'post', 'posx', 'lickt', 'trial', 'reward', 'framet', 'pupil', 'whisk', 'pupil_upsampled', 'whisk_upsampled', 'testvid_start'])\n",
      "G:/My Drive/Giocomo Lab/RandomForage/Portland/Portland_1005_2_data.mat\n",
      "dict_keys(['sp', 'post', 'posx', 'lickt', 'trial', 'reward', 'framet', 'pupil', 'whisk', 'pupil_upsampled', 'whisk_upsampled', 'testvid_start'])\n",
      "G:/My Drive/Giocomo Lab/RandomForage/Quebec/Quebec_1007_1_data.mat\n",
      "dict_keys(['sp', 'post', 'posx', 'lickt', 'trial', 'reward', 'framet', 'pupil', 'whisk', 'pupil_upsampled', 'whisk_upsampled', 'testvid_start'])\n",
      "G:/My Drive/Giocomo Lab/RandomForage/Toronto/Toronto_1111_1_data.mat\n",
      "dict_keys(['sp', 'post', 'posx', 'lickt', 'trial', 'reward', 'framet', 'pupil', 'whisk', 'pupil_upsampled', 'whisk_upsampled', 'testvid_start'])\n",
      "G:/My Drive/Giocomo Lab/RandomForage/Toronto/Toronto_1112_1_data.mat\n",
      "dict_keys(['sp', 'post', 'posx', 'lickt', 'trial', 'reward', 'framet', 'pupil', 'whisk', 'pupil_upsampled', 'whisk_upsampled', 'testvid_start'])\n",
      "G:/My Drive/Giocomo Lab/RandomForage/Toronto/Toronto_1113_1_data.mat\n",
      "dict_keys(['sp', 'post', 'posx', 'lickt', 'trial', 'reward', 'framet', 'pupil', 'whisk', 'pupil_upsampled', 'whisk_upsampled', 'testvid_start'])\n",
      "G:/My Drive/Giocomo Lab/RandomForage/Toronto/Toronto_1114_1_data.mat\n",
      "dict_keys(['sp', 'post', 'posx', 'lickt', 'trial', 'reward', 'framet', 'pupil', 'whisk', 'pupil_upsampled', 'whisk_upsampled', 'testvid_start'])\n",
      "G:/My Drive/Giocomo Lab/RandomForage/Toronto/Toronto_1115_1_data.mat\n",
      "dict_keys(['sp', 'post', 'posx', 'lickt', 'trial', 'reward', 'framet', 'pupil', 'whisk', 'pupil_upsampled', 'whisk_upsampled', 'testvid_start'])\n",
      "G:/My Drive/Giocomo Lab/RandomForage/Toronto/Toronto_1117_1_data.mat\n",
      "dict_keys(['sp', 'post', 'posx', 'lickt', 'trial', 'reward', 'framet', 'pupil', 'whisk', 'pupil_upsampled', 'whisk_upsampled', 'testvid_start'])\n",
      "G:/My Drive/Giocomo Lab/RandomForage/Vancouver/Vancouver_1114_1_data.mat\n",
      "dict_keys(['sp', 'post', 'posx', 'lickt', 'trial', 'reward', 'framet', 'pupil', 'whisk', 'pupil_upsampled', 'whisk_upsampled', 'testvid_start'])\n",
      "G:/My Drive/Giocomo Lab/RandomForage/Vancouver/Vancouver_1118_1_data.mat\n",
      "dict_keys(['sp', 'post', 'posx', 'lickt', 'trial', 'reward', 'framet', 'pupil', 'whisk', 'pupil_upsampled', 'whisk_upsampled', 'testvid_start'])\n",
      "G:/My Drive/Giocomo Lab/RandomForage/Mumbai/Mumbai_1130_1_data.mat\n",
      "dict_keys(['sp', 'post', 'posx', 'lickt', 'trial', 'reward'])\n",
      "G:/My Drive/Giocomo Lab/RandomForage/Mumbai/Mumbai_1201_1_data.mat\n",
      "dict_keys(['sp', 'post', 'posx', 'lickt', 'trial', 'reward'])\n",
      "G:/My Drive/Giocomo Lab/RandomForage/Mumbai/Mumbai_1129_1_data.mat\n",
      "dict_keys(['sp', 'post', 'posx', 'lickt', 'trial', 'reward'])\n",
      "G:/My Drive/Giocomo Lab/RandomForage/Kerala/Kerala_1207_1_data.mat\n",
      "dict_keys(['sp', 'post', 'posx', 'lickt', 'trial', 'reward'])\n",
      "G:/My Drive/Giocomo Lab/RandomForage/Goa/Goa_1211_1_data.mat\n",
      "dict_keys(['sp', 'post', 'posx', 'lickt', 'trial', 'reward'])\n",
      "G:/My Drive/Giocomo Lab/RandomForage/Goa/Goa_1210_1_data.mat\n",
      "dict_keys(['sp', 'post', 'posx', 'lickt', 'trial', 'reward'])\n",
      "G:/My Drive/Giocomo Lab/RandomForage/Goa/Goa_1209_1_data.mat\n",
      "dict_keys(['sp', 'post', 'posx', 'lickt', 'trial', 'reward'])\n",
      "G:/My Drive/Giocomo Lab/RandomForage/Punjab/Punjab_1217_1_data.mat\n",
      "dict_keys(['sp', 'post', 'posx', 'lickt', 'trial', 'reward'])\n",
      "G:/My Drive/Giocomo Lab/RandomForage/Punjab/Punjab_1214_1_data.mat\n",
      "dict_keys(['sp', 'post', 'posx', 'lickt', 'trial', 'reward'])\n",
      "G:/My Drive/Giocomo Lab/RandomForage/Salvador/Salvador_1202_1_data.mat\n",
      "dict_keys(['sp', 'post', 'posx', 'lickt', 'trial', 'reward'])\n"
     ]
    }
   ],
   "source": [
    "# load the behavioral data\n",
    "for m, session in zip(mice, sessions):\n",
    "    for s in session:\n",
    "        d = data[m][s]\n",
    "        folder = base + m + '/'\n",
    "        data_file = m + '_' + s + '_data.mat'\n",
    "        behavior = get_data.loadData(folder + data_file)\n",
    "        d['behavior'] = behavior"
   ]
  },
  {
   "cell_type": "code",
   "execution_count": 8,
   "metadata": {},
   "outputs": [
    {
     "name": "stderr",
     "output_type": "stream",
     "text": [
      "c:\\users\\ilow1\\documents\\python scripts\\lvl\\lvl\\factor_models\\kmeans.py:282: RuntimeWarning: invalid value encountered in subtract\n",
      "  np.linalg.norm(centroids - last_centroids) /\n"
     ]
    },
    {
     "ename": "KeyboardInterrupt",
     "evalue": "",
     "output_type": "error",
     "traceback": [
      "\u001b[1;31m------------------------------------------------------------------\u001b[0m",
      "\u001b[1;31mKeyboardInterrupt\u001b[0m                Traceback (most recent call last)",
      "\u001b[1;32m<ipython-input-8-4e6037b653ee>\u001b[0m in \u001b[0;36m<module>\u001b[1;34m()\u001b[0m\n\u001b[0;32m      5\u001b[0m         \u001b[0md\u001b[0m \u001b[1;33m=\u001b[0m \u001b[0mdata\u001b[0m\u001b[1;33m[\u001b[0m\u001b[0mm\u001b[0m\u001b[1;33m]\u001b[0m\u001b[1;33m[\u001b[0m\u001b[0ms\u001b[0m\u001b[1;33m]\u001b[0m\u001b[1;33m\u001b[0m\u001b[0m\n\u001b[0;32m      6\u001b[0m         \u001b[0mY\u001b[0m \u001b[1;33m=\u001b[0m \u001b[0md\u001b[0m\u001b[1;33m[\u001b[0m\u001b[1;34m'Y'\u001b[0m\u001b[1;33m]\u001b[0m\u001b[1;33m.\u001b[0m\u001b[0mcopy\u001b[0m\u001b[1;33m(\u001b[0m\u001b[1;33m)\u001b[0m\u001b[1;33m\u001b[0m\u001b[0m\n\u001b[1;32m----> 7\u001b[1;33m         \u001b[0md\u001b[0m\u001b[1;33m[\u001b[0m\u001b[1;34m'kmeans'\u001b[0m\u001b[1;33m]\u001b[0m \u001b[1;33m=\u001b[0m \u001b[0mspk\u001b[0m\u001b[1;33m.\u001b[0m\u001b[0mfit_kmeans\u001b[0m\u001b[1;33m(\u001b[0m\u001b[0mY\u001b[0m\u001b[1;33m,\u001b[0m \u001b[0mn_components\u001b[0m\u001b[1;33m=\u001b[0m\u001b[0mN\u001b[0m\u001b[1;33m,\u001b[0m \u001b[0mn_restarts\u001b[0m\u001b[1;33m=\u001b[0m\u001b[1;36m100\u001b[0m\u001b[1;33m)\u001b[0m\u001b[1;33m\u001b[0m\u001b[0m\n\u001b[0m",
      "\u001b[1;32mC:\\Users\\ilow1\\Documents\\Python Scripts\\Low_etal_2021\\analysis_pipeline\\process_spikes.py\u001b[0m in \u001b[0;36mfit_kmeans\u001b[1;34m(Y, **kwargs)\u001b[0m\n\u001b[0;32m    254\u001b[0m     \u001b[1;31m# fit model\u001b[0m\u001b[1;33m\u001b[0m\u001b[1;33m\u001b[0m\u001b[0m\n\u001b[0;32m    255\u001b[0m     \u001b[0mmodel_kmeans\u001b[0m \u001b[1;33m=\u001b[0m \u001b[0mKMeans\u001b[0m\u001b[1;33m(\u001b[0m\u001b[1;33m**\u001b[0m\u001b[0mkwargs\u001b[0m\u001b[1;33m)\u001b[0m\u001b[1;33m\u001b[0m\u001b[0m\n\u001b[1;32m--> 256\u001b[1;33m     \u001b[0mmodel_kmeans\u001b[0m\u001b[1;33m.\u001b[0m\u001b[0mfit\u001b[0m\u001b[1;33m(\u001b[0m\u001b[0mY_unwrapped\u001b[0m\u001b[1;33m)\u001b[0m\u001b[1;33m\u001b[0m\u001b[0m\n\u001b[0m\u001b[0;32m    257\u001b[0m \u001b[1;33m\u001b[0m\u001b[0m\n\u001b[0;32m    258\u001b[0m     \u001b[1;31m# store params\u001b[0m\u001b[1;33m\u001b[0m\u001b[1;33m\u001b[0m\u001b[0m\n",
      "\u001b[1;32mc:\\users\\ilow1\\documents\\python scripts\\lvl\\lvl\\factor_models\\kmeans.py\u001b[0m in \u001b[0;36mfit\u001b[1;34m(self, X, mask)\u001b[0m\n\u001b[0;32m     63\u001b[0m                 \u001b[0mnp\u001b[0m\u001b[1;33m.\u001b[0m\u001b[0mcopy\u001b[0m\u001b[1;33m(\u001b[0m\u001b[0mX\u001b[0m\u001b[1;33m)\u001b[0m\u001b[1;33m,\u001b[0m \u001b[0mself\u001b[0m\u001b[1;33m.\u001b[0m\u001b[0mn_components\u001b[0m\u001b[1;33m,\u001b[0m \u001b[0mmask\u001b[0m\u001b[1;33m,\u001b[0m\u001b[1;33m\u001b[0m\u001b[0m\n\u001b[0;32m     64\u001b[0m                 \u001b[0mself\u001b[0m\u001b[1;33m.\u001b[0m\u001b[0mmethod\u001b[0m\u001b[1;33m,\u001b[0m \u001b[0mself\u001b[0m\u001b[1;33m.\u001b[0m\u001b[0minit\u001b[0m\u001b[1;33m,\u001b[0m \u001b[0mself\u001b[0m\u001b[1;33m.\u001b[0m\u001b[0mmaxiter\u001b[0m\u001b[1;33m,\u001b[0m\u001b[1;33m\u001b[0m\u001b[0m\n\u001b[1;32m---> 65\u001b[1;33m                 \u001b[0mself\u001b[0m\u001b[1;33m.\u001b[0m\u001b[0mtol\u001b[0m\u001b[1;33m,\u001b[0m \u001b[0mself\u001b[0m\u001b[1;33m.\u001b[0m\u001b[0mseed\u001b[0m\u001b[1;33m\u001b[0m\u001b[0m\n\u001b[0m\u001b[0;32m     66\u001b[0m             )\n\u001b[0;32m     67\u001b[0m \u001b[1;33m\u001b[0m\u001b[0m\n",
      "\u001b[1;32mc:\\users\\ilow1\\documents\\python scripts\\lvl\\lvl\\factor_models\\kmeans.py\u001b[0m in \u001b[0;36m_fit_kmeans\u001b[1;34m(X, rank, mask, method, init, maxiter, tol, seed)\u001b[0m\n\u001b[0;32m    173\u001b[0m     \u001b[1;32mif\u001b[0m \u001b[0mmethod\u001b[0m \u001b[1;33m==\u001b[0m \u001b[1;34m\"lloyds\"\u001b[0m\u001b[1;33m:\u001b[0m\u001b[1;33m\u001b[0m\u001b[0m\n\u001b[0;32m    174\u001b[0m         return kmeans_lloyds(\n\u001b[1;32m--> 175\u001b[1;33m             X, rank, mask, init, maxiter, tol, seed)\n\u001b[0m\u001b[0;32m    176\u001b[0m \u001b[1;33m\u001b[0m\u001b[0m\n\u001b[0;32m    177\u001b[0m     \u001b[1;32melse\u001b[0m\u001b[1;33m:\u001b[0m\u001b[1;33m\u001b[0m\u001b[0m\n",
      "\u001b[1;32mc:\\users\\ilow1\\documents\\python scripts\\lvl\\lvl\\factor_models\\kmeans.py\u001b[0m in \u001b[0;36mkmeans_lloyds\u001b[1;34m(X, rank, mask, init, maxiter, tol, seed)\u001b[0m\n\u001b[0;32m    278\u001b[0m \u001b[1;33m\u001b[0m\u001b[0m\n\u001b[0;32m    279\u001b[0m         \u001b[1;31m# Check convergence.\u001b[0m\u001b[1;33m\u001b[0m\u001b[1;33m\u001b[0m\u001b[0m\n\u001b[1;32m--> 280\u001b[1;33m         \u001b[0msgn_cvg\u001b[0m \u001b[1;33m=\u001b[0m \u001b[0mnp\u001b[0m\u001b[1;33m.\u001b[0m\u001b[0mall\u001b[0m\u001b[1;33m(\u001b[0m\u001b[0mlast_assignments\u001b[0m \u001b[1;33m==\u001b[0m \u001b[0massignments\u001b[0m\u001b[1;33m)\u001b[0m\u001b[1;33m\u001b[0m\u001b[0m\n\u001b[0m\u001b[0;32m    281\u001b[0m         cent_cvg = (\n\u001b[0;32m    282\u001b[0m             \u001b[0mnp\u001b[0m\u001b[1;33m.\u001b[0m\u001b[0mlinalg\u001b[0m\u001b[1;33m.\u001b[0m\u001b[0mnorm\u001b[0m\u001b[1;33m(\u001b[0m\u001b[0mcentroids\u001b[0m \u001b[1;33m-\u001b[0m \u001b[0mlast_centroids\u001b[0m\u001b[1;33m)\u001b[0m \u001b[1;33m/\u001b[0m\u001b[1;33m\u001b[0m\u001b[0m\n",
      "\u001b[1;31mKeyboardInterrupt\u001b[0m: "
     ]
    }
   ],
   "source": [
    "''' fit k-means to get map labels for each trial '''\n",
    "N = 2\n",
    "for m, session in zip(mice, sessions):\n",
    "    for s in session:\n",
    "        d = data[m][s]\n",
    "        Y = d['Y'].copy()\n",
    "        d['kmeans'] = spk.fit_kmeans(Y, n_components=N, n_restarts=100)"
   ]
  },
  {
   "cell_type": "code",
   "execution_count": null,
   "metadata": {},
   "outputs": [],
   "source": [
    "# get map indices by observation and define map 0 as the slower map\n",
    "for m, session in zip(mice, sessions):\n",
    "    for s in session:\n",
    "        d = data[m][s]\n",
    "        A = d['A']\n",
    "        W = d['kmeans']['W']\n",
    "        _, d['map0_idx'] = spk.map_idx_by_obs(A, W)"
   ]
  },
  {
   "cell_type": "code",
   "execution_count": null,
   "metadata": {},
   "outputs": [],
   "source": [
    "''' get distance to k-means cluster on each trial \n",
    "see STAR Methods for more details\n",
    "'''\n",
    "for m, session in zip(mice, sessions):\n",
    "    for s in session:\n",
    "        d = data[m][s]\n",
    "        Y = d['Y'].copy()\n",
    "        H = d['kmeans']['H']\n",
    "        W = d['kmeans']['W']\n",
    "        map0_idx = d['map0_idx']\n",
    "        \n",
    "        # calculate distance to cluster for full population\n",
    "        d['dist'] = spk.clu_distance_population(Y, H, map0_idx)\n",
    "        \n",
    "        # calculate distane to cluster for each position bin\n",
    "        d['pos_dist'] = spk.clu_distance_pos(Y, H, map0_idx, W)"
   ]
  },
  {
   "cell_type": "code",
   "execution_count": null,
   "metadata": {},
   "outputs": [],
   "source": [
    "''' identify the remap trials and stable blocks\n",
    "- stable blocks must be at least 5 trials long\n",
    "- stable blocks exclude the 4 trials abutting each remap event\n",
    "- remap trials are the two trials bookending each remap event\n",
    "'''\n",
    "trial_min = 5\n",
    "for m, session in zip(mice, sessions):\n",
    "    for i, s in enumerate(session):\n",
    "        d = data[m][s]\n",
    "        W = d['kmeans']['W']\n",
    "        remap_idx, stable_blocks = spk.get_remap_idx(W,\n",
    "                                                 MIN_TRIALS=trial_min,\n",
    "                                                 return_stable=True)\n",
    "        \n",
    "        # remap trials include the trial after each remap event\n",
    "        remap_trials = np.sort(np.append(remap_idx, remap_idx+1))\n",
    "        d['remap_stable_idx'] = [stable_blocks, remap_trials]"
   ]
  },
  {
   "cell_type": "code",
   "execution_count": null,
   "metadata": {},
   "outputs": [],
   "source": [
    "''' get avg running speed on each trial '''\n",
    "for m, session in zip(mice, sessions):\n",
    "    for i, s in enumerate(session):\n",
    "        d = data[m][s]\n",
    "        A = d['A']\n",
    "        speed = A[:, 1]\n",
    "        obs_trials = A[:, 2]\n",
    "        d['avg_speeds'] = beh.avg_speed(speed=speed,\n",
    "                                        trials=obs_trials)"
   ]
  },
  {
   "cell_type": "code",
   "execution_count": null,
   "metadata": {},
   "outputs": [],
   "source": [
    "'''\n",
    "for each session with at least MIN_REMAPS calculate the\n",
    "average running speed for remap trials vs. stable blocks\n",
    "'''\n",
    "MIN_REMAPS = 3\n",
    "mean_speed_remap, mean_speed_stable, sem_remaps, sem_stable = beh.remap_vs_stable_speed(data,\n",
    "                                                                                          mice,\n",
    "                                                                                          sessions,\n",
    "                                                                                          MIN_REMAPS=MIN_REMAPS)"
   ]
  },
  {
   "cell_type": "code",
   "execution_count": null,
   "metadata": {},
   "outputs": [],
   "source": [
    "''' Figure 8B: running speed in remap vs. stable trials, all mice '''\n",
    "f, ax = make_plots.plot_fig8b(mice, sessions,\n",
    "                              mean_speed_stable, mean_speed_remap,\n",
    "                              sem_stable, sem_remaps, print_speeds=False)\n",
    "# f.savefig(save_folder + 'speed_remaps_all.png', dpi=400, bbox_inches='tight')\n",
    "plt.show()"
   ]
  },
  {
   "cell_type": "code",
   "execution_count": null,
   "metadata": {},
   "outputs": [],
   "source": [
    "''' get difference in running speeds for each remap/stable block pair '''\n",
    "diff_speed = np.asarray([])\n",
    "for m, session in zip(mice, sessions):\n",
    "    for s in session:\n",
    "        d = data[m][s]\n",
    "        avg_speeds = d['avg_speeds']\n",
    "        \n",
    "        # get indices\n",
    "        stable_idx = d['remap_stable_idx'][0]\n",
    "        remap_idx = d['remap_stable_idx'][1]\n",
    "        if remap_idx[::2].shape[0] < MIN_REMAPS:\n",
    "            continue\n",
    "        \n",
    "        # get the speed for each pair of remap trials/stable block\n",
    "        remap_speeds, stable_speeds = beh.speed_by_block(remap_trials=remap_idx, \n",
    "                                                         stable_blocks=stable_idx, \n",
    "                                                         avg_speeds=avg_speeds)\n",
    "            \n",
    "        # calculate percent difference remap vs. stable\n",
    "        diff_session = (stable_speeds - remap_speeds) / stable_speeds\n",
    "        diff_speed = np.append(diff_speed, diff_session)"
   ]
  },
  {
   "cell_type": "code",
   "execution_count": null,
   "metadata": {},
   "outputs": [],
   "source": [
    "print('% difference in average speed across remap trial/stable block pairs:')\n",
    "print(f'mean = {np.mean(diff_speed):.2%}, sem = {stats.sem(diff_speed):.2%}')\n",
    "\n",
    "stat, p_diff = stats.wilcoxon(diff_speed)\n",
    "print(f'p = {p_diff:.5}')\n",
    "\n",
    "print(f'n = {diff_speed.shape[0]} pairs')"
   ]
  },
  {
   "cell_type": "code",
   "execution_count": null,
   "metadata": {},
   "outputs": [],
   "source": [
    "# quantify n remaps total and range across sessions\n",
    "n_remaps = np.zeros(N_sessions)\n",
    "i = -1\n",
    "for m, session in zip(mice, sessions):\n",
    "    for s in session:\n",
    "        i += 1\n",
    "        d = data[m][s]\n",
    "        remap_idx = d['remap_stable_idx'][1]\n",
    "        n_remaps[i] = remap_idx.shape[0]\n",
    "n_remaps = n_remaps/2\n",
    "\n",
    "print(f'n = {np.sum(n_remaps)} total remaps')\n",
    "print(f'mean, sem: {np.mean(n_remaps):.2}, {stats.sem(n_remaps):.2}')\n",
    "print(f'range: {np.min(n_remaps)} to {np.max(n_remaps)}')"
   ]
  },
  {
   "cell_type": "code",
   "execution_count": null,
   "metadata": {},
   "outputs": [],
   "source": [
    "''' single session example '''\n",
    "m = 'Pisa'\n",
    "s = '0430_1'\n",
    "d = data[m][s]\n",
    "\n",
    "n_cells = d['cells'].shape[0]\n",
    "n_remaps = d['remap_stable_idx'][1][::2].shape[0]\n",
    "\n",
    "print(f'{m}_{s}: n cells = {n_cells}, n remaps = {n_remaps}')"
   ]
  },
  {
   "cell_type": "code",
   "execution_count": null,
   "metadata": {},
   "outputs": [],
   "source": [
    "''' calculate the average speed for each remap trial/stable block pair '''\n",
    "stable_idx = d['remap_stable_idx'][0]\n",
    "remap_idx = d['remap_stable_idx'][1]\n",
    "avg_speed = d['avg_speeds']\n",
    "\n",
    "remap_speeds, stable_speeds = beh.speed_by_block(remap_trials=remap_idx,\n",
    "                                                 stable_blocks=stable_idx,\n",
    "                                                 avg_speeds=avg_speed)"
   ]
  },
  {
   "cell_type": "code",
   "execution_count": null,
   "metadata": {},
   "outputs": [],
   "source": [
    "''' Figure 8A: example running speed in remap trial vs. stable block pairs '''\n",
    "f, ax = make_plots.plot_fig8a(stable_speeds=stable_speeds, \n",
    "                              remap_speeds=remap_speeds, \n",
    "                              mouse_ID='1c')\n",
    "# f.savefig(save_folder + m + '_' + s + '_speed.png', dpi=400, bbox_inches='tight')\n",
    "plt.show()"
   ]
  },
  {
   "cell_type": "code",
   "execution_count": null,
   "metadata": {},
   "outputs": [],
   "source": [
    "''' distance to boundary within each position bin on remap vs. stable trials--all mice '''\n",
    "all_remap_dist = np.asarray([])\n",
    "all_stable_dist = np.asarray([])\n",
    "for m, session in zip(mice, sessions):\n",
    "    for i, s in enumerate(session):\n",
    "        d = data[m][s]\n",
    "        p_dist = d['pos_dist'] # trials x pos bins\n",
    "        \n",
    "        # get remap distances\n",
    "        remap_idx = d['remap_stable_idx'][1]\n",
    "        remap_dist = np.abs(p_dist[remap_idx, :])\n",
    "        all_remap_dist = np.append(all_remap_dist, remap_dist.ravel())\n",
    "        \n",
    "        # get stable distances\n",
    "        stable_idx = d['remap_stable_idx'][0]\n",
    "        stable_dist = np.abs(p_dist[stable_idx, :])\n",
    "        all_stable_dist = np.append(all_stable_dist, stable_dist.ravel())"
   ]
  },
  {
   "cell_type": "code",
   "execution_count": null,
   "metadata": {},
   "outputs": [],
   "source": [
    "print('distance to midpoint between manifolds (mean, sem)')\n",
    "print(f'remap trials: {np.mean(all_remap_dist):.3}, {stats.sem(all_remap_dist):.3} (n = {all_remap_dist.shape[0]/80} trials)')\n",
    "print(f'stable blocks: {np.mean(all_stable_dist):.3}, {stats.sem(all_stable_dist):.3} (n = {all_stable_dist.shape[0]/80} trials)')\n",
    "print(f'IQR stable blocks: {np.percentile(all_stable_dist, 25):.3} to {np.percentile(all_stable_dist, 75):.3}')\n",
    "\n",
    "stat, p_diff = stats.ranksums(all_stable_dist, all_remap_dist)\n",
    "print(f'\\nWilcoxon rank-sums, two-sided: p = {p_diff}')"
   ]
  },
  {
   "cell_type": "code",
   "execution_count": null,
   "metadata": {},
   "outputs": [],
   "source": [
    "''' relationship between running speed and neural variability '''\n",
    "from pathlib import Path\n",
    "\n",
    "# bin speed by position and trial\n",
    "bin_size = 5 # cm\n",
    "for m, session in zip(mice, sessions):\n",
    "    for s in session:\n",
    "        d = data[m][s]\n",
    "        speed_file = base + 'aggregate_data/gap_corrected/' + m + '_' + s + '_speed.npy'\n",
    "        \n",
    "        # check if this has already been calculated\n",
    "        if Path(speed_file).exists():\n",
    "            d['binned_speed'] = np.load(speed_file)\n",
    "            continue\n",
    "        \n",
    "        # if not, find the speed in each position bin\n",
    "        A = d['A']\n",
    "        speed = A[:, 1]\n",
    "        pos = A[:, 0]\n",
    "        trials = A[:, 2]\n",
    "        binned_speed = beh.speed_by_pos_bin(speed, pos, trials)\n",
    "\n",
    "        np.save(speed_file, binned_speed)\n",
    "        d['binned_speed'] = binned_speed"
   ]
  },
  {
   "cell_type": "code",
   "execution_count": null,
   "metadata": {},
   "outputs": [],
   "source": [
    "''' single session examples '''\n",
    "m = 'Pisa'\n",
    "s = '0430_1'\n",
    "d = data[m][s]\n",
    "A = d['A']\n",
    "\n",
    "# example stable blocks to plot\n",
    "ex_blocks = np.asarray([6, 7])"
   ]
  },
  {
   "cell_type": "code",
   "execution_count": null,
   "metadata": {},
   "outputs": [],
   "source": [
    "# indices for the middle of each stable block\n",
    "remaps = d['remap_stable_idx'][1][::2]\n",
    "boundaries = np.insert(remaps, 0, 0)\n",
    "stable_idx = helpers.moving_avg(boundaries, 2).astype(int)"
   ]
  },
  {
   "cell_type": "code",
   "execution_count": null,
   "metadata": {},
   "outputs": [],
   "source": [
    "# get the running speed for the 4 middle trials in each stable block\n",
    "binned_speed = d['binned_speed']\n",
    "speed_stable = np.column_stack((binned_speed[stable_idx-1, :], binned_speed[stable_idx, :],\n",
    "                                   binned_speed[stable_idx+1, :], binned_speed[stable_idx+2, :]))\n",
    "\n",
    "# get distance to midpoint between clusters for these stable trials\n",
    "dd_by_pos = d['pos_dist']\n",
    "pos_stable = np.column_stack((dd_by_pos[stable_idx-1], dd_by_pos[stable_idx], \n",
    "                              dd_by_pos[stable_idx+1], dd_by_pos[stable_idx+2]))"
   ]
  },
  {
   "cell_type": "code",
   "execution_count": null,
   "metadata": {},
   "outputs": [],
   "source": [
    "''' Figure 8C: distance to boundary and running speed for two example stable blocks '''\n",
    "f, gs = make_plots.plot_fig8c(mouse_ID='1c', session=s, ex_blocks=ex_blocks,\n",
    "                               stable_idx=stable_idx, speed_stable=speed_stable, pos_stable=pos_stable)\n",
    "# f.savefig(save_folder + m + '_' + s + '_dist_speed_stable_alt.png', dpi=400, bbox_inches='tight')\n",
    "plt.show()"
   ]
  },
  {
   "cell_type": "code",
   "execution_count": null,
   "metadata": {},
   "outputs": [],
   "source": [
    "''' calculate the neural distance to midpoint for each speed bin - all mice'''\n",
    "n_speed_bins = 9\n",
    "\n",
    "scores_by_speed = np.zeros((N_sessions, n_speed_bins))\n",
    "i = 0\n",
    "for m, session in zip(mice, sessions):\n",
    "    for s in session:\n",
    "        d = data[m][s]\n",
    "        speed = d['A'][:, 1]\n",
    "        binned_speed = d['binned_speed']\n",
    "        flat_speed = binned_speed.ravel()\n",
    "        dd_by_pos = d['pos_dist']\n",
    "        flat_pos = dd_by_pos.ravel()\n",
    "        \n",
    "        # define bins\n",
    "        speed_bins = np.linspace(2, np.max(speed)-20, num=n_speed_bins)\n",
    "        speed_idx = np.digitize(flat_speed, speed_bins)\n",
    "        \n",
    "        # get the distance to the midpoint for each speed bin\n",
    "        for j, b in enumerate(np.unique(speed_idx)):\n",
    "            scores_by_speed[i, j] = np.mean(np.abs(flat_pos[speed_idx==b]))\n",
    "        i += 1"
   ]
  },
  {
   "cell_type": "code",
   "execution_count": null,
   "metadata": {},
   "outputs": [],
   "source": [
    "# z-score to normalize the scores for each session\n",
    "norm_scores_by_speed = np.zeros_like(scores_by_speed)\n",
    "for i in range(scores_by_speed.shape[0]):\n",
    "    norm_scores_by_speed[i, :] = helpers.zscore(scores_by_speed[i, :])\n",
    "\n",
    "scores_by_speed_mean = np.mean(norm_scores_by_speed, axis=0)\n",
    "scores_by_speed_sem = stats.sem(norm_scores_by_speed, axis=0)"
   ]
  },
  {
   "cell_type": "code",
   "execution_count": null,
   "metadata": {},
   "outputs": [],
   "source": [
    "''' Figure 8E: distance to the midpoint vs. running speed for all 2-map mice '''\n",
    "f, ax = make_plots.plot_fig8e(scores_by_speed_mean, scores_by_speed_sem)\n",
    "# f.savefig(save_folder + 'dd_by_speed_all.png', dpi=400, bbox_inches='tight')\n",
    "plt.show()"
   ]
  },
  {
   "cell_type": "code",
   "execution_count": null,
   "metadata": {},
   "outputs": [],
   "source": [
    "''' across all sessions, is there a significant relationship between speed and score? '''\n",
    "import statsmodels.api as sm\n",
    "\n",
    "# reshape the normalized speed bin centers to be sessions by speed bin\n",
    "# i.e. the same shape as the array of distance scores\n",
    "X = np.tile(xvals, (N_sessions, 1))\n",
    "\n",
    "# use ordinary least squares analysis to see if there is a relationship\n",
    "speed_dist_model = sm.OLS(exog=norm_scores_by_speed.ravel(), endog=X.ravel())\n",
    "speed_dist_results = speed_dist_model.fit()\n",
    "print(speed_dist_results.summary())"
   ]
  },
  {
   "cell_type": "code",
   "execution_count": null,
   "metadata": {},
   "outputs": [],
   "source": [
    "''' single session examples '''\n",
    "m = 'Pisa'\n",
    "s = '0430_1'\n",
    "d = data[m][s]"
   ]
  },
  {
   "cell_type": "code",
   "execution_count": null,
   "metadata": {},
   "outputs": [],
   "source": [
    "# get the distance score for each speed bin\n",
    "dd_by_pos = d['pos_dist']\n",
    "binned_speed = d['binned_speed']\n",
    "speed = d['A'][:, 1]\n",
    "speed_bins = np.linspace(2, np.max(speed)-20, num=9)\n",
    "speed_idx = np.digitize(binned_speed.ravel(), speed_bins)\n",
    "flat_pos = dd_by_pos.ravel()\n",
    "\n",
    "scores_by_speed_mean = np.zeros(9)\n",
    "scores_by_speed_sem = np.zeros(9)\n",
    "for i, b in enumerate(np.unique(speed_idx)):\n",
    "    scores_by_speed_mean[i] = np.mean(np.abs(flat_pos[speed_idx==b]))\n",
    "    scores_by_speed_sem[i] = stats.sem(np.abs(flat_pos[speed_idx==b]))"
   ]
  },
  {
   "cell_type": "code",
   "execution_count": null,
   "metadata": {},
   "outputs": [],
   "source": [
    "''' Figure 8D: distance to cluster by speed bin for an example session '''\n",
    "f, ax = make_plots.plot_fig8d(scores_by_speed_mean, scores_by_speed_sem,\n",
    "                              speed_bins, binned_speed)\n",
    "\n",
    "# f.savefig(save_folder + m + '_' + s + '_dd_by_speed.png', dpi=400, bbox_inches='tight')\n",
    "plt.show()"
   ]
  },
  {
   "cell_type": "code",
   "execution_count": null,
   "metadata": {},
   "outputs": [],
   "source": []
  }
 ],
 "metadata": {
  "kernelspec": {
   "display_name": "Python 3",
   "language": "python",
   "name": "python3"
  },
  "language_info": {
   "codemirror_mode": {
    "name": "ipython",
    "version": 3
   },
   "file_extension": ".py",
   "mimetype": "text/x-python",
   "name": "python",
   "nbconvert_exporter": "python",
   "pygments_lexer": "ipython3",
   "version": "3.6.5"
  }
 },
 "nbformat": 4,
 "nbformat_minor": 2
}
