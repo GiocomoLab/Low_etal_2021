{
 "cells": [
  {
   "cell_type": "code",
   "execution_count": 1,
   "metadata": {},
   "outputs": [
    {
     "name": "stderr",
     "output_type": "stream",
     "text": [
      "C:\\Users\\ilow1\\Anaconda3\\lib\\site-packages\\h5py\\__init__.py:36: FutureWarning: Conversion of the second argument of issubdtype from `float` to `np.floating` is deprecated. In future, it will be treated as `np.float64 == np.dtype(float).type`.\n",
      "  from ._conv import register_converters as _register_converters\n"
     ]
    }
   ],
   "source": [
    "import numpy as np\n",
    "\n",
    "from dynamic_coding_analysis.analysis_pipeline import get_data\n",
    "from dynamic_coding_analysis.analysis_pipeline import process_spikes as spk\n",
    "\n",
    "import matplotlib.pyplot as plt\n",
    "from matplotlib import gridspec\n",
    "\n",
    "from tqdm import trange\n",
    "from scipy import stats"
   ]
  },
  {
   "cell_type": "code",
   "execution_count": 2,
   "metadata": {},
   "outputs": [],
   "source": [
    "# file paths\n",
    "base = 'G:/My Drive/Giocomo Lab/RandomForage/'\n",
    "data_folder = base + 'aggregate_data/'\n",
    "save_folder = base + 'Dynamic MEC Coding Project/fig4_images_final/'"
   ]
  },
  {
   "cell_type": "code",
   "execution_count": 3,
   "metadata": {},
   "outputs": [
    {
     "name": "stdout",
     "output_type": "stream",
     "text": [
      "N mice: 13\n",
      "N sessions: 28\n"
     ]
    }
   ],
   "source": [
    "# define sessions\n",
    "''' NEW LIST - updated 1/12/21 w/ NP9 and NP10 cohorts'''\n",
    "''' run analysis on reasonable sessions N maps = 2 '''\n",
    "mice = ['Pisa', 'Hanover', 'Calais', # cue poor\n",
    "        'Seattle',  'Portland', 'Quebec', 'Toronto', 'Vancouver', # cue rich (old)\n",
    "        'Mumbai', 'Kerala', 'Goa', 'Punjab', 'Salvador'] # cue rich (new, NP9 = male)\n",
    "mouse_IDs = ['1c', '2a', '3a', '6a', '6b', '7a', '7b', '7c', '9a', ' 9b', '9c', '9d', '10a']\n",
    "sessions = [['0430_1', '0501_1', '0502_1'], # Pisa\n",
    "            ['0615_2'], # Hanover\n",
    "            ['0713_2'], # Calais\n",
    "            ['1005_1', '1006_1', '1007_1'], # Seattle\n",
    "            ['1005_2'],  # Portland\n",
    "            ['1007_1'], # Quebec\n",
    "            ['1111_1', '1112_1', '1113_1', '1114_1', '1115_1', '1117_1'], # Toronto\n",
    "            ['1114_1', '1118_1'], # Vancouver\n",
    "            ['1130_1', '1201_1', '1129_1'], # Mumbai\n",
    "            ['1207_1'], # Kerala\n",
    "            ['1211_1', '1210_1', '1209_1'], # Goa\n",
    "            ['1217_1', '1214_1'], # Punjab\n",
    "            ['1202_1'] # Salvador\n",
    "           ]\n",
    "\n",
    "print('N mice: ' + str(len(mice)))\n",
    "N_sessions = 0\n",
    "for s in sessions:\n",
    "    N_sessions += len(s)\n",
    "print('N sessions: ' + str(N_sessions))"
   ]
  },
  {
   "cell_type": "code",
   "execution_count": 4,
   "metadata": {},
   "outputs": [],
   "source": [
    "'''\n",
    "Assign colors based on track type\n",
    "see: https://personal.sron.nl/~pault/#sec:qualitative Fig. 4\n",
    "cue poor : green\n",
    "cue rich : pink\n",
    "'''\n",
    "cp_color = [17/255, 119/255, 51/255, 1]\n",
    "cr_color = [204/255, 102/255, 119/255, 1]\n",
    "\n",
    "session_colors = []\n",
    "for m, session in zip(mice, sessions):\n",
    "    for s in session:\n",
    "        if m in ['Pisa', 'Hanover', 'Calais']:\n",
    "            session_colors.append(cp_color)\n",
    "        else:\n",
    "            session_colors.append(cr_color)"
   ]
  },
  {
   "cell_type": "code",
   "execution_count": 5,
   "metadata": {},
   "outputs": [],
   "source": [
    "# make a dict to hold data\n",
    "data = {}\n",
    "for session, m in zip(sessions, mice):\n",
    "    data[m] = {}\n",
    "    for s in session:\n",
    "        data[m][s] = {}"
   ]
  },
  {
   "cell_type": "code",
   "execution_count": 6,
   "metadata": {},
   "outputs": [
    {
     "name": "stdout",
     "output_type": "stream",
     "text": [
      "Calais_0713_2 corrected for probe mistargeting\n",
      "Toronto_1112_1 corrected for probe mistargeting\n",
      "Mumbai_1130_1 corrected for probe mistargeting\n"
     ]
    }
   ],
   "source": [
    "# load the data\n",
    "from pathlib import Path\n",
    "\n",
    "N_cells = 0\n",
    "for m, session in zip(mice, sessions):\n",
    "    for i, s in enumerate(session):\n",
    "        d = data[m][s]\n",
    "        d['Y'] = np.load(data_folder + 'gap_corrected/' + m + '_' + s + '_MEC_FRtensor.npy')\n",
    "        d['B'] = np.load(data_folder + 'gap_corrected/' + m + '_' + s + '_MEC_spikes.npy')\n",
    "        d['A'] = np.load(data_folder + 'gap_corrected/' + m + '_' + s + '_behavior.npy')  \n",
    "        d['cells'] = np.load(data_folder + 'gap_corrected/' + m + '_' + s + '_MEC_cellIDs.npy')\n",
    "        \n",
    "        # filter sessions with deleted AP/ML cells\n",
    "        filt_file = data_folder + 'gap_corrected/' + m + '_' + s + '_MEC_idx.npy'\n",
    "        if Path(filt_file).exists():\n",
    "            print(m + '_' + s + ' corrected for probe mistargeting')\n",
    "            cell_idx = np.load(filt_file)\n",
    "            d['cells'] = d['cells'][cell_idx]\n",
    "            d['Y'] = d['Y'][:, :, cell_idx]\n",
    "            d['B'] = d['B'][:, cell_idx]\n",
    "        \n",
    "        N_cells += d['cells'].shape[0]"
   ]
  },
  {
   "cell_type": "code",
   "execution_count": 7,
   "metadata": {},
   "outputs": [
    {
     "name": "stdout",
     "output_type": "stream",
     "text": [
      "N cells = 4984\n"
     ]
    }
   ],
   "source": [
    "print('N cells = {}'.format(N_cells))"
   ]
  },
  {
   "cell_type": "code",
   "execution_count": 8,
   "metadata": {
    "scrolled": true
   },
   "outputs": [
    {
     "name": "stdout",
     "output_type": "stream",
     "text": [
      "G:/My Drive/Giocomo Lab/RandomForage/Pisa/Pisa_0430_1_data.mat\n",
      "dict_keys(['sp', 'post', 'posx', 'lickt', 'trial', 'reward'])\n",
      "G:/My Drive/Giocomo Lab/RandomForage/Pisa/Pisa_0501_1_data.mat\n",
      "dict_keys(['sp', 'post', 'posx', 'lickt', 'trial', 'reward'])\n",
      "G:/My Drive/Giocomo Lab/RandomForage/Pisa/Pisa_0502_1_data.mat\n",
      "dict_keys(['sp', 'post', 'posx', 'lickt', 'trial', 'reward'])\n",
      "G:/My Drive/Giocomo Lab/RandomForage/Hanover/Hanover_0615_2_data.mat\n",
      "dict_keys(['sp', 'post', 'posx', 'lickt', 'trial', 'reward'])\n",
      "G:/My Drive/Giocomo Lab/RandomForage/Calais/Calais_0713_2_data.mat\n",
      "dict_keys(['sp', 'post', 'posx', 'lickt', 'trial', 'reward', 'framet', 'pupil', 'whisk', 'pupil_upsampled', 'whisk_upsampled', 'testvid_start'])\n",
      "G:/My Drive/Giocomo Lab/RandomForage/Seattle/Seattle_1005_1_data.mat\n",
      "dict_keys(['sp', 'post', 'posx', 'lickt', 'trial', 'reward', 'framet', 'pupil', 'whisk', 'pupil_upsampled', 'whisk_upsampled', 'testvid_start'])\n",
      "G:/My Drive/Giocomo Lab/RandomForage/Seattle/Seattle_1006_1_data.mat\n",
      "dict_keys(['sp', 'post', 'posx', 'lickt', 'trial', 'reward', 'framet', 'pupil', 'whisk', 'pupil_upsampled', 'whisk_upsampled', 'testvid_start'])\n",
      "G:/My Drive/Giocomo Lab/RandomForage/Seattle/Seattle_1007_1_data.mat\n",
      "dict_keys(['sp', 'post', 'posx', 'lickt', 'trial', 'reward', 'framet', 'pupil', 'whisk', 'pupil_upsampled', 'whisk_upsampled', 'testvid_start'])\n",
      "G:/My Drive/Giocomo Lab/RandomForage/Portland/Portland_1005_2_data.mat\n",
      "dict_keys(['sp', 'post', 'posx', 'lickt', 'trial', 'reward', 'framet', 'pupil', 'whisk', 'pupil_upsampled', 'whisk_upsampled', 'testvid_start'])\n",
      "G:/My Drive/Giocomo Lab/RandomForage/Quebec/Quebec_1007_1_data.mat\n",
      "dict_keys(['sp', 'post', 'posx', 'lickt', 'trial', 'reward', 'framet', 'pupil', 'whisk', 'pupil_upsampled', 'whisk_upsampled', 'testvid_start'])\n",
      "G:/My Drive/Giocomo Lab/RandomForage/Toronto/Toronto_1111_1_data.mat\n",
      "dict_keys(['sp', 'post', 'posx', 'lickt', 'trial', 'reward', 'framet', 'pupil', 'whisk', 'pupil_upsampled', 'whisk_upsampled', 'testvid_start'])\n",
      "G:/My Drive/Giocomo Lab/RandomForage/Toronto/Toronto_1112_1_data.mat\n",
      "dict_keys(['sp', 'post', 'posx', 'lickt', 'trial', 'reward', 'framet', 'pupil', 'whisk', 'pupil_upsampled', 'whisk_upsampled', 'testvid_start'])\n",
      "G:/My Drive/Giocomo Lab/RandomForage/Toronto/Toronto_1113_1_data.mat\n",
      "dict_keys(['sp', 'post', 'posx', 'lickt', 'trial', 'reward', 'framet', 'pupil', 'whisk', 'pupil_upsampled', 'whisk_upsampled', 'testvid_start'])\n",
      "G:/My Drive/Giocomo Lab/RandomForage/Toronto/Toronto_1114_1_data.mat\n",
      "dict_keys(['sp', 'post', 'posx', 'lickt', 'trial', 'reward', 'framet', 'pupil', 'whisk', 'pupil_upsampled', 'whisk_upsampled', 'testvid_start'])\n",
      "G:/My Drive/Giocomo Lab/RandomForage/Toronto/Toronto_1115_1_data.mat\n",
      "dict_keys(['sp', 'post', 'posx', 'lickt', 'trial', 'reward', 'framet', 'pupil', 'whisk', 'pupil_upsampled', 'whisk_upsampled', 'testvid_start'])\n",
      "G:/My Drive/Giocomo Lab/RandomForage/Toronto/Toronto_1117_1_data.mat\n",
      "dict_keys(['sp', 'post', 'posx', 'lickt', 'trial', 'reward', 'framet', 'pupil', 'whisk', 'pupil_upsampled', 'whisk_upsampled', 'testvid_start'])\n",
      "G:/My Drive/Giocomo Lab/RandomForage/Vancouver/Vancouver_1114_1_data.mat\n",
      "dict_keys(['sp', 'post', 'posx', 'lickt', 'trial', 'reward', 'framet', 'pupil', 'whisk', 'pupil_upsampled', 'whisk_upsampled', 'testvid_start'])\n",
      "G:/My Drive/Giocomo Lab/RandomForage/Vancouver/Vancouver_1118_1_data.mat\n",
      "dict_keys(['sp', 'post', 'posx', 'lickt', 'trial', 'reward', 'framet', 'pupil', 'whisk', 'pupil_upsampled', 'whisk_upsampled', 'testvid_start'])\n",
      "G:/My Drive/Giocomo Lab/RandomForage/Mumbai/Mumbai_1130_1_data.mat\n",
      "dict_keys(['sp', 'post', 'posx', 'lickt', 'trial', 'reward'])\n",
      "G:/My Drive/Giocomo Lab/RandomForage/Mumbai/Mumbai_1201_1_data.mat\n",
      "dict_keys(['sp', 'post', 'posx', 'lickt', 'trial', 'reward'])\n",
      "G:/My Drive/Giocomo Lab/RandomForage/Mumbai/Mumbai_1129_1_data.mat\n",
      "dict_keys(['sp', 'post', 'posx', 'lickt', 'trial', 'reward'])\n",
      "G:/My Drive/Giocomo Lab/RandomForage/Kerala/Kerala_1207_1_data.mat\n",
      "dict_keys(['sp', 'post', 'posx', 'lickt', 'trial', 'reward'])\n",
      "G:/My Drive/Giocomo Lab/RandomForage/Goa/Goa_1211_1_data.mat\n",
      "dict_keys(['sp', 'post', 'posx', 'lickt', 'trial', 'reward'])\n",
      "G:/My Drive/Giocomo Lab/RandomForage/Goa/Goa_1210_1_data.mat\n",
      "dict_keys(['sp', 'post', 'posx', 'lickt', 'trial', 'reward'])\n",
      "G:/My Drive/Giocomo Lab/RandomForage/Goa/Goa_1209_1_data.mat\n",
      "dict_keys(['sp', 'post', 'posx', 'lickt', 'trial', 'reward'])\n",
      "G:/My Drive/Giocomo Lab/RandomForage/Punjab/Punjab_1217_1_data.mat\n",
      "dict_keys(['sp', 'post', 'posx', 'lickt', 'trial', 'reward'])\n",
      "G:/My Drive/Giocomo Lab/RandomForage/Punjab/Punjab_1214_1_data.mat\n",
      "dict_keys(['sp', 'post', 'posx', 'lickt', 'trial', 'reward'])\n",
      "G:/My Drive/Giocomo Lab/RandomForage/Salvador/Salvador_1202_1_data.mat\n",
      "dict_keys(['sp', 'post', 'posx', 'lickt', 'trial', 'reward'])\n"
     ]
    }
   ],
   "source": [
    "# load the behavioral data\n",
    "for m, session in zip(mice, sessions):\n",
    "    for s in session:\n",
    "        d = data[m][s]\n",
    "        folder = base + m + '/'\n",
    "        data_file = m + '_' + s + '_data.mat'\n",
    "        behavior = get_data.loadData(folder + data_file)\n",
    "        d['behavior'] = behavior"
   ]
  },
  {
   "cell_type": "code",
   "execution_count": 9,
   "metadata": {},
   "outputs": [],
   "source": [
    "''' K-MEANS '''\n",
    "from lvl.factor_models import KMeans as lvl_kmeans\n",
    "from lvl.factor_models import NMF as lvl_soft_kmeans\n",
    "from scipy.spatial.distance import cdist \n",
    "from scipy.special import logsumexp\n",
    "def softmax(M):\n",
    "    return np.exp(M - logsumexp(M, axis=-1, keepdims=True))"
   ]
  },
  {
   "cell_type": "code",
   "execution_count": 10,
   "metadata": {},
   "outputs": [],
   "source": [
    "''' fit kmeans to get remaps '''\n",
    "N = 2\n",
    "model_kmeans = lvl_kmeans(n_components=N, n_restarts=100)\n",
    "for m, session in zip(mice, sessions):\n",
    "    for s in session:\n",
    "        d = data[m][s]\n",
    "        Y = d['Y'].copy()\n",
    "        Y = Y.transpose(0, 2, 1)\n",
    "        Y_unwrapped = np.reshape(Y, (Y.shape[0], -1))\n",
    "        \n",
    "        # fit model and get params\n",
    "        model_kmeans.fit(Y_unwrapped)\n",
    "        W, H = model_kmeans.factors\n",
    "        Y_hat = model_kmeans.predict()\n",
    "        d['kmeans'] = {}\n",
    "        d['kmeans']['W'] = W\n",
    "        d['kmeans']['H'] = H\n",
    "        d['kmeans']['Y_hat'] = Y_hat  "
   ]
  },
  {
   "cell_type": "code",
   "execution_count": 11,
   "metadata": {},
   "outputs": [],
   "source": [
    "# reassign map 0 to be the slower map\n",
    "for m, session in zip(mice, sessions):\n",
    "    for s in session:\n",
    "        d = data[m][s]\n",
    "        A = d['A']\n",
    "        W = d['kmeans']['W']\n",
    "        H = d['kmeans']['H']\n",
    "        \n",
    "        # get map indices\n",
    "        map_idx = W[:, 0].astype(bool)\n",
    "        trials = A[:, 2]\n",
    "        map0_idx = np.zeros_like(trials)\n",
    "        map1_idx = np.zeros_like(trials)\n",
    "        for i, t in enumerate(np.unique(trials)):\n",
    "            if map_idx[i]:\n",
    "                map0_idx[trials == t] = 1\n",
    "            else:\n",
    "                map1_idx[trials == t] = 1\n",
    "        map0_idx = map0_idx.astype(bool)\n",
    "        map1_idx = map1_idx.astype(bool)\n",
    "\n",
    "        # get running speed in each map and assign map 0 to slower map\n",
    "        speed = A[:, 1]\n",
    "        speed_0 = np.nanmean(speed[map0_idx])\n",
    "        speed_1 = np.nanmean(speed[map1_idx])\n",
    "\n",
    "        if speed_1 < speed_0: # swap labels\n",
    "            d['map0_idx'] = 1\n",
    "        else:\n",
    "            d['map0_idx'] = 0"
   ]
  },
  {
   "cell_type": "code",
   "execution_count": 12,
   "metadata": {},
   "outputs": [],
   "source": [
    "''' get distance to cluster on each trial '''\n",
    "for m, session in zip(mice, sessions):\n",
    "    for s in session:\n",
    "        d = data[m][s]\n",
    "        Y = d['Y'].copy()\n",
    "        Y = Y.transpose(0, 2, 1)\n",
    "        Y_unwrapped = np.reshape(Y, (Y.shape[0], -1))\n",
    "        n_trials, n_cells, n_pos = Y.shape\n",
    "\n",
    "        # get kmeans fit\n",
    "        H = d['kmeans']['H']\n",
    "        N = H.shape[0]\n",
    "        map0_idx = d['map0_idx']\n",
    "\n",
    "        # get centroids\n",
    "        c1 = H[map0_idx]\n",
    "        c2 = H[map0_idx-1]\n",
    "        \n",
    "        # project down to connecting line\n",
    "        proj = (c1 - c2) / np.linalg.norm(c1 - c2)\n",
    "        projc1 = c1 @ proj\n",
    "        projc2 = c2 @ proj\n",
    "        projY = Y_unwrapped @ proj\n",
    "        \n",
    "        # get distance\n",
    "        dd = (projY - projc2) / (projc1 - projc2)\n",
    "        d['dist'] = 2 * (dd - .5) # classify -1 or 1"
   ]
  },
  {
   "cell_type": "code",
   "execution_count": 13,
   "metadata": {},
   "outputs": [],
   "source": [
    "# calculate each position's distance to cluster on each trial\n",
    "for m, session in zip(mice, sessions):\n",
    "    for s in session:\n",
    "        d = data[m][s]\n",
    "        \n",
    "        Y = d['Y'].copy()\n",
    "        Y = Y.transpose(0, 2, 1)\n",
    "        n_trials, n_cells, n_pos = Y.shape\n",
    "        \n",
    "        map0_idx = d['map0_idx']\n",
    "        H = d['kmeans']['H']\n",
    "        N = H.shape[0]\n",
    "        H_tens = H.reshape((N, n_cells, n_pos))\n",
    "\n",
    "        # get each cluster\n",
    "        c1 = H_tens[map0_idx, :, :]\n",
    "        c2 = H_tens[map0_idx-1, :, :]\n",
    "        proj = (c1 - c2) / np.linalg.norm(c1 - c2, axis=0, keepdims=True)\n",
    "\n",
    "        projc1 = np.sum(c1 * proj, axis=0)[None, :]\n",
    "        projc2 = np.sum(c2 * proj, axis=0)[None, :]\n",
    "        projY = np.sum(Y * proj[None, :, :], axis=1)\n",
    "\n",
    "        dd_by_pos = (projY - projc2) / (projc1 - projc2)\n",
    "        dd_by_pos = 2 * (dd_by_pos - .5)\n",
    "        d['pos_dist'] = dd_by_pos\n",
    "        \n",
    "        # calculate log likelihood\n",
    "        W = d['kmeans']['W']\n",
    "        n_pos = dd_by_pos.shape[1]\n",
    "        K = np.tile(W[:, d['map0_idx']-1], (n_pos, 1))\n",
    "        ll_pos = -K * np.log(1 + np.exp(dd_by_pos.T)) - (1 - K) * np.log(1 + np.exp(-dd_by_pos.T))\n",
    "        d['ll_pos'] = ll_pos"
   ]
  },
  {
   "cell_type": "code",
   "execution_count": 14,
   "metadata": {},
   "outputs": [],
   "source": [
    "''' save remap vs. stable index:\n",
    "- limit \"stable periods\" to n_trials > 5\n",
    "- stable trials = all trials except 4 trials surrounding remap point\n",
    "- remap trials = two trials on each side of remap point\n",
    "'''\n",
    "near_N = 2\n",
    "trial_min = 2*near_N + 1\n",
    "for m, session in zip(mice, sessions):\n",
    "    for i, s in enumerate(session):\n",
    "        d = data[m][s]\n",
    "        W = d['kmeans']['W']\n",
    "        trials = np.arange(0, W.shape[0]-1)\n",
    "\n",
    "        # define remaps\n",
    "        remap_idx = np.where(np.abs(np.diff(W[:, 0])))[0]\n",
    "        \n",
    "        # define stable\n",
    "        for i in range(near_N):\n",
    "            if i == 0:\n",
    "                near_remaps = np.append(remap_idx, remap_idx+(i+1))\n",
    "            elif i < near_N:\n",
    "                near_remaps = np.append(np.append(near_remaps, remap_idx-i), remap_idx+(i+1))\n",
    "        near_remaps = np.sort(near_remaps)\n",
    "        stable_idx = np.setdiff1d(trials, near_remaps)\n",
    "        \n",
    "        # keep only remaps at least 5 trials from last remap (stable trials should by definition fit this bill)\n",
    "        boundary_trials = np.insert(remap_idx, 0, 0)\n",
    "        remap_idx = np.setdiff1d(remap_idx, remap_idx[np.diff(boundary_trials) < trial_min])\n",
    "        remap_idx = np.sort(np.append(remap_idx, remap_idx+1))\n",
    "        \n",
    "        # save the data\n",
    "        d['idx'] = [stable_idx, remap_idx]"
   ]
  },
  {
   "cell_type": "code",
   "execution_count": 15,
   "metadata": {},
   "outputs": [],
   "source": [
    "''' get avg running speed on each trial '''\n",
    "for m, session in zip(mice, sessions):\n",
    "    for i, s in enumerate(session):\n",
    "        d = data[m][s]\n",
    "\n",
    "        # speed\n",
    "        A = d['A']\n",
    "        speed = A[:, 1]\n",
    "        obs_trials = A[:, 2]\n",
    "        avg_speed = np.zeros_like(np.unique(obs_trials))\n",
    "        for t in np.unique(obs_trials).astype(int):\n",
    "            avg_speed[t] = np.mean(speed[obs_trials==t])\n",
    "        d['avg_speeds'] = avg_speed"
   ]
  },
  {
   "cell_type": "code",
   "execution_count": 16,
   "metadata": {},
   "outputs": [
    {
     "name": "stdout",
     "output_type": "stream",
     "text": [
      "Hanover_0615_2 fewer than 3 remaps\n",
      "Calais_0713_2 fewer than 3 remaps\n",
      "Seattle_1005_1 fewer than 3 remaps\n",
      "Portland_1005_2 fewer than 3 remaps\n",
      "Quebec_1007_1 fewer than 3 remaps\n",
      "Toronto_1113_1 fewer than 3 remaps\n",
      "Toronto_1114_1 fewer than 3 remaps\n",
      "Vancouver_1114_1 fewer than 3 remaps\n",
      "Mumbai_1130_1 fewer than 3 remaps\n",
      "Mumbai_1201_1 fewer than 3 remaps\n",
      "Goa_1211_1 fewer than 3 remaps\n",
      "Goa_1209_1 fewer than 3 remaps\n",
      "Punjab_1217_1 fewer than 3 remaps\n",
      "Punjab_1214_1 fewer than 3 remaps\n",
      "Salvador_1202_1 fewer than 3 remaps\n"
     ]
    }
   ],
   "source": [
    "MIN_REMAPS = 3\n",
    "\n",
    "# store mean speeds for each session and all speed values\n",
    "med_speed_remap = []\n",
    "med_speed_stable = []\n",
    "sem_remaps = []\n",
    "sem_stable = []   \n",
    "\n",
    "ct = -1\n",
    "for m, session in zip(mice, sessions):\n",
    "    ct += 1\n",
    "    med_speed_remap.append(np.zeros(len(session)))\n",
    "    med_speed_stable.append(np.zeros(len(session)))\n",
    "    sem_remaps.append(np.zeros(len(session)))\n",
    "    sem_stable.append(np.zeros(len(session)))   \n",
    "    \n",
    "    for i, s in enumerate(session):\n",
    "        d = data[m][s]\n",
    "        stable_idx = d['idx'][0]\n",
    "        remap_idx = d['idx'][1]\n",
    "        \n",
    "        # keep only sessions with at least MIN_REMAPS\n",
    "        if remap_idx[::2].shape[0] < MIN_REMAPS:\n",
    "            print(m + '_' + s + ' fewer than ' + str(MIN_REMAPS) + ' remaps')\n",
    "            continue\n",
    "            \n",
    "        # get average speed on remap vs. stable trials\n",
    "        avg_speed_remaps = d['avg_speeds'][remap_idx]\n",
    "        avg_speed_stable = d['avg_speeds'][stable_idx]\n",
    "\n",
    "        # store mean speed and SEM\n",
    "        med_speed_remap[-1][i] = np.mean(avg_speed_remaps)\n",
    "        sem_remaps[-1][i] = stats.sem(avg_speed_remaps)\n",
    "        med_speed_stable[-1][i] = np.mean(avg_speed_stable)\n",
    "        sem_stable[-1][i] = stats.sem(avg_speed_stable)"
   ]
  },
  {
   "cell_type": "code",
   "execution_count": 17,
   "metadata": {},
   "outputs": [
    {
     "name": "stdout",
     "output_type": "stream",
     "text": [
      "[42.37446449 37.22053665 46.17800234]\n",
      "[29.34127221 29.41303367 42.97871651]\n",
      "[0.]\n",
      "[0.]\n",
      "[0.]\n",
      "[0.]\n",
      "[ 0.         43.73005    33.99547613]\n",
      "[ 0.         48.02332682 30.06050411]\n",
      "[0.]\n",
      "[0.]\n",
      "[0.]\n",
      "[0.]\n",
      "[34.30341457 38.82471218  0.          0.         40.74760703 36.85923669]\n",
      "[20.62987977 36.30163639  0.          0.         38.8511392  30.02207166]\n",
      "[ 0.         30.31660368]\n",
      "[ 0.         30.58645171]\n",
      "[ 0.          0.         34.23322485]\n",
      "[ 0.          0.         37.43138474]\n",
      "[38.21564804]\n",
      "[35.87483798]\n",
      "[ 0.         33.14322264  0.        ]\n",
      "[ 0.         28.15088285  0.        ]\n",
      "[0. 0.]\n",
      "[0. 0.]\n",
      "[0.]\n",
      "[0.]\n"
     ]
    },
    {
     "data": {
      "image/png": "[encoded data removed]",
      "text/plain": [
       "<Figure size 86.4x86.4 with 1 Axes>"
      ]
     },
     "metadata": {},
     "output_type": "display_data"
    }
   ],
   "source": [
    "''' Fig. 4A -- running speed in remap vs. stable trials, all mice '''\n",
    "f, ax = plt.subplots(1, 1, figsize=(1.2, 1.2))\n",
    "DOT_SIZE = 15\n",
    "PT_LW = 0.5\n",
    "UNITY_WIDTH = 1\n",
    "SEM_WIDTH = 1\n",
    "\n",
    "N_mice_restricted = 0\n",
    "N_sess_restricted = 0\n",
    "\n",
    "i = -1\n",
    "for m, session in zip(mice, sessions):\n",
    "    i += 1\n",
    "    \n",
    "    # get data\n",
    "    avg_stable = med_speed_stable[i]\n",
    "    avg_remap = med_speed_remap[i]\n",
    "    sem_s = sem_stable[i]\n",
    "    sem_r = sem_remaps[i]\n",
    "    idx = avg_stable > 0\n",
    "    \n",
    "    # show data\n",
    "    print(avg_stable)\n",
    "    print(avg_remap)\n",
    "    \n",
    "    if any(idx):\n",
    "        N_mice_restricted += 1\n",
    "        N_sess_restricted += np.sum(idx)\n",
    "    \n",
    "    # plot it\n",
    "    if m in ['Pisa', 'Hanover', 'Calais']:\n",
    "        session_color = cp_color\n",
    "    else:\n",
    "        session_color = cr_color\n",
    "    ax.vlines(avg_stable[idx], avg_remap[idx] - sem_r[idx], avg_remap[idx] + sem_r[idx], \n",
    "              colors='k', lw=SEM_WIDTH, linestyles='solid', alpha=0.2, zorder=1)\n",
    "    ax.hlines(avg_remap[idx], avg_stable[idx] - sem_s[idx], avg_stable[idx] + sem_s[idx], \n",
    "              colors='k', lw=SEM_WIDTH, linestyles='solid', alpha=0.2, zorder=1)\n",
    "    ax.scatter(avg_stable[idx], avg_remap[idx], s=DOT_SIZE, \n",
    "               facecolors=session_color, edgecolors='k', lw=PT_LW, zorder=2)\n",
    "\n",
    "# plot unity\n",
    "ax.set_xticks([25, 50])\n",
    "ax.set_yticks([25, 50])\n",
    "ax.tick_params(which='major', labelsize=7.5, pad=0.5)\n",
    "xlims = ax.get_xlim()\n",
    "ylims = ax.get_ylim()\n",
    "min_speed = np.min([xlims[0], ylims[0]])\n",
    "max_speed = np.max([xlims[1], ylims[1]])\n",
    "plt.plot([min_speed, max_speed], [min_speed, max_speed], '--k', lw=UNITY_WIDTH, alpha=1)\n",
    "\n",
    "ax.set_xlabel('stable block\\nspeed (cm/s)', fontsize=9, labelpad=1)\n",
    "ax.set_ylabel('remap trials\\nspeed (cm/s)', fontsize=9, labelpad=1)\n",
    "ax.set_title('all 2-map mice', fontsize=10, pad=3)\n",
    "\n",
    "f.savefig(save_folder + 'speed_remaps_all.png', dpi=400, bbox_inches='tight')\n",
    "plt.show()"
   ]
  },
  {
   "cell_type": "code",
   "execution_count": 18,
   "metadata": {},
   "outputs": [
    {
     "name": "stdout",
     "output_type": "stream",
     "text": [
      "n mice >3 remaps = 7\n",
      "n sessions >3 remaps = 13\n"
     ]
    }
   ],
   "source": [
    "print('n mice >' + str(MIN_REMAPS) + ' remaps = ' + str(N_mice_restricted))\n",
    "print('n sessions >' + str(MIN_REMAPS) + ' remaps = ' + str(N_sess_restricted))"
   ]
  },
  {
   "cell_type": "code",
   "execution_count": 19,
   "metadata": {},
   "outputs": [],
   "source": [
    "''' get difference in running speeds for each remap/stable block pair '''\n",
    "diff_speed = np.asarray([])\n",
    "for m, session in zip(mice, sessions):\n",
    "    for s in session:\n",
    "        d = data[m][s]\n",
    "        avg_speeds = d['avg_speeds']\n",
    "        \n",
    "        # get indices\n",
    "        stable_idx = d['idx'][0]\n",
    "        remap_idx = d['idx'][1]\n",
    "        if remap_idx[::2].shape[0] < MIN_REMAPS:\n",
    "            continue\n",
    "        remap_speeds_both = avg_speeds[remap_idx]\n",
    "        remap_speeds = (remap_speeds_both[::2] + remap_speeds_both[1::2])/2\n",
    "        \n",
    "        # get avg stable speed by block\n",
    "        bdx = np.digitize(stable_idx, remap_idx[::2])\n",
    "        stable_blocks = np.zeros(remap_idx[::2].shape[0])\n",
    "        for b in np.unique(bdx):\n",
    "            if b < stable_blocks.shape[0]:\n",
    "                stable_blocks[b] = np.mean(avg_speeds[stable_idx[bdx==b]])\n",
    "            \n",
    "        # calculate percent difference remap vs. stable\n",
    "        diff_session = ((stable_blocks - remap_speeds) / stable_blocks)*100\n",
    "        diff_speed = np.append(diff_speed, diff_session)"
   ]
  },
  {
   "cell_type": "code",
   "execution_count": 20,
   "metadata": {},
   "outputs": [
    {
     "name": "stdout",
     "output_type": "stream",
     "text": [
      "mean, sem\n",
      "diff in speeds, stable - remap: 9.53, 2.2\n",
      "n pairs = 125\n",
      "\n",
      "p = 0.0002017305890197435\n"
     ]
    }
   ],
   "source": [
    "print('mean, sem')\n",
    "print('diff in speeds, stable - remap: ' + str(np.round(np.mean(diff_speed), 2)) + ', ' + str(np.round(stats.sem(diff_speed), 2)))\n",
    "print('n pairs = ' + str(diff_speed.shape[0]))\n",
    "\n",
    "stat, p_diff = stats.wilcoxon(diff_speed)\n",
    "print('\\np = ' + str(p_diff))"
   ]
  },
  {
   "cell_type": "code",
   "execution_count": 21,
   "metadata": {},
   "outputs": [],
   "source": [
    "# quantify n remaps total and range across sessions\n",
    "n_remaps = np.zeros(N_sessions)\n",
    "i = -1\n",
    "for m, session in zip(mice, sessions):\n",
    "    for s in session:\n",
    "        i += 1\n",
    "        d = data[m][s]\n",
    "        remap_idx = d['idx'][1]\n",
    "        n_remaps[i] = remap_idx.shape[0]\n",
    "n_remaps = n_remaps/2"
   ]
  },
  {
   "cell_type": "code",
   "execution_count": 22,
   "metadata": {},
   "outputs": [
    {
     "name": "stdout",
     "output_type": "stream",
     "text": [
      "total N remaps = 145.0\n",
      "mean, sem: 5.178571428571429, 1.234484202882132\n",
      "range: 1.0 to 27.0\n"
     ]
    }
   ],
   "source": [
    "print('total N remaps = ' + str(np.sum(n_remaps)))\n",
    "print('mean, sem: ' + str(np.mean(n_remaps)) + ', ' + str(stats.sem(n_remaps)))\n",
    "print('range: ' + str(np.min(n_remaps)) + ' to ' + str(np.max(n_remaps)))"
   ]
  },
  {
   "cell_type": "code",
   "execution_count": 23,
   "metadata": {},
   "outputs": [],
   "source": [
    "''' single session examples '''\n",
    "m = 'Pisa'\n",
    "s = '0430_1'\n",
    "d = data[m][s]"
   ]
  },
  {
   "cell_type": "code",
   "execution_count": 24,
   "metadata": {},
   "outputs": [
    {
     "name": "stdout",
     "output_type": "stream",
     "text": [
      "Pisa_0430_1, n cells = 227, n remaps = 13\n"
     ]
    }
   ],
   "source": [
    "print('{}_{}, n cells = {}, n remaps = {}'.format(m, s, d['cells'].shape[0], d['idx'][1][::2].shape[0]))"
   ]
  },
  {
   "cell_type": "code",
   "execution_count": 25,
   "metadata": {},
   "outputs": [],
   "source": [
    "# get data\n",
    "normalized_dd_all = d['dist']\n",
    "A = d['A']\n",
    "speed = A[:, 1]\n",
    "obs_trials = A[:, 2]\n",
    "avg_speed = d['avg_speeds']"
   ]
  },
  {
   "cell_type": "code",
   "execution_count": 26,
   "metadata": {},
   "outputs": [],
   "source": [
    "# get avg speed for each stable block\n",
    "stable_idx = d['idx'][0]\n",
    "remap_idx = d['idx'][1]\n",
    "remap_speeds_both = avg_speed[remap_idx]\n",
    "remap_speeds = (remap_speeds_both[::2] + remap_speeds_both[1::2])/2\n",
    "\n",
    "# get avg stable speed by block\n",
    "bdx = np.digitize(stable_idx, remap_idx[::2])\n",
    "stable_blocks = np.zeros(remap_idx[::2].shape[0])\n",
    "for b in np.unique(bdx):\n",
    "    if b < stable_blocks.shape[0]:\n",
    "        stable_blocks[b] = np.mean(avg_speed[stable_idx[bdx==b]])"
   ]
  },
  {
   "cell_type": "code",
   "execution_count": 27,
   "metadata": {},
   "outputs": [
    {
     "data": {
      "image/png": "[encoded data removed]",
      "text/plain": [
       "<Figure size 86.4x86.4 with 1 Axes>"
      ]
     },
     "metadata": {},
     "output_type": "display_data"
    }
   ],
   "source": [
    "''' Fig. 4B - E -- examples running speed in remaps vs. stable '''\n",
    "f, ax = plt.subplots(1, 1, figsize=(1.2, 1.2))\n",
    "UNITY_W = 1\n",
    "PT_SIZE = 15\n",
    "PT_LW = 0.5\n",
    "color = cp_color\n",
    "\n",
    "# stable vs. remaps\n",
    "ax.scatter(stable_blocks, remap_speeds, s=PT_SIZE, \n",
    "           facecolors=color, edgecolors='k', lw=PT_LW, alpha=0.7)\n",
    "\n",
    "# plot unity\n",
    "xlims = ax.get_xlim()\n",
    "ylims = ax.get_ylim()\n",
    "min_speed = np.min([xlims[0], ylims[0]])\n",
    "max_speed = np.max([xlims[1], ylims[1]])\n",
    "ax.plot([min_speed, max_speed], [min_speed, max_speed], \n",
    "        '--k', lw=UNITY_W, alpha=1)\n",
    "\n",
    "# labels etc\n",
    "ax.set_xticks([25, 50])\n",
    "ax.set_yticks([25, 50])\n",
    "ax.tick_params(which='major', labelsize=7.5, pad=0.5)\n",
    "ax.set_xlabel('stable block\\nspeed (cm/s)', fontsize=9, labelpad=1)\n",
    "ax.set_ylabel('remap trials\\nspeed (cm/s)', fontsize=9, labelpad=1)\n",
    "mouse_ID = '1c'\n",
    "ax.set_title('mouse {}'.format(mouse_ID), fontsize=10, pad=3)\n",
    "\n",
    "f.savefig(save_folder + m + '_' + s + '_speed.png', dpi=400, bbox_inches='tight')\n",
    "plt.show()"
   ]
  },
  {
   "cell_type": "code",
   "execution_count": 28,
   "metadata": {},
   "outputs": [],
   "source": [
    "''' distance to boundary within each position bin on remap vs. stable trials--all mice '''\n",
    "all_remap_dist = np.asarray([])\n",
    "all_stable_dist = np.asarray([])\n",
    "for m, session in zip(mice, sessions):\n",
    "    for i, s in enumerate(session):\n",
    "        d = data[m][s]\n",
    "        p_dist = d['pos_dist'] # trials x pos bins\n",
    "        \n",
    "        # get remap distances\n",
    "        remap_idx = d['idx'][1]\n",
    "        remap_dist = np.abs(p_dist[remap_idx, :])\n",
    "        all_remap_dist = np.append(all_remap_dist, remap_dist.ravel())\n",
    "        \n",
    "        # get stable distances\n",
    "        stable_idx = d['idx'][0]\n",
    "        stable_dist = np.abs(p_dist[stable_idx, :])\n",
    "        all_stable_dist = np.append(all_stable_dist, stable_dist.ravel())"
   ]
  },
  {
   "cell_type": "code",
   "execution_count": 29,
   "metadata": {},
   "outputs": [
    {
     "name": "stdout",
     "output_type": "stream",
     "text": [
      "mean, sem\n",
      "remap distance to bound: 0.589, 0.003\n",
      "stable distance to bound: 1.043, 0.001\n",
      "N remap trials = 290.0\n",
      "N stable trials = 8073.0\n",
      "IQR stable blocks: 0.761 to 1.338\n",
      "\n",
      "Wilcoxon rank-sums, two-sided: p = 0.0\n"
     ]
    }
   ],
   "source": [
    "print('mean, sem')\n",
    "print('remap distance to bound: ' + str(np.round(np.mean(all_remap_dist), 3)) + \n",
    "      ', ' + str(np.round(stats.sem(all_remap_dist), 3)))\n",
    "print('stable distance to bound: ' + str(np.round(np.mean(all_stable_dist), 3)) + \n",
    "      ', ' + str(np.round(stats.sem(all_stable_dist), 3)))\n",
    "print('N remap trials = ' + str(all_remap_dist.shape[0]/80))\n",
    "print('N stable trials = ' + str(all_stable_dist.shape[0]/80))\n",
    "\n",
    "print('IQR stable blocks: ' + str(np.round(np.percentile(all_stable_dist, 25), 3)) + \n",
    "      ' to ' + str(np.round(np.percentile(all_stable_dist, 75), 3)))\n",
    "\n",
    "stat, p_diff = stats.ranksums(all_stable_dist, all_remap_dist)\n",
    "print('\\nWilcoxon rank-sums, two-sided: p = ' + str(p_diff))"
   ]
  },
  {
   "cell_type": "code",
   "execution_count": 30,
   "metadata": {},
   "outputs": [],
   "source": [
    "''' relationship between speed and distance to boundary -- all mice '''\n",
    "# bin speed by position and trial\n",
    "bin_size = 5 # cm\n",
    "for m, session in zip(mice, sessions):\n",
    "    for s in session:\n",
    "        d = data[m][s]\n",
    "        speed_file = base + 'aggregate_data/gap_corrected/' + m + '_' + s + '_speed.npy'\n",
    "        if Path(speed_file).exists():\n",
    "            d['binned_speed'] = np.load(speed_file)\n",
    "        else:\n",
    "            A = d['A']\n",
    "            speed = A[:, 1]\n",
    "            pos = A[:, 0]\n",
    "            trials = A[:, 2]\n",
    "            n_trials = np.max(trials+1).astype(int)\n",
    "            edges = np.arange(0, 400+bin_size, bin_size)\n",
    "            bdx = np.digitize(pos, edges)\n",
    "\n",
    "            binned_speed = np.zeros((n_trials, n_pos))\n",
    "            for t in np.unique(trials).astype(int):\n",
    "                for i, b in enumerate(np.unique(bdx)):\n",
    "                    idx = (trials==t) & (bdx==b)\n",
    "                    binned_speed[t, i] = np.mean(speed[idx])\n",
    "\n",
    "            np.save(speed_file, binned_speed)\n",
    "            d['binned_speed'] = binned_speed"
   ]
  },
  {
   "cell_type": "code",
   "execution_count": 31,
   "metadata": {},
   "outputs": [],
   "source": [
    "''' single session examples '''\n",
    "m = 'Pisa'\n",
    "s = '0430_1'\n",
    "d = data[m][s]\n",
    "A = d['A']"
   ]
  },
  {
   "cell_type": "code",
   "execution_count": 32,
   "metadata": {},
   "outputs": [],
   "source": [
    "def moving_avg(a, n=3) :\n",
    "    ret = np.cumsum(a, dtype=float)\n",
    "    ret[n:] = ret[n:] - ret[:-n]\n",
    "    return ret[n - 1:] / n"
   ]
  },
  {
   "cell_type": "code",
   "execution_count": 33,
   "metadata": {},
   "outputs": [],
   "source": [
    "# get remap trial vs. middle of stable block indices\n",
    "remaps = d['idx'][1][::2]\n",
    "boundaries = np.insert(remaps, 0, 0)\n",
    "stable_idx = moving_avg(boundaries, 2).astype(int)"
   ]
  },
  {
   "cell_type": "code",
   "execution_count": 34,
   "metadata": {},
   "outputs": [],
   "source": [
    "# get speed near remaps vs. middle of stable blocks\n",
    "binned_speed = d['binned_speed']\n",
    "speed_remap = np.column_stack((binned_speed[remaps-1, :], binned_speed[remaps, :],\n",
    "                                   binned_speed[remaps+1, :], binned_speed[remaps+2, :]))\n",
    "speed_stable = np.column_stack((binned_speed[stable_idx-1, :], binned_speed[stable_idx, :],\n",
    "                                   binned_speed[stable_idx+1, :], binned_speed[stable_idx+2, :]))\n",
    "\n",
    "# get distance by position bin near remaps vs. middle of stable blocks\n",
    "dd_by_pos = d['pos_dist']\n",
    "pos_remaps = np.column_stack((dd_by_pos[remaps-1], dd_by_pos[remaps], \n",
    "                              dd_by_pos[remaps+1], dd_by_pos[remaps+2]))\n",
    "pos_stable = np.column_stack((dd_by_pos[stable_idx-1], dd_by_pos[stable_idx], \n",
    "                              dd_by_pos[stable_idx+1], dd_by_pos[stable_idx+2]))"
   ]
  },
  {
   "cell_type": "code",
   "execution_count": 35,
   "metadata": {},
   "outputs": [],
   "source": [
    "# example trials to plot\n",
    "to_plot = np.asarray([6, 7]) # Pisa"
   ]
  },
  {
   "cell_type": "code",
   "execution_count": 36,
   "metadata": {},
   "outputs": [
    {
     "data": {
      "image/png": "[encoded data removed]",
      "text/plain": [
       "<Figure size 180x216 with 8 Axes>"
      ]
     },
     "metadata": {},
     "output_type": "display_data"
    }
   ],
   "source": [
    "''' Fig. 4f, g -- examples of distance to boundary and running speed within the stable block '''\n",
    "n_trials = pos_remaps.shape[0]\n",
    "gs  = gridspec.GridSpec(15, 2, hspace=0, wspace=0.2)\n",
    "f = plt.figure(figsize=(2.5, 3))\n",
    "LW_SPEED = 1.5\n",
    "MAX_SPEED = 90\n",
    "\n",
    "if m == 'Pisa':\n",
    "    mouse_ID = '1c'\n",
    "\n",
    "# plot speed and distance to cluster for 8 stable trials\n",
    "xvals = np.arange(0, 4*400, 5)                       \n",
    "for r, i in enumerate(to_plot):\n",
    "    if r == 0:\n",
    "        ax01 = plt.subplot(gs[:2, :])\n",
    "        ax11 = plt.subplot(gs[2, :])\n",
    "        ax01.set_title('mouse {}, session {}'.format(mouse_ID, s), \n",
    "                       fontsize=10, pad=5)\n",
    "    else:\n",
    "        ax01 = plt.subplot(gs[-3:-1, :])\n",
    "        ax11 = plt.subplot(gs[-1, :])\n",
    "    \n",
    "    # get trial numbers\n",
    "    X_LABELS = []\n",
    "    j = -1\n",
    "    for t in range(12):\n",
    "        if np.isin(t, np.asarray([1, 3, 5, 7])):\n",
    "            X_LABELS.append('{}'.format(stable_idx[i] + j))\n",
    "            j += 1\n",
    "        else:\n",
    "            X_LABELS.append('')\n",
    "    \n",
    "    # plot running speed\n",
    "    ax01.plot(xvals, speed_stable[i], '-k', lw=LW_SPEED)\n",
    "    ax01.set_ylim([0, MAX_SPEED])\n",
    "    ax01.set_xticks(np.arange(0, 4*400+5, 200))\n",
    "    ax01.set_xlim([0, 4*400])\n",
    "    ax01.tick_params(labelbottom=False, which='major', labelsize=7.5, pad=0.5)\n",
    "\n",
    "    # plot dd_pos\n",
    "    ax11.imshow(pos_stable[None, i, :], clim=[-1, 1], aspect='auto', cmap='binary')\n",
    "    ax11.set_xticks(np.arange(0, 4*80+5, 40))\n",
    "    ax11.set_xticklabels(X_LABELS)\n",
    "    ax11.set_xlim([0, 4*80])\n",
    "    ax11.tick_params(labelleft=False, which='major', labelsize=7.5, pad=3)\n",
    "    ax11.tick_params(axis = \"y\", which = \"both\", left = False)\n",
    "    \n",
    "# zoom in on an example trial from each block\n",
    "xvals = np.arange(0, 400, 5)                       \n",
    "for r, i in enumerate(to_plot):\n",
    "    if r == 0:\n",
    "        ax01 = plt.subplot(gs[5:8, 1])\n",
    "        ax11 = plt.subplot(gs[8:9, 1])\n",
    "        idx = slice(-80, None)\n",
    "        ax01.tick_params(labelleft=False)\n",
    "        ax11.set_xlabel('position (cm)', fontsize=9, labelpad=1, \n",
    "                        horizontalalignment='right', x=0.5)             \n",
    "    else:\n",
    "        ax01 = plt.subplot(gs[5:8, 0])\n",
    "        ax11 = plt.subplot(gs[8:9, 0])\n",
    "        idx = slice(80)\n",
    "        ax01.set_ylabel('running speed (cm/s)', fontsize=9, labelpad=3, \n",
    "                        verticalalignment='bottom', y=0.3)\n",
    "    \n",
    "    # plot running speed\n",
    "    ax01.plot(xvals, speed_stable[i, idx], '-k', lw=LW_SPEED)\n",
    "    ax01.set_ylim([0, MAX_SPEED])\n",
    "    ax01.set_yticks([0, 40, 80])\n",
    "    ax01.set_xticks(np.arange(0, 405, 200))\n",
    "    ax01.set_xlim([0, 400])\n",
    "    ax01.tick_params(labelbottom=False, which='major', labelsize=7.5, pad=0.5)\n",
    "\n",
    "    # plot dd_pos\n",
    "    ax11.imshow(pos_stable[None, i, idx], clim=[-1, 1], aspect='auto', cmap='binary')\n",
    "    ax11.set_xticks(np.arange(0, 80+5, 40))\n",
    "    ax11.set_xticklabels(np.arange(0, 405, 200))\n",
    "    ax11.set_xlim([0, 80])\n",
    "    ax11.tick_params(labelleft=False, which='major', labelsize=7.5, pad=0.5)\n",
    "    ax11.tick_params(axis=\"y\", which =\"both\", left=False)\n",
    "\n",
    "f.savefig(save_folder + m + '_' + s + '_dist_speed_stable_alt.png', dpi=400, bbox_inches='tight')\n",
    "plt.show()"
   ]
  },
  {
   "cell_type": "code",
   "execution_count": 37,
   "metadata": {},
   "outputs": [],
   "source": [
    "# ''' Fig. 4f, g -- examples of distance to boundary and running speed within the stable block '''\n",
    "# n_trials = pos_remaps.shape[0]\n",
    "# gs  = gridspec.GridSpec(15, 2, hspace=0, wspace=0.2)\n",
    "# f = plt.figure(figsize=(2, 2.5))\n",
    "# LW_SPEED = 1.5\n",
    "# MAX_SPEED = 90\n",
    "\n",
    "# if m == 'Pisa':\n",
    "#     mouse_ID = '1c'\n",
    "\n",
    "# # plot speed and distance to cluster for 8 stable trials\n",
    "# xvals = np.arange(0, 4*400, 5)                       \n",
    "# for r, i in enumerate(to_plot):\n",
    "#     if r == 0:\n",
    "#         ax01 = plt.subplot(gs[:2, :])\n",
    "#         ax11 = plt.subplot(gs[2, :])\n",
    "#         ax01.set_title('mouse {}, session {}'.format(mouse_ID, s), \n",
    "#                        fontsize=10, pad=5)\n",
    "#     else:\n",
    "#         ax01 = plt.subplot(gs[-3:-1, :])\n",
    "#         ax11 = plt.subplot(gs[-1, :])\n",
    "    \n",
    "#     # get trial numbers\n",
    "#     X_LABELS = []\n",
    "#     j = -1\n",
    "#     for t in range(12):\n",
    "#         if t == 0:\n",
    "#             X_LABELS.append('trial:     {}'.format(stable_idx[i] + j))\n",
    "#             j += 1\n",
    "#         elif np.isin(t, np.asarray([3, 5, 7])):\n",
    "#             X_LABELS.append('{}'.format(stable_idx[i] + j))\n",
    "#             j += 1\n",
    "#         else:\n",
    "#             X_LABELS.append('')\n",
    "    \n",
    "#     # plot running speed\n",
    "#     ax01.plot(xvals, speed_stable[i], '-k', lw=LW_SPEED)\n",
    "#     ax01.set_ylim([0, MAX_SPEED])\n",
    "#     ax01.set_xticks(np.arange(0, 4*400+5, 200))\n",
    "#     ax01.set_xlim([0, 4*400])\n",
    "#     ax01.tick_params(labelbottom=False, which='major', labelsize=7.5, pad=0.5)\n",
    "\n",
    "#     # plot dd_pos\n",
    "#     ax11.imshow(pos_stable[None, i, :], clim=[-1, 1], aspect='auto', cmap='binary')\n",
    "#     ax11.set_xticks(np.arange(0, 4*80+5, 40))\n",
    "#     ax11.set_xticklabels(X_LABELS)\n",
    "#     ax11.set_xlim([0, 4*80])\n",
    "#     ax11.tick_params(labelleft=False, which='major', labelsize=7.5, pad=3)\n",
    "#     ax11.tick_params(axis = \"y\", which = \"both\", left = False)\n",
    "    \n",
    "# # zoom in on an example trial from each block\n",
    "# xvals = np.arange(0, 400, 5)                       \n",
    "# for r, i in enumerate(to_plot):\n",
    "#     if r == 0:\n",
    "#         ax01 = plt.subplot(gs[5:8, 1])\n",
    "#         ax11 = plt.subplot(gs[8:9, 1])\n",
    "#         idx = slice(-80, None)\n",
    "#         ax01.tick_params(labelleft=False)\n",
    "#         ax11.set_xlabel('position (cm)', fontsize=9, labelpad=1, \n",
    "#                         horizontalalignment='right', x=0.5)             \n",
    "#     else:\n",
    "#         ax01 = plt.subplot(gs[5:8, 0])\n",
    "#         ax11 = plt.subplot(gs[8:9, 0])\n",
    "#         idx = slice(80)\n",
    "#         ax01.set_ylabel('running speed (cm/s)', fontsize=9, labelpad=10, \n",
    "#                         verticalalignment='bottom', y=0.3)\n",
    "    \n",
    "#     # plot running speed\n",
    "#     ax01.plot(xvals, speed_stable[i, idx], '-k', lw=LW_SPEED)\n",
    "#     ax01.set_ylim([0, MAX_SPEED])\n",
    "#     ax01.set_yticks([0, 40, 80])\n",
    "#     ax01.set_xticks(np.arange(0, 405, 200))\n",
    "#     ax01.set_xlim([0, 400])\n",
    "#     ax01.tick_params(labelbottom=False, which='major', labelsize=7.5, pad=0.5)\n",
    "\n",
    "#     # plot dd_pos\n",
    "#     ax11.imshow(pos_stable[None, i, idx], clim=[-1, 1], aspect='auto', cmap='binary')\n",
    "#     ax11.set_xticks(np.arange(0, 80+5, 40))\n",
    "#     ax11.set_xticklabels(np.arange(0, 405, 200))\n",
    "#     ax11.set_xlim([0, 80])\n",
    "#     ax11.tick_params(labelleft=False, which='major', labelsize=7.5, pad=0.5)\n",
    "#     ax11.tick_params(axis=\"y\", which =\"both\", left=False)\n",
    "\n",
    "# f.savefig(save_folder + m + '_' + s + '_dist_speed_stable.png', dpi=400, bbox_inches='tight')\n",
    "# plt.show()"
   ]
  },
  {
   "cell_type": "code",
   "execution_count": 38,
   "metadata": {},
   "outputs": [],
   "source": [
    "scores_by_speed = np.zeros((N_sessions, 9))\n",
    "i = 0\n",
    "for m, session in zip(mice, sessions):\n",
    "    for s in session:\n",
    "        d = data[m][s]\n",
    "        speed = d['A'][:, 1]\n",
    "        binned_speed = d['binned_speed']\n",
    "        flat_speed = binned_speed.ravel()\n",
    "        dd_by_pos = d['pos_dist']\n",
    "        flat_pos = dd_by_pos.ravel()\n",
    "        \n",
    "        # define bins\n",
    "        speed_bins = np.linspace(2, np.max(speed)-20, num=9)\n",
    "        speed_idx = np.digitize(flat_speed, speed_bins)\n",
    "        \n",
    "        # get score for each speed bin\n",
    "        for j, b in enumerate(np.unique(speed_idx)):\n",
    "            scores_by_speed[i, j] = np.mean(np.abs(flat_pos[speed_idx==b]))\n",
    "        i += 1"
   ]
  },
  {
   "cell_type": "code",
   "execution_count": 39,
   "metadata": {},
   "outputs": [],
   "source": [
    "def nan_interp(y):\n",
    "    def find(x):\n",
    "        return x.nonzero()[0]\n",
    "    nans = np.isnan(y)\n",
    "    y[nans] = np.interp(find(nans),find(~nans),y[~nans])\n",
    "    return y\n",
    "\n",
    "def zscore(a):\n",
    "    z = a - np.mean(a)\n",
    "    z /= z.std()\n",
    "    idx = np.abs(z) > 2\n",
    "\n",
    "    new_a = a.copy()\n",
    "    new_a[idx] = np.nan\n",
    "    new_a = nan_interp(new_a)\n",
    "\n",
    "    return new_a"
   ]
  },
  {
   "cell_type": "code",
   "execution_count": 40,
   "metadata": {},
   "outputs": [],
   "source": [
    "norm_scores_by_speed = np.zeros_like(scores_by_speed)\n",
    "\n",
    "for i in range(scores_by_speed.shape[0]):\n",
    "    norm_scores_by_speed[i, :] = zscore(scores_by_speed[i, :])\n",
    "\n",
    "scores_by_speed_mean = np.mean(norm_scores_by_speed, axis=0)\n",
    "scores_by_speed_sem = stats.sem(norm_scores_by_speed, axis=0)"
   ]
  },
  {
   "cell_type": "code",
   "execution_count": 41,
   "metadata": {},
   "outputs": [
    {
     "data": {
      "image/png": "[encoded data removed]",
      "text/plain": [
       "<Figure size 86.4x86.4 with 1 Axes>"
      ]
     },
     "metadata": {},
     "output_type": "display_data"
    }
   ],
   "source": [
    "''' Fig. 4j -- distance to boundary vs. speed for all mice '''\n",
    "f, ax = plt.subplots(1, 1, figsize=(1.2, 1.2))\n",
    "\n",
    "xvals = np.arange(0.05, 0.95, 0.1)\n",
    "\n",
    "# plot shuffle\n",
    "# ax.plot(xvals, shuff_scores_mean, ':k', alpha=0.4, zorder=3, linewidth=1)\n",
    "\n",
    "# plot data\n",
    "ax.plot(xvals, scores_by_speed_mean, 'k', linewidth=1, zorder=1)\n",
    "ax.fill_between(xvals, scores_by_speed_mean + scores_by_speed_sem,\n",
    "                scores_by_speed_mean - scores_by_speed_sem, color='k', linewidth=0.2, alpha=0.1, zorder=2)\n",
    "\n",
    "ax.set_yticks([0.9, 1.0])\n",
    "ax.set_xticks([0, 0.4, 0.8])\n",
    "ax.tick_params(which='major', labelsize=7.5, pad=0.5)\n",
    "ax.set_xlabel('norm. speed', fontsize=9, labelpad=1)\n",
    "ax.set_ylabel('distance\\nto midpoint', fontsize=9, labelpad=1)\n",
    "\n",
    "f.savefig(save_folder + 'dd_by_speed_all.png', dpi=400, bbox_inches='tight')\n",
    "plt.show()"
   ]
  },
  {
   "cell_type": "code",
   "execution_count": 42,
   "metadata": {},
   "outputs": [
    {
     "name": "stdout",
     "output_type": "stream",
     "text": [
      "normalized distance score by normalized speed, kruskal wallace test, p = 0.0\n"
     ]
    }
   ],
   "source": [
    "''' stats to determine if the scores are different across speed bins\n",
    "- kruskal wallace = non-parametric test to compare multiple groups (like a non-parametric ANOVA)\n",
    "- what is the best way to test each pair?\n",
    "- compare each bin to the corresponding shuffle bin to see if higher or lower (again, best way to test multiple pairs?)\n",
    "'''\n",
    "# compare groups to each other\n",
    "speed_dist_stat, speed_dist_p = stats.kruskal(norm_scores_by_speed[:, 0], norm_scores_by_speed[:, 1], \n",
    "                                              norm_scores_by_speed[:, 2], norm_scores_by_speed[:, 3], \n",
    "                                              norm_scores_by_speed[:, 4], norm_scores_by_speed[:, 5], \n",
    "                                              norm_scores_by_speed[:, 6], norm_scores_by_speed[:, 7], \n",
    "                                              norm_scores_by_speed[:, 8])\n",
    "print('normalized distance score by normalized speed, kruskal wallace test, p = ' + str(np.round(speed_dist_p, 3)))"
   ]
  },
  {
   "cell_type": "code",
   "execution_count": 43,
   "metadata": {},
   "outputs": [],
   "source": [
    "''' across all sessions, is there a significant relationship between speed and score? '''\n",
    "import statsmodels.api as sm"
   ]
  },
  {
   "cell_type": "code",
   "execution_count": 44,
   "metadata": {},
   "outputs": [
    {
     "name": "stdout",
     "output_type": "stream",
     "text": [
      "(28, 9)\n",
      "(28, 9)\n"
     ]
    }
   ],
   "source": [
    "X = np.tile(xvals, (N_sessions, 1))\n",
    "print(X.shape)\n",
    "print(norm_scores_by_speed.shape)"
   ]
  },
  {
   "cell_type": "code",
   "execution_count": 45,
   "metadata": {},
   "outputs": [
    {
     "name": "stdout",
     "output_type": "stream",
     "text": [
      "                            OLS Regression Results                            \n",
      "==============================================================================\n",
      "Dep. Variable:                      y   R-squared:                       0.779\n",
      "Model:                            OLS   Adj. R-squared:                  0.778\n",
      "Method:                 Least Squares   F-statistic:                     882.9\n",
      "Date:                Mon, 03 May 2021   Prob (F-statistic):           3.66e-84\n",
      "Time:                        15:25:34   Log-Likelihood:                -2.2001\n",
      "No. Observations:                 252   AIC:                             6.400\n",
      "Df Residuals:                     251   BIC:                             9.930\n",
      "Df Model:                           1                                         \n",
      "Covariance Type:            nonrobust                                         \n",
      "==============================================================================\n",
      "                 coef    std err          t      P>|t|      [0.025      0.975]\n",
      "------------------------------------------------------------------------------\n",
      "x1             0.4567      0.015     29.714      0.000       0.426       0.487\n",
      "==============================================================================\n",
      "Omnibus:                       68.252   Durbin-Watson:                   1.184\n",
      "Prob(Omnibus):                  0.000   Jarque-Bera (JB):               12.375\n",
      "Skew:                           0.009   Prob(JB):                      0.00205\n",
      "Kurtosis:                       1.915   Cond. No.                         1.00\n",
      "==============================================================================\n",
      "\n",
      "Warnings:\n",
      "[1] Standard Errors assume that the covariance matrix of the errors is correctly specified.\n"
     ]
    }
   ],
   "source": [
    "speed_dist_model = sm.OLS(exog=norm_scores_by_speed.ravel(), endog=X.ravel())\n",
    "speed_dist_results = speed_dist_model.fit()\n",
    "print(speed_dist_results.summary())"
   ]
  },
  {
   "cell_type": "code",
   "execution_count": 46,
   "metadata": {},
   "outputs": [
    {
     "name": "stderr",
     "output_type": "stream",
     "text": [
      "C:\\Users\\ilow1\\AppData\\Roaming\\Python\\Python36\\site-packages\\numpy\\lib\\function_base.py:4291: RuntimeWarning: Invalid value encountered in percentile\n",
      "  interpolation=interpolation)\n",
      "C:\\Users\\ilow1\\Anaconda3\\lib\\site-packages\\ipykernel_launcher.py:22: RuntimeWarning: invalid value encountered in less_equal\n",
      "C:\\Users\\ilow1\\Anaconda3\\lib\\site-packages\\ipykernel_launcher.py:23: RuntimeWarning: invalid value encountered in greater_equal\n"
     ]
    }
   ],
   "source": [
    "# get parameters\n",
    "slow_all = np.asarray([])\n",
    "fast_all = np.asarray([])\n",
    "for m, session in zip(mice, sessions):\n",
    "    for s in session:\n",
    "        d = data[m][s]\n",
    "        binned_speed = d['binned_speed'].copy()\n",
    "        dd_by_pos = d['pos_dist'].copy()\n",
    "        \n",
    "        # normalize dd_by_pos and flip sign for random 50% to correct for arbitrary map\n",
    "        flat_pos = dd_by_pos.ravel()\n",
    "        norm_pos = zscore(flat_pos)\n",
    "        flip_idx = (np.random.rand(flat_pos.shape[0]//2)*flat_pos.shape[0]).astype(int)\n",
    "        norm_pos[flip_idx] = -1*norm_pos[flip_idx]\n",
    "        \n",
    "        # get speed cut-offs\n",
    "        flat_speed = binned_speed.ravel()\n",
    "        slow_speed = np.percentile(flat_speed, 20)\n",
    "        fast_speed = np.percentile(flat_speed, 80)\n",
    "        \n",
    "        # collect z-scored distances\n",
    "        slow_all = np.append(slow_all, norm_pos[flat_speed <= slow_speed])\n",
    "        fast_all = np.append(fast_all, norm_pos[flat_speed >= fast_speed])"
   ]
  },
  {
   "cell_type": "code",
   "execution_count": 47,
   "metadata": {},
   "outputs": [],
   "source": [
    "from sklearn.mixture import GaussianMixture\n",
    "\n",
    "# fit a Gaussian mixture model to fast and slow\n",
    "model_slow = GaussianMixture(n_components=2)\n",
    "model_slow.fit(slow_all[:, None])\n",
    "f1_slow = stats.norm(model_slow.means_[0], np.sqrt(model_slow.covariances_[0]))\n",
    "f2_slow = stats.norm(model_slow.means_[1], np.sqrt(model_slow.covariances_[1]))\n",
    "\n",
    "model_fast = GaussianMixture(n_components=2)\n",
    "model_fast.fit(fast_all[:, None])\n",
    "f1_fast = stats.norm(model_fast.means_[0], np.sqrt(model_fast.covariances_[0]))\n",
    "f2_fast = stats.norm(model_fast.means_[1], np.sqrt(model_fast.covariances_[1]))"
   ]
  },
  {
   "cell_type": "code",
   "execution_count": 48,
   "metadata": {},
   "outputs": [
    {
     "data": {
      "image/png": "[encoded data removed]",
      "text/plain": [
       "<Figure size 108x86.4 with 4 Axes>"
      ]
     },
     "metadata": {},
     "output_type": "display_data"
    }
   ],
   "source": [
    "''' Fig. 4m -- distance to bound, slow vs. fast speeds'''\n",
    "f, ax = plt.subplots(2, 1, figsize=(1.5, 1.2))\n",
    "plt.subplots_adjust(hspace=0.2)\n",
    "color = 'k'\n",
    "MODEL_WIDTH = 1.5\n",
    "MEAN_WIDTH = 1\n",
    "\n",
    "# plot dist to cluster vs. model fit SLOW\n",
    "ax[0].hist(slow_all, bins=50, color='k', alpha=0.3);\n",
    "xvals = np.linspace(ax[0].get_xlim()[0], ax[0].get_xlim()[1], 200)\n",
    "ax2 = ax[0].twinx()\n",
    "ax2.plot(xvals, model_slow.weights_[0] * f1_slow.pdf(xvals).ravel(), color=color, lw=MODEL_WIDTH)\n",
    "ax2.plot(xvals, model_slow.weights_[1] * f2_slow.pdf(xvals).ravel(), color=color, lw=MODEL_WIDTH)\n",
    "ax2.set_ylim([0, ax2.get_ylim()[1]])\n",
    "ax2.vlines(model_slow.means_, 0, ax2.get_ylim()[1], linestyles='dashed', colors='k', lw=MEAN_WIDTH)\n",
    "x_min = ax[0].get_xlim()[0]\n",
    "x_max = ax[0].get_xlim()[1]\n",
    "ax2.set_yticks([0, 0.5])\n",
    "ax[0].tick_params(labelbottom=False, labelleft=False)\n",
    "ax2.tick_params(labelright=False, axis=\"y\", which =\"both\", right=False)\n",
    "\n",
    "# plot dist to cluster vs. model fit FAST\n",
    "ax[1].hist(fast_all, bins=50, color='k', alpha=0.3);\n",
    "xvals = np.linspace(ax[1].get_xlim()[0], ax[1].get_xlim()[1], 200)\n",
    "ax2 = ax[1].twinx()\n",
    "ax2.plot(xvals, model_fast.weights_[0] * f1_fast.pdf(xvals).ravel(), color=color, lw=MODEL_WIDTH)\n",
    "ax2.plot(xvals, model_fast.weights_[1] * f2_fast.pdf(xvals).ravel(), color=color, lw=MODEL_WIDTH)\n",
    "ax2.set_ylim([0, ax2.get_ylim()[1]])\n",
    "ax2.vlines(model_fast.means_, 0, ax2.get_ylim()[1], linestyles='dashed', colors='k', lw=MEAN_WIDTH)\n",
    "x_min = np.min((ax[1].get_xlim()[0], x_min))\n",
    "x_max = np.max((ax[1].get_xlim()[1], x_max))\n",
    "ax2.set_yticks([0, 0.5])\n",
    "\n",
    "ax[1].tick_params(labelleft=False, which='major', labelsize=7.5, pad=0.5)\n",
    "ax2.tick_params(labelright=False, axis=\"y\", which =\"both\", right=False)\n",
    "ax[0].tick_params(axis=\"y\", which =\"both\", left=False)\n",
    "ax[1].tick_params(labelleft=False, which='major', labelsize=7.5, pad=0.5)\n",
    "ax[1].tick_params(axis=\"y\", which =\"both\", left=False)\n",
    "\n",
    "ax[0].set_xlim(x_min+1, x_max-1)\n",
    "ax[1].set_xlim(x_min+1, x_max-1)\n",
    "ax[1].set_xticks([-2, -1, 0, 1, 2])\n",
    "ax[0].set_xticks([-2, -1, 0, 1, 2])\n",
    "ax[1].set_xticklabels([2, 1, 0, 1, 2])\n",
    "ax[0].set_ylabel('slow', fontsize=9, labelpad=1)\n",
    "ax[1].set_ylabel('fast', fontsize=9, labelpad=1)\n",
    "ax[1].set_xlabel('norm. distance\\nto midpoint', fontsize=9, labelpad=1)\n",
    "\n",
    "f.savefig(save_folder + 'speed_hist_all.png', dpi=400, bbox_inches='tight')\n",
    "plt.show()"
   ]
  },
  {
   "cell_type": "code",
   "execution_count": 49,
   "metadata": {
    "scrolled": true
   },
   "outputs": [],
   "source": [
    "# save the difference in means for the good sessions\n",
    "diff_median_sep = np.asarray([])\n",
    "for m, session in zip(mice, sessions):\n",
    "    for s in session:\n",
    "        d = data[m][s]\n",
    "        dd_by_pos = d['pos_dist'].copy()\n",
    "        binned_speed = d['binned_speed'].copy()\n",
    "        \n",
    "        # calculate the flattened vector of fast and slow speeds\n",
    "        flat_pos = dd_by_pos.ravel()\n",
    "        flat_speed = binned_speed.ravel()\n",
    "        if np.sum(np.isnan(flat_speed)):\n",
    "            flat_speed = nan_interp(flat_speed)\n",
    "            \n",
    "        # get the median separation for slow speeds\n",
    "        slow_speed = np.percentile(flat_speed, 20)\n",
    "        slow_dist = flat_pos[flat_speed<=slow_speed, None]\n",
    "        d_med_slow = np.abs(np.median(slow_dist[slow_dist < 0]) - np.median(slow_dist[slow_dist > 0])) \n",
    "        \n",
    "        # get the median separation for fast speeds\n",
    "        fast_speed = np.percentile(flat_speed, 80)\n",
    "        fast_dist = flat_pos[flat_speed>=fast_speed, None]\n",
    "        d_med_fast = np.abs(np.median(fast_dist[fast_dist < 0]) - np.median(fast_dist[fast_dist > 0]))\n",
    "        \n",
    "        # save the difference in median separation fast vs. slow\n",
    "        d_medians = d_med_fast - d_med_slow\n",
    "        diff_median_sep = np.append(diff_median_sep, d_medians)       "
   ]
  },
  {
   "cell_type": "code",
   "execution_count": 50,
   "metadata": {},
   "outputs": [],
   "source": [
    "# compute the shuffle distributions and difference in means\n",
    "num_shuffs = 1000\n",
    "diff_median_shuff = np.zeros((N_sessions, num_shuffs))\n",
    "i = -1\n",
    "for m, session in zip(mice, sessions):\n",
    "    for s in session:\n",
    "        i += 1\n",
    "        d = data[m][s]\n",
    "        dd_by_pos = d['pos_dist'].copy()\n",
    "        binned_speed = d['binned_speed'].copy()\n",
    "        flat_pos = dd_by_pos.ravel()\n",
    "        flat_speed = binned_speed.ravel()\n",
    "        if np.sum(np.isnan(flat_speed)):\n",
    "            flat_speed = nan_interp(flat_speed)\n",
    "        slow_speed = np.percentile(flat_speed, 20)\n",
    "        fast_speed = np.percentile(flat_speed, 80)\n",
    "            \n",
    "        for k in range(num_shuffs):\n",
    "            # shuffle distances\n",
    "            shuff_dist = flat_pos\n",
    "            np.random.shuffle(shuff_dist)\n",
    "            \n",
    "            # get the median separation for slow speeds\n",
    "            slow_dist = shuff_dist[flat_speed<=slow_speed, None]\n",
    "            d_med_slow = np.abs(np.median(slow_dist[slow_dist < 0]) - np.median(slow_dist[slow_dist > 0]))        \n",
    "\n",
    "            # get the median separation for fast speeds\n",
    "            fast_dist = shuff_dist[flat_speed>=fast_speed, None]\n",
    "            d_med_fast = np.abs(np.median(fast_dist[fast_dist < 0]) - np.median(fast_dist[fast_dist > 0]))\n",
    "\n",
    "            # save the difference in median separation fast vs. slow\n",
    "            diff_median_shuff[i, k] = d_med_fast - d_med_slow"
   ]
  },
  {
   "cell_type": "code",
   "execution_count": 51,
   "metadata": {},
   "outputs": [
    {
     "name": "stdout",
     "output_type": "stream",
     "text": [
      "Pisa_0430_1 fast more separated, p = 0.0\n",
      "Pisa_0501_1 fast more separated, p = 0.0\n",
      "Pisa_0502_1 slow more separated, p = 0.0\n",
      "Hanover_0615_2 fast more separated, p = -0.0019999999999997797\n",
      "Calais_0713_2 fast more separated, p = 0.0\n",
      "Seattle_1005_1 fast more separated, p = 0.0\n",
      "Seattle_1006_1 slow more separated, p = 0.0\n",
      "Seattle_1007_1 slow more separated, p = 0.0\n",
      "Portland_1005_2 slow more separated, p = 0.0\n",
      "Quebec_1007_1 slow more separated, p = 0.0\n",
      "Toronto_1111_1 fast more separated, p = 0.0\n",
      "Toronto_1112_1 fast more separated, p = 0.0\n",
      "Toronto_1113_1 fast more separated, p = -0.016000000000000014\n",
      "Toronto_1114_1 slow more separated, p = 0.0\n",
      "Toronto_1115_1 fast more separated, p = 0.0\n",
      "Toronto_1117_1 fast more separated, p = 0.0\n",
      "Vancouver_1114_1 slow more separated, p = 0.0\n",
      "Vancouver_1118_1 fast more separated, p = 0.0\n",
      "Mumbai_1130_1 slow more separated, p = 0.0\n",
      "Mumbai_1201_1 slow more separated, p = 0.282\n",
      "Mumbai_1129_1 fast more separated, p = 0.0\n",
      "Kerala_1207_1 fast more separated, p = 0.0\n",
      "Goa_1211_1 fast more separated, p = 0.0\n",
      "Goa_1210_1 fast more separated, p = 0.0\n",
      "Goa_1209_1 fast more separated, p = 0.0\n",
      "Punjab_1217_1 slow more separated, p = 0.048\n",
      "Punjab_1214_1 slow more separated, p = 0.0\n",
      "Salvador_1202_1 slow more separated, p = 0.0\n",
      "[ 0.     0.     0.    -0.002  0.     0.     0.     0.     0.     0.\n",
      "  0.     0.    -0.016  0.     0.     0.     0.     0.     0.     0.282\n",
      "  0.     0.     0.     0.     0.     0.048  0.     0.   ]\n",
      "slow more separated N = 12\n",
      "fast more separated N = 16\n"
     ]
    }
   ],
   "source": [
    "# for each session, get the p value\n",
    "p_diff = np.zeros(N_sessions)\n",
    "N_slow_sep = 0\n",
    "N_fast_sep = 0\n",
    "i = -1\n",
    "for m, session in zip(mice, sessions):\n",
    "    for s in session:\n",
    "        i += 1\n",
    "        pct = stats.percentileofscore(diff_median_shuff[i, :], diff_median_sep[i], kind='mean') / 100\n",
    "        if pct < 0.5:\n",
    "            p_diff[i] = pct * 2\n",
    "            print('{}_{} slow more separated, p = {}'.format(m, s, p_diff[i]))\n",
    "            N_slow_sep += 1\n",
    "        else:\n",
    "            p_diff[i] = (pct - 1) * 2\n",
    "            print('{}_{} fast more separated, p = {}'.format(m, s, p_diff[i]))\n",
    "            N_fast_sep += 1\n",
    "            \n",
    "print(p_diff)\n",
    "print('slow more separated N = ' + str(N_slow_sep))\n",
    "print('fast more separated N = ' + str(N_fast_sep))"
   ]
  },
  {
   "cell_type": "code",
   "execution_count": 52,
   "metadata": {},
   "outputs": [],
   "source": [
    "''' single session examples '''\n",
    "m = 'Pisa'\n",
    "s = '0430_1'\n",
    "d = data[m][s]"
   ]
  },
  {
   "cell_type": "code",
   "execution_count": 53,
   "metadata": {},
   "outputs": [],
   "source": [
    "dd_by_pos = d['pos_dist']\n",
    "binned_speed = d['binned_speed']\n",
    "speed = d['A'][:, 1]\n",
    "speed_bins = np.linspace(2, np.max(speed)-20, num=9)\n",
    "speed_idx = np.digitize(binned_speed.ravel(), speed_bins)\n",
    "flat_pos = dd_by_pos.ravel()\n",
    "\n",
    "scores_by_speed_mean = np.zeros(9)\n",
    "scores_by_speed_sem = np.zeros(9)\n",
    "scores_by_speed_std = np.zeros(9)\n",
    "for i, b in enumerate(np.unique(speed_idx)):\n",
    "    scores_by_speed_mean[i] = np.mean(np.abs(flat_pos[speed_idx==b]))\n",
    "    scores_by_speed_sem[i] = stats.sem(np.abs(flat_pos[speed_idx==b]))\n",
    "    scores_by_speed_std[i] = np.std(np.abs(flat_pos[speed_idx==b]))"
   ]
  },
  {
   "cell_type": "code",
   "execution_count": 57,
   "metadata": {},
   "outputs": [
    {
     "data": {
      "image/png": "[encoded data removed]",
      "text/plain": [
       "<Figure size 86.4x86.4 with 1 Axes>"
      ]
     },
     "metadata": {},
     "output_type": "display_data"
    }
   ],
   "source": [
    "f, ax = plt.subplots(1, 1, figsize=(1.2, 1.2))\n",
    "\n",
    "xvals = moving_avg(np.append(speed_bins, np.max(binned_speed)), 2)\n",
    "ax.plot(xvals, scores_by_speed_mean, 'k', linewidth=1)\n",
    "ax.fill_between(xvals, scores_by_speed_mean + scores_by_speed_sem,\n",
    "                scores_by_speed_mean - scores_by_speed_sem, color='k', linewidth=0.3, alpha=0.1)\n",
    "\n",
    "ax.set_yticks([0.8, 1.0, 1.2])\n",
    "ax.set_xticks([0, 20, 40, 60, 80])\n",
    "ax.tick_params(which='major', labelsize=7.5, pad=0.5)\n",
    "\n",
    "ax.set_xlabel('speed (cm/s)', fontsize=9, labelpad=1)\n",
    "ax.set_ylabel('distance \\nto midpoint', fontsize=9, labelpad=1)\n",
    "\n",
    "f.savefig(save_folder + m + '_' + s + '_dd_by_speed.png', dpi=400, bbox_inches='tight')\n",
    "plt.show()"
   ]
  },
  {
   "cell_type": "code",
   "execution_count": 55,
   "metadata": {},
   "outputs": [],
   "source": [
    "flat_pos = dd_by_pos.ravel()\n",
    "flat_speed = binned_speed.ravel()\n",
    "slow_speed = np.percentile(flat_speed, 20)\n",
    "fast_speed = np.percentile(flat_speed, 80)\n",
    "\n",
    "# fit a Gaussian mixture model to fast and slow\n",
    "model_slow = GaussianMixture(n_components=2)\n",
    "model_slow.fit(flat_pos[flat_speed<=slow_speed, None])\n",
    "f1_slow = stats.norm(model_slow.means_[0], np.sqrt(model_slow.covariances_[0]))\n",
    "f2_slow = stats.norm(model_slow.means_[1], np.sqrt(model_slow.covariances_[1]))\n",
    "\n",
    "model_fast = GaussianMixture(n_components=2)\n",
    "model_fast.fit(flat_pos[flat_speed>=fast_speed, None])\n",
    "f1_fast = stats.norm(model_fast.means_[0], np.sqrt(model_fast.covariances_[0]))\n",
    "f2_fast = stats.norm(model_fast.means_[1], np.sqrt(model_fast.covariances_[1]))"
   ]
  },
  {
   "cell_type": "code",
   "execution_count": 56,
   "metadata": {},
   "outputs": [
    {
     "data": {
      "image/png": "[encoded data removed]",
      "text/plain": [
       "<Figure size 108x86.4 with 4 Axes>"
      ]
     },
     "metadata": {},
     "output_type": "display_data"
    }
   ],
   "source": [
    "f, ax = plt.subplots(2, 1, figsize=(1.5, 1.2))\n",
    "plt.subplots_adjust(hspace=0.2)\n",
    "if m in ['Pisa', 'Hanover', 'Calais']:\n",
    "    color = cp_color\n",
    "else:\n",
    "    color = cr_color\n",
    "MODEL_WIDTH = 1.5\n",
    "MEAN_WIDTH = 1\n",
    "\n",
    "# SLOW\n",
    "# histogram of distance to cluster (slowest 20%)\n",
    "ax[0].hist(flat_pos[flat_speed<=slow_speed], \n",
    "           bins=50, color='k', alpha=0.3);\n",
    "xvals = np.linspace(ax[0].get_xlim()[0], ax[0].get_xlim()[1], 200)\n",
    "\n",
    "# model fit\n",
    "ax2 = ax[0].twinx()\n",
    "ax2.plot(xvals, model_slow.weights_[0] * f1_slow.pdf(xvals).ravel(), \n",
    "         color=color, lw=MODEL_WIDTH)\n",
    "ax2.plot(xvals, model_slow.weights_[1] * f2_slow.pdf(xvals).ravel(), \n",
    "         color=color, lw=MODEL_WIDTH)\n",
    "ax2.set_ylim([0, ax2.get_ylim()[1]])\n",
    "ax2.vlines(model_slow.means_, 0, ax2.get_ylim()[1], \n",
    "           linestyles='dashed', colors='k', lw=MEAN_WIDTH)\n",
    "\n",
    "# FAST\n",
    "# histogram of distance to cluster (fastest 20%)\n",
    "ax[1].hist(flat_pos[flat_speed>=fast_speed],\n",
    "           bins=50, color='k', alpha=0.3);\n",
    "xvals = np.linspace(ax[1].get_xlim()[0], ax[1].get_xlim()[1], 200)\n",
    "\n",
    "# model fit\n",
    "ax3 = ax[1].twinx()\n",
    "ax3.plot(xvals, model_fast.weights_[0] * f1_fast.pdf(xvals).ravel(), \n",
    "         color=color, lw=MODEL_WIDTH)\n",
    "ax3.plot(xvals, model_fast.weights_[1] * f2_fast.pdf(xvals).ravel(), \n",
    "         color=color, lw=MODEL_WIDTH)\n",
    "ax3.set_ylim([0, ax3.get_ylim()[1]])\n",
    "ax3.vlines(model_fast.means_, 0, ax3.get_ylim()[1], \n",
    "           linestyles='dashed', colors='k', lw=MEAN_WIDTH)\n",
    "\n",
    "# SET AXIS PARAMS\n",
    "ax[1].set_xticks([-2, -1, 0, 1, 2])\n",
    "ax[0].set_xticks([-2, -1, 0, 1, 2])\n",
    "ax[1].set_xticklabels([2, 1, 0, 1, 2])\n",
    "\n",
    "ax[0].tick_params(labelbottom=False, labelleft=False)\n",
    "ax[0].tick_params(axis=\"y\", which =\"both\", left=False)\n",
    "ax[1].tick_params(labelleft=False, which='major', labelsize=7.5, pad=0.5)\n",
    "ax[1].tick_params(axis=\"y\", which =\"both\", left=False)\n",
    "ax2.tick_params(labelbottom=False, labelright=False, \n",
    "                axis=\"y\", which =\"both\", right=False)\n",
    "ax3.tick_params(labelright=False, axis=\"y\", which =\"both\", right=False)\n",
    "\n",
    "ax[0].set_xlim(-2, 2)\n",
    "ax[1].set_xlim(-2, 2)\n",
    "ax[0].set_ylabel('slow', fontsize=9, labelpad=1)\n",
    "ax[1].set_ylabel('fast', fontsize=9, labelpad=1)\n",
    "ax[1].set_xlabel('distance\\nto midpoint', fontsize=9, labelpad=1)\n",
    "\n",
    "f.savefig(save_folder + m + '_' + s + '_speed_hist.png', dpi=400, bbox_inches='tight')\n",
    "plt.show()"
   ]
  },
  {
   "cell_type": "code",
   "execution_count": null,
   "metadata": {},
   "outputs": [],
   "source": []
  }
 ],
 "metadata": {
  "kernelspec": {
   "display_name": "Python 3",
   "language": "python",
   "name": "python3"
  },
  "language_info": {
   "codemirror_mode": {
    "name": "ipython",
    "version": 3
   },
   "file_extension": ".py",
   "mimetype": "text/x-python",
   "name": "python",
   "nbconvert_exporter": "python",
   "pygments_lexer": "ipython3",
   "version": "3.6.5"
  }
 },
 "nbformat": 4,
 "nbformat_minor": 2
}
